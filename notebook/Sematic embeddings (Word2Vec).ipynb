{
 "cells": [
  {
   "cell_type": "code",
   "execution_count": 1,
   "metadata": {},
   "outputs": [
    {
     "data": {
      "text/plain": [
       "'this notebook heavily refers to the post https://machinelearningmastery.com/develop-word-embeddings-python-gensim/'"
      ]
     },
     "execution_count": 1,
     "metadata": {},
     "output_type": "execute_result"
    }
   ],
   "source": [
    "\"\"\"this notebook heavily refers to the post https://machinelearningmastery.com/develop-word-embeddings-python-gensim/\"\"\""
   ]
  },
  {
   "cell_type": "code",
   "execution_count": 2,
   "metadata": {},
   "outputs": [
    {
     "name": "stderr",
     "output_type": "stream",
     "text": [
      "C:\\ProgramData\\Anaconda3\\lib\\site-packages\\gensim\\utils.py:1197: UserWarning: detected Windows; aliasing chunkize to chunkize_serial\n",
      "  warnings.warn(\"detected Windows; aliasing chunkize to chunkize_serial\")\n",
      "C:\\ProgramData\\Anaconda3\\lib\\site-packages\\sklearn\\decomposition\\nmf.py:972: DeprecationWarning: invalid escape sequence \\s\n",
      "  \"\"\"\n",
      "C:\\ProgramData\\Anaconda3\\lib\\site-packages\\sklearn\\decomposition\\nmf.py:1186: DeprecationWarning: invalid escape sequence \\s\n",
      "  \"\"\"\n",
      "C:\\ProgramData\\Anaconda3\\lib\\site-packages\\sklearn\\manifold\\t_sne.py:420: DeprecationWarning: invalid escape sequence \\s\n",
      "  \"\"\"\n"
     ]
    }
   ],
   "source": [
    "import nltk\n",
    "#nltk.download('stopwords')\n",
    "import re\n",
    "import numpy as np\n",
    "import pandas as pd\n",
    "from pprint import pprint\n",
    "\n",
    "# Gensim\n",
    "import gensim\n",
    "import gensim.corpora as corpora\n",
    "from gensim.utils import simple_preprocess\n",
    "from gensim.models import CoherenceModel\n",
    "\n",
    "#for Stemming\n",
    "from nltk.stem.snowball import DanishStemmer\n",
    "\n",
    "# Plotting tools\n",
    "import pyLDAvis\n",
    "import pyLDAvis.gensim  # don't skip this\n",
    "import matplotlib.pyplot as plt\n",
    "%matplotlib inline\n",
    "\n",
    "# Enable logging for gensim - optional\n",
    "import logging\n",
    "logging.basicConfig(format='%(asctime)s : %(levelname)s : %(message)s', level=logging.ERROR)\n",
    "\n",
    "import warnings\n",
    "warnings.filterwarnings(\"ignore\",category=DeprecationWarning)"
   ]
  },
  {
   "cell_type": "code",
   "execution_count": 3,
   "metadata": {},
   "outputs": [
    {
     "name": "stdout",
     "output_type": "stream",
     "text": [
      "yo uare sadfsaffsa\t\tfsad\n"
     ]
    }
   ],
   "source": [
    "import os,sys\n",
    "parentPath = os.path.join(os.path.dirname(os.getcwd()),\"tools\")\n",
    "sys.path.insert(0, parentPath)\n",
    "from scripts_py import preprocessing as pre"
   ]
  },
  {
   "cell_type": "code",
   "execution_count": 4,
   "metadata": {
    "collapsed": true
   },
   "outputs": [],
   "source": [
    "import codecs\n",
    "def creat_file_list(author_name):\n",
    "    file_list=['non']\n",
    "    cwd=os.getcwd()\n",
    "    parent_path = os.path.dirname(cwd)\n",
    "    des_pos=os.path.join(parent_path,\"ADL\",\"metadata\",\"metadata_adl.csv\")\n",
    "    fh=codecs.open(des_pos,'r','utf-8')\n",
    "    for line in fh.readlines():\n",
    "        L=line.split(\",\")\n",
    "        if(re.search(author_name,L[1])):\n",
    "            temp_string=L[0]+\".txt\"\n",
    "            file_list.append(temp_string)\n",
    "    return file_list[1:]"
   ]
  },
  {
   "cell_type": "markdown",
   "metadata": {},
   "source": [
    "#### Prepare stopwords"
   ]
  },
  {
   "cell_type": "code",
   "execution_count": 5,
   "metadata": {
    "collapsed": true
   },
   "outputs": [],
   "source": [
    "# NLTK Stop words \n",
    "# TODO change to our own stop words list\n",
    "from nltk.corpus import stopwords\n",
    "stop_words = stopwords.words('danish')\n",
    "stop_words.extend(['paa','ved','saa','den'])"
   ]
  },
  {
   "cell_type": "markdown",
   "metadata": {},
   "source": [
    "#### Select author here"
   ]
  },
  {
   "cell_type": "code",
   "execution_count": 6,
   "metadata": {},
   "outputs": [
    {
     "data": {
      "text/plain": [
       "['grundtvig09val_workid64460.txt',\n",
       " 'grundtvig11val_workid71363.txt',\n",
       " 'grundtvig11val_workid77740.txt',\n",
       " 'grundtvig11val_workid148916.txt',\n",
       " 'grundtvig11val_workid120113.txt',\n",
       " 'grundtvig11val_workid109473.txt',\n",
       " 'grundtvig11val_workid99472.txt',\n",
       " 'grundtvig12val_workid55795.txt',\n",
       " 'grundtvig12val_workid94218.txt']"
      ]
     },
     "execution_count": 6,
     "metadata": {},
     "output_type": "execute_result"
    }
   ],
   "source": [
    "author = \"Grundtvig\"\n",
    "articles = creat_file_list(author)\n",
    "articles[1:10]"
   ]
  },
  {
   "cell_type": "markdown",
   "metadata": {},
   "source": [
    "#### Read in articles"
   ]
  },
  {
   "cell_type": "code",
   "execution_count": 7,
   "metadata": {
    "collapsed": true
   },
   "outputs": [],
   "source": [
    "data = list()\n",
    "\"\"\"add any articles as you like if you want to analyze specific articles\"\"\"\n",
    "#articles = [\"aare01val_workid69870.txt\",\"aakjaer01val_workid55565.txt\",\"aakjaer01val_workid55662.txt\"\n",
    "#            ,\"aakjaer01val_workid55881.txt\"]\n",
    "\"\"\"following line process all the articles but this may require huge computing power\"\"\"\n",
    "#articles=os.listdir(os.path.join(os.path.dirname(os.getcwd()),\"ADL\",\"plain\"))\n",
    "dataTest = list()\n",
    "for ele in articles:\n",
    "    article = os.path.join(os.path.dirname(os.getcwd()),\"ADL\",\"plain\",ele)\n",
    "    with open(article, encoding =\"utf-8\") as f:\n",
    "        lines = f.readlines()\n",
    "        dataTest.append(lines)\n",
    "    data.append( ' '.join(lines))"
   ]
  },
  {
   "cell_type": "code",
   "execution_count": 8,
   "metadata": {
    "collapsed": true
   },
   "outputs": [],
   "source": [
    "data =  [item for items in dataTest for item in items]"
   ]
  },
  {
   "cell_type": "markdown",
   "metadata": {},
   "source": [
    "#### Preprocessing"
   ]
  },
  {
   "cell_type": "code",
   "execution_count": 9,
   "metadata": {
    "collapsed": true
   },
   "outputs": [],
   "source": [
    "nalpha_content = [pre.re_nalpha(ele) for ele in data]\n",
    "tokenized_content = [pre.tokenizer(ele) for ele in nalpha_content]"
   ]
  },
  {
   "cell_type": "code",
   "execution_count": 10,
   "metadata": {
    "collapsed": true
   },
   "outputs": [],
   "source": [
    "def remove_stopwords(texts):\n",
    "    return [[word for word in simple_preprocess(str(doc)) if word not in stop_words] for doc in texts]"
   ]
  },
  {
   "cell_type": "code",
   "execution_count": 11,
   "metadata": {
    "collapsed": true
   },
   "outputs": [],
   "source": [
    "def stemmer(wordList):\n",
    "    \"\"\"stemming the words for later processing\"\"\"\n",
    "    stemmer = DanishStemmer()\n",
    "    return [[stemmer.stem(tempWord) for tempWord in sentence] for sentence in wordList  ]"
   ]
  },
  {
   "cell_type": "code",
   "execution_count": 12,
   "metadata": {
    "collapsed": true
   },
   "outputs": [],
   "source": [
    "non_stop = remove_stopwords(tokenized_content)"
   ]
  },
  {
   "cell_type": "code",
   "execution_count": 13,
   "metadata": {
    "collapsed": true
   },
   "outputs": [],
   "source": [
    "stemmed_data = stemmer(non_stop)"
   ]
  },
  {
   "cell_type": "code",
   "execution_count": 14,
   "metadata": {},
   "outputs": [
    {
     "data": {
      "text/plain": [
       "[['barn',\n",
       "  'glæd',\n",
       "  'vilog',\n",
       "  'sjung',\n",
       "  'høieidag',\n",
       "  'ei',\n",
       "  'sorg',\n",
       "  'jord',\n",
       "  'tilsom',\n",
       "  'kan',\n",
       "  'sjæl',\n",
       "  'nedbøieidag',\n",
       "  'fat',\n",
       "  'betl',\n",
       "  'rig',\n",
       "  'paradis',\n",
       "  'jord',\n",
       "  'miggud',\n",
       "  'engl',\n",
       "  'kvædeidag',\n",
       "  'frels',\n",
       "  'fødidag',\n",
       "  'al',\n",
       "  'jord',\n",
       "  'sorg',\n",
       "  'dødog',\n",
       "  'født',\n",
       "  'al',\n",
       "  'jord',\n",
       "  'glædeei',\n",
       "  'synd',\n",
       "  'død',\n",
       "  'verd',\n",
       "  'meerm',\n",
       "  'knug',\n",
       "  'kysejeg',\n",
       "  'naad',\n",
       "  'sol',\n",
       "  'oprund',\n",
       "  'seerog',\n",
       "  'evig',\n",
       "  'lyse',\n",
       "  'kong',\n",
       "  'idag',\n",
       "  'fød',\n",
       "  'lid',\n",
       "  'barn',\n",
       "  'mod',\n",
       "  'skiødal',\n",
       "  'verd',\n",
       "  'nød',\n",
       "  'betvingerhan',\n",
       "  'rig',\n",
       "  'himmel',\n",
       "  'jord'],\n",
       " ['ingeman', 'julesang'],\n",
       " ['par',\n",
       "  'kong',\n",
       "  'evig',\n",
       "  'tro',\n",
       "  'svorog',\n",
       "  'sjæl',\n",
       "  'gav',\n",
       "  'vingerflyv',\n",
       "  'høit',\n",
       "  'sjæl',\n",
       "  'barnefroforlyst',\n",
       "  'rigemed',\n",
       "  'kiær',\n",
       "  'haab',\n",
       "  'trohan',\n",
       "  'ord',\n",
       "  'aldr',\n",
       "  'svigei',\n",
       "  'klud',\n",
       "  'svøbt',\n",
       "  'kryb',\n",
       "  'lagtd',\n",
       "  'barn',\n",
       "  'storm',\n",
       "  'magtog',\n",
       "  'hav',\n",
       "  'bølgerei',\n",
       "  'jord',\n",
       "  'ei'],\n",
       " ['luft']]"
      ]
     },
     "execution_count": 14,
     "metadata": {},
     "output_type": "execute_result"
    }
   ],
   "source": [
    "stemmed_data[1:5]"
   ]
  },
  {
   "cell_type": "markdown",
   "metadata": {},
   "source": [
    "#### Training the model"
   ]
  },
  {
   "cell_type": "code",
   "execution_count": null,
   "metadata": {
    "collapsed": true
   },
   "outputs": [],
   "source": [
    "from gensim.models import Word2Vec"
   ]
  },
  {
   "cell_type": "code",
   "execution_count": null,
   "metadata": {
    "collapsed": true
   },
   "outputs": [],
   "source": [
    "model = Word2Vec(non_stop, min_count=1)\n",
    "#if you have some pre-trained model using the following line\n",
    "#new_model = Word2Vec.load('model.bin')"
   ]
  },
  {
   "cell_type": "markdown",
   "metadata": {},
   "source": [
    "#### Summary of the model "
   ]
  },
  {
   "cell_type": "code",
   "execution_count": null,
   "metadata": {},
   "outputs": [],
   "source": [
    "#summary of the model\n",
    "print(model)"
   ]
  },
  {
   "cell_type": "code",
   "execution_count": null,
   "metadata": {},
   "outputs": [],
   "source": [
    "#summary of the words in the model\n",
    "all_words = list(model.wv.vocab)\n",
    "print(all_words[:10])"
   ]
  },
  {
   "cell_type": "markdown",
   "metadata": {},
   "source": [
    "#### Visual summary of the model"
   ]
  },
  {
   "cell_type": "code",
   "execution_count": null,
   "metadata": {
    "collapsed": true
   },
   "outputs": [],
   "source": [
    "from sklearn.decomposition import PCA\n",
    "from matplotlib import pyplot"
   ]
  },
  {
   "cell_type": "code",
   "execution_count": null,
   "metadata": {
    "collapsed": true
   },
   "outputs": [],
   "source": [
    "X = model[model.wv.vocab]\n",
    "pca = PCA(n_components=2)\n",
    "result = pca.fit_transform(X)"
   ]
  },
  {
   "cell_type": "code",
   "execution_count": null,
   "metadata": {},
   "outputs": [],
   "source": [
    "pyplot.scatter(result[:, 0], result[:, 1])"
   ]
  },
  {
   "cell_type": "code",
   "execution_count": null,
   "metadata": {},
   "outputs": [],
   "source": [
    "#select the words as your like, here we only selet first 400 words\n",
    "words = all_words[:400]\n",
    "for i, word in enumerate(words):\n",
    "    pyplot.annotate(word, xy=(result[i, 0], result[i, 1]))\n",
    "pyplot.show()"
   ]
  },
  {
   "cell_type": "markdown",
   "metadata": {},
   "source": [
    "### Play with the model"
   ]
  },
  {
   "cell_type": "markdown",
   "metadata": {},
   "source": [
    "##### Find the most similar words in the model"
   ]
  },
  {
   "cell_type": "code",
   "execution_count": null,
   "metadata": {},
   "outputs": [],
   "source": [
    "\n",
    "#specify how many words you want to see\n",
    "num_top = 10\n",
    "#the word you want to find\n",
    "positive_word = ['barn','lykkelig']\n",
    "#the word you don't want to find\n",
    "negative_word = ['mand']\n",
    "#the resulting word = barn + lykkelig - mand\n",
    "result = model.most_similar(positive= positive_word, \n",
    "                            negative = negative_word,topn=num_top)\n",
    "print(result)"
   ]
  },
  {
   "cell_type": "markdown",
   "metadata": {},
   "source": [
    "#### Get the similarity between two words"
   ]
  },
  {
   "cell_type": "code",
   "execution_count": null,
   "metadata": {},
   "outputs": [],
   "source": [
    "#compare the similarity between two words\n",
    "word1 = 'konge'\n",
    "word2 = 'dronning'\n",
    "model.wv.similarity(w1=word1,w2=word2) \n",
    "#the bigger the score the more similar this two words are"
   ]
  },
  {
   "cell_type": "markdown",
   "metadata": {
    "collapsed": true
   },
   "source": [
    "#### Save the model"
   ]
  },
  {
   "cell_type": "code",
   "execution_count": null,
   "metadata": {
    "collapsed": true
   },
   "outputs": [],
   "source": [
    "# save model，using any name you wound like to\n",
    "model.save('cachedModel/model.bin')"
   ]
  }
 ],
 "metadata": {
  "kernelspec": {
   "display_name": "Python 3",
   "language": "python",
   "name": "python3"
  },
  "language_info": {
   "codemirror_mode": {
    "name": "ipython",
    "version": 3
   },
   "file_extension": ".py",
   "mimetype": "text/x-python",
   "name": "python",
   "nbconvert_exporter": "python",
   "pygments_lexer": "ipython3",
   "version": "3.6.3"
  }
 },
 "nbformat": 4,
 "nbformat_minor": 2
}
