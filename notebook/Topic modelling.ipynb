{
 "cells": [
  {
   "cell_type": "code",
   "execution_count": 1,
   "metadata": {},
   "outputs": [
    {
     "data": {
      "text/plain": [
       "'this notebook heavily refers to the post https://www.machinelearningplus.com/nlp/topic-modeling-gensim-python/'"
      ]
     },
     "execution_count": 1,
     "metadata": {},
     "output_type": "execute_result"
    }
   ],
   "source": [
    "'''this notebook heavily refers to the post https://www.machinelearningplus.com/nlp/topic-modeling-gensim-python/'''"
   ]
  },
  {
   "cell_type": "markdown",
   "metadata": {},
   "source": [
    "## Overview of Topic Modeling"
   ]
  },
  {
   "cell_type": "markdown",
   "metadata": {},
   "source": [
    "Before using the topic modelling to explore our data set, let's first look at definition of Topic Modelling. (If you are not very fimilar with\n",
    "the techniques about preprocessing, here is a separate notebook introducing these ideas.)"
   ]
  },
  {
   "cell_type": "markdown",
   "metadata": {},
   "source": [
    "### What is topic modelling"
   ]
  },
  {
   "cell_type": "markdown",
   "metadata": {},
   "source": [
    "Topic Modelling is a technique used in the Natrual Language Processing context to discover the latent semantic structures in the text, although it is very\n",
    "tempting to think of it as a magic tool to extract the topic from the text, **topic modelling** actually has very specific definition and should be used properly.\n",
    "Here we use the definition from the book *Speech and Language Processing*: topic modelling is used to induce sets of associated words from text using unsupervised learning. For example, this set of words {waiter, dishes, chef, plate} is associated and often appear at the same time in text.\n",
    "\n",
    "More rigoriously, topic can be defined as the **probability distribution over words**\n",
    "\n",
    "Another task which is easily confused with topic modelling is **text classification**, in that task, we need to assigne a label to a given text. For example, figure out if a poem is about history or religion. The main difference is that, in topic modelling, the output is a set of words which represent an unknown topic(e.g. {waiter, dishes ...}), while in text classification, the output is a single label(e.g. history)"
   ]
  },
  {
   "cell_type": "markdown",
   "metadata": {},
   "source": [
    "### How to use topic modelling "
   ]
  },
  {
   "cell_type": "markdown",
   "metadata": {},
   "source": [
    "Topic modelling is very useful when it is used to provide some insight to the reader about a large amount of text, by looking at the output of the results, you can see how many potential topics are there, and then by looking at the words contained in each topic, you can have a vague idea for what this topic is about. "
   ]
  },
  {
   "cell_type": "markdown",
   "metadata": {},
   "source": [
    "### (Aside issue) Implementation of topic modelling"
   ]
  },
  {
   "cell_type": "markdown",
   "metadata": {},
   "source": [
    "In this script, we use a common algorithm called *Latent Dirichlet Allocation,LDA* to implement Topic modelling, understand this method may require substantial math. background, but just in case anyone is interesting, I put the link to the original paper [here](http://www.robotics.stanford.edu/~ang/papers/jair03-lda.pdf)"
   ]
  },
  {
   "cell_type": "markdown",
   "metadata": {},
   "source": [
    "## Content"
   ]
  },
  {
   "cell_type": "markdown",
   "metadata": {},
   "source": [
    "In this notebook we did the following things:\n",
    "- Import the library\n",
    "- Preprocessing the text\n",
    "    * Remove the stop words\n",
    "    * Stemming the words\n",
    "    * Create bigrams and trigrams from the words\n",
    "- Apply topic modelling algorithm\n",
    "- Explore the results of topic modelling\n",
    "    * Using pyLDAvis to dynamically interact with the topic modelling results\n",
    "    * Look at the topic modelling results from tables"
   ]
  },
  {
   "cell_type": "markdown",
   "metadata": {},
   "source": [
    "### Loading the library"
   ]
  },
  {
   "cell_type": "markdown",
   "metadata": {},
   "source": [
    "You may need to install the following library before importing to install this library just run the following code in the terminal\n",
    "- gensim \n",
    "    - conda install -c anaconda gensim \n",
    "- nltk \n",
    "    - conda install -c anaconda nltk\n",
    "- pyLDAvis\n",
    "    - conda install -c conda-forge pyldavis \n",
    "    - or\n",
    "    - conda install -c conda-forge/label/gcc7 pyldavis\n",
    "\n",
    "Make sure you have anoconda in your computer!!!\n"
   ]
  },
  {
   "cell_type": "code",
   "execution_count": 2,
   "metadata": {},
   "outputs": [
    {
     "name": "stderr",
     "output_type": "stream",
     "text": [
      "C:\\Users\\ljh\\Anaconda3\\lib\\site-packages\\gensim\\utils.py:1209: UserWarning: detected Windows; aliasing chunkize to chunkize_serial\n",
      "  warnings.warn(\"detected Windows; aliasing chunkize to chunkize_serial\")\n"
     ]
    }
   ],
   "source": [
    "import nltk\n",
    "#nltk.download('stopwords')\n",
    "import re\n",
    "import numpy as np\n",
    "import pandas as pd\n",
    "from pprint import pprint\n",
    "\n",
    "# Gensim\n",
    "import gensim\n",
    "import gensim.corpora as corpora\n",
    "from gensim.utils import simple_preprocess\n",
    "from gensim.models import CoherenceModel\n",
    "\n",
    "#for Stemming\n",
    "from nltk.stem.snowball import DanishStemmer\n",
    "\n",
    "# Plotting tools\n",
    "import pyLDAvis\n",
    "import pyLDAvis.gensim  # don't skip this\n",
    "import matplotlib.pyplot as plt\n",
    "%matplotlib inline\n",
    "\n",
    "# Enable logging for gensim - optional\n",
    "import logging\n",
    "logging.basicConfig(format='%(asctime)s : %(levelname)s : %(message)s', level=logging.ERROR)\n",
    "\n",
    "import warnings\n",
    "warnings.filterwarnings(\"ignore\",category=DeprecationWarning)"
   ]
  },
  {
   "cell_type": "code",
   "execution_count": 4,
   "metadata": {},
   "outputs": [],
   "source": [
    "import os,sys\n",
    "parentPath = os.path.join(os.path.dirname(os.getcwd()),\"tools\")\n",
    "sys.path.insert(0, parentPath)\n",
    "from scripts_py import preprocessing as pre"
   ]
  },
  {
   "cell_type": "markdown",
   "metadata": {},
   "source": [
    "### Preprocessing"
   ]
  },
  {
   "cell_type": "markdown",
   "metadata": {},
   "source": [
    "#### Prepare stopwords"
   ]
  },
  {
   "cell_type": "markdown",
   "metadata": {},
   "source": [
    "we have a list of stop words from nltk library, but you can also have your own list of stop words as well"
   ]
  },
  {
   "cell_type": "code",
   "execution_count": 5,
   "metadata": {},
   "outputs": [],
   "source": [
    "from nltk.corpus import stopwords\n",
    "stop_words = stopwords.words('danish')\n",
    "stop_words.extend(['paa','ved','saa','den'])"
   ]
  },
  {
   "cell_type": "markdown",
   "metadata": {},
   "source": [
    "#### Select author and Read in the article of the author"
   ]
  },
  {
   "cell_type": "markdown",
   "metadata": {},
   "source": [
    "You can select any author by  last name, the available name is the second column of ADL/metadata/metadata_adl.csv file"
   ]
  },
  {
   "cell_type": "code",
   "execution_count": 6,
   "metadata": {},
   "outputs": [],
   "source": [
    "import codecs\n",
    "def creat_file_list(author_name):\n",
    "    \"\"\"this function is used to get the list of articles of a given author\"\"\"\n",
    "    file_list=['non']\n",
    "    cwd=os.getcwd()\n",
    "    parent_path = os.path.dirname(cwd)\n",
    "    des_pos=os.path.join(parent_path,\"ADL\",\"metadata\",\"metadata_adl.csv\")\n",
    "    fh=codecs.open(des_pos,'r','utf-8')\n",
    "    for line in fh.readlines():\n",
    "        L=line.split(\",\")\n",
    "        if(re.search(author_name,L[1])):\n",
    "            temp_string=L[0]+\".txt\"\n",
    "            file_list.append(temp_string)\n",
    "    return file_list[1:]\n",
    "def read_articles(articles):\n",
    "    \"\"\"this function read in articles and return content\"\"\"\n",
    "    data = list()\n",
    "    for ele in articles:\n",
    "        article = os.path.join(os.path.dirname(os.getcwd()),\"ADL\",\"plain\",ele)\n",
    "        with open(article, encoding =\"utf-8\") as f:\n",
    "            lines = f.readlines()\n",
    "        data.append( ' '.join(lines))\n",
    "    return data"
   ]
  },
  {
   "cell_type": "markdown",
   "metadata": {},
   "source": [
    "The code below read all the articles of Grundtvig and store them into data"
   ]
  },
  {
   "cell_type": "code",
   "execution_count": 7,
   "metadata": {},
   "outputs": [],
   "source": [
    "author = \"Grundtvig\"\n",
    "articles = creat_file_list(author)\n",
    "data = read_articles(articles)"
   ]
  },
  {
   "cell_type": "markdown",
   "metadata": {},
   "source": [
    "If you don't want all the articles but only specifc articles, you can specify in the following way"
   ]
  },
  {
   "cell_type": "code",
   "execution_count": 21,
   "metadata": {},
   "outputs": [],
   "source": [
    "#articles = [\"aare01val_workid69870.txt\",\"aakjaer01val_workid55565.txt\",\"aakjaer01val_workid55662.txt\" ,\"aakjaer01val_workid55881.txt\"]\n",
    "#data = read_articles(articles)"
   ]
  },
  {
   "cell_type": "markdown",
   "metadata": {},
   "source": [
    "#### Cleaning the text\n",
    "Tokenize the words and remove non-alpha symbol"
   ]
  },
  {
   "cell_type": "code",
   "execution_count": 8,
   "metadata": {},
   "outputs": [],
   "source": [
    "nalpha_content = [pre.re_nalpha(ele) for ele in data]\n",
    "tokenized_content = [pre.tokenizer(ele) for ele in nalpha_content]"
   ]
  },
  {
   "cell_type": "markdown",
   "metadata": {
    "collapsed": true
   },
   "source": [
    "Remove stop words"
   ]
  },
  {
   "cell_type": "code",
   "execution_count": 10,
   "metadata": {},
   "outputs": [],
   "source": [
    "def remove_stopwords(texts):\n",
    "    return [[word for word in simple_preprocess(str(doc)) if word not in stop_words] for doc in texts]"
   ]
  },
  {
   "cell_type": "code",
   "execution_count": 11,
   "metadata": {},
   "outputs": [],
   "source": [
    "data_words_nostops=remove_stopwords(tokenized_content)"
   ]
  },
  {
   "cell_type": "markdown",
   "metadata": {},
   "source": [
    "### Apply lda algorithm to obtain the result"
   ]
  },
  {
   "cell_type": "markdown",
   "metadata": {},
   "source": [
    "#### Form bigrams from the text"
   ]
  },
  {
   "cell_type": "markdown",
   "metadata": {},
   "source": [
    "We first construct faster model(a model which could capture the common phrase in the corpus) then apply this model to obtain bigram words.\n",
    "The way to do this is a little bit diffcult to understand, but the key is to understand what *gensim.models.Phrases()* , this function, is doing. This function will train a model from our text, and resulting model using the vector representation of the words to find the meaningful bigram and store these bigram in the model. Details could be found [here](https://radimrehurek.com/gensim/models/phrases.html)"
   ]
  },
  {
   "cell_type": "code",
   "execution_count": 27,
   "metadata": {},
   "outputs": [],
   "source": [
    "bigram = gensim.models.Phrases(tokenized_content, min_count=5, threshold=100)\n",
    "bigram_mod = gensim.models.phrases.Phraser(bigram)\n",
    "#trigram = gensim.models.Phrases(bigram[tokenized_content], threshold=100)\n",
    "#trigram_mod = gensim.models.phrases.Phraser(trigram)"
   ]
  },
  {
   "cell_type": "code",
   "execution_count": 28,
   "metadata": {},
   "outputs": [],
   "source": [
    "def make_bigrams(texts):\n",
    "    \"\"\"this function will use our model to find the bigram in each sentence\"\"\"\n",
    "    return [bigram_mod[doc] for doc in texts]\n",
    "#def make_trigrams(texts):\n",
    "#    return [trigram_mod[bigram_mod[doc]] for doc in texts]\n",
    "def stemmer(wordList):\n",
    "    \"\"\"stemming the words for later processing\"\"\"\n",
    "    stemmer = DanishStemmer()\n",
    "    return [stemmer.stem(tempWord) for tempWord in wordList]"
   ]
  },
  {
   "cell_type": "markdown",
   "metadata": {},
   "source": [
    "Get the bigram and stem obtained bigrams"
   ]
  },
  {
   "cell_type": "code",
   "execution_count": 29,
   "metadata": {},
   "outputs": [],
   "source": [
    "# Form Bigrams\n",
    "data_words_bigrams = make_bigrams(data_words_nostops)\n",
    "data_stemmed = [stemmer(ele) for ele in data_words_bigrams]\n",
    "data_stemmed=remove_stopwords(data_stemmed)"
   ]
  },
  {
   "cell_type": "markdown",
   "metadata": {},
   "source": [
    "Create informative measurement from the raw text, which are used by the LDA training function"
   ]
  },
  {
   "cell_type": "code",
   "execution_count": 31,
   "metadata": {
    "scrolled": false
   },
   "outputs": [],
   "source": [
    "#Create Dictionary wich contains a mapping between normalized words and their integer ids\n",
    "id2word = corpora.Dictionary(data_stemmed)"
   ]
  },
  {
   "cell_type": "code",
   "execution_count": 46,
   "metadata": {},
   "outputs": [],
   "source": [
    "# Term Document Frequency\n",
    "texts = data_stemmed\n",
    "corpus = [id2word.doc2bow(text) for text in texts]"
   ]
  },
  {
   "cell_type": "markdown",
   "metadata": {},
   "source": [
    "#### Get lda model "
   ]
  },
  {
   "cell_type": "markdown",
   "metadata": {},
   "source": [
    "Tuning of hyper parameter(e.g. num_topics, update_every, etc.) is essential for the quality of the reuslting model, modeling training could last for very long time depending on the length of the text"
   ]
  },
  {
   "cell_type": "code",
   "execution_count": 50,
   "metadata": {},
   "outputs": [],
   "source": [
    "lda_model = gensim.models.ldamodel.LdaModel(corpus=corpus,\n",
    "                                           id2word=id2word,\n",
    "                                           num_topics=20, \n",
    "                                           random_state=100,\n",
    "                                           update_every=1,\n",
    "                                           chunksize=100,\n",
    "                                           passes=10,\n",
    "                                           alpha='auto',\n",
    "                                           per_word_topics=True)"
   ]
  },
  {
   "cell_type": "code",
   "execution_count": 51,
   "metadata": {},
   "outputs": [
    {
     "name": "stdout",
     "output_type": "stream",
     "text": [
      "Stored 'lda_model' (LdaModel)\n"
     ]
    }
   ],
   "source": [
    "%store lda_model"
   ]
  },
  {
   "cell_type": "markdown",
   "metadata": {},
   "source": [
    "### Model exploration"
   ]
  },
  {
   "cell_type": "markdown",
   "metadata": {},
   "source": [
    "#### A brief looking at the obtained results"
   ]
  },
  {
   "cell_type": "code",
   "execution_count": 52,
   "metadata": {},
   "outputs": [
    {
     "name": "stdout",
     "output_type": "stream",
     "text": [
      "[(0,\n",
      "  '0.019*\"gud\" + 0.011*\"liv\" + 0.011*\"ei\" + 0.010*\"aand\" + 0.009*\"dit\" + '\n",
      "  '0.009*\"død\" + 0.007*\"kun\" + 0.007*\"ord\" + 0.006*\"verd\" + 0.006*\"evig\"'),\n",
      " (1,\n",
      "  '0.013*\"kan\" + 0.010*\"aand\" + 0.010*\"kirk\" + 0.009*\"kun\" + 0.008*\"maa\" + '\n",
      "  '0.008*\"naar\" + 0.007*\"ord\" + 0.007*\"hel\" + 0.007*\"tro\" + 0.006*\"gud\"'),\n",
      " (2,\n",
      "  '0.007*\"kong\" + 0.007*\"kun\" + 0.007*\"stor\" + 0.006*\"hel\" + 0.006*\"rom\" + '\n",
      "  '0.006*\"kom\" + 0.005*\"ogsaa\" + 0.005*\"vel\" + 0.005*\"baad\" + 0.005*\"vild\"'),\n",
      " (3,\n",
      "  '0.013*\"kong\" + 0.010*\"ei\" + 0.005*\"kom\" + 0.005*\"dannemark\" + 0.003*\"kun\" + '\n",
      "  '0.003*\"gaml\" + 0.003*\"søn\" + 0.003*\"ord\" + 0.003*\"sagd\" + 0.003*\"dag\"'),\n",
      " (4,\n",
      "  '0.001*\"jordensaa\" + 0.001*\"rethan\" + 0.001*\"tidsom\" + 0.001*\"givetat\" + '\n",
      "  '0.001*\"tilbage\" + 0.001*\"sønjeg\" + 0.001*\"svigei\" + 0.001*\"saamed\" + '\n",
      "  '0.001*\"letsom\" + 0.001*\"matthisonhans\"'),\n",
      " (5,\n",
      "  '0.017*\"ei\" + 0.011*\"gud\" + 0.007*\"dit\" + 0.006*\"kun\" + 0.005*\"mon\" + '\n",
      "  '0.004*\"kan\" + 0.004*\"ord\" + 0.004*\"gaml\" + 0.003*\"kirk\" + 0.003*\"maa\"'),\n",
      " (6,\n",
      "  '0.006*\"liv\" + 0.005*\"herm\" + 0.005*\"boemund\" + 0.004*\"antioki\" + '\n",
      "  '0.003*\"glemmes_aldr\" + 0.003*\"apollo\" + 0.003*\"tysk\" + 0.002*\"sødt\" + '\n",
      "  '0.002*\"flokked\" + 0.002*\"kvind\"'),\n",
      " (7,\n",
      "  '0.013*\"herod\" + 0.004*\"delphi\" + 0.002*\"melodi\" + 0.002*\"slagterbænk\" + '\n",
      "  '0.002*\"guldsom\" + 0.002*\"drabant\" + 0.002*\"josva\" + 0.002*\"lønraad_sl\" + '\n",
      "  '0.002*\"syl\" + 0.002*\"kreta\"'),\n",
      " (8,\n",
      "  '0.008*\"gud\" + 0.007*\"død\" + 0.005*\"ei\" + 0.005*\"kan\" + 0.004*\"al\" + '\n",
      "  '0.004*\"no\" + 0.004*\"liv\" + 0.004*\"ord\" + 0.003*\"aand\" + 0.003*\"vort\"'),\n",
      " (9,\n",
      "  '0.008*\"odin\" + 0.008*\"asern\" + 0.007*\"jet\" + 0.006*\"digt\" + 0.006*\"lok\" + '\n",
      "  '0.005*\"aser\" + 0.004*\"norn\" + 0.004*\"gud\" + 0.004*\"thor\" + 0.004*\"edda\"'),\n",
      " (10,\n",
      "  '0.024*\"dam\" + 0.013*\"odin\" + 0.012*\"thor\" + 0.009*\"myth\" + 0.006*\"asern\" + '\n",
      "  '0.006*\"jet\" + 0.006*\"lok\" + 0.006*\"nord\" + 0.005*\"bald\" + 0.005*\"poetisk\"'),\n",
      " (11,\n",
      "  '0.012*\"kan\" + 0.010*\"ei\" + 0.009*\"kun\" + 0.008*\"naar\" + 0.007*\"maa\" + '\n",
      "  '0.007*\"kund\" + 0.006*\"vel\" + 0.006*\"hel\" + 0.006*\"vild\" + 0.005*\"folk\"'),\n",
      " (12,\n",
      "  '0.019*\"kristendom\" + 0.013*\"krist\" + 0.007*\"kristn\" + 0.007*\"ere\" + '\n",
      "  '0.006*\"gør\" + 0.006*\"kristi\" + 0.006*\"se\" + 0.005*\"ej\" + 0.005*\"kær\" + '\n",
      "  '0.005*\"hin\"'),\n",
      " (13,\n",
      "  '0.002*\"korsets_træ\" + 0.002*\"blaamænd\" + 0.002*\"sagog\" + '\n",
      "  '0.001*\"korsfæstedenu\" + 0.001*\"væregud\" + 0.001*\"fanekorsban\" + '\n",
      "  '0.001*\"runersom\" + 0.001*\"forladerpaa\" + 0.001*\"jorderigog\" + '\n",
      "  '0.001*\"frithan\"'),\n",
      " (14,\n",
      "  '0.028*\"gud\" + 0.015*\"ord\" + 0.013*\"ei\" + 0.012*\"hjert\" + 0.010*\"kun\" + '\n",
      "  '0.008*\"verd\" + 0.008*\"aand\" + 0.008*\"lys\" + 0.007*\"dag\" + 0.007*\"eder\"'),\n",
      " (15,\n",
      "  '0.005*\"canaan\" + 0.002*\"aandtil\" + 0.002*\"kvær\" + 0.002*\"haandsaa\" + '\n",
      "  '0.002*\"stigeop\" + 0.001*\"rahab\" + 0.001*\"kækt\" + 0.001*\"gyldenaarmed\" + '\n",
      "  '0.001*\"laus\" + 0.001*\"kolding\"'),\n",
      " (16,\n",
      "  '0.004*\"fadervor\" + 0.002*\"fortabt\" + 0.002*\"aando\" + 0.002*\"aandsaa\" + '\n",
      "  '0.001*\"jordei\" + 0.001*\"signed\" + 0.001*\"himmeldør\" + 0.001*\"dvaled\" + '\n",
      "  '0.001*\"haandfor\" + 0.001*\"ny_psalmebog\"'),\n",
      " (17,\n",
      "  '0.002*\"glemmes_aldr\" + 0.002*\"kvædl\" + 0.001*\"willemo\" + 0.001*\"syrith\" + '\n",
      "  '0.001*\"himlensaa\" + 0.001*\"kanhvor\" + 0.001*\"prindses\" + 0.001*\"naboth\" + '\n",
      "  '0.001*\"rigesom\" + 0.001*\"tilsaa\"'),\n",
      " (18,\n",
      "  '0.025*\"ei\" + 0.008*\"kan\" + 0.006*\"gud\" + 0.005*\"maa\" + 0.005*\"kun\" + '\n",
      "  '0.005*\"vel\" + 0.004*\"kom\" + 0.004*\"hel\" + 0.004*\"jord\" + 0.003*\"dit\"'),\n",
      " (19,\n",
      "  '0.022*\"dansk\" + 0.005*\"bønd\" + 0.004*\"danmark\" + 0.003*\"slesv\" + '\n",
      "  '0.003*\"fru_mari\" + 0.002*\"modersmaal\" + 0.002*\"dannebrog\" + 0.002*\"vort\" + '\n",
      "  '0.002*\"tydsk\" + 0.002*\"rønnebæksholm\"')]\n"
     ]
    }
   ],
   "source": [
    "pprint(lda_model.print_topics())\n",
    "doc_lda = lda_model[corpus]"
   ]
  },
  {
   "cell_type": "markdown",
   "metadata": {},
   "source": [
    "The following is two standard to evaluate the quality of our results"
   ]
  },
  {
   "cell_type": "code",
   "execution_count": 53,
   "metadata": {},
   "outputs": [
    {
     "name": "stdout",
     "output_type": "stream",
     "text": [
      "\n",
      "Perplexity:  -8.747958119674093\n",
      "\n",
      "Coherence Score:  0.4597481856292293\n"
     ]
    }
   ],
   "source": [
    "# Compute Perplexity\n",
    "print('\\nPerplexity: ', lda_model.log_perplexity(corpus)) \n",
    "\n",
    "# Compute Coherence Score\n",
    "coherence_model_lda = CoherenceModel(model=lda_model, texts=data_stemmed, dictionary=id2word, coherence='c_v')\n",
    "coherence_lda = coherence_model_lda.get_coherence()\n",
    "print('\\nCoherence Score: ', coherence_lda)"
   ]
  },
  {
   "cell_type": "markdown",
   "metadata": {},
   "source": [
    "#### Interact with the results dynamically"
   ]
  },
  {
   "cell_type": "markdown",
   "metadata": {},
   "source": [
    "This is powerful tool, and you can use it to explore the topic modelling results"
   ]
  },
  {
   "cell_type": "code",
   "execution_count": 54,
   "metadata": {},
   "outputs": [
    {
     "name": "stderr",
     "output_type": "stream",
     "text": [
      "C:\\Users\\ljh\\Anaconda3\\lib\\site-packages\\pyLDAvis\\_prepare.py:257: FutureWarning: Sorting because non-concatenation axis is not aligned. A future version\n",
      "of pandas will change to not sort by default.\n",
      "\n",
      "To accept the future behavior, pass 'sort=True'.\n",
      "\n",
      "To retain the current behavior and silence the warning, pass sort=False\n",
      "\n",
      "  return pd.concat([default_term_info] + list(topic_dfs))\n"
     ]
    },
    {
     "data": {
      "text/html": [
       "\n",
       "<link rel=\"stylesheet\" type=\"text/css\" href=\"https://cdn.rawgit.com/bmabey/pyLDAvis/files/ldavis.v1.0.0.css\">\n",
       "\n",
       "\n",
       "<div id=\"ldavis_el7972413517526438324974599105\"></div>\n",
       "<script type=\"text/javascript\">\n",
       "\n",
       "var ldavis_el7972413517526438324974599105_data = {\"mdsDat\": {\"x\": [-0.3527835998891258, -0.3145030555020111, -0.2712193106440494, -0.1591849005088597, -0.20472727024995044, -0.1397315789356686, -0.12279243629126171, -0.17177858955318878, 0.0648110737323611, 0.09543380816166495, -0.03951841047595958, 0.09858522270617075, 0.18562162230206142, 0.18735275296618928, 0.19532089308003794, 0.1918453236728128, 0.19329685122744086, 0.18886270005310446, 0.18798743640415022, 0.1871214677440815], \"y\": [0.10426977970082131, 0.13380980804963238, 0.15433685758928037, -0.052501146849882614, -0.13146758693032493, -0.05034317546236809, -0.1507837006614344, -0.17879005291252673, 0.1812070751780641, 0.07217733878790758, -0.14493385564016928, 0.07871441318539674, -0.009612178367597115, 0.003057611719173422, 0.0010898914128008189, 0.0013195996499309414, -0.002010647155735804, -0.003125970651255198, -0.0027293978694932185, -0.0036846627722191623], \"topics\": [1, 2, 3, 4, 5, 6, 7, 8, 9, 10, 11, 12, 13, 14, 15, 16, 17, 18, 19, 20], \"cluster\": [1, 1, 1, 1, 1, 1, 1, 1, 1, 1, 1, 1, 1, 1, 1, 1, 1, 1, 1, 1], \"Freq\": [38.21592712402344, 18.817039489746094, 16.64580535888672, 4.234265327453613, 3.6502327919006348, 3.597452402114868, 3.5593719482421875, 3.41652512550354, 1.7901678085327148, 1.7730481624603271, 1.2355444431304932, 1.1966521739959717, 0.6005471348762512, 0.34376612305641174, 0.21833020448684692, 0.20304404199123383, 0.19355955719947815, 0.14594176411628723, 0.08335595577955246, 0.07942134886980057]}, \"tinfo\": {\"Category\": [\"Default\", \"Default\", \"Default\", \"Default\", \"Default\", \"Default\", \"Default\", \"Default\", \"Default\", \"Default\", \"Default\", \"Default\", \"Default\", \"Default\", \"Default\", \"Default\", \"Default\", \"Default\", \"Default\", \"Default\", \"Default\", \"Default\", \"Default\", \"Default\", \"Default\", \"Default\", \"Default\", \"Default\", \"Default\", \"Default\", \"Topic1\", \"Topic1\", \"Topic1\", \"Topic1\", \"Topic1\", \"Topic1\", \"Topic1\", \"Topic1\", \"Topic1\", \"Topic1\", \"Topic1\", \"Topic1\", \"Topic1\", \"Topic1\", \"Topic1\", \"Topic1\", \"Topic1\", \"Topic1\", \"Topic1\", \"Topic1\", \"Topic1\", \"Topic1\", \"Topic1\", \"Topic1\", \"Topic1\", \"Topic1\", \"Topic1\", \"Topic1\", \"Topic1\", \"Topic1\", \"Topic1\", \"Topic1\", \"Topic1\", \"Topic1\", \"Topic1\", \"Topic1\", \"Topic1\", \"Topic1\", \"Topic1\", \"Topic1\", \"Topic1\", \"Topic1\", \"Topic1\", \"Topic1\", \"Topic1\", \"Topic1\", \"Topic1\", \"Topic1\", \"Topic1\", \"Topic1\", \"Topic1\", \"Topic1\", \"Topic1\", \"Topic1\", \"Topic1\", \"Topic1\", \"Topic1\", \"Topic1\", \"Topic1\", \"Topic1\", \"Topic1\", \"Topic1\", \"Topic1\", \"Topic1\", \"Topic1\", \"Topic1\", \"Topic1\", \"Topic1\", \"Topic1\", \"Topic1\", \"Topic1\", \"Topic1\", \"Topic1\", \"Topic1\", \"Topic1\", \"Topic1\", \"Topic1\", \"Topic1\", \"Topic1\", \"Topic1\", \"Topic1\", \"Topic1\", \"Topic1\", \"Topic1\", \"Topic1\", \"Topic1\", \"Topic1\", \"Topic1\", \"Topic1\", \"Topic1\", \"Topic1\", \"Topic1\", \"Topic1\", \"Topic1\", \"Topic1\", \"Topic1\", \"Topic2\", \"Topic2\", \"Topic2\", \"Topic2\", \"Topic2\", \"Topic2\", \"Topic2\", \"Topic2\", \"Topic2\", \"Topic2\", \"Topic2\", \"Topic2\", \"Topic2\", \"Topic2\", \"Topic2\", \"Topic2\", \"Topic2\", \"Topic2\", \"Topic2\", \"Topic2\", \"Topic2\", \"Topic2\", \"Topic2\", \"Topic2\", \"Topic2\", \"Topic2\", \"Topic2\", \"Topic2\", \"Topic2\", \"Topic2\", \"Topic2\", \"Topic2\", \"Topic2\", \"Topic2\", \"Topic2\", \"Topic2\", \"Topic2\", \"Topic2\", \"Topic2\", \"Topic2\", \"Topic2\", \"Topic2\", \"Topic2\", \"Topic2\", \"Topic2\", \"Topic2\", \"Topic2\", \"Topic2\", \"Topic2\", \"Topic2\", \"Topic2\", \"Topic2\", \"Topic2\", \"Topic2\", \"Topic2\", \"Topic2\", \"Topic2\", \"Topic2\", \"Topic2\", \"Topic2\", \"Topic2\", \"Topic2\", \"Topic2\", \"Topic2\", \"Topic2\", \"Topic2\", \"Topic2\", \"Topic2\", \"Topic2\", \"Topic2\", \"Topic2\", \"Topic2\", \"Topic2\", \"Topic2\", \"Topic2\", \"Topic2\", \"Topic2\", \"Topic2\", \"Topic2\", \"Topic2\", \"Topic2\", \"Topic2\", \"Topic2\", \"Topic3\", \"Topic3\", \"Topic3\", \"Topic3\", \"Topic3\", \"Topic3\", \"Topic3\", \"Topic3\", \"Topic3\", \"Topic3\", \"Topic3\", \"Topic3\", \"Topic3\", \"Topic3\", \"Topic3\", \"Topic3\", \"Topic3\", \"Topic3\", \"Topic3\", \"Topic3\", \"Topic3\", \"Topic3\", \"Topic3\", \"Topic3\", \"Topic3\", \"Topic3\", \"Topic3\", \"Topic3\", \"Topic3\", \"Topic3\", \"Topic3\", \"Topic3\", \"Topic3\", \"Topic3\", \"Topic3\", \"Topic3\", \"Topic3\", \"Topic3\", \"Topic3\", \"Topic3\", \"Topic3\", \"Topic3\", \"Topic3\", \"Topic3\", \"Topic3\", \"Topic3\", \"Topic3\", \"Topic3\", \"Topic3\", \"Topic3\", \"Topic3\", \"Topic3\", \"Topic3\", \"Topic3\", \"Topic3\", \"Topic3\", \"Topic3\", \"Topic3\", \"Topic3\", \"Topic3\", \"Topic3\", \"Topic3\", \"Topic3\", \"Topic3\", \"Topic3\", \"Topic3\", \"Topic3\", \"Topic3\", \"Topic3\", \"Topic3\", \"Topic3\", \"Topic3\", \"Topic3\", \"Topic3\", \"Topic3\", \"Topic3\", \"Topic3\", \"Topic3\", \"Topic3\", \"Topic3\", \"Topic3\", \"Topic3\", \"Topic3\", \"Topic3\", \"Topic3\", \"Topic3\", \"Topic4\", \"Topic4\", \"Topic4\", \"Topic4\", \"Topic4\", \"Topic4\", \"Topic4\", \"Topic4\", \"Topic4\", \"Topic4\", \"Topic4\", \"Topic4\", \"Topic4\", \"Topic4\", \"Topic4\", \"Topic4\", \"Topic4\", \"Topic4\", \"Topic4\", \"Topic4\", \"Topic4\", \"Topic4\", \"Topic4\", \"Topic4\", \"Topic4\", \"Topic4\", \"Topic4\", \"Topic4\", \"Topic4\", \"Topic4\", \"Topic4\", \"Topic4\", \"Topic4\", \"Topic4\", \"Topic4\", \"Topic4\", \"Topic4\", \"Topic4\", \"Topic4\", \"Topic4\", \"Topic4\", \"Topic4\", \"Topic4\", \"Topic4\", \"Topic4\", \"Topic4\", \"Topic4\", \"Topic4\", \"Topic4\", \"Topic4\", \"Topic4\", \"Topic4\", \"Topic4\", \"Topic4\", \"Topic4\", \"Topic4\", \"Topic4\", \"Topic4\", \"Topic4\", \"Topic4\", \"Topic4\", \"Topic4\", \"Topic4\", \"Topic4\", \"Topic4\", \"Topic4\", \"Topic4\", \"Topic4\", \"Topic4\", \"Topic4\", \"Topic4\", \"Topic4\", \"Topic4\", \"Topic4\", \"Topic4\", \"Topic4\", \"Topic4\", \"Topic4\", \"Topic4\", \"Topic4\", \"Topic4\", \"Topic4\", \"Topic5\", \"Topic5\", \"Topic5\", \"Topic5\", \"Topic5\", \"Topic5\", \"Topic5\", \"Topic5\", \"Topic5\", \"Topic5\", \"Topic5\", \"Topic5\", \"Topic5\", \"Topic5\", \"Topic5\", \"Topic5\", \"Topic5\", \"Topic5\", \"Topic5\", \"Topic5\", \"Topic5\", \"Topic5\", \"Topic5\", \"Topic5\", \"Topic5\", \"Topic5\", \"Topic5\", \"Topic5\", \"Topic5\", \"Topic5\", \"Topic5\", \"Topic5\", \"Topic5\", \"Topic5\", \"Topic5\", \"Topic5\", \"Topic5\", \"Topic5\", \"Topic5\", \"Topic5\", \"Topic5\", \"Topic5\", \"Topic5\", \"Topic5\", \"Topic5\", \"Topic5\", \"Topic5\", \"Topic5\", \"Topic5\", \"Topic5\", \"Topic5\", \"Topic5\", \"Topic5\", \"Topic5\", \"Topic5\", \"Topic5\", \"Topic5\", \"Topic5\", \"Topic5\", \"Topic5\", \"Topic5\", \"Topic5\", \"Topic5\", \"Topic5\", \"Topic5\", \"Topic5\", \"Topic5\", \"Topic5\", \"Topic5\", \"Topic5\", \"Topic5\", \"Topic5\", \"Topic5\", \"Topic5\", \"Topic5\", \"Topic5\", \"Topic5\", \"Topic5\", \"Topic5\", \"Topic5\", \"Topic5\", \"Topic5\", \"Topic5\", \"Topic5\", \"Topic5\", \"Topic6\", \"Topic6\", \"Topic6\", \"Topic6\", \"Topic6\", \"Topic6\", \"Topic6\", \"Topic6\", \"Topic6\", \"Topic6\", \"Topic6\", \"Topic6\", \"Topic6\", \"Topic6\", \"Topic6\", \"Topic6\", \"Topic6\", \"Topic6\", \"Topic6\", \"Topic6\", \"Topic6\", \"Topic6\", \"Topic6\", \"Topic6\", \"Topic6\", \"Topic6\", \"Topic6\", \"Topic6\", \"Topic6\", \"Topic6\", \"Topic6\", \"Topic6\", \"Topic6\", \"Topic6\", \"Topic6\", \"Topic6\", \"Topic6\", \"Topic6\", \"Topic6\", \"Topic6\", \"Topic6\", \"Topic6\", \"Topic6\", \"Topic6\", \"Topic6\", \"Topic6\", \"Topic6\", \"Topic6\", \"Topic6\", \"Topic6\", \"Topic6\", \"Topic6\", \"Topic6\", \"Topic6\", \"Topic6\", \"Topic6\", \"Topic6\", \"Topic6\", \"Topic6\", \"Topic6\", \"Topic6\", \"Topic6\", \"Topic6\", \"Topic6\", \"Topic6\", \"Topic6\", \"Topic6\", \"Topic6\", \"Topic6\", \"Topic6\", \"Topic6\", \"Topic6\", \"Topic6\", \"Topic6\", \"Topic6\", \"Topic6\", \"Topic6\", \"Topic6\", \"Topic6\", \"Topic6\", \"Topic6\", \"Topic6\", \"Topic6\", \"Topic6\", \"Topic6\", \"Topic6\", \"Topic7\", \"Topic7\", \"Topic7\", \"Topic7\", \"Topic7\", \"Topic7\", \"Topic7\", \"Topic7\", \"Topic7\", \"Topic7\", \"Topic7\", \"Topic7\", \"Topic7\", \"Topic7\", \"Topic7\", \"Topic7\", \"Topic7\", \"Topic7\", \"Topic7\", \"Topic7\", \"Topic7\", \"Topic7\", \"Topic7\", \"Topic7\", \"Topic7\", \"Topic7\", \"Topic7\", \"Topic7\", \"Topic7\", \"Topic7\", \"Topic7\", \"Topic7\", \"Topic7\", \"Topic7\", \"Topic7\", \"Topic7\", \"Topic7\", \"Topic7\", \"Topic7\", \"Topic7\", \"Topic7\", \"Topic7\", \"Topic7\", \"Topic7\", \"Topic7\", \"Topic7\", \"Topic7\", \"Topic7\", \"Topic7\", \"Topic7\", \"Topic7\", \"Topic7\", \"Topic7\", \"Topic7\", \"Topic7\", \"Topic7\", \"Topic7\", \"Topic7\", \"Topic7\", \"Topic7\", \"Topic7\", \"Topic7\", \"Topic7\", \"Topic7\", \"Topic7\", \"Topic7\", \"Topic7\", \"Topic7\", \"Topic7\", \"Topic7\", \"Topic7\", \"Topic7\", \"Topic7\", \"Topic7\", \"Topic7\", \"Topic7\", \"Topic7\", \"Topic7\", \"Topic7\", \"Topic8\", \"Topic8\", \"Topic8\", \"Topic8\", \"Topic8\", \"Topic8\", \"Topic8\", \"Topic8\", \"Topic8\", \"Topic8\", \"Topic8\", \"Topic8\", \"Topic8\", \"Topic8\", \"Topic8\", \"Topic8\", \"Topic8\", \"Topic8\", \"Topic8\", \"Topic8\", \"Topic8\", \"Topic8\", \"Topic8\", \"Topic8\", \"Topic8\", \"Topic8\", \"Topic8\", \"Topic8\", \"Topic8\", \"Topic8\", \"Topic8\", \"Topic8\", \"Topic8\", \"Topic8\", \"Topic8\", \"Topic8\", \"Topic8\", \"Topic8\", \"Topic8\", \"Topic8\", \"Topic8\", \"Topic8\", \"Topic8\", \"Topic8\", \"Topic8\", \"Topic8\", \"Topic8\", \"Topic8\", \"Topic8\", \"Topic8\", \"Topic8\", \"Topic8\", \"Topic8\", \"Topic8\", \"Topic8\", \"Topic8\", \"Topic8\", \"Topic8\", \"Topic8\", \"Topic8\", \"Topic8\", \"Topic8\", \"Topic8\", \"Topic8\", \"Topic8\", \"Topic8\", \"Topic8\", \"Topic8\", \"Topic8\", \"Topic8\", \"Topic8\", \"Topic8\", \"Topic8\", \"Topic8\", \"Topic8\", \"Topic8\", \"Topic8\", \"Topic9\", \"Topic9\", \"Topic9\", \"Topic9\", \"Topic9\", \"Topic9\", \"Topic9\", \"Topic9\", \"Topic9\", \"Topic9\", \"Topic9\", \"Topic9\", \"Topic9\", \"Topic9\", \"Topic9\", \"Topic9\", \"Topic9\", \"Topic9\", \"Topic9\", \"Topic9\", \"Topic9\", \"Topic9\", \"Topic9\", \"Topic9\", \"Topic9\", \"Topic9\", \"Topic9\", \"Topic9\", \"Topic9\", \"Topic9\", \"Topic9\", \"Topic9\", \"Topic9\", \"Topic9\", \"Topic9\", \"Topic9\", \"Topic9\", \"Topic9\", \"Topic9\", \"Topic9\", \"Topic9\", \"Topic9\", \"Topic9\", \"Topic9\", \"Topic9\", \"Topic9\", \"Topic9\", \"Topic9\", \"Topic9\", \"Topic9\", \"Topic9\", \"Topic9\", \"Topic9\", \"Topic9\", \"Topic9\", \"Topic9\", \"Topic9\", \"Topic9\", \"Topic9\", \"Topic9\", \"Topic9\", \"Topic9\", \"Topic9\", \"Topic9\", \"Topic9\", \"Topic9\", \"Topic9\", \"Topic9\", \"Topic9\", \"Topic9\", \"Topic9\", \"Topic9\", \"Topic10\", \"Topic10\", \"Topic10\", \"Topic10\", \"Topic10\", \"Topic10\", \"Topic10\", \"Topic10\", \"Topic10\", \"Topic10\", \"Topic10\", \"Topic10\", \"Topic10\", \"Topic10\", \"Topic10\", \"Topic10\", \"Topic10\", \"Topic10\", \"Topic10\", \"Topic10\", \"Topic10\", \"Topic10\", \"Topic10\", \"Topic10\", \"Topic10\", \"Topic10\", \"Topic10\", \"Topic10\", \"Topic10\", \"Topic10\", \"Topic10\", \"Topic10\", \"Topic10\", \"Topic10\", \"Topic10\", \"Topic10\", \"Topic10\", \"Topic10\", \"Topic10\", \"Topic10\", \"Topic10\", \"Topic10\", \"Topic10\", \"Topic10\", \"Topic10\", \"Topic10\", \"Topic10\", \"Topic10\", \"Topic10\", \"Topic10\", \"Topic10\", \"Topic10\", \"Topic10\", \"Topic10\", \"Topic10\", \"Topic10\", \"Topic10\", \"Topic10\", \"Topic10\", \"Topic10\", \"Topic10\", \"Topic10\", \"Topic10\", \"Topic10\", \"Topic10\", \"Topic11\", \"Topic11\", \"Topic11\", \"Topic11\", \"Topic11\", \"Topic11\", \"Topic11\", \"Topic11\", \"Topic11\", \"Topic11\", \"Topic11\", \"Topic11\", \"Topic11\", \"Topic11\", \"Topic11\", \"Topic11\", \"Topic11\", \"Topic11\", \"Topic11\", \"Topic11\", \"Topic11\", \"Topic11\", \"Topic11\", \"Topic11\", \"Topic11\", \"Topic11\", \"Topic11\", \"Topic11\", \"Topic11\", \"Topic11\", \"Topic11\", \"Topic11\", \"Topic11\", \"Topic11\", \"Topic11\", \"Topic11\", \"Topic11\", \"Topic11\", \"Topic11\", \"Topic11\", \"Topic11\", \"Topic11\", \"Topic11\", \"Topic11\", \"Topic11\", \"Topic11\", \"Topic11\", \"Topic11\", \"Topic11\", \"Topic11\", \"Topic11\", \"Topic11\", \"Topic11\", \"Topic11\", \"Topic11\", \"Topic11\", \"Topic11\", \"Topic11\", \"Topic11\", \"Topic11\", \"Topic11\", \"Topic11\", \"Topic11\", \"Topic11\", \"Topic11\", \"Topic11\", \"Topic11\", \"Topic11\", \"Topic11\", \"Topic11\", \"Topic11\", \"Topic11\", \"Topic12\", \"Topic12\", \"Topic12\", \"Topic12\", \"Topic12\", \"Topic12\", \"Topic12\", \"Topic12\", \"Topic12\", \"Topic12\", \"Topic12\", \"Topic12\", \"Topic12\", \"Topic12\", \"Topic12\", \"Topic12\", \"Topic12\", \"Topic12\", \"Topic12\", \"Topic12\", \"Topic12\", \"Topic12\", \"Topic12\", \"Topic12\", \"Topic12\", \"Topic12\", \"Topic12\", \"Topic12\", \"Topic12\", \"Topic12\", \"Topic12\", \"Topic12\", \"Topic12\", \"Topic12\", \"Topic12\", \"Topic12\", \"Topic12\", \"Topic12\", \"Topic12\", \"Topic12\", \"Topic12\", \"Topic12\", \"Topic12\", \"Topic12\", \"Topic12\", \"Topic12\", \"Topic12\", \"Topic12\", \"Topic12\", \"Topic12\", \"Topic12\", \"Topic12\", \"Topic12\", \"Topic12\", \"Topic12\", \"Topic12\", \"Topic12\", \"Topic12\", \"Topic12\", \"Topic12\", \"Topic13\", \"Topic13\", \"Topic13\", \"Topic13\", \"Topic13\", \"Topic13\", \"Topic13\", \"Topic13\", \"Topic13\", \"Topic13\", \"Topic13\", \"Topic13\", \"Topic13\", \"Topic13\", \"Topic13\", \"Topic13\", \"Topic13\", \"Topic13\", \"Topic13\", \"Topic13\", \"Topic13\", \"Topic13\", \"Topic13\", \"Topic13\", \"Topic13\", \"Topic13\", \"Topic13\", \"Topic13\", \"Topic13\", \"Topic13\", \"Topic13\", \"Topic13\", \"Topic13\", \"Topic13\", \"Topic13\", \"Topic13\", \"Topic13\", \"Topic13\", \"Topic13\", \"Topic13\", \"Topic13\", \"Topic13\", \"Topic13\", \"Topic13\", \"Topic14\", \"Topic14\", \"Topic14\", \"Topic14\", \"Topic14\", \"Topic14\", \"Topic14\", \"Topic14\", \"Topic14\", \"Topic14\", \"Topic14\", \"Topic14\", \"Topic14\", \"Topic14\", \"Topic14\", \"Topic14\", \"Topic14\", \"Topic14\", \"Topic14\", \"Topic14\", \"Topic14\", \"Topic14\", \"Topic14\", \"Topic14\", \"Topic14\", \"Topic14\", \"Topic14\", \"Topic14\", \"Topic14\", \"Topic14\", \"Topic14\", \"Topic14\", \"Topic14\", \"Topic14\", \"Topic14\", \"Topic14\", \"Topic14\", \"Topic14\", \"Topic14\", \"Topic14\", \"Topic14\", \"Topic14\", \"Topic14\", \"Topic14\", \"Topic14\", \"Topic14\", \"Topic14\", \"Topic14\", \"Topic14\", \"Topic14\", \"Topic14\", \"Topic14\", \"Topic14\", \"Topic14\", \"Topic15\", \"Topic15\", \"Topic15\", \"Topic15\", \"Topic15\", \"Topic15\", \"Topic15\", \"Topic15\", \"Topic15\", \"Topic15\", \"Topic15\", \"Topic15\", \"Topic15\", \"Topic15\", \"Topic15\", \"Topic15\", \"Topic15\", \"Topic15\", \"Topic15\", \"Topic15\", \"Topic15\", \"Topic15\", \"Topic15\", \"Topic15\", \"Topic15\", \"Topic15\", \"Topic15\", \"Topic15\", \"Topic15\", \"Topic15\", \"Topic15\", \"Topic15\", \"Topic15\", \"Topic15\", \"Topic15\", \"Topic15\", \"Topic15\", \"Topic15\", \"Topic15\", \"Topic15\", \"Topic15\", \"Topic16\", \"Topic16\", \"Topic16\", \"Topic16\", \"Topic16\", \"Topic16\", \"Topic16\", \"Topic16\", \"Topic16\", \"Topic16\", \"Topic16\", \"Topic16\", \"Topic16\", \"Topic16\", \"Topic16\", \"Topic16\", \"Topic16\", \"Topic16\", \"Topic16\", \"Topic16\", \"Topic16\", \"Topic16\", \"Topic16\", \"Topic16\", \"Topic16\", \"Topic16\", \"Topic16\", \"Topic16\", \"Topic16\", \"Topic16\", \"Topic16\", \"Topic16\", \"Topic16\", \"Topic17\", \"Topic17\", \"Topic17\", \"Topic17\", \"Topic17\", \"Topic17\", \"Topic17\", \"Topic17\", \"Topic17\", \"Topic17\", \"Topic17\", \"Topic17\", \"Topic17\", \"Topic17\", \"Topic17\", \"Topic17\", \"Topic17\", \"Topic17\", \"Topic17\", \"Topic17\", \"Topic17\", \"Topic17\", \"Topic17\", \"Topic17\", \"Topic17\", \"Topic17\", \"Topic17\", \"Topic17\", \"Topic17\", \"Topic17\", \"Topic17\", \"Topic18\", \"Topic18\", \"Topic18\", \"Topic18\", \"Topic18\", \"Topic18\", \"Topic18\", \"Topic18\", \"Topic18\", \"Topic18\", \"Topic18\", \"Topic18\", \"Topic18\", \"Topic18\", \"Topic18\", \"Topic18\", \"Topic18\", \"Topic18\", \"Topic18\", \"Topic18\", \"Topic18\", \"Topic18\", \"Topic18\", \"Topic18\", \"Topic18\", \"Topic18\", \"Topic18\", \"Topic18\", \"Topic18\", \"Topic18\", \"Topic18\", \"Topic18\", \"Topic18\", \"Topic18\", \"Topic18\", \"Topic18\", \"Topic18\", \"Topic18\", \"Topic19\", \"Topic19\", \"Topic19\", \"Topic19\", \"Topic19\", \"Topic19\", \"Topic19\", \"Topic19\", \"Topic19\", \"Topic19\", \"Topic19\", \"Topic19\", \"Topic19\", \"Topic19\", \"Topic19\", \"Topic19\", \"Topic19\", \"Topic19\", \"Topic19\", \"Topic19\", \"Topic19\", \"Topic19\", \"Topic19\", \"Topic19\", \"Topic19\", \"Topic19\", \"Topic19\", \"Topic19\", \"Topic19\", \"Topic19\", \"Topic19\", \"Topic19\", \"Topic19\", \"Topic19\", \"Topic19\", \"Topic19\", \"Topic20\", \"Topic20\", \"Topic20\", \"Topic20\", \"Topic20\", \"Topic20\", \"Topic20\", \"Topic20\", \"Topic20\", \"Topic20\", \"Topic20\", \"Topic20\", \"Topic20\", \"Topic20\", \"Topic20\", \"Topic20\", \"Topic20\", \"Topic20\", \"Topic20\", \"Topic20\", \"Topic20\", \"Topic20\", \"Topic20\", \"Topic20\", \"Topic20\", \"Topic20\", \"Topic20\", \"Topic20\", \"Topic20\", \"Topic20\", \"Topic20\", \"Topic20\", \"Topic20\", \"Topic20\", \"Topic20\", \"Topic20\", \"Topic20\"], \"Freq\": [9434.0, 2059.0, 6606.0, 4814.0, 5774.0, 10871.0, 3873.0, 3225.0, 9854.0, 3270.0, 2415.0, 1428.0, 2927.0, 1810.0, 3125.0, 735.0, 921.0, 2483.0, 2590.0, 6005.0, 3230.0, 5233.0, 1810.0, 2510.0, 2000.0, 1016.0, 3373.0, 2471.0, 1170.0, 1334.0, 135.55950927734375, 132.65977478027344, 108.5605239868164, 97.77093505859375, 100.96339416503906, 86.90325927734375, 75.71835327148438, 74.18170166015625, 71.9523696899414, 71.7049560546875, 61.18315124511719, 60.88467025756836, 58.7773323059082, 96.2125473022461, 55.72381591796875, 55.47967529296875, 54.28611373901367, 51.576988220214844, 50.91667938232422, 49.76948547363281, 49.442447662353516, 49.394283294677734, 46.893821716308594, 46.4001350402832, 46.30961608886719, 46.1705322265625, 45.11479949951172, 44.21009063720703, 43.35413360595703, 42.76493453979492, 66.342041015625, 47.5919075012207, 418.38446044921875, 223.7938995361328, 379.605224609375, 129.1424102783203, 195.73562622070312, 107.70015716552734, 210.17259216308594, 197.54965209960938, 1768.3404541015625, 349.77532958984375, 1202.1444091796875, 166.49440002441406, 333.17132568359375, 1417.7691650390625, 986.75390625, 190.0308837890625, 507.1059265136719, 180.00440979003906, 682.412841796875, 365.2545471191406, 826.9817504882812, 392.9949035644531, 661.8590087890625, 2687.028564453125, 361.546630859375, 6087.4609375, 2321.001220703125, 443.659423828125, 1383.214599609375, 3867.10791015625, 3285.196533203125, 1493.69921875, 519.5572509765625, 5046.64697265625, 3418.7607421875, 1532.448974609375, 3042.6337890625, 1472.92333984375, 1042.14306640625, 3107.70556640625, 1442.7679443359375, 1088.0712890625, 2138.4287109375, 4540.28759765625, 2165.704345703125, 1820.339599609375, 1947.2977294921875, 2668.935546875, 1400.3292236328125, 3070.61328125, 2170.835693359375, 1372.9373779296875, 1840.2271728515625, 2433.734619140625, 1743.4908447265625, 1495.42236328125, 2232.68701171875, 1560.6011962890625, 1741.3475341796875, 1545.6572265625, 1529.923095703125, 1694.562744140625, 1566.55859375, 1516.47607421875, 578.8986206054688, 436.2403869628906, 476.2315673828125, 329.2535095214844, 272.5469665527344, 196.75392150878906, 165.54629516601562, 154.36837768554688, 152.00489807128906, 151.2624053955078, 146.68479919433594, 125.63124084472656, 122.56853485107422, 118.48869323730469, 107.95677947998047, 106.4429931640625, 97.57870483398438, 95.1508560180664, 93.29789733886719, 85.12220001220703, 81.14629364013672, 80.13164520263672, 78.88544464111328, 76.880859375, 73.44677734375, 73.00653839111328, 66.60150909423828, 65.05846405029297, 61.028072357177734, 60.79096984863281, 416.6666259765625, 316.020751953125, 189.17088317871094, 85.83629608154297, 484.99993896484375, 191.73989868164062, 1103.146728515625, 339.0587463378906, 242.4052734375, 208.89434814453125, 131.01022338867188, 1214.82666015625, 188.41830444335938, 2410.277587890625, 1233.6611328125, 1058.1685791015625, 755.2520141601562, 416.81341552734375, 1211.8599853515625, 426.0187072753906, 887.2233276367188, 641.2931518554688, 1701.6790771484375, 1137.299560546875, 415.4127197265625, 781.863525390625, 478.0025329589844, 619.3533935546875, 2513.877685546875, 1196.832275390625, 579.6708984375, 3233.530029296875, 1828.578125, 1365.2047119140625, 1947.7322998046875, 943.13330078125, 1102.3194580078125, 1891.7152099609375, 2290.8388671875, 1826.052490234375, 973.0911254882812, 1550.607421875, 1205.980712890625, 1184.185302734375, 1318.09619140625, 908.7837524414062, 1228.5052490234375, 889.7764892578125, 1060.7879638671875, 980.6776123046875, 994.735107421875, 1033.9246826171875, 927.2706298828125, 248.68186950683594, 237.69058227539062, 205.35720825195312, 210.68228149414062, 165.46815490722656, 157.278076171875, 141.9646759033203, 144.55284118652344, 129.3855438232422, 123.88391876220703, 113.06034851074219, 108.73358917236328, 106.43501281738281, 105.13981628417969, 104.76107025146484, 104.5594482421875, 102.65323638916016, 101.60420227050781, 115.1346435546875, 100.272216796875, 100.09369659423828, 98.93119812011719, 88.92868041992188, 87.31314849853516, 85.67508697509766, 84.65478515625, 84.01628875732422, 82.91413116455078, 82.56979370117188, 80.25281524658203, 182.51426696777344, 268.69183349609375, 205.5242156982422, 335.9930419921875, 508.0589904785156, 134.16429138183594, 125.24337768554688, 246.09739685058594, 166.4652862548828, 232.45057678222656, 205.41448974609375, 1245.3643798828125, 509.6922607421875, 302.90167236328125, 234.7864990234375, 212.43701171875, 160.0108642578125, 514.2213134765625, 189.84649658203125, 262.2031555175781, 205.75460815429688, 404.6185607910156, 462.69439697265625, 1565.0390625, 298.8331604003906, 960.9716796875, 865.576416015625, 501.2440185546875, 624.4947509765625, 742.47314453125, 1438.451904296875, 460.9076232910156, 1049.305908203125, 1217.0020751953125, 1390.0029296875, 1143.6483154296875, 585.7918701171875, 921.6754150390625, 1483.685302734375, 1119.9862060546875, 597.1060180664062, 671.202880859375, 575.5221557617188, 574.00732421875, 1009.9514770507812, 899.2369995117188, 617.3782348632812, 950.5509033203125, 727.4432983398438, 639.6759643554688, 707.4773559570312, 671.8201904296875, 656.4420166015625, 608.4502563476562, 625.8223876953125, 612.496337890625, 79.00119018554688, 76.4929428100586, 57.1258544921875, 52.57260513305664, 69.91249084472656, 38.74361801147461, 35.472618103027344, 35.453121185302734, 30.85190200805664, 29.02004051208496, 28.655256271362305, 27.00242042541504, 25.45339012145996, 23.815656661987305, 23.510562896728516, 23.418760299682617, 23.350543975830078, 22.221837997436523, 21.87605094909668, 21.113523483276367, 20.83973503112793, 20.420969009399414, 20.192724227905273, 20.144123077392578, 18.22534942626953, 17.8671817779541, 17.825525283813477, 17.822189331054688, 17.699098587036133, 17.60431480407715, 38.300743103027344, 17.854822158813477, 35.374671936035156, 38.923431396484375, 64.95076751708984, 25.48104476928711, 121.7831802368164, 64.33735656738281, 32.9156379699707, 34.670501708984375, 185.2073516845703, 60.45083999633789, 107.24852752685547, 73.20518493652344, 1392.7822265625, 110.21580505371094, 116.48566436767578, 54.6760368347168, 102.5450668334961, 141.69039916992188, 77.30956268310547, 179.01821899414062, 56.722801208496094, 150.88232421875, 156.1641082763672, 77.63567352294922, 156.74432373046875, 190.99012756347656, 166.5209197998047, 348.91973876953125, 418.10528564453125, 194.436767578125, 79.54910278320312, 264.453857421875, 246.72613525390625, 250.77688598632812, 132.11587524414062, 232.43682861328125, 255.5292510986328, 169.4439239501953, 169.89117431640625, 142.92227172851562, 103.25806427001953, 144.1513671875, 137.90237426757812, 124.79676818847656, 132.17001342773438, 149.10540771484375, 144.0366973876953, 127.54096984863281, 128.106201171875, 123.88436126708984, 38.80601119995117, 25.9499568939209, 24.206005096435547, 21.47193145751953, 20.325788497924805, 15.810361862182617, 14.978716850280762, 13.925830841064453, 13.865713119506836, 13.670292854309082, 13.893930435180664, 12.545636177062988, 12.187850952148438, 11.95287799835205, 11.896663665771484, 11.809845924377441, 11.530512809753418, 11.467906951904297, 11.393481254577637, 11.380099296569824, 11.351922988891602, 11.308226585388184, 11.283062934875488, 11.19710922241211, 11.15051555633545, 11.149316787719727, 10.971689224243164, 10.957039833068848, 10.937625885009766, 10.79421615600586, 12.349637985229492, 59.16015625, 64.68695068359375, 12.649481773376465, 17.757658004760742, 26.22011375427246, 47.551143646240234, 28.199081420898438, 1334.43115234375, 311.15570068359375, 112.15570068359375, 290.48553466796875, 560.375, 61.614898681640625, 27.51070785522461, 228.71775817871094, 55.71430206298828, 230.67884826660156, 101.9188003540039, 18.35045051574707, 723.52001953125, 357.5480651855469, 166.4825897216797, 134.4333953857422, 87.41236114501953, 40.3934211730957, 43.83316421508789, 397.69598388671875, 135.4906768798828, 124.69437408447266, 178.3272247314453, 116.95912170410156, 247.98402404785156, 167.8008575439453, 181.860595703125, 640.5551147460938, 348.31353759765625, 139.3900146484375, 182.18997192382812, 238.29794311523438, 379.2007751464844, 134.05511474609375, 281.6869201660156, 459.8518981933594, 163.12437438964844, 266.9980163574219, 222.4297637939453, 191.00975036621094, 173.3788604736328, 162.89437866210938, 182.23263549804688, 203.04136657714844, 163.2811279296875, 164.83937072753906, 164.17584228515625, 46.98518753051758, 46.780738830566406, 35.98794937133789, 35.659706115722656, 31.331911087036133, 30.411457061767578, 27.620502471923828, 27.542171478271484, 26.95846939086914, 26.774673461914062, 26.169052124023438, 25.544105529785156, 24.274242401123047, 24.051008224487305, 23.497827529907227, 22.978790283203125, 22.865976333618164, 21.239261627197266, 20.701940536499023, 20.608997344970703, 20.59275245666504, 20.388626098632812, 19.839181900024414, 19.457368850708008, 18.8696346282959, 18.735599517822266, 18.636384963989258, 18.223037719726562, 18.1347599029541, 18.078691482543945, 49.452117919921875, 30.23764991760254, 35.25326919555664, 93.09323120117188, 43.50728225708008, 230.20750427246094, 22.898128509521484, 91.53101348876953, 91.07145690917969, 84.58036041259766, 30.73758888244629, 135.4719696044922, 630.0326538085938, 81.95748901367188, 54.719032287597656, 63.659358978271484, 60.86323928833008, 44.40142822265625, 48.224674224853516, 105.80764770507812, 47.85466766357422, 99.66844177246094, 456.7482604980469, 44.276485443115234, 101.45933532714844, 135.91061401367188, 69.254638671875, 155.099609375, 89.52335357666016, 112.1594009399414, 255.37384033203125, 82.22887420654297, 63.744747161865234, 156.4048309326172, 135.48703002929688, 137.3106689453125, 135.78614807128906, 127.93928527832031, 160.02684020996094, 87.83727264404297, 154.38607788085938, 83.99256134033203, 128.95785522460938, 115.3474349975586, 156.33877563476562, 161.4420166015625, 103.59078216552734, 108.16445922851562, 100.31510925292969, 100.9336166381836, 121.032958984375, 96.00569915771484, 97.41448974609375, 97.25022888183594, 96.98870086669922, 97.37548828125, 45.30478286743164, 29.663097381591797, 25.416051864624023, 22.817646026611328, 18.586973190307617, 17.98486328125, 16.353050231933594, 16.311847686767578, 16.133771896362305, 15.502653121948242, 15.396700859069824, 15.202085494995117, 15.1891508102417, 14.675575256347656, 14.612337112426758, 14.610033988952637, 14.56867504119873, 14.566911697387695, 14.531332015991211, 14.281769752502441, 14.247364044189453, 14.149728775024414, 14.106807708740234, 13.926554679870605, 13.61064624786377, 13.19659423828125, 12.963810920715332, 12.70668888092041, 12.640336990356445, 12.549769401550293, 57.985931396484375, 21.724275588989258, 64.05713653564453, 234.76251220703125, 24.967988967895508, 24.99351692199707, 339.2469482421875, 36.47206497192383, 34.66276931762695, 103.8041763305664, 42.24186706542969, 803.3977661132812, 42.294395446777344, 87.41674041748047, 528.8917236328125, 77.86547088623047, 36.235877990722656, 128.74957275390625, 137.52444458007812, 69.30921936035156, 121.39823150634766, 120.47118377685547, 63.014381408691406, 64.6796646118164, 87.35273742675781, 64.23365020751953, 65.08353424072266, 119.2970199584961, 290.6346435546875, 121.4614486694336, 170.03790283203125, 190.56643676757812, 126.8628158569336, 153.94790649414062, 79.19112396240234, 133.5350341796875, 92.50140380859375, 203.3526153564453, 131.44517517089844, 75.9928207397461, 145.39212036132812, 97.48377227783203, 106.16289520263672, 107.10723876953125, 100.87836456298828, 96.86141204833984, 83.17879486083984, 86.15574645996094, 86.3520278930664, 29.806203842163086, 29.554590225219727, 29.554590225219727, 23.48311996459961, 22.5240478515625, 21.949996948242188, 19.1682071685791, 15.116789817810059, 14.6077241897583, 12.789031028747559, 11.491900444030762, 11.397038459777832, 11.175666809082031, 11.167526245117188, 10.8690824508667, 10.672593116760254, 10.574629783630371, 10.474401473999023, 10.237360954284668, 10.213193893432617, 10.01590347290039, 9.975214958190918, 9.87198257446289, 10.030211448669434, 9.202737808227539, 9.000277519226074, 8.961526870727539, 8.798407554626465, 8.69714641571045, 8.640538215637207, 92.42778015136719, 259.8265075683594, 25.629650115966797, 20.17872428894043, 29.830785751342773, 158.99734497070312, 388.4693908691406, 34.632205963134766, 262.38775634765625, 107.24162292480469, 203.67727661132812, 57.15235137939453, 144.5301055908203, 72.3689956665039, 850.7183837890625, 93.48373413085938, 104.99906158447266, 205.4974822998047, 268.0895080566406, 507.7009582519531, 154.31918334960938, 83.02714538574219, 153.34031677246094, 125.58209991455078, 388.421630859375, 72.98060607910156, 189.0689239501953, 241.6737518310547, 431.89837646484375, 112.03582763671875, 243.3346710205078, 262.84759521484375, 265.82891845703125, 287.6537780761719, 481.1336975097656, 233.5771026611328, 124.28472137451172, 145.59803771972656, 311.6954040527344, 210.10987854003906, 324.5275573730469, 172.34124755859375, 150.14956665039062, 249.75552368164062, 164.12680053710938, 160.93492126464844, 157.86805725097656, 68.05113983154297, 31.181657791137695, 56.2970085144043, 23.593143463134766, 23.043012619018555, 22.523601531982422, 21.318004608154297, 20.903345108032227, 18.1807861328125, 17.774555206298828, 17.16230010986328, 16.884157180786133, 15.814594268798828, 15.380815505981445, 14.016020774841309, 13.643187522888184, 13.643187522888184, 13.193488121032715, 12.959590911865234, 34.75242614746094, 12.18451976776123, 11.82814884185791, 11.82814884185791, 11.82814884185791, 11.82814884185791, 10.920626640319824, 10.438607215881348, 10.013108253479004, 10.01310920715332, 10.01310920715332, 30.285961151123047, 34.32783508300781, 50.56245040893555, 436.7757873535156, 94.48086547851562, 20.256994247436523, 37.13251876831055, 116.86905670166016, 31.669775009155273, 83.98432159423828, 43.02056121826172, 66.88912963867188, 146.85389709472656, 36.442481994628906, 53.03758239746094, 35.569759368896484, 166.48617553710938, 77.48636627197266, 142.54876708984375, 85.03844451904297, 312.9066467285156, 115.34396362304688, 133.48252868652344, 100.79727172851562, 49.22223663330078, 91.58988952636719, 81.68730926513672, 67.6525650024414, 67.60034942626953, 58.711708068847656, 74.50777435302734, 60.705265045166016, 152.2295379638672, 114.20124816894531, 62.919700622558594, 113.09146881103516, 90.86840057373047, 111.6054916381836, 63.84191131591797, 65.51583099365234, 61.05016326904297, 64.15384674072266, 86.6732177734375, 70.10639953613281, 60.931907653808594, 57.215450286865234, 43.14967727661133, 88.09972381591797, 37.45416259765625, 34.05338668823242, 33.34398651123047, 29.0471134185791, 28.06382942199707, 27.298349380493164, 26.369028091430664, 26.03326416015625, 23.473360061645508, 22.785306930541992, 22.66484260559082, 22.204580307006836, 22.8857421875, 21.25946617126465, 26.14482879638672, 16.895532608032227, 16.02977752685547, 15.6097412109375, 15.421931266784668, 15.178461074829102, 14.208256721496582, 14.074101448059082, 13.549713134765625, 13.467719078063965, 76.73130798339844, 78.29981994628906, 42.05897903442383, 71.79259490966797, 46.09428405761719, 73.66051483154297, 104.57941436767578, 76.75341796875, 544.6912841796875, 52.258644104003906, 266.4216003417969, 123.8478012084961, 116.31868743896484, 65.86841583251953, 38.224891662597656, 205.22601318359375, 112.17317199707031, 290.3219299316406, 141.10018920898438, 58.53479766845703, 52.719215393066406, 140.371337890625, 138.5811767578125, 53.566524505615234, 123.71084594726562, 62.5693359375, 117.9262924194336, 65.12792205810547, 116.1552963256836, 137.62789916992188, 81.62698364257812, 82.49919891357422, 84.5609359741211, 64.59176635742188, 64.53607940673828, 14.973930358886719, 12.749105453491211, 12.721650123596191, 11.71006965637207, 11.339754104614258, 11.045951843261719, 10.754921913146973, 10.642850875854492, 10.901119232177734, 9.574352264404297, 9.350081443786621, 8.836477279663086, 8.821292877197266, 8.689117431640625, 8.546555519104004, 8.522784233093262, 8.510295867919922, 8.326717376708984, 8.288753509521484, 8.223905563354492, 8.223139762878418, 8.203516960144043, 8.078044891357422, 7.910379409790039, 7.862125396728516, 7.725902557373047, 7.723156929016113, 7.670965671539307, 7.460639476776123, 7.367186546325684, 13.093735694885254, 9.705078125, 12.283567428588867, 16.52516746520996, 21.124683380126953, 12.136486053466797, 67.55797576904297, 16.18533706665039, 12.973201751708984, 13.984728813171387, 41.65910720825195, 117.65518951416016, 40.66239929199219, 122.38426971435547, 38.92784118652344, 34.1000862121582, 70.56474304199219, 50.657752990722656, 37.14474105834961, 40.41045379638672, 66.32890319824219, 87.64579772949219, 49.758888244628906, 33.06680679321289, 84.34270477294922, 27.263959884643555, 59.22462463378906, 49.802799224853516, 39.70173645019531, 34.73037338256836, 25.437875747680664, 54.11019515991211, 39.934608459472656, 40.22224807739258, 36.88796615600586, 31.927446365356445, 26.459983825683594, 26.875459671020508, 32.562339782714844, 29.18399429321289, 30.835750579833984, 27.044174194335938, 45.268985748291016, 43.85002136230469, 37.35280990600586, 34.78878402709961, 27.225954055786133, 25.00459098815918, 24.57003402709961, 24.476585388183594, 19.76827049255371, 17.33022117614746, 16.020715713500977, 13.293510437011719, 12.388094902038574, 12.295500755310059, 11.861231803894043, 11.836629867553711, 11.086298942565918, 10.97397232055664, 10.957283020019531, 10.880790710449219, 31.797019958496094, 10.090496063232422, 9.676885604858398, 9.541387557983398, 9.451127052307129, 41.83942794799805, 9.074955940246582, 9.073213577270508, 8.967000961303711, 8.848601341247559, 34.895931243896484, 15.745427131652832, 13.158358573913574, 41.064125061035156, 39.88024139404297, 120.58293914794922, 30.173110961914062, 58.87116622924805, 19.987401962280273, 83.95291900634766, 103.19204711914062, 27.774093627929688, 130.22254943847656, 49.48728942871094, 92.1544189453125, 61.802040100097656, 100.10552215576172, 61.08821487426758, 36.3727912902832, 35.238704681396484, 27.804262161254883, 40.49992752075195, 61.268184661865234, 54.67927169799805, 41.36119079589844, 39.61546325683594, 29.435022354125977, 32.873043060302734, 32.00333786010742, 29.657379150390625, 40.32208251953125, 29.9471378326416, 15.717020988464355, 12.60659408569336, 12.550333976745605, 11.58469009399414, 11.28581714630127, 11.28038501739502, 9.869014739990234, 8.63696575164795, 7.997741222381592, 7.997741222381592, 7.997741222381592, 7.752353668212891, 7.6756272315979, 7.345949172973633, 7.2385640144348145, 7.057117462158203, 6.868420600891113, 6.362185001373291, 6.079955577850342, 6.079955577850342, 5.963842868804932, 5.760182857513428, 5.73265266418457, 5.732133388519287, 5.7269744873046875, 5.6992011070251465, 5.567883491516113, 5.567883491516113, 5.567883491516113, 25.1005916595459, 39.09120178222656, 22.06397819519043, 10.77980899810791, 19.190185546875, 20.390979766845703, 47.51695251464844, 10.410253524780273, 11.271929740905762, 14.585708618164062, 10.064184188842773, 9.029678344726562, 7.121371269226074, 13.290536880493164, 8.005730628967285, 5.694159030914307, 5.0123515129089355, 4.85151481628418, 4.459217071533203, 4.352518081665039, 3.561285972595215, 3.238229274749756, 3.2382290363311768, 3.1018152236938477, 5.866243839263916, 2.8933706283569336, 2.8872194290161133, 2.8260233402252197, 2.8053624629974365, 2.594892740249634, 2.594892740249634, 2.594360828399658, 2.521901845932007, 2.456814765930176, 2.456814765930176, 2.385554075241089, 2.2438831329345703, 2.2438831329345703, 2.2438831329345703, 2.2280075550079346, 2.203972816467285, 2.1810226440429688, 2.181022882461548, 5.292550563812256, 3.930058717727661, 7.140218734741211, 15.059847831726074, 24.431171417236328, 6.672524452209473, 3.8129467964172363, 99.07422637939453, 9.061748504638672, 7.9750261306762695, 4.267276287078857, 3.70226788520813, 6.681665897369385, 19.710134506225586, 7.53083610534668, 10.634230613708496, 8.762571334838867, 9.000828742980957, 4.11111307144165, 4.704586029052734, 4.460021495819092, 4.572170734405518, 4.117008209228516, 4.022209644317627, 4.304037570953369, 3.446103811264038, 3.446103572845459, 3.327460527420044, 2.3582229614257812, 2.1592023372650146, 2.1158504486083984, 1.7440111637115479, 1.7302350997924805, 1.7302350997924805, 1.638166904449463, 1.6381666660308838, 1.6381666660308838, 1.6381666660308838, 1.5755616426467896, 1.5601173639297485, 1.5601173639297485, 1.47186279296875, 1.3916679620742798, 1.3150432109832764, 1.3012678623199463, 1.3012678623199463, 1.3012678623199463, 1.3012676239013672, 1.1465944051742554, 1.121259331703186, 1.1212592124938965, 1.088115930557251, 1.0418591499328613, 1.04075026512146, 1.04075026512146, 1.04075026512146, 1.04075026512146, 1.04075026512146, 1.04075026512146, 1.04075026512146, 1.04075026512146, 6.880439758300781, 2.3579776287078857, 1.2922441959381104, 1.243380069732666, 9.303627014160156, 5.956138610839844, 5.553886890411377, 4.495216369628906, 3.9620864391326904, 3.3488173484802246, 3.4263620376586914, 3.288540840148926, 3.015202522277832, 3.0114943981170654, 2.85073184967041, 2.84879207611084, 2.8112831115722656, 2.8060219287872314, 2.6292309761047363, 2.602102518081665, 2.5369229316711426, 2.443000555038452, 2.395341396331787, 2.3685123920440674, 2.368213176727295, 2.341684341430664, 2.2943115234375, 2.2943115234375, 2.2943115234375, 2.2421181201934814, 2.234578847885132, 2.2253310680389404, 2.193469524383545, 2.1927108764648438, 3.762890338897705, 3.2624285221099854, 2.231574058532715, 5.123136520385742, 4.4289140701293945, 4.079545497894287, 2.7067837715148926, 2.448939561843872, 2.301469087600708, 2.0399389266967773, 2.038273811340332, 1.980005145072937, 1.8308687210083008, 1.8039566278457642, 1.729540228843689, 1.729540228843689, 1.7295398712158203, 1.7295398712158203, 1.7295398712158203, 1.7295398712158203, 1.7295398712158203, 1.7295398712158203, 1.6560779809951782, 1.5693392753601074, 1.4935578107833862, 1.46664559841156, 1.4080760478973389, 1.3922290802001953, 1.3922288417816162, 1.2888110876083374, 1.2468130588531494, 1.2320280075073242, 1.197060227394104, 1.4330744743347168, 8.516389846801758, 3.6340770721435547, 3.5155484676361084, 3.3478312492370605, 3.0691123008728027, 2.9818928241729736, 2.8699586391448975, 2.7053873538970947, 2.66422176361084, 2.585706949234009, 2.564101457595825, 25.037609100341797, 2.4714698791503906, 2.4563751220703125, 2.2377259731292725, 1.9751633405685425, 1.9714274406433105, 1.8977999687194824, 1.8549449443817139, 1.8542672395706177, 1.8399444818496704, 1.793829321861267, 1.7889221906661987, 1.7889221906661987, 1.7889221906661987, 1.6430165767669678, 1.6309459209442139, 1.5559502840042114, 1.4872921705245972, 1.4872921705245972, 2.110081195831299, 2.882232904434204, 3.8514411449432373, 1.9852607250213623, 3.278315782546997, 2.6671864986419678, 1.839003562927246, 1.8521581888198853, 5.887533187866211, 2.2515201568603516, 1.7646781206130981, 1.6859806776046753, 1.662973403930664, 1.5353902578353882, 1.0756542682647705, 0.9783183932304382, 0.9097934365272522, 0.9097934365272522, 0.9097933173179626, 0.8385708928108215, 0.8366526961326599, 0.8366526961326599, 0.8236232399940491, 0.7443394064903259, 0.7374528646469116, 0.6982560157775879, 0.6707920432090759, 0.6707920432090759, 0.6277243494987488, 0.6185656189918518, 0.6185656189918518, 0.558508574962616, 0.532962441444397, 0.5180149674415588, 0.5180148482322693, 0.4924691617488861, 0.4924691617488861, 0.47881805896759033, 0.47881799936294556, 0.47881799936294556, 1.2690892219543457, 0.6522459983825684, 0.7650301456451416, 0.5257768630981445, 1.2302417755126953, 1.033097743988037, 0.9932814240455627, 0.9077648520469666, 0.8223156929016113, 0.7962973117828369, 0.7657606601715088, 0.7507230043411255, 0.7208750247955322, 0.7182025909423828, 0.7103196978569031, 0.7103196978569031, 0.6712098717689514, 0.6562958359718323, 0.6562954783439636, 0.639255940914154, 0.6028380990028381, 0.6026776432991028, 0.5857980847358704, 0.5852320790290833, 0.5317741632461548, 0.5312081575393677, 0.5312081575393677, 0.5312081575393677, 0.5312081575393677, 0.5312081575393677, 0.5312081575393677, 0.5312081575393677, 0.5312081575393677, 0.5312081575393677, 0.5312081575393677, 0.5312081575393677, 0.5312081575393677, 0.5312081575393677, 0.5312081575393677, 0.5312081575393677, 0.5312081575393677], \"Term\": [\"ei\", \"dansk\", \"gud\", \"ord\", \"aand\", \"kan\", \"liv\", \"kong\", \"kun\", \"d\\u00f8d\", \"hjert\", \"danmark\", \"verd\", \"nord\", \"kirk\", \"dam\", \"krist\", \"al\", \"gi\\u00f8r\", \"maa\", \"dag\", \"kom\", \"lys\", \"mennesk\", \"jord\", \"ere\", \"sand\", \"tro\", \"dit\", \"evig\", \"sparta\", \"philosophi\", \"stud\", \"igrund\", \"egennyt\", \"ki\\u00f8benhavn\", \"politisk\", \"preus\", \"sk\\u00f8nd\", \"hiin\", \"overdaad\", \"st\\u00e6nd\", \"poet\", \"literatur\", \"fanatism\", \"januar\", \"indbyd\", \"yttring\", \"m\\u00f8l\", \"iaft\", \"formast\", \"tyg\", \"tildel\", \"beslutning\", \"beskikked\", \"befordr\", \"efterkom\", \"niniv\", \"iver\", \"forandred\", \"rusland\", \"duel\", \"maaske\", \"ordsprog\", \"ungdom\", \"desv\\u00e6r\", \"skribent\", \"philosoph\", \"samt\", \"selskab\", \"dansk\", \"arbeid\", \"danmark\", \"hens\", \"h\\u00f8ier\", \"nord\", \"hvilk\", \"begrib\", \"nep\", \"behag\", \"\\u00f8nsk\", \"h\\u00f8iest\", \"\\u00f8in\", \"b\\u00f8r\", \"historisk\", \"folk\", \"sprog\", \"kan\", \"tid\", \"\\u00f8ieblik\", \"syn\", \"naar\", \"kund\", \"vis\", \"\\u00f8ie\", \"ei\", \"maa\", \"tal\", \"vild\", \"veed\", \"vist\", \"vel\", \"fordi\", \"histori\", \"skuld\", \"kun\", \"uden\", \"kald\", \"gaml\", \"ogsaa\", \"nok\", \"hel\", \"maat\", \"mer\", \"ret\", \"kom\", \"ing\", \"endnu\", \"aand\", \"sid\", \"f\\u00f8rst\", \"find\", \"lad\", \"stor\", \"sand\", \"baad\", \"statskirk\", \"skriftklog\", \"apostolisk\", \"luthersk\", \"daabspag\", \"theolog\", \"hellige_skrift\", \"f\\u00e6dernetro\", \"kirkehistorisk\", \"hr_biskop\", \"ny_testament\", \"lutheran\", \"papist\", \"alterbog\", \"evangelisk\", \"mynst\", \"uchrist\", \"sacrament\", \"folkekirk\", \"papistisk\", \"religionsfri\", \"naademidl\", \"sognepr\\u00e6st\", \"prof_claus\", \"verdslige_\\u00f8vr\", \"lindberg\", \"kirkesamfund\", \"forret\", \"indstift\", \"formular\", \"bekjend\", \"nadv\", \"protestantisk\", \"selvmodsig\", \"apostl\", \"evangeli\", \"daab\", \"kirkehistori\", \"morten_luth\", \"evige_liv\", \"bibelsk\", \"christ\", \"gj\\u00e6ld\", \"kirk\", \"troen\", \"gj\\u00f8r\", \"vidnesbyrd\", \"troend\", \"skrift\", \"kjend\", \"christendom\", \"luth\", \"tro\", \"pr\\u00e6st\", \"helligaand\", \"christn\", \"bibel\", \"guddom\", \"aand\", \"ent\", \"krist\", \"kan\", \"ord\", \"sand\", \"maa\", \"aabenbar\", \"lev\", \"naar\", \"kun\", \"hel\", \"mennesk\", \"gud\", \"uden\", \"baad\", \"ogsaa\", \"virk\", \"kund\", \"lig\", \"vild\", \"liv\", \"maat\", \"vel\", \"find\", \"philip\", \"polyb\", \"hertug\", \"pers\", \"plutark\", \"asi\", \"sicili\", \"konstantinopel\", \"diodor\", \"spartan\", \"saladin\", \"arab\", \"c\\u00e6sar\", \"ph\\u00f8nic\", \"robert\", \"angelsachs\", \"normannisk\", \"rikard\", \"spansk\", \"hannibal\", \"borgemest\", \"afrika\", \"byzantin\", \"edvard\", \"tyrus\", \"italiensk\", \"beleiring\", \"darius\", \"kyrus\", \"ferdinand\", \"norman\", \"alexand\", \"herodot\", \"itali\", \"\\u00e6gypt\", \"sammest\", \"atheniens\", \"spani\", \"vilhelm\", \"ii\", \"henrik\", \"rom\", \"keis\", \"korstog\", \"tyran\", \"flaad\", \"grev\", \"romersk\", \"indtog\", \"frankr\", \"tyrk\", \"ber\\u00f8mt\", \"krig\", \"kong\", \"fransk\", \"fik\", \"gjord\", \"gr\\u00e6k\", \"tog\", \"imidlertid\", \"stor\", \"slag\", \"baad\", \"kom\", \"hel\", \"ogsaa\", \"lod\", \"f\\u00f8rst\", \"kun\", \"vel\", \"aar\", \"fald\", \"gik\", \"land\", \"vild\", \"maat\", \"nem\", \"kund\", \"sid\", \"s\\u00f8n\", \"tid\", \"dag\", \"blot\", \"endnu\", \"skuld\", \"folk\", \"gunnar\", \"fagr\", \"sk\\u00e6nk\", \"gerning\", \"pharao\", \"fluk\", \"erkend\", \"odrun\", \"josef\", \"esaia\", \"j\\u00e6rtegn\", \"kain\", \"jomsborg\", \"d\\u00f8\", \"erkebisp\", \"trehundred\", \"ydr\", \"sigvald\", \"migog\", \"\\u00e6delste\", \"sem\", \"askalon\", \"kong_harald\", \"hofm\\u00e6nd\", \"skemt\", \"romaborg\", \"tok\", \"opfostr\", \"ger\", \"sigrun\", \"g\\u00e6st\", \"omd\", \"isak\", \"ful\", \"sigmund\", \"philist\", \"brynhild\", \"gern\", \"nil\", \"fafn\", \"sigurd\", \"siig\", \"tyk\", \"est\", \"ei\", \"norn\", \"k\\u00e6r\", \"gam\", \"r\\u00f8d\", \"ond\", \"kend\", \"odin\", \"tykt\", \"blod\", \"sv\\u00e6rd\", \"valhal\", \"h\\u00f8ie\", \"dit\", \"k\\u00e6mp\", \"gud\", \"kan\", \"jord\", \"aser\", \"maa\", \"kom\", \"vel\", \"eder\", \"hel\", \"kun\", \"gaml\", \"liv\", \"s\\u00f8n\", \"guld\", \"veed\", \"mer\", \"fad\", \"hjert\", \"vild\", \"naar\", \"d\\u00f8d\", \"stor\", \"tro\", \"gudsom\", \"frit_oversat\", \"livets_tr\\u00e6\", \"fuldmang\", \"frel\", \"veiog\", \"n\\u00e6rsom\", \"jesu_christ\", \"propheten_esaia\", \"lak\", \"aandda\", \"l\\u00e6gfolk\", \"jordhvor\", \"tugted\", \"olj\", \"jordaf\", \"snig\", \"hani\", \"derhvor\", \"bibelsprog\", \"gravs\", \"haandhan\", \"sjungemed\", \"naadeja\", \"golgatha\", \"helligaandsom\", \"udbryd\", \"angel\", \"n\\u00e6rd\", \"klemt\", \"sorrigfuld\", \"amen\", \"gl\\u00f8d\", \"jordenog\", \"kl\\u00e6dning\", \"sti\", \"urt\", \"saaat\", \"gud\", \"eder\", \"hvo\", \"hav\", \"hjert\", \"herres_jesu\", \"davidspsalm\", \"tr\\u00f8st\", \"jesu_christi\", \"frels\", \"ving\", \"guldkron\", \"ord\", \"lys\", \"jesu\", \"r\\u00f8st\", \"vandr\", \"tr\\u00e6ngsel\", \"morgenr\\u00f8d\", \"verd\", \"elsk\", \"nat\", \"sj\\u00e6l\", \"barn\", \"fad\", \"tung\", \"himl\", \"ei\", \"dag\", \"naad\", \"vort\", \"jord\", \"aand\", \"jesus\", \"d\\u00f8d\", \"kun\", \"gl\\u00e6d\", \"liv\", \"sand\", \"navn\", \"ja\", \"evig\", \"tal\", \"kan\", \"see\", \"lev\", \"kom\", \"kong_olav\", \"j\\u00f8deland\", \"got\", \"gjukung\", \"hjordis\", \"nedog\", \"gub\", \"svand\", \"k\\u00f8d\", \"fl\\u00f8t\", \"rosenkild\", \"dannebraag\", \"skr\", \"hogn\", \"l\\u00e6ngsl\", \"nattergal\", \"aandsom\", \"marmor\", \"tappert\", \"ingel\", \"thurs\", \"gjuk\", \"fiern\", \"ulf\", \"skiul\", \"godmund\", \"viid\", \"zverg\", \"sandv\", \"se_po\", \"ki\\u00e6mp\", \"gi\\u00e6v\", \"arild\", \"roskild\", \"hannem\", \"dannemark\", \"folkesang\", \"gudrun\", \"svend\", \"christian\", \"niding\", \"saxo\", \"kong\", \"hr\", \"snek\", \"flux\", \"lund\", \"enddog\", \"aldenstund\", \"udi\", \"olav\", \"fugl\", \"ei\", \"riim\", \"mark\", \"sang\", \"ikkun\", \"sagd\", \"frederik\", \"f\\u00e6dr\", \"kom\", \"b\\u00f8lg\", \"ped\", \"s\\u00f8n\", \"danmark\", \"gik\", \"lod\", \"stod\", \"gaml\", \"sagn\", \"dag\", \"sad\", \"fik\", \"mand\", \"ord\", \"kun\", \"tog\", \"land\", \"saae\", \"gav\", \"kan\", \"hav\", \"fald\", \"dansk\", \"hold\", \"ing\", \"stroph\", \"higed\", \"tiljeg\", \"t\\u00e6m\", \"d\\u00f8defor\", \"isefjord\", \"paaskesang\", \"b\\u00f8genes_\\u00f8elad\", \"knop\", \"saaeog\", \"jordmed\", \"favnd\", \"kildevang\", \"d\\u00f8dem\", \"hult\", \"tilog\", \"b\\u00f8m\", \"ki\\u00e6rlighed\", \"kundskabstr\\u00e6\", \"h\\u00f8red\", \"\\u00e6reo\", \"\\u00f8iesaa\", \"morgenhan\", \"fredog\", \"jordjeg\", \"veni\", \"balak\", \"\\u00f8xe\", \"ordnaar\", \"axled\", \"blank\", \"lilj\", \"favr\", \"mon\", \"hersleb\", \"kveld\", \"dit\", \"perl\", \"freia\", \"udi\", \"korsf\\u00e6st\", \"ei\", \"duft\", \"suk\", \"gud\", \"lif\", \"bittr\", \"h\\u00f8ie\", \"himl\", \"brat\", \"h\\u00f8it\", \"grav\", \"hist\", \"stjern\", \"kors\", \"drot\", \"from\", \"saae\", \"kun\", \"hver\", \"gaml\", \"ord\", \"lys\", \"kirk\", \"dybt\", \"hjert\", \"sang\", \"kan\", \"verd\", \"st\\u00f8v\", \"maa\", \"jord\", \"kom\", \"naar\", \"vel\", \"vild\", \"klar\", \"kong\", \"aand\", \"julesang\", \"skjoldi_ve\", \"drotten_vort\", \"brorson\", \"frelsermand\", \"jesus_lillefor\", \"hallelujano\", \"hu_staa\", \"nordahl_brun\", \"v\\u00e6reno\", \"givetd\", \"veitil\", \"daabog\", \"navnsom\", \"julev\", \"paaskemorg\", \"digtil\", \"lindr\", \"demkong\", \"gi\\u00e6stsom\", \"fuldbrag\", \"drothan\", \"jesus_migop\", \"\\u00f8ded\", \"\\u00e6relad\", \"dod\", \"gl\\u00e6deno\", \"d\\u00f8dejesus_stod\", \"haabd\", \"paaskev\", \"gudfad\", \"no\", \"gienl\\u00f8s\", \"melodi\", \"sv\\u00f8bt\", \"fryd\", \"dit\", \"ordsom\", \"himl\", \"engl\", \"frels\", \"jomfru\", \"st\\u00f8v\", \"himmer\", \"gud\", \"drot\", \"helved\", \"sj\\u00e6l\", \"evig\", \"liv\", \"jesus\", \"priis\", \"naad\", \"himmel\", \"d\\u00f8d\", \"soel\", \"vort\", \"lys\", \"aand\", \"kors\", \"jord\", \"hjert\", \"al\", \"verd\", \"ei\", \"s\\u00f8n\", \"jesu\", \"ki\\u00e6r\", \"ord\", \"gi\\u00f8r\", \"kun\", \"fad\", \"synd\", \"kan\", \"lad\", \"kom\", \"stor\", \"ey\", \"katolsk\", \"tend\", \"falst\", \"genstand\", \"kendem\\u00e6rk\", \"rahbek\", \"kaivin\", \"vilibrord\", \"roth\", \"teologi\", \"skougaard\", \"vare_blevn\", \"tendent\", \"kl\", \"bysantinsk\", \"kromvel\", \"nytaarsnat\", \"guldberg\", \"kristjan\", \"volt\\u00e6r\", \"rdr\", \"friderich\", \"vinfred\", \"katolik\", \"h\\u00f8yer\", \"bortkasted\", \"pr\\u00f8js\", \"blant\", \"rovger\", \"jesu_kristi\", \"rejst\", \"kristian\", \"kristendom\", \"tron\", \"blevn\", \"delt\", \"ej\", \"genf\\u00f8d\", \"engelland\", \"rejs\", \"h\\u00f8j\", \"g\\u00f8r\", \"sket\", \"visdom\", \"kejs\", \"kristn\", \"synt\", \"kristi\", \"gaa\", \"krist\", \"k\\u00e6r\", \"se\", \"kristus\", \"ment\", \"religion\", \"steds\", \"s\\u00f8gt\", \"egent\", \"besku\", \"staa\", \"igen\", \"ere\", \"hin\", \"gennem\", \"del\", \"faa\", \"evig\", \"tilv\\u00e6r\", \"grundtv\", \"mul\", \"mennesk\", \"gylfeleg\", \"sidon\", \"persephon\", \"freya\", \"krono\", \"skalda\", \"frig\", \"mythesmed\", \"demet\", \"grimhild\", \"grimnersmaal\", \"assyr\", \"freyas\", \"frey\", \"ravnegald\", \"udgaardslok\", \"nordiske_myth\", \"afskum\", \"sif\", \"ezechia\", \"eiegod\", \"h\\u00f8n\", \"listed\", \"gr\\u00e6ske_myth\", \"mythograph\", \"volsungkvad\", \"nan\", \"lokegluf\", \"gyldent\", \"skjaldemund\", \"unge_her\", \"asgaard\", \"pandora\", \"idun\", \"valhald\", \"pluto\", \"mythisk\", \"heimdal\", \"dam\", \"sleipn\", \"thor\", \"bald\", \"zeus\", \"mj\\u00f8ln\", \"hrungn\", \"myth\", \"dv\\u00e6rg\", \"odin\", \"asern\", \"v\\u00f8luspa\", \"tyr\", \"jet\", \"lok\", \"guldald\", \"poetisk\", \"brag\", \"nordisk\", \"oldsagn\", \"gr\\u00e6sk\", \"nord\", \"sagn\", \"ski\\u00f8nd\", \"gi\\u00f8r\", \"deil\", \"naturligviis\", \"gl\\u00e6deog\", \"dagi\", \"juul\", \"d\\u00f8ded\", \"klard\", \"mundtil\", \"hallelujahan\", \"nedmed\", \"komtil\", \"stord\", \"gl\\u00e6denu\", \"hallelujad\", \"nedi\", \"navnlad\", \"haandtil\", \"ski\\u00f8ndu\", \"haando\", \"paradisd\", \"savnog\", \"barnehjert\", \"frelsernavn\", \"baandog\", \"b\\u00f8lgerd\", \"forstaaeei\", \"natda\", \"navnhan\", \"gl\\u00e6desom\", \"aandmed\", \"saaesom\", \"kimed\", \"uns\", \"himmels_fo\", \"jesus_christ\", \"l\\u00e6rk\", \"forglem\", \"gaaeog\", \"no\", \"glands\", \"d\\u00f8dei\", \"mel\", \"engl\", \"d\\u00f8d\", \"himmelsk\", \"gud\", \"bjerg\", \"helved\", \"al\", \"vort\", \"jesus\", \"grav\", \"liv\", \"ei\", \"hvem\", \"kors\", \"kan\", \"ki\\u00f8d\", \"ord\", \"verd\", \"evig\", \"sj\\u00e6l\", \"brat\", \"aand\", \"lys\", \"godt\", \"jord\", \"h\\u00f8r\", \"vand\", \"himl\", \"kom\", \"see\", \"kun\", \"lad\", \"prosaiske_edda\", \"baldur\", \"gerda\", \"skirn\", \"betydningsfuld\", \"ragnarokr\", \"jotun\", \"gudel\\u00e6r\", \"grimnismal\", \"skebn\", \"skirners_reis\", \"gunlaug\", \"freir\", \"gym\", \"nyrup\", \"strak\", \"vidar\", \"brystd\", \"voluspa\", \"gud_bedregud\", \"symbol\", \"niord\", \"indknib\", \"period\", \"pot\", \"asal\\u00e6r\", \"oldgranskning\", \"f\\u00e6drevi_bed\", \"sch\\u00f8nning\", \"karak\", \"frei\", \"midgard\", \"h\\u00f8dur\", \"alfad\", \"vola\", \"asern\", \"digtning\", \"edda\", \"ki\\u00e6nd\", \"aser\", \"jet\", \"sk\\u00f8nt\", \"odin\", \"snorro\", \"lok\", \"norn\", \"digt\", \"thor\", \"till\\u00e6g\", \"island\", \"besku\", \"hin\", \"gud\", \"ei\", \"kraft\", \"jord\", \"valhal\", \"nord\", \"ere\", \"overs\\u00e6t\", \"herm\", \"antioki\", \"flokked\", \"artemis\", \"vintr\\u00e6\", \"heph\\u00e6sto\", \"leto\", \"n\\u00f8g\", \"guldb\\u00e6g\", \"eifor\", \"skjaldekong\", \"d\\u00f8ds\\u00f8d\", \"n\\u00f8ds\\u00f8d\", \"saaehvor\", \"emma\", \"smaafugl\", \"kviddr\", \"himlend\", \"gudhjem\", \"asta\", \"sukker_helved\", \"opstandeni_dag\", \"f\\u00e6llesliv\", \"stopped\", \"seeog\", \"ordfra\", \"\\u00e6lvedronning\", \"westminst\", \"lysog\", \"l\\u00f8fteog\", \"sl\\u00e6gtog\", \"glemmes_aldr\", \"boemund\", \"apollo\", \"kildev\\u00e6ld\", \"s\\u00f8dt\", \"tysk\", \"liv\", \"gyldenaar\", \"vorher\", \"kvind\", \"fugl\", \"skjald\", \"dannekvind\", \"fru_mari\", \"r\\u00f8nneb\\u00e6ksholm\", \"\\u00f8iehan\", \"fruer\", \"huusm\\u00e6nd\", \"sineog\", \"tidfor\", \"toft\", \"harmei\", \"skamlingsbank\", \"kvindesaa\", \"slesvigsk\", \"falded\", \"forvold\", \"d\\u00f8lgermed\", \"kirkekord\", \"jordvold\", \"kongest\\u00e6vn\", \"siger_kishurra\", \"clara_raphael\", \"svingerfar\", \"mundlag\", \"folketid\", \"fryde_mang\", \"hjertefagre_ord\", \"smertefagr\", \"bondeven\", \"f\\u00f8dselsstund\", \"portog\", \"dannebrogtil\", \"st\\u00e6ndertid\", \"clara\", \"s\\u00f8nderjylland\", \"slesv\", \"b\\u00f8nd\", \"h\\u00f8itydsk\", \"paanyi\", \"dansk\", \"dannebrog\", \"konger\", \"bondestand\", \"daneh\\u00e6r\", \"rigsdag\", \"danmark\", \"dannem\\u00e6nd\", \"modersmaal\", \"tydsk\", \"vort\", \"gammeldansk\", \"gr\\u00f8n\", \"f\\u00e6derneland\", \"kvind\", \"nr\", \"overgang\", \"kv\\u00e6dl\", \"willemo\", \"syrith\", \"himlensaa\", \"kanhvor\", \"naboth\", \"rigesom\", \"tilsaa\", \"haandskr\", \"tranek\\u00e6r\", \"strandkun\", \"sigenaar\", \"ordho\", \"kaarsaa\", \"krophan\", \"stadvi\", \"allesammennu\", \"omsom\", \"gaardsom\", \"moderhun\", \"s\\u00f8jl\", \"athun\", \"gr\\u00e6sb\\u00e6nk\", \"sildem\", \"sj\\u00e6legladhan\", \"stammehan\", \"maaderat\", \"l\\u00e6rtat\", \"himmerignaar\", \"till\\u00e6gi\", \"stokvar\", \"hyttekong\", \"b\\u00f8geskovesom\", \"maglegaardhvor\", \"t\\u00e6nkerd\", \"gaaerm\", \"jordderfor\", \"glemmes_aldr\", \"prindses\", \"snedorf\", \"mester_and\", \"fadervor\", \"fortabt\", \"aando\", \"aandsaa\", \"jordei\", \"dvaled\", \"himmeld\\u00f8r\", \"haandfor\", \"gaadesom\", \"sjungesom\", \"s\\u00f8dog\", \"nedb\\u00f8i\", \"svagesom\", \"haandenm\", \"fader_godsom\", \"\\u00e6refor\", \"dogmed\", \"givetaf\", \"morgenr\\u00f8deda\", \"\\u00f8sterlid\", \"gladthi\", \"igienog\", \"raabenpaa\", \"raabeog\", \"daaben\", \"udat\", \"morgenr\\u00f8defor\", \"krandsog\", \"baandtil\", \"skovog\", \"signed\", \"ny_psalmebog\", \"fagt\", \"korsets_tr\\u00e6\", \"blaam\\u00e6nd\", \"sagog\", \"korsf\\u00e6stedenu\", \"v\\u00e6regud\", \"fanekorsban\", \"runersom\", \"forladerpaa\", \"jorderigog\", \"frithan\", \"brask\", \"kildejakob\", \"rakel\", \"grueme\", \"skueplant\", \"h\\u00e6versei\", \"hvidthold\", \"skridtvis\", \"fritfiend\", \"volm\\u00e6r\", \"faard\", \"topda\", \"indgi\\u00f8d\", \"flyvem\", \"skadesaa\", \"ordhvem\", \"palo\", \"hurraraab\", \"pr\\u00e6sterog\", \"columbus\", \"banemed\", \"delphi\", \"slagterb\\u00e6nk\", \"guldsom\", \"drabant\", \"l\\u00f8nraad_sl\", \"syl\", \"bolt\", \"udfor\", \"moderog\", \"l\\u00f8nfor\", \"gavi\", \"herod\", \"hasted\", \"derog\", \"tr\\u00f8std\", \"h\\u00e6nderog\", \"saal\", \"brageog\", \"lided\", \"dagtil\", \"veisom\", \"mundi\", \"stavsom\", \"l\\u00f8nmed\", \"roog\", \"natugl\", \"togd\", \"n\\u00e6vneog\", \"faarhan\", \"forgaaerd\", \"japh\", \"kreta\", \"melodi\", \"nedfo\", \"josva\", \"spaaet\", \"bedsted\", \"skeet\", \"canaan\", \"aandtil\", \"kv\\u00e6r\", \"haandsaa\", \"stigeop\", \"rahab\", \"gyldenaarmed\", \"laus\", \"n\\u00e6rsaa\", \"kolding\", \"kongekron\", \"syndsom\", \"mellemslesv\", \"livsfyrst\", \"jordlyd\", \"r\\u00f8stfor\", \"sprogog\", \"sjungetil\", \"dannelsessprog\", \"barraba\", \"sjungero\", \"ungm\\u00f8\", \"voldend\", \"kildegud\", \"vidtat\", \"sj\\u00e6lthi\", \"axelstadtil\", \"lygted\", \"drotev\", \"byggeri\", \"tuensom\", \"indeja\", \"k\\u00e6kt\", \"paasaa\", \"j\\u00f8defolk\", \"sukkerr\\u00f8r\", \"jordensaa\", \"rethan\", \"tidsom\", \"givetat\", \"tilbage\", \"s\\u00f8njeg\", \"svigei\", \"saamed\", \"letsom\", \"matthisonhans\", \"\\u00f8resaa\", \"herreat\", \"sporaf\", \"omsonstselv\", \"ikkei\", \"fagei\", \"sendetil\", \"gl\\u00f8dem\", \"b\\u00f8lgerei\", \"mundepaa\", \"flidfor\", \"b\\u00e6gtehimmelbr\\u00f8d\", \"betydersj\\u00e6l\", \"m\\u00e6tlad\", \"ki\\u00f8dskjul\", \"ikkeud\", \"faresand\", \"drikkeblod\", \"br\\u00f8daf\", \"bryderaltid\", \"\\u00e6gte\", \"taaberverd\", \"strandesand\", \"sandefalsk\", \"bordethvor\", \"baresand\", \"retbr\\u00f8d\"], \"Total\": [9434.0, 2059.0, 6606.0, 4814.0, 5774.0, 10871.0, 3873.0, 3225.0, 9854.0, 3270.0, 2415.0, 1428.0, 2927.0, 1810.0, 3125.0, 735.0, 921.0, 2483.0, 2590.0, 6005.0, 3230.0, 5233.0, 1810.0, 2510.0, 2000.0, 1016.0, 3373.0, 2471.0, 1170.0, 1334.0, 136.13124084472656, 133.23126220703125, 109.13194274902344, 98.34336853027344, 101.56421661376953, 87.47463989257812, 76.2900161743164, 74.75936126708984, 72.52537536621094, 72.27635955810547, 61.75453186035156, 61.456050872802734, 59.348731994628906, 97.19576263427734, 56.295196533203125, 56.05118942260742, 54.85771179199219, 52.149742126464844, 51.49136734008789, 50.34086608886719, 50.01429748535156, 49.966304779052734, 47.46520233154297, 46.97151565551758, 46.88185119628906, 46.74191665649414, 45.68621826171875, 44.781471252441406, 43.92552947998047, 43.33631896972656, 67.3577880859375, 48.25759506225586, 433.72979736328125, 230.53677368164062, 397.37451171875, 132.8418426513672, 203.3196258544922, 110.90760040283203, 219.76235961914062, 209.72927856445312, 2059.075439453125, 386.4620666503906, 1428.5379638671875, 178.6954345703125, 377.5543212890625, 1810.7440185546875, 1227.0076904296875, 209.38961791992188, 604.3151245117188, 198.24606323242188, 844.3330078125, 429.3830871582031, 1070.6578369140625, 472.9247741699219, 856.351318359375, 4208.7060546875, 437.9806823730469, 10871.48828125, 3663.1220703125, 554.1198120117188, 2051.162841796875, 6723.00048828125, 5605.5478515625, 2255.3896484375, 668.0923461914062, 9434.869140625, 6005.23828125, 2357.8173828125, 5467.2314453125, 2310.893310546875, 1531.0318603515625, 5797.205078125, 2295.487060546875, 1637.23291015625, 3831.856689453125, 9854.5703125, 3920.38671875, 3178.01220703125, 3473.298095703125, 5255.81787109375, 2274.248291015625, 6791.22607421875, 4235.01708984375, 2262.256591796875, 3448.0087890625, 5233.92626953125, 3301.193603515625, 2616.218994140625, 5774.65234375, 2848.159912109375, 3662.63623046875, 2855.069580078125, 2791.6142578125, 4120.24658203125, 3373.546142578125, 3776.29150390625, 579.4674682617188, 436.8095397949219, 477.02923583984375, 329.8222961425781, 273.1157531738281, 197.32318115234375, 166.11524963378906, 154.93727111816406, 152.5737762451172, 151.83128356933594, 147.25367736816406, 126.20005798339844, 123.1373519897461, 119.05751037597656, 108.52559661865234, 107.01184844970703, 98.15200805664062, 95.71967315673828, 93.86671447753906, 85.6910171508789, 81.7159423828125, 80.7004623413086, 79.45426177978516, 77.44967651367188, 74.01559448242188, 73.57535552978516, 67.17032623291016, 65.62736511230469, 61.596893310546875, 61.35979461669922, 423.10614013671875, 320.429443359375, 191.63400268554688, 86.65689849853516, 513.8267211914062, 198.24949645996094, 1232.8094482421875, 360.8599548339844, 254.79156494140625, 219.51771545410156, 134.74896240234375, 1407.9110107421875, 199.34243774414062, 3125.382080078125, 1514.9185791015625, 1291.658935546875, 907.151123046875, 473.1976623535156, 1560.2076416015625, 497.38055419921875, 1140.1077880859375, 792.9263305664062, 2471.305419921875, 1590.8441162109375, 505.36083984375, 1122.60546875, 626.9740600585938, 874.0842895507812, 5774.65234375, 2272.71533203125, 921.2662353515625, 10871.48828125, 4814.5361328125, 3373.546142578125, 6005.23828125, 1909.87060546875, 2590.359130859375, 6723.00048828125, 9854.5703125, 6791.22607421875, 2510.297119140625, 6606.53125, 3920.38671875, 3776.29150390625, 5255.81787109375, 2326.28125, 5605.5478515625, 2330.84033203125, 5467.2314453125, 3873.617431640625, 4235.01708984375, 5797.205078125, 2855.069580078125, 249.2532501220703, 238.26116943359375, 205.9285888671875, 211.32498168945312, 166.03875732421875, 157.85177612304688, 142.53526306152344, 145.15078735351562, 129.9561309814453, 124.45451354980469, 113.6308822631836, 109.30412292480469, 107.00554656982422, 105.7103500366211, 105.33160400390625, 105.1299819946289, 103.22377014160156, 102.17473602294922, 115.78450775146484, 100.8427505493164, 100.66423034667969, 99.5017318725586, 89.49921417236328, 87.88368225097656, 86.24562072753906, 85.2253646850586, 84.58682250976562, 83.48466491699219, 83.14032745361328, 80.82342529296875, 184.1173858642578, 272.4749450683594, 208.5398406982422, 345.3509826660156, 528.9578247070312, 135.99673461914062, 127.102783203125, 257.15252685546875, 171.1728057861328, 244.28208923339844, 214.51878356933594, 1500.18896484375, 577.393798828125, 333.0768127441406, 252.732421875, 228.56259155273438, 168.32684326171875, 659.9180908203125, 207.80792236328125, 309.8941650390625, 232.6509552001953, 536.2135009765625, 662.7470703125, 3225.146240234375, 389.6558837890625, 1915.181884765625, 1683.0611572265625, 816.5780029296875, 1145.4202880859375, 1505.432373046875, 4120.24658203125, 774.4988403320312, 3776.29150390625, 5233.92626953125, 6791.22607421875, 5255.81787109375, 1513.4188232421875, 3662.63623046875, 9854.5703125, 5797.205078125, 1618.935302734375, 2079.6875, 1527.4342041015625, 1561.1064453125, 5467.2314453125, 4235.01708984375, 1843.2523193359375, 5605.5478515625, 2848.159912109375, 2110.166748046875, 3663.1220703125, 3230.614990234375, 2940.3359375, 2616.218994140625, 3831.856689453125, 4208.7060546875, 79.58556365966797, 77.07730865478516, 57.71022033691406, 53.1569709777832, 70.7583236694336, 39.32798385620117, 36.056983947753906, 36.03751754760742, 31.436267852783203, 29.607484817504883, 29.239633560180664, 27.592926025390625, 26.037755966186523, 24.400022506713867, 24.094928741455078, 24.00312614440918, 23.93490982055664, 22.806203842163086, 22.460418701171875, 21.69788932800293, 21.424100875854492, 21.005334854125977, 20.777090072631836, 20.728633880615234, 18.809715270996094, 18.451547622680664, 18.40989112854004, 18.40655517578125, 18.283464431762695, 18.18868064880371, 39.8405876159668, 18.45411491394043, 38.23636245727539, 42.38043212890625, 74.12869262695312, 27.274343490600586, 155.23072814941406, 76.79307556152344, 36.45268630981445, 38.8475456237793, 291.9815979003906, 76.64859771728516, 214.8015594482422, 126.09720611572266, 9434.869140625, 232.4191131591797, 264.7019348144531, 86.37722778320312, 236.29879760742188, 401.14666748046875, 158.6564178466797, 670.035888671875, 99.7394027709961, 636.8500366210938, 694.116455078125, 183.80245971679688, 771.5901489257812, 1170.1207275390625, 885.6702880859375, 6606.53125, 10871.48828125, 2000.2906494140625, 229.28041076660156, 6005.23828125, 5233.92626953125, 5797.205078125, 1004.2697143554688, 6791.22607421875, 9854.5703125, 3473.298095703125, 3873.617431640625, 2110.166748046875, 534.072021484375, 2310.893310546875, 2262.256591796875, 1604.5377197265625, 2415.761474609375, 5467.2314453125, 6723.00048828125, 3270.433349609375, 4120.24658203125, 2471.305419921875, 39.38520812988281, 26.529155731201172, 24.78520393371582, 22.051136016845703, 20.904993057250977, 16.389562606811523, 15.557917594909668, 14.50503158569336, 14.444913864135742, 14.249493598937988, 14.485617637634277, 13.124837875366211, 12.76707649230957, 12.532079696655273, 12.47586441040039, 12.389046669006348, 12.10971450805664, 12.047107696533203, 11.97268295288086, 11.959300994873047, 11.931124687194824, 11.88742733001709, 11.862305641174316, 11.776309967041016, 11.729716300964355, 11.728517532348633, 11.55088996887207, 11.536240577697754, 11.516844749450684, 11.373416900634766, 13.160035133361816, 80.00799560546875, 97.67390441894531, 13.691825866699219, 21.113691329956055, 34.85691833496094, 75.8143539428711, 38.866363525390625, 6606.53125, 1004.2697143554688, 257.368408203125, 958.332763671875, 2415.761474609375, 118.98294830322266, 39.623077392578125, 721.1964721679688, 104.29721069335938, 770.6758422851562, 260.0868835449219, 22.990442276000977, 4814.5361328125, 1810.5333251953125, 593.228515625, 486.6809387207031, 249.0234375, 75.81085968017578, 86.96975708007812, 2927.658447265625, 522.5429077148438, 464.3034362792969, 895.16748046875, 443.92510986328125, 1604.5377197265625, 823.13671875, 971.7332763671875, 9434.869140625, 3230.614990234375, 667.1251831054688, 1119.3726806640625, 2000.2906494140625, 5774.65234375, 629.1785888671875, 3270.433349609375, 9854.5703125, 1004.3792724609375, 3873.617431640625, 3373.546142578125, 2290.43408203125, 1614.0089111328125, 1334.2822265625, 2357.8173828125, 10871.48828125, 2053.03955078125, 2590.359130859375, 5233.92626953125, 47.568199157714844, 47.36375045776367, 36.570960998535156, 36.24271774291992, 31.91493034362793, 30.994474411010742, 28.204877853393555, 28.12518882751465, 27.541486740112305, 27.357690811157227, 26.7520694732666, 26.12981605529785, 24.857263565063477, 24.63402557373047, 24.08084487915039, 23.561809539794922, 23.448993682861328, 21.822280883789062, 21.284957885742188, 21.192014694213867, 21.175769805908203, 20.97164535522461, 20.422199249267578, 20.040386199951172, 19.452651977539062, 19.31861686706543, 19.219402313232422, 18.806055068969727, 18.717777252197266, 18.66170883178711, 52.20697784423828, 31.942277908325195, 38.342403411865234, 115.25914764404297, 49.352081298828125, 374.9040832519531, 24.68754768371582, 150.51771545410156, 166.6322021484375, 155.38629150390625, 37.63453674316406, 324.3927001953125, 3225.146240234375, 161.55213928222656, 89.21874237060547, 116.1117172241211, 109.18553924560547, 68.2520751953125, 79.35030364990234, 311.1137390136719, 85.0215835571289, 360.31915283203125, 9434.869140625, 76.57181549072266, 443.62432861328125, 827.4342651367188, 201.92938232421875, 1260.7178955078125, 384.88116455078125, 661.1207885742188, 5233.92626953125, 319.74761962890625, 174.57228088378906, 2110.166748046875, 1428.5379638671875, 1527.4342041015625, 1513.4188232421875, 1300.9375, 3473.298095703125, 446.0037536621094, 3230.614990234375, 389.9736633300781, 1915.181884765625, 1309.199951171875, 4814.5361328125, 9854.5703125, 1145.4202880859375, 1561.1064453125, 1183.956787109375, 1364.806396484375, 10871.48828125, 958.332763671875, 2079.6875, 2059.075439453125, 1822.096435546875, 3301.193603515625, 45.88842010498047, 30.246734619140625, 26.011104583740234, 23.401294708251953, 19.170612335205078, 18.568500518798828, 16.936687469482422, 16.895484924316406, 16.71775245666504, 16.08629035949707, 15.980340003967285, 15.785987854003906, 15.77278995513916, 15.259214401245117, 15.195978164672852, 15.193673133850098, 15.152314186096191, 15.150550842285156, 15.114971160888672, 14.865408897399902, 14.831003189086914, 14.733367919921875, 14.690446853637695, 14.510193824768066, 14.19428539276123, 13.780233383178711, 13.547450065612793, 13.290329933166504, 13.223976135253906, 13.133408546447754, 71.43546295166016, 24.627849578857422, 88.81300354003906, 524.2422485351562, 31.512680053710938, 32.544742584228516, 1170.1207275390625, 59.31930923461914, 57.218048095703125, 311.1137390136719, 79.71754455566406, 9434.869140625, 87.00865936279297, 308.30474853515625, 6606.53125, 260.5114440917969, 75.4103012084961, 771.5901489257812, 971.7332763671875, 267.2225646972656, 788.1205444335938, 831.776611328125, 233.81475830078125, 248.31948852539062, 462.85894775390625, 264.7893371582031, 286.60675048828125, 1183.956787109375, 9854.5703125, 1300.055419921875, 3473.298095703125, 4814.5361328125, 1810.5333251953125, 3125.382080078125, 514.137451171875, 2415.761474609375, 827.4342651367188, 10871.48828125, 2927.658447265625, 479.1593017578125, 6005.23828125, 2000.2906494140625, 5233.92626953125, 6723.00048828125, 5797.205078125, 5467.2314453125, 1289.2105712890625, 3225.146240234375, 5774.65234375, 30.398290634155273, 30.146677017211914, 30.146677017211914, 24.075206756591797, 23.116134643554688, 22.542083740234375, 19.76029396057129, 15.708881378173828, 15.199814796447754, 13.381121635437012, 12.084007263183594, 11.989129066467285, 11.767757415771484, 11.75961685180664, 11.461173057556152, 11.264683723449707, 11.166720390319824, 11.066547393798828, 10.829451560974121, 10.80528450012207, 10.607994079589844, 10.567305564880371, 10.464073181152344, 10.664859771728516, 9.794828414916992, 9.592368125915527, 9.553617477416992, 9.390498161315918, 9.289237022399902, 9.23262882232666, 110.38926696777344, 391.073486328125, 30.473400115966797, 24.610000610351562, 43.3833122253418, 362.3038330078125, 1170.1207275390625, 57.203590393066406, 971.7332763671875, 295.66748046875, 770.6758422851562, 126.25726318359375, 479.1593017578125, 178.4127197265625, 6606.53125, 264.7893371582031, 325.0038146972656, 895.16748046875, 1334.2822265625, 3873.617431640625, 629.1785888671875, 242.65992736816406, 667.1251831054688, 489.5596923828125, 3270.433349609375, 203.51695251464844, 1119.3726806640625, 1810.5333251953125, 5774.65234375, 462.85894775390625, 2000.2906494140625, 2415.761474609375, 2483.15478515625, 2927.658447265625, 9434.869140625, 2110.166748046875, 593.228515625, 852.6760864257812, 4814.5361328125, 2590.406005859375, 9854.5703125, 1604.5377197265625, 1138.8448486328125, 10871.48828125, 2791.6142578125, 5233.92626953125, 4120.24658203125, 68.95397186279297, 31.775157928466797, 57.53128433227539, 24.185617446899414, 23.635387420654297, 23.115978240966797, 21.910381317138672, 21.49571990966797, 18.773160934448242, 18.367013931274414, 17.754674911499023, 17.476606369018555, 16.40696907043457, 15.986618041992188, 14.608818054199219, 14.235565185546875, 14.235565185546875, 13.785872459411621, 13.551968574523926, 36.35453414916992, 12.776897430419922, 12.420526504516602, 12.420526504516602, 12.420526504516602, 12.420526504516602, 11.513004302978516, 11.030984878540039, 10.605485916137695, 10.605486869812012, 10.605486869812012, 32.54277801513672, 37.17396926879883, 55.47511291503906, 528.299560546875, 109.73592376708984, 22.020706176757812, 42.51953125, 148.11830139160156, 36.20634078979492, 107.43324279785156, 51.5074462890625, 85.05474853515625, 209.26722717285156, 45.51371383666992, 74.5841064453125, 46.19612121582031, 340.5167236328125, 128.12652587890625, 286.9949645996094, 150.46946716308594, 921.2662353515625, 264.7019348144531, 328.8120422363281, 231.67630004882812, 82.66006469726562, 231.39198303222656, 196.72727966308594, 143.6900177001953, 149.35769653320312, 114.6448745727539, 188.25355529785156, 132.63999938964844, 1016.5986328125, 594.9667358398438, 149.79441833496094, 1042.7125244140625, 536.9138793945312, 1334.2822265625, 193.91806030273438, 527.1585693359375, 345.34185791015625, 2510.297119140625, 87.23844909667969, 70.671630859375, 61.49713897705078, 57.78068542480469, 43.71490478515625, 89.40184783935547, 38.01939392089844, 34.61867141723633, 33.90939712524414, 29.612443923950195, 28.629056930541992, 27.863576889038086, 26.93425750732422, 26.599206924438477, 24.038631439208984, 23.350543975830078, 23.230152130126953, 22.769807815551758, 23.488195419311523, 21.82469367980957, 26.906509399414062, 17.46076202392578, 16.59510040283203, 16.17498779296875, 15.987173080444336, 15.743691444396973, 14.773487091064453, 14.639331817626953, 14.114943504333496, 14.032949447631836, 80.72657775878906, 82.8853530883789, 44.54579162597656, 78.65962982177734, 50.129547119140625, 82.36402893066406, 124.14823150634766, 89.08084869384766, 735.7593383789062, 58.97784423828125, 368.4609375, 156.2294158935547, 149.57669067382812, 80.51697540283203, 42.8389892578125, 326.3358154296875, 156.9217071533203, 670.035888671875, 274.13848876953125, 81.96299743652344, 71.00281524658203, 326.86846923828125, 407.62274169921875, 81.92700958251953, 412.615966796875, 112.50325775146484, 555.34521484375, 133.9281768798828, 775.3147583007812, 1810.7440185546875, 446.0037536621094, 1137.0194091796875, 2590.406005859375, 355.0825500488281, 805.8323974609375, 15.567726135253906, 13.34266185760498, 13.315206527709961, 12.30362606048584, 11.933310508728027, 11.639508247375488, 11.348478317260742, 11.236407279968262, 11.51113224029541, 10.167908668518066, 9.94363784790039, 9.430033683776855, 9.414849281311035, 9.282683372497559, 9.14011287689209, 9.116340637207031, 9.103852272033691, 8.920275688171387, 8.882336616516113, 8.817461967468262, 8.816696166992188, 8.797074317932129, 8.671601295471191, 8.503935813903809, 8.455737113952637, 8.319458961486816, 8.316713333129883, 8.265419960021973, 8.054409980773926, 7.960743427276611, 15.47745132446289, 11.447175979614258, 16.05364418029785, 26.954845428466797, 41.284175872802734, 17.744277954101562, 391.073486328125, 31.046401977539062, 21.227489471435547, 27.54818344116211, 295.66748046875, 3270.433349609375, 356.4118347167969, 6606.53125, 395.2401428222656, 325.0038146972656, 2483.15478515625, 1119.3726806640625, 629.1785888671875, 831.776611328125, 3873.617431640625, 9434.869140625, 1780.0780029296875, 462.85894775390625, 10871.48828125, 274.4122314453125, 4814.5361328125, 2927.658447265625, 1334.2822265625, 895.16748046875, 267.2225646972656, 5774.65234375, 1810.5333251953125, 1972.1954345703125, 2000.2906494140625, 1867.048095703125, 793.6077270507812, 971.7332763671875, 5233.92626953125, 2053.03955078125, 9854.5703125, 2791.6142578125, 45.8564338684082, 44.44059753417969, 37.94025802612305, 35.3762321472168, 27.81340217590332, 25.592039108276367, 25.15777587890625, 25.06403350830078, 20.3557186126709, 17.91766929626465, 16.608163833618164, 13.880961418151855, 12.975545883178711, 12.882951736450195, 12.44868278503418, 12.424080848693848, 11.673776626586914, 11.561423301696777, 11.544734001159668, 11.468241691589355, 33.54362106323242, 10.677947044372559, 10.264336585998535, 10.128838539123535, 10.038578033447266, 44.4426383972168, 9.662406921386719, 9.660664558410645, 9.554451942443848, 9.436052322387695, 38.14641189575195, 17.012678146362305, 14.359801292419434, 53.23857498168945, 63.53558349609375, 274.13848876953125, 45.834205627441406, 121.94956970214844, 27.453125, 229.28041076660156, 326.86846923828125, 50.40918731689453, 670.035888671875, 138.8562774658203, 407.62274169921875, 232.4191131591797, 786.9654541015625, 368.4609375, 149.02145385742188, 163.94606018066406, 114.6448745727539, 594.9667358398438, 6606.53125, 9434.869140625, 1700.14599609375, 2000.2906494140625, 183.80245971679688, 1810.7440185546875, 1016.5986328125, 281.2966003417969, 40.913970947265625, 30.539012908935547, 16.308897018432617, 13.198472023010254, 13.1422119140625, 12.176568031311035, 11.877695083618164, 11.872262954711914, 10.460892677307129, 9.228843688964844, 8.589618682861328, 8.589618682861328, 8.589618682861328, 8.344231605529785, 8.267504692077637, 7.9378275871276855, 7.830442428588867, 7.648995876312256, 7.460299015045166, 6.954063415527344, 6.6718339920043945, 6.6718339920043945, 6.555721282958984, 6.352061748504639, 6.324531078338623, 6.32401180267334, 6.31885290145874, 6.291079521179199, 6.159761905670166, 6.159761905670166, 6.159761905670166, 32.55854034423828, 56.859134674072266, 31.1721248626709, 15.336498260498047, 196.15426635742188, 271.1240234375, 3873.617431640625, 39.155609130859375, 100.43781280517578, 457.22869873046875, 360.31915283203125, 605.021240234375, 77.00457763671875, 13.891762733459473, 8.606955528259277, 6.295384883880615, 5.613578796386719, 5.452740669250488, 5.060442924499512, 4.9537434577941895, 4.162511348724365, 3.839453935623169, 3.83945369720459, 3.70304012298584, 7.041940212249756, 3.494595766067505, 3.4884440898895264, 3.42724871635437, 3.4065873622894287, 3.196117401123047, 3.196117401123047, 3.1955854892730713, 3.123126745223999, 3.058039903640747, 3.058039903640747, 2.986778736114502, 2.8451077938079834, 2.8451077938079834, 2.8451077938079834, 2.8292322158813477, 2.8055899143218994, 2.78224778175354, 2.78224778175354, 7.507648468017578, 5.645496368408203, 13.059950828552246, 59.10829162597656, 138.82872009277344, 18.35549545288086, 7.084268569946289, 2059.075439453125, 43.3907470703125, 51.8483772277832, 12.007960319519043, 8.472380638122559, 51.57645797729492, 1428.5379638671875, 98.22855377197266, 497.38812255859375, 730.4713134765625, 1119.3726806640625, 24.03091049194336, 157.8079833984375, 95.09162139892578, 457.22869873046875, 80.96448516845703, 100.82099914550781, 4.912442207336426, 4.054508686065674, 4.054508209228516, 3.9358737468719482, 2.9666271209716797, 2.767606258392334, 2.724254846572876, 2.3524155616760254, 2.338639259338379, 2.338639259338379, 2.2465710639953613, 2.2465710639953613, 2.2465710639953613, 2.2465710639953613, 2.1839659214019775, 2.1685218811035156, 2.1685218811035156, 2.0802671909332275, 2.000072479248047, 1.9234504699707031, 1.9096723794937134, 1.9096722602844238, 1.9096722602844238, 1.9096728563308716, 1.754999041557312, 1.7296639680862427, 1.7296644449234009, 1.6965209245681763, 1.650263786315918, 1.649154782295227, 1.649154782295227, 1.649154782295227, 1.649154782295227, 1.649154782295227, 1.649154782295227, 1.6491546630859375, 1.649154782295227, 32.55854034423828, 80.55522918701172, 5.5498175621032715, 6.937023162841797, 9.912687301635742, 6.56519889831543, 6.162946701049805, 5.104276180267334, 4.571183681488037, 3.9578771591186523, 4.0539350509643555, 3.8976008892059326, 3.6242620944976807, 3.620554208755493, 3.459791898727417, 3.4578521251678467, 3.4203429222106934, 3.415081739425659, 3.238290548324585, 3.2111623287200928, 3.1459829807281494, 3.05206036567688, 3.0044009685516357, 2.977574348449707, 2.9772727489471436, 2.950744390487671, 2.9034063816070557, 2.9034063816070557, 2.9034063816070557, 2.851177930831909, 2.8436386585235596, 2.834390878677368, 2.8025290966033936, 2.8017706871032715, 6.36919641494751, 18.128095626831055, 4.66233491897583, 5.73215389251709, 5.037933349609375, 4.688562870025635, 3.315800905227661, 3.0579566955566406, 2.9104862213134766, 2.6489570140838623, 2.6472911834716797, 2.589022159576416, 2.4398858547210693, 2.4129741191864014, 2.338557243347168, 2.338557243347168, 2.338557481765747, 2.338557481765747, 2.338557481765747, 2.338557481765747, 2.338557481765747, 2.338557481765747, 2.2650949954986572, 2.178356409072876, 2.1025750637054443, 2.0756633281707764, 2.0170936584472656, 2.001246213912964, 2.001246452331543, 1.897828459739685, 1.8558316230773926, 1.8410452604293823, 1.8060775995254517, 2.4867124557495117, 9.12692928314209, 4.244596004486084, 4.126067638397217, 3.958350419998169, 3.679631233215332, 3.592411994934082, 3.480478048324585, 3.315906286239624, 3.2747409343719482, 3.196226119995117, 3.1746206283569336, 31.06437873840332, 3.081989288330078, 3.06689453125, 2.848245620727539, 2.5856826305389404, 2.581946611404419, 2.5083189010620117, 2.4654641151428223, 2.4647860527038574, 2.4504637718200684, 2.404348850250244, 2.3994412422180176, 2.3994414806365967, 2.399441719055176, 2.253535747528076, 2.2414650917053223, 2.166469097137451, 2.097811222076416, 2.097811222076416, 3.29715633392334, 5.773151397705078, 24.610000610351562, 4.390894412994385, 59.010223388671875, 65.52597045898438, 3.845125198364258, 127.37094116210938, 6.502954959869385, 2.8669419288635254, 2.3801002502441406, 2.3014023303985596, 2.278395414352417, 2.1508119106292725, 1.6910758018493652, 1.5937405824661255, 1.5252151489257812, 1.5252152681350708, 1.5252158641815186, 1.4539926052093506, 1.4520742893218994, 1.4520742893218994, 1.4390448331832886, 1.359761118888855, 1.352874755859375, 1.3136780261993408, 1.2862136363983154, 1.286213755607605, 1.243146538734436, 1.2339872121810913, 1.2339872121810913, 1.1739301681518555, 1.1483845710754395, 1.1334367990493774, 1.133436679840088, 1.1078908443450928, 1.1078908443450928, 1.0942399501800537, 1.0942397117614746, 1.0942397117614746, 10.93085765838623, 4.21251106262207, 14.907708168029785, 2.0784363746643066, 1.8456799983978271, 1.648535966873169, 1.608720064163208, 1.5232027769088745, 1.4377539157867432, 1.4117381572723389, 1.3811986446380615, 1.3661613464355469, 1.336313247680664, 1.3336408138275146, 1.3257577419281006, 1.3257577419281006, 1.2866504192352295, 1.2717338800430298, 1.271735668182373, 1.254693865776062, 1.218276023864746, 1.2181156873703003, 1.2012367248535156, 1.2006700038909912, 1.1472127437591553, 1.1466460227966309, 1.1466460227966309, 1.1466460227966309, 1.1466460227966309, 1.1466460227966309, 1.1466460227966309, 1.1466460227966309, 1.1466460227966309, 1.1466460227966309, 1.1466460227966309, 1.1466460227966309, 1.1466460227966309, 1.1466460227966309, 1.1466460227966309, 1.1466460227966309, 1.1466460227966309], \"loglift\": [30.0, 29.0, 28.0, 27.0, 26.0, 25.0, 24.0, 23.0, 22.0, 21.0, 20.0, 19.0, 18.0, 17.0, 16.0, 15.0, 14.0, 13.0, 12.0, 11.0, 10.0, 9.0, 8.0, 7.0, 6.0, 5.0, 4.0, 3.0, 2.0, 1.0, 0.9577000141143799, 0.9575999975204468, 0.9567000269889832, 0.9560999870300293, 0.9559999704360962, 0.9553999900817871, 0.9544000029563904, 0.954200029373169, 0.9539999961853027, 0.9539999961853027, 0.9526000022888184, 0.9526000022888184, 0.9521999955177307, 0.9517999887466431, 0.95169997215271, 0.95169997215271, 0.9513999819755554, 0.9509000182151794, 0.9506999850273132, 0.9505000114440918, 0.9503999948501587, 0.9503999948501587, 0.9498000144958496, 0.9496999979019165, 0.9495999813079834, 0.9495999813079834, 0.9492999911308289, 0.9491000175476074, 0.9488000273704529, 0.9485999941825867, 0.9466999769210815, 0.9480000138282776, 0.9258999824523926, 0.932200014591217, 0.9161999821662903, 0.9337000250816345, 0.9239000082015991, 0.9326000213623047, 0.9172999858856201, 0.9021000266075134, 0.8097000122070312, 0.8622000217437744, 0.7893999814987183, 0.8912000060081482, 0.836899995803833, 0.7172999978065491, 0.7440000176429749, 0.8648999929428101, 0.7864999771118164, 0.8654000163078308, 0.7490000128746033, 0.8001999855041504, 0.7037000060081482, 0.7767999768257141, 0.7042999863624573, 0.5131999850273132, 0.7700999975204468, 0.38199999928474426, 0.5055999755859375, 0.7396000027656555, 0.5679000020027161, 0.4088999927043915, 0.4275999963283539, 0.5498999953269958, 0.7105000019073486, 0.3361999988555908, 0.3986000120639801, 0.531000018119812, 0.375900000333786, 0.5115000009536743, 0.5773000121116638, 0.3384000062942505, 0.4975000023841858, 0.5533000230789185, 0.37860000133514404, 0.18700000643730164, 0.3684999942779541, 0.40470001101493835, 0.3833000063896179, 0.2842999994754791, 0.47699999809265137, 0.16820000112056732, 0.2935999929904938, 0.4625000059604645, 0.33399999141693115, 0.19619999825954437, 0.32350000739097595, 0.4025999903678894, 0.011599999852478504, 0.3603000044822693, 0.2184000015258789, 0.3483000099658966, 0.3605000078678131, 0.07339999824762344, 0.19480000436306, 0.04960000142455101, 1.6693999767303467, 1.669100046157837, 1.6686999797821045, 1.6686999797821045, 1.6683000326156616, 1.6675000190734863, 1.6670000553131104, 1.666700005531311, 1.666700005531311, 1.666700005531311, 1.6664999723434448, 1.6658999919891357, 1.6657999753952026, 1.6655999422073364, 1.6651999950408936, 1.6650999784469604, 1.6644999980926514, 1.6643999814987183, 1.6642999649047852, 1.663699984550476, 1.6634000539779663, 1.6633000373840332, 1.6632000207901, 1.6629999876022339, 1.6627000570297241, 1.662600040435791, 1.6619000434875488, 1.6617000102996826, 1.6611000299453735, 1.6611000299453735, 1.6550999879837036, 1.656599998474121, 1.6575000286102295, 1.6608999967575073, 1.6126999855041504, 1.6369999647140503, 1.5592999458312988, 1.6081000566482544, 1.6205999851226807, 1.6208000183105469, 1.642300009727478, 1.5228999853134155, 1.6139999628067017, 1.410599946975708, 1.465000033378601, 1.4709999561309814, 1.4871000051498413, 1.5434999465942383, 1.4177000522613525, 1.5154999494552612, 1.419600009918213, 1.4581999778747559, 1.2972999811172485, 1.3348000049591064, 1.4744000434875488, 1.3086999654769897, 1.3990999460220337, 1.3258999586105347, 0.8388000130653381, 1.029099941253662, 1.2071000337600708, 0.4578000009059906, 0.7023000121116638, 0.7656999826431274, 0.5443999767303467, 0.9648000001907349, 0.8159999847412109, 0.4023999869823456, 0.21140000224113464, 0.35690000653266907, 0.7226999998092651, 0.22100000083446503, 0.49149999022483826, 0.510699987411499, 0.2872999906539917, 0.7304999828338623, 0.15240000188350677, 0.7074000239372253, 0.03060000017285347, 0.29670000076293945, 0.22169999778270721, -0.053599998354911804, 0.545799970626831, 1.7906999588012695, 1.7905999422073364, 1.7901999950408936, 1.7899999618530273, 1.7896000146865845, 1.7893999814987183, 1.7890000343322754, 1.7889000177383423, 1.788599967956543, 1.7884000539779663, 1.7879999876022339, 1.7877999544143677, 1.7877000570297241, 1.787600040435791, 1.787600040435791, 1.787600040435791, 1.787500023841858, 1.7874000072479248, 1.7874000072479248, 1.7872999906539917, 1.7872999906539917, 1.7872999906539917, 1.7865999937057495, 1.7864999771118164, 1.7863999605178833, 1.7862999439239502, 1.7862000465393066, 1.7862000465393066, 1.7861000299453735, 1.7858999967575073, 1.7842999696731567, 1.7790000438690186, 1.77839994430542, 1.7654999494552612, 1.7526999711990356, 1.7793999910354614, 1.7783000469207764, 1.7490999698638916, 1.7651000022888184, 1.743399977684021, 1.7496000528335571, 1.6067999601364136, 1.6683000326156616, 1.6979999542236328, 1.7194000482559204, 1.7197999954223633, 1.742300033569336, 1.5434999465942383, 1.7026000022888184, 1.6259000301361084, 1.670199990272522, 1.5113999843597412, 1.4336999654769897, 1.0699000358581543, 1.5276000499725342, 1.1033999919891357, 1.128000020980835, 1.3049999475479126, 1.186400055885315, 1.0861999988555908, 0.7407000064849854, 1.2740000486373901, 0.5123999714851379, 0.334199994802475, 0.20669999718666077, 0.2678999900817871, 0.8438000082969666, 0.4133000075817108, -0.10040000081062317, 0.14900000393390656, 0.7955999970436096, 0.6621000170707703, 0.8169000148773193, 0.7925000190734863, 0.10409999638795853, 0.2433999925851822, 0.6991999745368958, 0.01850000023841858, 0.42809998989105225, 0.5995000004768372, 0.1485999971628189, 0.22259999811649323, 0.2935999929904938, 0.3343999981880188, -0.01899999938905239, -0.13439999520778656, 3.154599905014038, 3.1542999744415283, 3.1517999172210693, 3.150899887084961, 3.149899959564209, 3.1470000743865967, 3.1456000804901123, 3.1456000804901123, 3.143199920654297, 3.141900062561035, 3.1417999267578125, 3.1403000354766846, 3.1393001079559326, 3.137700080871582, 3.137399911880493, 3.1373000144958496, 3.137200117111206, 3.135999917984009, 3.1356000900268555, 3.134700059890747, 3.1342999935150146, 3.133699893951416, 3.1333999633789062, 3.1333999633789062, 3.1303999423980713, 3.1298000812530518, 3.129699945449829, 3.129699945449829, 3.129499912261963, 3.129300117492676, 3.122499942779541, 3.1289000511169434, 3.084199905395508, 3.076900005340576, 3.0297999382019043, 3.093899965286255, 2.919300079345703, 2.984999895095825, 3.0599000453948975, 3.0481998920440674, 2.706700086593628, 2.9245998859405518, 2.467400074005127, 2.6182000637054443, 1.248900055885315, 2.4158999919891357, 2.341099977493286, 2.704699993133545, 2.327199935913086, 2.121299982070923, 2.443000078201294, 1.8421000242233276, 2.597599983215332, 1.7218999862670898, 1.670199990272522, 2.300100088119507, 1.5680999755859375, 1.3493000268936157, 1.4907000064849854, 0.22100000083446503, -0.09619999676942825, 0.8309999704360962, 2.1033999919891357, 0.03920000046491623, 0.10729999840259552, 0.021400000900030136, 1.1335999965667725, -0.21279999613761902, -0.4903999865055084, 0.14159999787807465, 0.03519999980926514, 0.46970000863075256, 1.5187000036239624, 0.3874000012874603, 0.3643999993801117, 0.6080999970436096, 0.2563000023365021, -0.4399000108242035, -0.6812999844551086, -0.08229999989271164, -0.30880001187324524, 0.1687999963760376, 3.295599937438965, 3.288300037384033, 3.2867000102996826, 3.283799886703491, 3.2822999954223633, 3.274399995803833, 3.27239990234375, 3.2695999145507812, 3.2695000171661377, 3.268899917602539, 3.268699884414673, 3.265199899673462, 3.2639000415802, 3.2630999088287354, 3.2627999782562256, 3.262500047683716, 3.261399984359741, 3.2611000537872314, 3.2607998847961426, 3.260699987411499, 3.2606000900268555, 3.2604000568389893, 3.2602999210357666, 3.2599000930786133, 3.259700059890747, 3.259700059890747, 3.2588999271392822, 3.2588999271392822, 3.2588000297546387, 3.2581000328063965, 3.246799945831299, 3.008500099182129, 2.8982999324798584, 3.2311999797821045, 3.1373000144958496, 3.025700092315674, 2.843899965286255, 2.989500045776367, 1.710800051689148, 2.138700008392334, 2.47979998588562, 2.1166999340057373, 1.8492000102996826, 2.6522998809814453, 2.945499897003174, 2.1619999408721924, 2.6833999156951904, 2.104099988937378, 2.373500108718872, 3.0850000381469727, 1.4150999784469604, 1.6883000135421753, 2.0397000312805176, 2.0237998962402344, 2.2634999752044678, 2.680799961090088, 2.625200033187866, 1.3141000270843506, 1.9606000185012817, 1.9957000017166138, 1.6970000267028809, 1.9765000343322754, 1.4431999921798706, 1.7200000286102295, 1.6345000267028809, 0.6205000281333923, 1.0830999612808228, 1.7446999549865723, 1.4948999881744385, 1.1828999519348145, 0.5871999859809875, 1.76419997215271, 0.8585000038146973, 0.24560000002384186, 1.492799997329712, 0.635699987411499, 0.5913000106811523, 0.826200008392334, 1.0793999433517456, 1.2072999477386475, 0.7501999735832214, -0.6700999736785889, 0.7788000106811523, 0.5558000206947327, -0.15160000324249268, 3.3125998973846436, 3.3125998973846436, 3.3089001178741455, 3.3087000846862793, 3.30649995803833, 3.305999994277954, 3.303999900817871, 3.303999900817871, 3.303499937057495, 3.3034000396728516, 3.3029000759124756, 3.302299976348877, 3.3011999130249023, 3.3010001182556152, 3.3004000186920166, 3.2999000549316406, 3.299799919128418, 3.2978999614715576, 3.2971999645233154, 3.296999931335449, 3.296999931335449, 3.296799898147583, 3.2960000038146973, 3.2953999042510986, 3.2945001125335693, 3.294300079345703, 3.294100046157837, 3.2934999465942383, 3.293299913406372, 3.2932000160217285, 3.270699977874756, 3.2701001167297363, 3.2409000396728516, 3.1113998889923096, 3.198899984359741, 2.8373000621795654, 3.2497000694274902, 2.827500104904175, 2.7207999229431152, 2.7167000770568848, 3.122499942779541, 2.4518001079559326, 1.6920000314712524, 2.6463000774383545, 2.8361001014709473, 2.723900079727173, 2.740499973297119, 2.8949999809265137, 2.826900005340576, 2.2464001178741455, 2.750200033187866, 2.039799928665161, 0.2969000041484833, 2.7771999835968018, 1.8495999574661255, 1.5185999870300293, 2.2548000812530518, 1.229599952697754, 1.8665000200271606, 1.5508999824523926, 0.30480000376701355, 1.9668999910354614, 2.317500114440918, 0.7228999733924866, 0.9693999886512756, 0.9157999753952026, 0.9139000177383423, 1.0056999921798706, 0.24740000069141388, 1.7000999450683594, 0.2840000092983246, 1.7896000146865845, 0.6269000172615051, 0.8956999778747559, -0.10239999741315842, -0.7865999937057495, 0.9218999743461609, 0.6553999781608582, 0.8565999865531921, 0.7206000089645386, -1.1728999614715576, 1.0241999626159668, 0.2639000117778778, 0.27219998836517334, 0.3917999863624573, -0.19850000739097595, 3.3227999210357666, 3.3160998821258545, 3.3124001026153564, 3.31030011177063, 3.3046998977661133, 3.3036000728607178, 3.30049991607666, 3.3004000186920166, 3.299999952316284, 3.2985999584198, 3.2983999252319336, 3.2978999614715576, 3.2978999614715576, 3.296600103378296, 3.2964000701904297, 3.2964000701904297, 3.296299934387207, 3.296299934387207, 3.2962000370025635, 3.2955000400543213, 3.2953999042510986, 3.2952001094818115, 3.2950000762939453, 3.2945001125335693, 3.293600082397461, 3.29229998588562, 3.2915000915527344, 3.2906999588012695, 3.2904000282287598, 3.29010009765625, 3.127000093460083, 3.210099935531616, 3.0088000297546387, 2.5322000980377197, 3.102799892425537, 3.0715999603271484, 2.0975000858306885, 2.8492000102996826, 2.834399938583374, 2.2379000186920166, 2.700500011444092, 0.8723000288009644, 2.6142001152038574, 2.075200080871582, 0.8105999827384949, 2.1278998851776123, 2.6026999950408936, 1.5449999570846558, 1.3803000450134277, 1.9860999584197998, 1.465000033378601, 1.40339994430542, 2.024399995803833, 1.9903000593185425, 1.6680999994277954, 1.9191999435424805, 1.8530999422073364, 1.0405999422073364, -0.18799999356269836, 0.9649999737739563, 0.31869998574256897, 0.10620000213384628, 0.677299976348877, 0.3249000012874603, 1.465000033378601, 0.44020000100135803, 1.1445000171661377, -0.6434000134468079, 0.2321999967098236, 1.4941999912261963, -0.3853999972343445, 0.3142000138759613, -0.5623999834060669, -0.8039000034332275, -0.7156000137329102, -0.697700023651123, 0.5947999954223633, -0.28700000047683716, -0.8672000169754028, 3.3568999767303467, 3.3566999435424805, 3.3566999435424805, 3.351599931716919, 3.350600004196167, 3.349900007247925, 3.346100091934204, 3.338099956512451, 3.3368000984191895, 3.3313000202178955, 3.3262999057769775, 3.325900077819824, 3.324899911880493, 3.324899911880493, 3.323499917984009, 3.3225998878479004, 3.3220999240875244, 3.3215999603271484, 3.3203001022338867, 3.320199966430664, 3.3190999031066895, 3.3189001083374023, 3.3183000087738037, 3.315200090408325, 3.314199924468994, 3.3127999305725098, 3.3125998973846436, 3.3113999366760254, 3.310699939727783, 3.31030011177063, 3.1989998817443848, 2.9677000045776367, 3.203399896621704, 3.177999973297119, 3.002000093460083, 2.552999973297119, 2.273900032043457, 2.8747000694274902, 2.0673000812530518, 2.3624000549316406, 2.045799970626831, 2.583899974822998, 2.177999973297119, 2.4742000102996826, 1.326799988746643, 2.335400104522705, 2.2467000484466553, 1.9049999713897705, 1.7717000246047974, 1.344499945640564, 1.9711999893188477, 2.3041000366210938, 1.9062000513076782, 2.0160000324249268, 1.246000051498413, 2.3510000705718994, 1.598099946975708, 1.3628000020980835, 0.7835000157356262, 1.957900047302246, 1.2698999643325806, 1.158400058746338, 1.1420999765396118, 1.0563000440597534, 0.40049999952316284, 1.1755000352859497, 1.8135000467300415, 1.6089999675750732, 0.63919997215271, 0.8646000027656555, -0.03680000081658363, 1.145400047302246, 1.3503999710083008, -0.3968999981880188, 0.5428000092506409, -0.10540000349283218, 0.11460000276565552, 4.009699821472168, 4.004000186920166, 4.001200199127197, 3.9981000423431396, 3.997499942779541, 3.9969000816345215, 3.995500087738037, 3.9948999881744385, 3.990799903869629, 3.9900999069213867, 3.9888999462127686, 3.9883999824523926, 3.9860999584198, 3.9842000007629395, 3.9814000129699707, 3.9804000854492188, 3.9804000854492188, 3.9788999557495117, 3.9781999588012695, 3.977799892425537, 3.975399971008301, 3.9739999771118164, 3.9739999771118164, 3.9739999771118164, 3.9739999771118164, 3.9700000286102295, 3.9677000045776367, 3.965399980545044, 3.965399980545044, 3.965399980545044, 3.9509999752044678, 3.94320011138916, 3.9300999641418457, 3.8326001167297363, 3.873199939727783, 3.9393999576568604, 3.887399911880493, 3.785900115966797, 3.8889999389648438, 3.776599884033203, 3.8427999019622803, 3.782599925994873, 3.6686999797821045, 3.800600051879883, 3.6819000244140625, 3.7614998817443848, 3.307300090789795, 3.51990008354187, 3.3231000900268555, 3.452199935913086, 2.943000078201294, 3.192199945449829, 3.121299982070923, 3.1905999183654785, 3.504499912261963, 3.096100091934204, 3.143899917602539, 3.2695999145507812, 3.23009991645813, 3.3536999225616455, 3.0959999561309814, 3.241300106048584, 2.124000072479248, 2.372299909591675, 3.1554999351501465, 1.8014999628067017, 2.2464001178741455, 1.541700005531311, 2.911799907684326, 1.9377000331878662, 2.2899999618530273, 0.35600000619888306, 4.026000022888184, 4.024400234222412, 4.023200035095215, 4.022600173950195, 4.019499778747559, 4.0177998542785645, 4.017499923706055, 4.015999794006348, 4.015699863433838, 4.013199806213379, 4.012499809265137, 4.01200008392334, 4.011300086975098, 4.011000156402588, 4.008699893951416, 4.007999897003174, 4.007800102233887, 4.007299900054932, 4.006499767303467, 4.006199836730957, 4.003799915313721, 3.9995999336242676, 3.99780011177063, 3.9969000816345215, 3.996500015258789, 3.9958999156951904, 3.993499994277954, 3.9930999279022217, 3.9916000366210938, 3.9914000034332275, 3.9816999435424805, 3.975600004196167, 3.9749999046325684, 3.9410998821258545, 3.948499917984009, 3.920799970626831, 3.8608999252319336, 3.883500099182129, 3.731800079345703, 3.9114999771118164, 3.708199977874756, 3.8001999855041504, 3.7809998989105225, 3.831700086593628, 3.9184999465942383, 3.568700075149536, 3.6967999935150146, 3.1960999965667725, 3.368299961090088, 3.6958000659942627, 3.7346999645233154, 3.1872000694274902, 2.9535999298095703, 3.607599973678589, 2.827899932861328, 3.4458000659942627, 2.4828999042510986, 3.311500072479248, 2.1340999603271484, 1.4555000066757202, 2.3343000411987305, 1.40910005569458, 0.6104000210762024, 2.328200101852417, 1.5077999830245972, 4.354800224304199, 4.348199844360352, 4.348100185394287, 4.344200134277344, 4.342599868774414, 4.341300010681152, 4.339900016784668, 4.339399814605713, 4.339200019836426, 4.333499908447266, 4.332099914550781, 4.32859992980957, 4.328499794006348, 4.327600002288818, 4.326499938964844, 4.326300144195557, 4.326200008392334, 4.32480001449585, 4.32450008392334, 4.323999881744385, 4.323999881744385, 4.323800086975098, 4.322800159454346, 4.321300029754639, 4.320899963378906, 4.3196001052856445, 4.3196001052856445, 4.318999767303467, 4.3171000480651855, 4.316199779510498, 4.226399898529053, 4.228600025177002, 4.125999927520752, 3.904400110244751, 3.723599910736084, 4.013800144195557, 2.637700080871582, 3.742300033569336, 3.90120005607605, 3.7156999111175537, 2.4339001178741455, 1.0686999559402466, 2.222899913787842, 0.4050000011920929, 2.075900077819824, 2.1391000747680664, 0.8328999876976013, 1.298200011253357, 1.5641000270843506, 1.3691999912261963, 0.3262999951839447, -0.28519999980926514, 0.8163999915122986, 1.7547999620437622, -0.46540001034736633, 2.0845999717712402, -0.004399999976158142, 0.3197999894618988, 0.8788999915122986, 1.1442999839782715, 2.041800022125244, -0.2766000032424927, 0.5795000195503235, 0.5012000203132629, 0.40049999952316284, 0.32499998807907104, 0.9926999807357788, 0.8058000206947327, -0.6861000061035156, 0.14020000398159027, -1.3733999729156494, -0.24320000410079956, 4.412700176239014, 4.412300109863281, 4.409999847412109, 4.408899784088135, 4.404300212860107, 4.402400016784668, 4.4019999504089355, 4.401899814605713, 4.396399974822998, 4.392300128936768, 4.389599800109863, 4.382400035858154, 4.379300117492676, 4.379000186920166, 4.377299785614014, 4.377200126647949, 4.374000072479248, 4.373499870300293, 4.3734002113342285, 4.3730998039245605, 4.372200012207031, 4.369100093841553, 4.366700172424316, 4.365900039672852, 4.365300178527832, 4.365300178527832, 4.3628997802734375, 4.3628997802734375, 4.362199783325195, 4.361400127410889, 4.336599826812744, 4.348199844360352, 4.3383002281188965, 4.165999889373779, 3.95989990234375, 3.604300022125244, 4.007599830627441, 3.6974000930786133, 4.10830020904541, 3.4210000038146973, 3.272700071334839, 3.8296000957489014, 2.787600040435791, 3.393899917602539, 2.938800096511841, 3.1010000705718994, 2.3636999130249023, 2.6285998821258545, 3.015399932861328, 2.888200044631958, 3.009000062942505, 1.7383999824523926, -0.2549000084400177, -0.7250000238418579, 0.7095000147819519, 0.5037999749183655, 2.5940001010894775, 0.41679999232292175, 0.9672999978065491, 2.1758999824523926, 5.100500106811523, 5.0954999923706055, 5.078100204467773, 5.069200038909912, 5.068999767303467, 5.065299987792969, 5.064000129699707, 5.063899993896484, 5.05679988861084, 5.048799991607666, 5.043700218200684, 5.043700218200684, 5.043700218200684, 5.041500091552734, 5.040800094604492, 5.037600040435791, 5.036499977111816, 5.0345001220703125, 5.032400131225586, 5.026100158691406, 5.022200107574463, 5.022200107574463, 5.020500183105469, 5.017300128936768, 5.0167999267578125, 5.0167999267578125, 5.01669979095459, 5.016300201416016, 5.014100074768066, 5.014100074768066, 5.014100074768066, 4.854899883270264, 4.7403998374938965, 4.769499778747559, 4.762499809265137, 2.790600061416626, 2.527600049972534, 0.7142000198364258, 3.790299892425537, 2.9279000759124756, 1.6698999404907227, 1.5370999574661255, 0.9103000164031982, 2.734299898147583, 5.628699779510498, 5.600599765777588, 5.5725998878479, 5.559700012207031, 5.556099891662598, 5.546500205993652, 5.543600082397461, 5.517000198364258, 5.502699851989746, 5.502699851989746, 5.495800018310547, 5.490300178527832, 5.4842000007629395, 5.483799934387207, 5.480100154876709, 5.478799819946289, 5.464600086212158, 5.464600086212158, 5.4644999504089355, 5.459099769592285, 5.454100131988525, 5.454100131988525, 5.448200225830078, 5.4355998039245605, 5.4355998039245605, 5.4355998039245605, 5.434100151062012, 5.431600093841553, 5.429500102996826, 5.429500102996826, 5.323299884796143, 5.310800075531006, 5.069200038909912, 4.305600166320801, 3.9356000423431396, 4.660999774932861, 5.053500175476074, 2.6387999057769775, 4.106800079345703, 3.8010001182556152, 4.638400077819824, 4.845099925994873, 3.629300117492676, 1.3897000551223755, 3.1047000885009766, 1.8277000188827515, 1.2497999668121338, 0.8497999906539917, 3.9072999954223633, 2.160099983215332, 2.613300085067749, 1.0678000450134277, 2.6940999031066895, 2.4514000415802, 5.994699954986572, 5.964300155639648, 5.964300155639648, 5.959000110626221, 5.89739990234375, 5.878699779510498, 5.874199867248535, 5.827700138092041, 5.8256001472473145, 5.8256001472473145, 5.811100006103516, 5.811100006103516, 5.811100006103516, 5.811100006103516, 5.8003997802734375, 5.797599792480469, 5.797599792480469, 5.780900001525879, 5.764200210571289, 5.746699810028076, 5.743299961090088, 5.743299961090088, 5.743299961090088, 5.743299961090088, 5.701200008392334, 5.693399906158447, 5.693399906158447, 5.682799816131592, 5.666999816894531, 5.666600227355957, 5.666600227355957, 5.666600227355957, 5.666600227355957, 5.666600227355957, 5.666600227355957, 5.666600227355957, 5.666600227355957, 4.5725998878479, 2.5957999229431152, 4.66949987411499, 4.407899856567383, 6.136099815368652, 6.102099895477295, 6.095399856567383, 6.072400093078613, 6.05649995803833, 6.032400131225586, 6.031300067901611, 6.029600143432617, 6.015500068664551, 6.0152997970581055, 6.005899906158447, 6.00570011138916, 6.003399848937988, 6.0030999183654785, 5.991099834442139, 5.989200115203857, 5.984300136566162, 5.976900100708008, 5.9730000495910645, 5.970699787139893, 5.970600128173828, 5.968299865722656, 5.964099884033203, 5.964099884033203, 5.964099884033203, 5.959199905395508, 5.958499908447266, 5.957600116729736, 5.954500198364258, 5.954400062561035, 5.6732001304626465, 4.484499931335449, 5.462699890136719, 6.135000228881836, 6.118500232696533, 6.1082000732421875, 6.044400215148926, 6.025199890136719, 6.012599945068359, 5.986100196838379, 5.985899925231934, 5.9791998863220215, 5.96019983291626, 5.956500053405762, 5.945700168609619, 5.945700168609619, 5.945700168609619, 5.945700168609619, 5.945700168609619, 5.945700168609619, 5.945700168609619, 5.945700168609619, 5.934199810028076, 5.919400215148926, 5.905300140380859, 5.900000095367432, 5.887899875640869, 5.884500026702881, 5.884500026702881, 5.860400199890137, 5.849599838256836, 5.845699787139893, 5.836100101470947, 5.696199893951416, 6.4604997634887695, 6.3744001388549805, 6.36959981918335, 6.362199783325195, 6.348299980163574, 6.343500137329102, 6.3368000984191895, 6.326200008392334, 6.323400020599365, 6.317699909210205, 6.316100120544434, 6.314000129699707, 6.309000015258789, 6.307700157165527, 6.28849983215332, 6.26039981842041, 6.259900093078613, 6.250800132751465, 6.245200157165527, 6.245100021362305, 6.243199825286865, 6.236800193786621, 6.236100196838379, 6.236100196838379, 6.236100196838379, 6.213799953460693, 6.211699962615967, 6.198699951171875, 6.185800075531006, 6.185800075531006, 6.083399772644043, 5.835100173950195, 4.675000190734863, 5.735899925231934, 3.6393001079559326, 3.3282999992370605, 5.792099952697754, 2.2990000247955322, 6.9903998374938965, 6.848199844360352, 6.790599822998047, 6.778600215911865, 6.774899959564209, 6.752699851989746, 6.637400150299072, 6.601799964904785, 6.5731000900268555, 6.5731000900268555, 6.5731000900268555, 6.539400100708008, 6.53849983215332, 6.53849983215332, 6.531799793243408, 6.487199783325195, 6.482999801635742, 6.457799911499023, 6.438799858093262, 6.438799858093262, 6.406499862670898, 6.399199962615967, 6.399199962615967, 6.3470001220703125, 6.3221001625061035, 6.30679988861084, 6.30679988861084, 6.2789998054504395, 6.2789998054504395, 6.263299942016602, 6.263299942016602, 6.263299942016602, 4.936500072479248, 5.224400043487549, 4.120100021362305, 5.7153000831604, 6.732500076293945, 6.67080020904541, 6.656000137329102, 6.62060022354126, 6.579400062561035, 6.5655999183654785, 6.548299789428711, 6.539400100708008, 6.520999908447266, 6.519199848175049, 6.514100074768066, 6.514100074768066, 6.487400054931641, 6.476600170135498, 6.476600170135498, 6.463799953460693, 6.434599876403809, 6.434500217437744, 6.420000076293945, 6.41949987411499, 6.36929988861084, 6.36870002746582, 6.36870002746582, 6.36870002746582, 6.36870002746582, 6.36870002746582, 6.36870002746582, 6.36870002746582, 6.36870002746582, 6.36870002746582, 6.36870002746582, 6.36870002746582, 6.36870002746582, 6.36870002746582, 6.36870002746582, 6.36870002746582, 6.36870002746582], \"logprob\": [30.0, 29.0, 28.0, 27.0, 26.0, 25.0, 24.0, 23.0, 22.0, 21.0, 20.0, 19.0, 18.0, 17.0, 16.0, 15.0, 14.0, 13.0, 12.0, 11.0, 10.0, 9.0, 8.0, 7.0, 6.0, 5.0, 4.0, 3.0, 2.0, 1.0, -8.208399772644043, -8.23009967803955, -8.430500030517578, -8.535200119018555, -8.503100395202637, -8.652999877929688, -8.790800094604492, -8.811300277709961, -8.84179973602295, -8.84529972076416, -9.003999710083008, -9.008899688720703, -9.044099807739258, -8.551300048828125, -9.097399711608887, -9.101799964904785, -9.123600006103516, -9.174799919128418, -9.187700271606445, -9.210399627685547, -9.217000007629395, -9.218000411987305, -9.270000457763672, -9.280500411987305, -9.282500267028809, -9.285499572753906, -9.308600425720215, -9.328900337219238, -9.348400115966797, -9.362099647521973, -8.92300033569336, -9.255200386047363, -7.081399917602539, -7.707099914550781, -7.178699970245361, -8.2568998336792, -7.841100215911865, -8.43850040435791, -7.769899845123291, -7.831900119781494, -5.639999866485596, -7.2606000900268555, -6.026000022888184, -8.002900123596191, -7.309199810028076, -5.861000061035156, -6.223400115966797, -7.870699882507324, -6.889100074768066, -7.924900054931641, -6.592199802398682, -7.217199802398682, -6.400100231170654, -7.144000053405762, -6.622799873352051, -5.22160005569458, -7.227399826049805, -4.403900146484375, -5.368100166320801, -7.022799968719482, -5.885700225830078, -4.857600212097168, -5.020699977874756, -5.808800220489502, -6.8649001121521, -4.591400146484375, -4.980800151824951, -5.783199787139893, -5.097400188446045, -5.822800159454346, -6.168799877166748, -5.076200008392334, -5.843500137329102, -6.125699996948242, -5.449999809265137, -4.6971001625061035, -5.437300205230713, -5.611100196838379, -5.543600082397461, -5.228400230407715, -5.8734002113342285, -5.088200092315674, -5.434999942779541, -5.893099784851074, -5.600200176239014, -5.320700168609619, -5.654200077056885, -5.807700157165527, -5.406899929046631, -5.764999866485596, -5.655399799346924, -5.774600028991699, -5.784900188446045, -5.682700157165527, -5.761199951171875, -5.793700218200684, -6.0482001304626465, -6.331200122833252, -6.2434000968933105, -6.612500190734863, -6.801499843597412, -7.127399921417236, -7.300099849700928, -7.369999885559082, -7.38539981842041, -7.3902997970581055, -7.42110013961792, -7.576000213623047, -7.6006999015808105, -7.634500026702881, -7.72760009765625, -7.741700172424316, -7.828700065612793, -7.853899955749512, -7.873600006103516, -7.9653000831604, -8.013099670410156, -8.025699615478516, -8.041399955749512, -8.067099571228027, -8.112799644470215, -8.118800163269043, -8.210599899291992, -8.234100341796875, -8.29800033569336, -8.301899909973145, -6.377099990844727, -6.653500080108643, -7.1666998863220215, -7.956900119781494, -6.225200176239014, -7.153200149536133, -5.40339994430542, -6.583199977874756, -6.918700218200684, -7.067500114440918, -7.53410005569458, -5.307000160217285, -7.1707000732421875, -4.6219000816345215, -5.291600227355957, -5.445099830627441, -5.782299995422363, -6.376699924468994, -5.3094000816345215, -6.354899883270264, -5.621300220489502, -5.945899963378906, -4.96999979019165, -5.372900009155273, -6.380099773406982, -5.747700214385986, -6.239699840545654, -5.9807000160217285, -4.579800128936768, -5.321899890899658, -6.046899795532227, -4.328000068664551, -4.898099899291992, -5.190299987792969, -4.83489990234375, -5.560100078582764, -5.404200077056885, -4.864099979400635, -4.672699928283691, -4.899400234222412, -5.528900146484375, -5.062900066375732, -5.314300060272217, -5.332499980926514, -5.225399971008301, -5.5971999168396, -5.29580020904541, -5.6184000968933105, -5.442599773406982, -5.521100044250488, -5.506899833679199, -5.468200206756592, -5.577099800109863, -6.770599842071533, -6.815800189971924, -6.961999893188477, -6.936399936676025, -7.177999973297119, -7.228700160980225, -7.331200122833252, -7.3130998611450195, -7.423999786376953, -7.467400074005127, -7.558800220489502, -7.597799777984619, -7.619200229644775, -7.631499767303467, -7.6350998878479, -7.63700008392334, -7.655399799346924, -7.6656999588012695, -7.540599822998047, -7.678899765014648, -7.680600166320801, -7.692299842834473, -7.798900127410889, -7.817200183868408, -7.83620023727417, -7.848199844360352, -7.8557000160217285, -7.868899822235107, -7.8730998039245605, -7.901599884033203, -7.079899787902832, -6.69320011138916, -6.96120023727417, -6.469699859619141, -6.056099891662598, -7.387700080871582, -7.456500053405762, -6.781000137329102, -7.171999931335449, -6.838099956512451, -6.961699962615967, -5.159599781036377, -6.0528998374938965, -6.573299884796143, -6.828100204467773, -6.928100109100342, -7.21150016784668, -6.044099807739258, -7.040500164031982, -6.717599868774414, -6.960100173950195, -6.28380012512207, -6.149700164794922, -4.931099891662598, -6.586900234222412, -5.418799877166748, -5.523399829864502, -6.069699764251709, -5.849800109863281, -5.676799774169922, -5.015399932861328, -6.153500080108643, -5.330900192260742, -5.182600021362305, -5.049699783325195, -5.244800090789795, -5.91379976272583, -5.460599899291992, -4.984499931335449, -5.265699863433838, -5.894700050354004, -5.777699947357178, -5.93149995803833, -5.934100151062012, -5.369100093841553, -5.485199928283691, -5.861299991607666, -5.429699897766113, -5.697199821472168, -5.825799942016602, -5.724999904632568, -5.776800155639648, -5.799900054931641, -5.875800132751465, -5.847700119018555, -5.869200229644775, -6.548299789428711, -6.580599784851074, -6.872499942779541, -6.955599784851074, -6.670599937438965, -7.260799884796143, -7.348999977111816, -7.349599838256836, -7.48859977722168, -7.549799919128418, -7.5625, -7.6219000816345215, -7.681000232696533, -7.747499942779541, -7.760300159454346, -7.7642998695373535, -7.767199993133545, -7.816699981689453, -7.832399845123291, -7.8678998947143555, -7.880899906158447, -7.901199817657471, -7.912499904632568, -7.914899826049805, -8.015000343322754, -8.034799575805664, -8.037199974060059, -8.037400245666504, -8.044300079345703, -8.049699783325195, -7.272299766540527, -8.035499572753906, -7.351799964904785, -7.256199836730957, -6.744200229644775, -7.679900169372559, -6.115600109100342, -6.753699779510498, -7.423900127410889, -7.3719000816345215, -5.696300029754639, -6.815999984741211, -6.242599964141846, -6.624499797821045, -3.6786999702453613, -6.215400218963623, -6.159999847412109, -6.916399955749512, -6.287499904632568, -5.964200019836426, -6.570000171661377, -5.730299949645996, -6.8796000480651855, -5.901299953460693, -5.8668999671936035, -6.565800189971924, -5.8632001876831055, -5.665599822998047, -5.802700042724609, -5.063000202178955, -4.8821001052856445, -5.64769983291626, -6.541399955749512, -5.340099811553955, -5.4095001220703125, -5.393199920654297, -6.03410005569458, -5.469200134277344, -5.374499797821045, -5.785299777984619, -5.782599925994873, -5.95550012588501, -6.280600070953369, -5.946899890899658, -5.991300106048584, -6.091100215911865, -6.033699989318848, -5.913099765777588, -5.947700023651123, -6.069399833679199, -6.064899921417236, -6.098400115966797, -7.110799789428711, -7.513199806213379, -7.582799911499023, -7.702600002288818, -7.757500171661377, -8.008700370788574, -8.062700271606445, -8.135600090026855, -8.140000343322754, -8.154199600219727, -8.137900352478027, -8.239999771118164, -8.268899917602539, -8.288399696350098, -8.293100357055664, -8.300399780273438, -8.324399948120117, -8.32979965209961, -8.336299896240234, -8.337499618530273, -8.34000015258789, -8.343799591064453, -8.346099853515625, -8.353699684143066, -8.35789966583252, -8.357999801635742, -8.374099731445312, -8.375399589538574, -8.37720012664795, -8.390399932861328, -8.255800247192383, -6.6890997886657715, -6.599800109863281, -8.231800079345703, -7.892600059509277, -7.502900123596191, -6.907599925994873, -7.430099964141846, -3.5731000900268555, -5.029099941253662, -6.049499988555908, -5.097799777984619, -4.440800189971924, -6.648499965667725, -7.454800128936768, -5.336900234222412, -6.749100208282471, -5.328400135040283, -6.145199775695801, -7.8597002029418945, -4.185299873352051, -4.890100002288818, -5.6545000076293945, -5.868299961090088, -6.298699855804443, -7.070700168609619, -6.988999843597412, -4.783699989318848, -5.860499858856201, -5.94350004196167, -5.5858001708984375, -6.007599830627441, -5.25600004196167, -5.646599769592285, -5.566100120544434, -4.307000160217285, -4.916299819946289, -5.832099914550781, -5.564300060272217, -5.295899868011475, -4.831299781799316, -5.871099948883057, -5.128600120544434, -4.638500213623047, -5.674900054931641, -5.18209981918335, -5.364799976348877, -5.517099857330322, -5.613900184631348, -5.676300048828125, -5.5640997886657715, -5.455999851226807, -5.673900127410889, -5.664400100708008, -5.668399810791016, -6.90500020980835, -6.909299850463867, -7.171599864959717, -7.180799961090088, -7.310200214385986, -7.340000152587891, -7.436299800872803, -7.4390997886657715, -7.4604997634887695, -7.467400074005127, -7.490200042724609, -7.514400005340576, -7.565400123596191, -7.5746002197265625, -7.597899913787842, -7.620200157165527, -7.625199794769287, -7.698999881744385, -7.724599838256836, -7.729100227355957, -7.729899883270264, -7.739799976348877, -7.767199993133545, -7.786600112915039, -7.817299842834473, -7.824399948120117, -7.829699993133545, -7.852099895477295, -7.85699987411499, -7.860099792480469, -6.853799819946289, -7.345699787139893, -7.192299842834473, -6.221199989318848, -6.981900215148926, -5.315800189971924, -7.623799800872803, -6.238100051879883, -6.243199825286865, -6.3171000480651855, -7.3292999267578125, -5.8460001945495605, -4.309000015258789, -6.348599910736084, -6.752600193023682, -6.60129976272583, -6.646200180053711, -6.96150016784668, -6.878900051116943, -6.093200206756592, -6.886600017547607, -6.1529998779296875, -4.63070011138916, -6.964399814605713, -6.135200023651123, -5.842800140380859, -6.517000198364258, -5.710700035095215, -6.260300159454346, -6.034900188446045, -5.212100028991699, -6.345300197601318, -6.599899768829346, -5.702400207519531, -5.845900058746338, -5.832600116729736, -5.843699932098389, -5.903299808502197, -5.679500102996826, -6.279300212860107, -5.715400218963623, -6.324100017547607, -5.895299911499023, -6.006899833679199, -5.7027997970581055, -5.6707000732421875, -6.1143999099731445, -6.071199893951416, -6.146500110626221, -6.140399932861328, -5.958799839019775, -6.190400123596191, -6.17579984664917, -6.177499771118164, -6.180200099945068, -6.176199913024902, -6.930799961090088, -7.354300022125244, -7.508800029754639, -7.616600036621094, -7.821700096130371, -7.854599952697754, -7.94980001449585, -7.952300071716309, -7.9633002281188965, -8.003199577331543, -8.010000228881836, -8.022700309753418, -8.023599624633789, -8.057999610900879, -8.062299728393555, -8.0625, -8.065299987792969, -8.065400123596191, -8.067899703979492, -8.085200309753418, -8.087599754333496, -8.094499588012695, -8.09749984741211, -8.110400199890137, -8.133299827575684, -8.164199829101562, -8.182000160217285, -8.20199966430664, -8.207300186157227, -8.214500427246094, -6.684000015258789, -7.6656999588012695, -6.584400177001953, -5.285600185394287, -7.526599884033203, -7.525599956512451, -4.917399883270264, -7.147600173950195, -7.198500156402588, -6.1016998291015625, -7.000800132751465, -4.055300235748291, -6.999499797821045, -6.273499965667725, -4.473400115966797, -6.389200210571289, -7.154099941253662, -5.886300086975098, -5.820400238037109, -6.5055999755859375, -5.945099830627441, -5.9527997970581055, -6.600800037384033, -6.574699878692627, -6.274199962615967, -6.581600189208984, -6.56850004196167, -5.962600231170654, -5.0721001625061035, -5.9446001052856445, -5.6082000732421875, -5.494200229644775, -5.901100158691406, -5.707600116729736, -6.372300148010254, -5.849800109863281, -6.216899871826172, -5.429200172424316, -5.865600109100342, -6.41349983215332, -5.764699935913086, -6.1645002365112305, -6.07919979095459, -6.070300102233887, -6.130300045013428, -6.170899868011475, -6.323200225830078, -6.288000106811523, -6.285699844360352, -7.308499813079834, -7.316999912261963, -7.316999912261963, -7.546899795532227, -7.588600158691406, -7.6143999099731445, -7.75, -7.987400054931641, -8.021699905395508, -8.154600143432617, -8.26159954071045, -8.26990032196045, -8.28950023651123, -8.290200233459473, -8.317299842834473, -8.33549976348877, -8.344799995422363, -8.354299545288086, -8.37720012664795, -8.379500389099121, -8.39900016784668, -8.40310001373291, -8.41349983215332, -8.397600173950195, -8.483699798583984, -8.505999565124512, -8.510299682617188, -8.528599739074707, -8.540200233459473, -8.546699523925781, -6.176799774169922, -5.143199920654297, -7.459499835968018, -7.698599815368652, -7.307700157165527, -5.634300231933594, -4.741000175476074, -7.158400058746338, -5.133399963378906, -6.02810001373291, -5.38670015335083, -6.65749979019165, -5.729700088500977, -6.42140007019043, -3.9570999145507812, -6.16540002822876, -6.049300193786621, -5.377799987792969, -5.1118998527526855, -4.473299980163574, -5.6641998291015625, -6.283999919891357, -5.670599937438965, -5.870299816131592, -4.741099834442139, -6.413000106811523, -5.461100101470947, -5.21560001373291, -4.635000228881836, -5.984399795532227, -5.208799839019775, -5.1315999031066895, -5.1203999519348145, -5.041500091552734, -4.527100086212158, -5.24970006942749, -5.8805999755859375, -5.722400188446045, -4.96120023727417, -5.355599880218506, -4.92080020904541, -5.553699970245361, -5.6915998458862305, -5.182700157165527, -5.60260009765625, -5.622200012207031, -5.641499996185303, -5.836599826812744, -6.617099761962891, -6.026299953460693, -6.895899772644043, -6.91949987411499, -6.942299842834473, -6.997300148010254, -7.017000198364258, -7.156499862670898, -7.179100036621094, -7.214200019836426, -7.230500221252441, -7.296000003814697, -7.323800086975098, -7.4166998863220215, -7.443699836730957, -7.443699836730957, -7.477200031280518, -7.495100021362305, -6.508600234985352, -7.556700229644775, -7.586400032043457, -7.586400032043457, -7.586400032043457, -7.586400032043457, -7.666200160980225, -7.711400032043457, -7.752999782562256, -7.752999782562256, -7.752999782562256, -6.646200180053711, -6.520899772644043, -6.133699893951416, -3.9774999618530273, -5.508500099182129, -7.048399925231934, -6.442399978637695, -5.29580020904541, -6.601500034332275, -5.626299858093262, -6.295199871063232, -5.853899955749512, -5.067500114440918, -6.46120023727417, -6.085899829864502, -6.485400199890137, -4.941999912261963, -5.7067999839782715, -5.0971999168396, -5.613800048828125, -4.310999870300293, -5.309000015258789, -5.162899971008301, -5.44379997253418, -6.160600185394287, -5.539599895477295, -5.6539998054504395, -5.84250020980835, -5.843299865722656, -5.984300136566162, -5.745999813079834, -5.950900077819824, -5.031499862670898, -5.318900108337402, -5.914999961853027, -5.328700065612793, -5.547500133514404, -5.341899871826172, -5.9004998207092285, -5.874599933624268, -5.945199966430664, -5.895599842071533, -5.585100173950195, -5.797299861907959, -5.9375, -6.000500202178955, -6.282599925994873, -5.56879997253418, -6.424200057983398, -6.519400119781494, -6.54040002822876, -6.678400039672852, -6.712800025939941, -6.740499973297119, -6.775100231170654, -6.787899971008301, -6.89139986038208, -6.921199798583984, -6.926499843597412, -6.947000026702881, -6.916800022125244, -6.990499973297119, -6.783599853515625, -7.220200061798096, -7.272799968719482, -7.2993998527526855, -7.311500072479248, -7.327400207519531, -7.393499851226807, -7.4029998779296875, -7.440899848937988, -7.447000026702881, -5.706999778747559, -5.686699867248535, -6.308199882507324, -5.773499965667725, -6.216599941253662, -5.747799873352051, -5.397299766540527, -5.706699848175049, -3.7471001148223877, -6.091100215911865, -4.462200164794922, -5.2281999588012695, -5.290999889373779, -5.859600067138672, -6.403800010681152, -4.723199844360352, -5.327199935913086, -4.376299858093262, -5.097799777984619, -5.977700233459473, -6.082300186157227, -5.103000164031982, -5.115799903869629, -6.066400051116943, -5.229300022125244, -5.910999774932861, -5.277200222015381, -5.8709001541137695, -5.292399883270264, -5.122700214385986, -5.645100116729736, -5.634500026702881, -5.609799861907959, -5.879199981689453, -5.880099773406982, -6.979800224304199, -7.140600204467773, -7.1427998542785645, -7.2256999015808105, -7.257800102233887, -7.283999919891357, -7.310699939727783, -7.321199893951416, -7.2972002029418945, -7.427000045776367, -7.450699806213379, -7.507199764251709, -7.508900165557861, -7.52400016784668, -7.540599822998047, -7.543399810791016, -7.5447998046875, -7.5665998458862305, -7.571199893951416, -7.579100131988525, -7.579100131988525, -7.581500053405762, -7.5970001220703125, -7.6178998947143555, -7.624000072479248, -7.641499996185303, -7.641900062561035, -7.64870023727417, -7.676499843597412, -7.6890997886657715, -7.113999843597412, -7.41349983215332, -7.177800178527832, -6.881199836730957, -6.635700225830078, -7.189899921417236, -5.473100185394287, -6.9019999504089355, -7.123199939727783, -7.048099994659424, -5.956600189208984, -4.918300151824951, -5.980800151824951, -4.878900051116943, -6.024400234222412, -6.156799793243408, -5.429599761962891, -5.761000156402588, -6.071300029754639, -5.986999988555908, -5.491499900817871, -5.212800025939941, -5.778900146484375, -6.187600135803223, -5.251200199127197, -6.380499839782715, -5.604800224304199, -5.7779998779296875, -6.004700183868408, -6.138500213623047, -6.449900150299072, -5.695099830627441, -5.998899936676025, -5.991700172424316, -6.078199863433838, -6.222599983215332, -6.4105000495910645, -6.394899845123291, -6.202899932861328, -6.3125, -6.257400035858154, -6.388599872589111, -5.8414998054504395, -5.873300075531006, -6.033699989318848, -6.104800224304199, -6.349899768829346, -6.435100078582764, -6.452600002288818, -6.456399917602539, -6.670000076293945, -6.801700115203857, -6.880199909210205, -7.066800117492676, -7.137400150299072, -7.144899845123291, -7.180799961090088, -7.1828999519348145, -7.2484002113342285, -7.258600234985352, -7.2600998878479, -7.267099857330322, -6.194699764251709, -7.34250020980835, -7.384399890899658, -7.398499965667725, -7.4079999923706055, -5.920300006866455, -7.448599815368652, -7.448800086975098, -7.460599899291992, -7.473899841308594, -6.1016998291015625, -6.897600173950195, -7.077099800109863, -5.939000129699707, -5.968200206756592, -4.861800193786621, -6.247200012207031, -5.578800201416016, -6.658999919891357, -5.223899841308594, -5.017499923706055, -6.329999923706055, -4.784900188446045, -5.752399921417236, -5.13070011138916, -5.530200004577637, -5.047900199890137, -5.541800022125244, -6.060299873352051, -6.0920000076293945, -6.32889986038208, -5.9527997970581055, -5.538899898529053, -5.652599811553955, -5.93179988861084, -5.974899768829346, -6.271900177001953, -6.161499977111816, -6.188300132751465, -6.264400005340576, -5.2677998542785645, -5.565199851989746, -6.20989990234375, -6.430500030517578, -6.434899806976318, -6.514999866485596, -6.541100025177002, -6.541600227355957, -6.675300121307373, -6.808599948883057, -6.885499954223633, -6.885499954223633, -6.885499954223633, -6.9166998863220215, -6.926599979400635, -6.9704999923706055, -6.985300064086914, -7.0106000900268555, -7.037700176239014, -7.114299774169922, -7.1596999168396, -7.1596999168396, -7.178999900817871, -7.213699817657471, -7.218500137329102, -7.218599796295166, -7.2195000648498535, -7.224299907684326, -7.247700214385986, -7.247700214385986, -7.247700214385986, -5.741799831390381, -5.298799991607666, -5.870699882507324, -6.586999893188477, -6.010300159454346, -5.9496002197265625, -5.103600025177002, -6.6219000816345215, -6.542399883270264, -6.284599781036377, -6.655700206756592, -6.764200210571289, -7.0015997886657715, -5.819699764251709, -6.326600074768066, -6.667399883270264, -6.794899940490723, -6.827499866485596, -6.911799907684326, -6.935999870300293, -7.13670015335083, -7.231800079345703, -7.231800079345703, -7.274799823760986, -6.637599945068359, -7.344399929046631, -7.346499919891357, -7.3678998947143555, -7.37529993057251, -7.453199863433838, -7.453199863433838, -7.453499794006348, -7.481800079345703, -7.507900238037109, -7.507900238037109, -7.537399768829346, -7.598599910736084, -7.598599910736084, -7.598599910736084, -7.6057000160217285, -7.616499900817871, -7.626999855041504, -7.626999855041504, -6.740499973297119, -7.038099765777588, -6.441100120544434, -5.694799900054932, -5.210899829864502, -6.508800029754639, -7.068399906158447, -3.8108999729156494, -6.202700138092041, -6.33050012588501, -6.9558000564575195, -7.097799777984619, -6.507400035858154, -5.4257001876831055, -6.387800216674805, -6.042699813842773, -6.236299991607666, -6.209499835968018, -6.993100166320801, -6.85830020904541, -6.911600112915039, -6.8867998123168945, -6.991700172424316, -7.014999866485596, -6.493299961090088, -6.71560001373291, -6.71560001373291, -6.7505998611450195, -7.094900131225586, -7.18310022354126, -7.203400135040283, -7.396699905395508, -7.404600143432617, -7.404600143432617, -7.4593000411987305, -7.4593000411987305, -7.4593000411987305, -7.4593000411987305, -7.498199939727783, -7.5081000328063965, -7.5081000328063965, -7.566299915313721, -7.622300148010254, -7.678999900817871, -7.689499855041504, -7.689499855041504, -7.689499855041504, -7.689499855041504, -7.815999984741211, -7.838399887084961, -7.838399887084961, -7.8684000968933105, -7.911799907684326, -7.912899971008301, -7.912899971008301, -7.912899971008301, -7.912899971008301, -7.912899971008301, -7.912899971008301, -7.912899971008301, -7.912899971008301, -6.024199962615967, -7.09499979019165, -7.696499824523926, -7.735000133514404, -5.649899959564209, -6.095799922943115, -6.165800094604492, -6.377200126647949, -6.503499984741211, -6.671599864959717, -6.648799896240234, -6.689799785614014, -6.776599884033203, -6.7778000831604, -6.832699775695801, -6.833399772644043, -6.84660005569458, -6.848499774932861, -6.913599967956543, -6.923900127410889, -6.9492998123168945, -6.986999988555908, -7.006700038909912, -7.01800012588501, -7.018099784851074, -7.029399871826172, -7.049799919128418, -7.049799919128418, -7.049799919128418, -7.072800159454346, -7.076200008392334, -7.080399990081787, -7.094799995422363, -7.095099925994873, -6.555099964141846, -6.697800159454346, -7.077499866485596, -6.198699951171875, -6.344299793243408, -6.426400184631348, -6.836699962615967, -6.936800003051758, -6.998899936676025, -7.119500160217285, -7.120299816131592, -7.1493000984191895, -7.22760009765625, -7.242400169372559, -7.284599781036377, -7.284599781036377, -7.284599781036377, -7.284599781036377, -7.284599781036377, -7.284599781036377, -7.284599781036377, -7.284599781036377, -7.328000068664551, -7.381800174713135, -7.431300163269043, -7.449399948120117, -7.490200042724609, -7.501500129699707, -7.501500129699707, -7.578700065612793, -7.611800193786621, -7.623799800872803, -7.652599811553955, -7.472599983215332, -5.4079999923706055, -6.259699821472168, -6.292799949645996, -6.341700077056885, -6.428699970245361, -6.457499980926514, -6.495699882507324, -6.554800033569336, -6.570099830627441, -6.599999904632568, -6.608399868011475, -4.329699993133545, -6.645199775695801, -6.651400089263916, -6.74459981918335, -6.8694000244140625, -6.871300220489502, -6.909299850463867, -6.932199954986572, -6.932600021362305, -6.940299987792969, -6.965700149536133, -6.968400001525879, -6.968400001525879, -6.968400001525879, -7.053500175476074, -7.0609002113342285, -7.107999801635742, -7.15310001373291, -7.15310001373291, -6.803299903869629, -6.491499900817871, -6.201600074768066, -6.864299774169922, -6.36269998550415, -6.568999767303467, -6.940800189971924, -6.933700084686279, -5.217100143432617, -6.178299903869629, -6.421999931335449, -6.467599868774414, -6.481299877166748, -6.561200141906738, -6.916999816894531, -7.011899948120117, -7.084499835968018, -7.084499835968018, -7.084499835968018, -7.165999889373779, -7.168300151824951, -7.168300151824951, -7.184000015258789, -7.285200119018555, -7.29449987411499, -7.349100112915039, -7.389200210571289, -7.389200210571289, -7.455599784851074, -7.470300197601318, -7.470300197601318, -7.572400093078613, -7.61929988861084, -7.64769983291626, -7.64769983291626, -7.698299884796143, -7.698299884796143, -7.726399898529053, -7.726399898529053, -7.726399898529053, -6.751699924468994, -7.417300224304199, -7.257800102233887, -7.632800102233887, -6.734399795532227, -6.908999919891357, -6.948299884796143, -7.038400173187256, -7.137199878692627, -7.169400215148926, -7.208499908447266, -7.228300094604492, -7.268899917602539, -7.272600173950195, -7.283599853515625, -7.283599853515625, -7.3403000831604, -7.36269998550415, -7.36269998550415, -7.389100074768066, -7.447700023651123, -7.447999954223633, -7.476399898529053, -7.47730016708374, -7.5731000900268555, -7.57420015335083, -7.57420015335083, -7.57420015335083, -7.57420015335083, -7.57420015335083, -7.57420015335083, -7.57420015335083, -7.57420015335083, -7.57420015335083, -7.57420015335083, -7.57420015335083, -7.57420015335083, -7.57420015335083, -7.57420015335083, -7.57420015335083, -7.57420015335083]}, \"token.table\": {\"Topic\": [1, 2, 3, 10, 1, 2, 3, 4, 5, 6, 7, 8, 9, 10, 11, 5, 11, 16, 16, 6, 19, 1, 2, 3, 4, 5, 6, 7, 9, 3, 10, 1, 2, 3, 4, 5, 6, 7, 8, 11, 1, 6, 2, 3, 4, 12, 15, 2, 2, 5, 7, 5, 3, 13, 6, 7, 13, 2, 3, 5, 8, 2, 3, 1, 2, 3, 5, 12, 1, 6, 13, 4, 12, 1, 4, 10, 12, 1, 4, 10, 12, 1, 10, 3, 4, 10, 13, 1, 3, 15, 19, 7, 1, 2, 3, 6, 10, 11, 11, 16, 7, 1, 3, 6, 10, 12, 12, 17, 20, 1, 2, 3, 4, 5, 6, 7, 8, 11, 11, 19, 3, 18, 1, 1, 2, 6, 1, 2, 5, 1, 2, 3, 1, 2, 3, 8, 1, 1, 9, 12, 1, 20, 12, 1, 2, 5, 7, 9, 2, 5, 5, 2, 3, 7, 11, 1, 3, 4, 5, 7, 8, 11, 17, 3, 7, 9, 5, 9, 1, 2, 3, 4, 5, 6, 7, 8, 11, 1, 2, 3, 10, 4, 13, 18, 1, 14, 14, 20, 3, 9, 1, 3, 6, 10, 12, 18, 17, 4, 5, 6, 7, 8, 11, 8, 20, 3, 4, 6, 10, 12, 20, 9, 3, 20, 7, 15, 1, 4, 5, 6, 7, 8, 11, 11, 20, 7, 1, 3, 4, 5, 6, 14, 1, 2, 3, 9, 11, 12, 19, 1, 2, 3, 5, 6, 7, 8, 11, 1, 2, 3, 6, 1, 6, 1, 2, 3, 5, 6, 7, 8, 11, 1, 14, 14, 17, 3, 2, 4, 5, 8, 11, 16, 8, 2, 1, 2, 3, 4, 5, 6, 7, 8, 11, 11, 18, 1, 10, 1, 14, 1, 2, 3, 4, 6, 7, 14, 6, 1, 5, 6, 14, 14, 1, 10, 13, 19, 1, 6, 1, 6, 14, 1, 2, 6, 14, 3, 5, 7, 1, 3, 4, 5, 6, 7, 8, 10, 11, 13, 1, 2, 3, 4, 5, 6, 8, 9, 12, 18, 1, 9, 10, 8, 5, 18, 1, 4, 1, 3, 4, 5, 6, 7, 9, 10, 12, 8, 1, 12, 3, 1, 2, 4, 5, 6, 7, 8, 11, 8, 16, 18, 20, 1, 3, 4, 6, 7, 8, 11, 8, 8, 1, 1, 3, 4, 5, 6, 7, 10, 16, 1, 3, 4, 6, 10, 11, 12, 1, 2, 3, 4, 5, 6, 7, 8, 11, 4, 1, 2, 3, 4, 5, 6, 7, 8, 11, 11, 7, 5, 11, 8, 7, 13, 14, 1, 3, 6, 10, 12, 1, 2, 3, 4, 5, 6, 7, 8, 3, 1, 1, 1, 2, 9, 1, 2, 3, 4, 5, 6, 7, 8, 9, 11, 12, 10, 13, 1, 2, 9, 1, 2, 3, 4, 5, 6, 8, 13, 1, 6, 9, 1, 2, 3, 4, 6, 7, 8, 10, 1, 2, 9, 2, 3, 5, 7, 8, 11, 1, 2, 3, 10, 1, 2, 5, 6, 9, 12, 4, 4, 4, 1, 4, 5, 6, 7, 2, 3, 2, 1, 2, 3, 4, 5, 6, 7, 8, 9, 11, 12, 2, 5, 9, 10, 1, 2, 3, 4, 5, 6, 7, 9, 17, 18, 1, 2, 3, 4, 5, 6, 7, 8, 11, 16, 16, 4, 6, 20, 4, 9, 16, 1, 2, 3, 4, 5, 6, 7, 8, 10, 11, 14, 9, 1, 17, 20, 7, 6, 7, 3, 6, 1, 2, 3, 4, 5, 6, 7, 8, 11, 1, 2, 3, 4, 5, 6, 7, 8, 10, 12, 1, 3, 20, 13, 4, 1, 6, 7, 8, 17, 6, 1, 2, 3, 4, 5, 6, 7, 8, 11, 2, 6, 13, 14, 1, 1, 2, 3, 4, 6, 9, 12, 18, 1, 11, 17, 1, 2, 2, 11, 16, 14, 1, 2, 3, 1, 2, 3, 1, 3, 6, 9, 7, 4, 12, 4, 7, 12, 12, 5, 1, 2, 3, 4, 5, 6, 7, 8, 11, 8, 11, 10, 10, 10, 9, 10, 5, 17, 17, 1, 2, 3, 4, 5, 6, 7, 8, 11, 14, 14, 1, 2, 3, 5, 6, 7, 8, 11, 14, 1, 3, 4, 5, 6, 7, 8, 10, 11, 13, 4, 8, 8, 5, 1, 14, 2, 1, 2, 3, 5, 6, 7, 12, 12, 13, 14, 1, 2, 3, 4, 5, 6, 7, 8, 9, 11, 12, 1, 2, 4, 7, 9, 16, 5, 11, 15, 15, 1, 4, 5, 7, 1, 2, 3, 4, 5, 6, 7, 8, 10, 11, 12, 6, 14, 1, 2, 3, 4, 5, 6, 7, 8, 10, 11, 18, 5, 9, 4, 9, 12, 9, 4, 12, 4, 12, 4, 2, 8, 1, 2, 3, 4, 5, 6, 7, 8, 10, 11, 16, 20, 8, 8, 3, 6, 1, 2, 3, 5, 8, 10, 11, 1, 2, 3, 4, 5, 6, 7, 8, 11, 6, 6, 1, 2, 1, 2, 5, 6, 16, 1, 6, 7, 11, 13, 15, 1, 2, 3, 4, 5, 6, 7, 8, 11, 8, 11, 11, 11, 1, 5, 20, 6, 1, 2, 3, 4, 5, 6, 7, 8, 10, 11, 5, 6, 1, 2, 3, 5, 6, 7, 8, 11, 5, 1, 3, 10, 10, 12, 17, 1, 2, 4, 5, 6, 7, 9, 13, 1, 2, 3, 10, 12, 15, 1, 2, 3, 8, 10, 11, 10, 1, 4, 6, 7, 8, 11, 13, 14, 6, 1, 2, 3, 4, 5, 6, 7, 8, 9, 10, 11, 12, 12, 1, 2, 3, 4, 5, 10, 11, 12, 12, 2, 8, 11, 13, 3, 6, 10, 5, 1, 3, 4, 6, 7, 8, 10, 13, 1, 10, 13, 9, 13, 5, 10, 18, 12, 4, 1, 2, 7, 13, 19, 10, 10, 12, 4, 7, 1, 4, 5, 9, 12, 8, 16, 16, 5, 11, 19, 15, 11, 11, 11, 8, 5, 1, 4, 6, 8, 3, 14, 18, 1, 2, 3, 4, 5, 6, 7, 8, 11, 1, 7, 10, 12, 1, 2, 3, 4, 5, 6, 7, 8, 9, 10, 11, 12, 2, 5, 8, 11, 5, 2, 1, 2, 3, 4, 5, 7, 8, 11, 1, 3, 9, 1, 2, 3, 13, 13, 9, 18, 1, 3, 20, 2, 5, 4, 7, 3, 7, 1, 1, 2, 3, 4, 5, 6, 7, 8, 10, 11, 13, 15, 1, 2, 3, 4, 5, 7, 8, 11, 12, 16, 7, 11, 1, 2, 3, 5, 8, 11, 1, 2, 3, 5, 7, 8, 11, 15, 1, 2, 3, 4, 5, 6, 7, 9, 12, 1, 2, 4, 5, 6, 7, 8, 11, 1, 2, 3, 1, 2, 3, 10, 1, 2, 3, 4, 5, 6, 7, 8, 11, 14, 6, 4, 6, 1, 2, 3, 4, 5, 6, 7, 8, 11, 1, 2, 6, 7, 2, 10, 12, 8, 7, 17, 14, 1, 2, 3, 4, 5, 6, 7, 8, 11, 12, 1, 2, 3, 4, 5, 6, 7, 8, 11, 13, 17, 1, 2, 3, 4, 5, 6, 9, 12, 1, 2, 4, 5, 6, 7, 9, 11, 15, 18, 17, 4, 12, 1, 2, 3, 4, 5, 6, 7, 8, 11, 12, 1, 3, 12, 1, 2, 3, 4, 5, 1, 2, 3, 4, 5, 6, 7, 8, 11, 1, 14, 2, 9, 12, 10, 1, 2, 3, 4, 5, 6, 7, 8, 10, 11, 7, 9, 1, 1, 10, 4, 5, 7, 9, 16, 1, 1, 3, 4, 20, 20, 1, 4, 5, 6, 7, 1, 2, 3, 10, 1, 17, 12, 2, 1, 2, 3, 1, 2, 3, 4, 5, 6, 7, 8, 11, 6, 2, 4, 7, 1, 3, 4, 12, 1, 2, 3, 3, 1, 1, 2, 3, 4, 5, 6, 7, 1, 13, 18, 2, 5, 6, 7, 8, 11, 5, 2, 5, 8, 11, 2, 9, 1, 2, 3, 5, 7, 8, 11, 7, 11, 8, 8, 1, 3, 4, 6, 10, 12, 1, 2, 6, 7, 8, 4, 1, 2, 3, 4, 5, 6, 7, 8, 9, 10, 11, 12, 5, 15, 16, 5, 20, 17, 5, 7, 19, 7, 14, 4, 3, 18, 12, 8, 8, 11, 4, 2, 5, 19, 6, 15, 4, 9, 1, 2, 3, 4, 5, 6, 7, 8, 10, 11, 12, 1, 2, 3, 4, 5, 6, 7, 8, 10, 11, 15, 12, 9, 9, 1, 2, 3, 4, 6, 2, 9, 4, 9, 12, 9, 19, 17, 7, 12, 13, 11, 1, 2, 3, 5, 6, 7, 8, 11, 2, 3, 2, 14, 2, 1, 6, 9, 12, 1, 2, 5, 6, 7, 8, 11, 7, 1, 1, 2, 3, 5, 6, 7, 8, 11, 20, 1, 2, 5, 9, 9, 1, 2, 3, 4, 5, 6, 7, 8, 10, 11, 11, 5, 2, 5, 7, 19, 1, 2, 3, 4, 5, 6, 7, 8, 10, 11, 12, 11, 1, 2, 3, 4, 6, 7, 8, 11, 4, 6, 19, 1, 2, 3, 8, 14, 14, 3, 1, 2, 3, 4, 5, 6, 7, 8, 11, 17, 3, 7, 17, 1, 3, 9, 1, 2, 3, 4, 5, 6, 7, 8, 9, 11, 12, 16, 13, 18, 1, 3, 2, 4, 9, 2, 9, 2, 9, 7, 9, 9, 11, 2, 7, 9, 2, 4, 9, 9, 10, 15, 1, 2, 3, 4, 5, 6, 7, 8, 10, 11, 12, 1, 2, 3, 4, 5, 6, 7, 9, 12, 7, 6, 7, 11, 13, 1, 2, 3, 4, 5, 6, 7, 8, 10, 11, 13, 14, 14, 15, 19, 3, 9, 19, 1, 2, 3, 4, 5, 6, 7, 8, 10, 11, 14, 4, 7, 9, 12, 6, 1, 2, 3, 4, 5, 6, 7, 8, 10, 11, 5, 1, 2, 3, 4, 5, 6, 7, 8, 19, 13, 20, 1, 2, 3, 4, 5, 6, 7, 8, 10, 11, 18, 1, 2, 5, 6, 7, 11, 13, 1, 2, 3, 4, 5, 6, 7, 8, 9, 10, 11, 7, 11, 2, 8, 10, 1, 1, 2, 3, 4, 5, 6, 7, 8, 10, 11, 12, 13, 5, 19, 1, 2, 3, 4, 5, 6, 7, 8, 1, 3, 4, 6, 7, 10, 12, 10, 1, 4, 5, 6, 7, 1, 2, 5, 7, 8, 9, 2, 2, 1, 2, 3, 4, 5, 6, 7, 8, 9, 11, 13, 5, 6, 6, 11, 13, 15, 13, 18, 18, 18, 1, 2, 3, 4, 5, 6, 7, 8, 9, 10, 12, 15, 1, 2, 3, 1, 2, 3, 4, 5, 6, 7, 9, 12, 15, 1, 2, 3, 4, 5, 6, 7, 8, 11, 1, 2, 3, 5, 6, 7, 8, 6, 20, 1, 11, 19, 8, 18, 1, 2, 3, 5, 9, 11, 12, 2, 4, 9, 1, 2, 3, 4, 5, 6, 9, 12, 7, 15, 6, 12, 4, 10, 12, 15, 18, 1, 2, 3, 14, 1, 4, 5, 6, 7, 8, 11, 12, 7, 1, 5, 6, 7, 8, 16, 16, 1, 2, 7, 1, 2, 5, 6, 9, 20, 18, 14, 11, 2, 1, 3, 10, 12, 10, 1, 3, 10, 10, 20, 1, 1, 2, 3, 4, 5, 6, 7, 8, 11, 5, 2, 1, 2, 3, 4, 5, 6, 7, 8, 10, 15, 2, 5, 10, 1, 2, 3, 4, 5, 6, 7, 8, 10, 11, 12, 11, 6, 18, 1, 2, 3, 10, 1, 2, 3, 4, 5, 6, 7, 8, 10, 11, 12, 11, 11, 8, 16, 2, 18, 11, 11, 6, 1, 2, 3, 10, 1, 2, 3, 12, 2, 6, 12, 2, 4, 1, 12, 4, 5, 7, 8, 11, 1, 2, 3, 4, 5, 6, 7, 8, 10, 1, 3, 4, 5, 6, 7, 10, 12, 8, 1, 3, 10, 10, 1, 3, 3, 4, 6, 10, 12, 1, 2, 7, 14, 2, 16, 2, 12, 9, 5, 19, 5, 18, 13, 13, 1, 3, 4, 6, 10, 12, 4, 1, 2, 3, 4, 5, 6, 10, 12, 1, 3, 6, 12, 1, 3, 10, 5, 4, 15, 20, 1, 2, 3, 4, 5, 6, 7, 9, 12, 4, 13, 1, 2, 3, 4, 5, 6, 7, 8, 11, 13, 15, 17, 7, 4, 5, 7, 8, 11, 1, 2, 3, 1, 1, 2, 3, 14, 1, 2, 3, 6, 7, 12, 13, 14, 9, 19, 8, 7, 8, 17, 1, 10, 2, 2, 11, 1, 2, 6, 9, 11, 12, 1, 4, 7, 3, 10, 4, 3, 4, 8, 1, 2, 3, 1, 3, 3, 1, 10, 1, 1, 2, 3, 10, 12, 1, 3, 14, 12, 1, 1, 3, 5, 6, 7, 8, 11, 3, 15, 2, 5, 12, 1, 2, 1, 2, 3, 5, 7, 17, 9, 16, 16, 12, 19, 9, 17, 10, 9, 1, 2, 5, 9, 1, 9, 1, 2, 9, 2, 1, 2, 3, 4, 5, 6, 7, 8, 11, 20, 20, 15, 1, 2, 14, 1, 6, 3, 3, 1, 2, 3, 4, 1, 2, 3, 18, 6, 1, 6, 7, 9, 9, 17, 1, 1, 3, 4, 5, 6, 7, 8, 11, 14, 1, 2, 3, 4, 5, 6, 7, 8, 9, 11, 19, 4, 5, 7, 1, 2, 3, 4, 5, 6, 7, 8, 11, 13, 7, 11, 18, 20, 2, 1, 3, 4, 5, 6, 7, 10, 1, 2, 3, 4, 5, 6, 7, 8, 10, 11, 1, 3, 4, 6, 7, 10, 12, 17, 3, 2, 3, 1, 3, 12, 1, 2, 4, 5, 6, 7, 8, 9, 11, 20, 6, 1, 2, 3, 4, 5, 6, 7, 8, 10, 11, 12, 13, 11, 1, 3, 6, 10, 12, 12, 2, 4, 7, 9, 12, 6, 1, 2, 3, 5, 6, 7, 8, 10, 11, 13, 1, 3, 6, 2, 4, 20, 3, 1, 2, 3, 4, 5, 6, 7, 8, 9, 11, 12, 10, 10, 15, 14, 4, 6, 10, 9, 16, 4, 1, 3, 4, 6, 10, 4, 4, 5, 6, 7, 15, 14, 5, 19, 16, 19, 1, 2, 3, 4, 5, 7, 8, 11, 15, 19, 17, 10, 12, 14, 12, 1, 3, 8, 18, 4, 2, 4, 9, 12, 12, 6, 1, 2, 3, 8, 10, 11, 11, 1, 3, 4, 6, 7, 10, 13, 13, 10, 8, 9, 16, 6, 1, 2, 3, 17, 1, 2, 3, 5, 6, 7, 9, 2, 17, 1, 2, 3, 4, 5, 6, 7, 4, 1, 1, 4, 5, 12, 1, 2, 3, 5, 6, 18, 1, 10, 13, 1, 14, 1, 14, 13, 13, 14, 9, 15, 1, 4, 5, 6, 5, 1, 3, 6, 12, 1, 3, 5, 6, 7, 8, 10, 11, 2, 5, 1, 3, 4, 7, 18, 1, 2, 3, 3, 1, 3, 20, 1, 2, 3, 9, 19, 1, 2, 4, 7, 9, 12, 15, 15, 2, 18, 1, 6, 9, 12, 3, 5, 9, 19, 1, 3, 4, 5, 6, 7, 8, 11, 1, 2, 3, 4, 5, 6, 7, 8, 9, 11, 15, 13, 1, 2, 3, 4, 5, 6, 7, 8, 11, 11, 12, 20, 15, 7, 1, 1, 1, 14, 1, 2, 3, 4, 5, 6, 7, 8, 11, 1, 2, 4, 5, 6, 7, 8, 11, 13, 9, 19, 16, 6, 1, 2, 4, 6, 7, 9, 20, 14, 1, 2, 3, 4, 5, 6, 7, 11, 12, 4, 8, 18, 3, 12, 1, 2, 3, 4, 5, 6, 7, 9, 12, 1, 2, 3, 4, 5, 6, 7, 8, 11, 19, 1, 2, 9, 12, 15, 16, 1, 5, 6, 7, 8, 11, 13, 1, 2, 4, 9, 12, 15, 1, 2, 3, 4, 5, 6, 7, 8, 10, 11, 12, 1, 14, 20, 20, 1, 2, 3, 4, 5, 6, 7, 6, 1, 9, 9, 9, 2, 1, 4, 6, 10, 12, 6, 1, 2, 3, 4, 5, 6, 7, 8, 9, 12, 14, 20, 20, 1, 7, 1, 2, 3, 6, 12, 15, 7, 15, 1, 2, 9, 12, 14, 1, 2, 3, 4, 5, 6, 7, 8, 18, 4, 17, 15, 4, 1, 2, 3, 4, 5, 7, 8, 9, 11, 12, 1, 2, 5, 6, 7, 8, 9, 11, 2, 5, 1, 7, 9, 1, 4, 5, 9, 1, 2, 3, 4, 5, 6, 7, 8, 11, 18, 5, 1, 2, 4, 5, 6, 7, 8, 11, 1, 2, 3, 14, 1, 1, 2, 4, 7, 1, 4, 6, 9, 6, 10, 12, 1, 3, 8, 2, 3, 11, 3, 1, 2, 4, 9, 13, 7, 15, 2, 16, 5, 1, 2, 3, 4, 5, 6, 7, 8, 9, 11, 18, 10, 4, 5, 6, 7, 12, 6, 1, 2, 3, 4, 6, 1, 10, 19, 6, 11, 1, 4, 5, 11, 1, 4, 12, 3, 10, 1, 2, 3, 4, 5, 6, 7, 8, 11, 1, 2, 4, 5, 6, 7, 9, 11, 9, 1, 2, 3, 4, 5, 6, 7, 10, 5, 18, 8, 1, 2, 3, 4, 5, 6, 7, 8, 9, 10, 11, 12, 7, 1, 2, 3, 4, 5, 6, 7, 8, 11, 2, 12, 1, 2, 3, 5, 6, 11, 19, 6, 1, 2, 3, 4, 5, 6, 7, 8, 9, 12, 1, 3, 9, 9, 1, 3, 5, 6, 7, 8, 13, 1, 2, 3, 8, 10, 1, 2, 3, 4, 5, 6, 7, 8, 9, 11, 4, 5, 9, 12, 1, 2, 3, 4, 5, 6, 7, 6, 10, 12, 19, 17, 10, 9, 12, 1, 2, 4, 8, 11, 13, 14, 1, 2, 4, 5, 6, 7, 8, 11, 14, 17, 8, 1, 10, 12, 13, 15, 4, 1, 1, 3, 10, 6, 4, 20, 1, 2, 3, 13, 16, 8, 7, 8, 1, 3, 4, 5, 6, 7, 8, 12, 1, 2, 3, 14, 7, 1, 2, 3, 5, 7, 8, 10, 11, 1, 2, 3, 5, 6, 20, 16, 7], \"Freq\": [0.30735066533088684, 0.4937507212162018, 0.1963483840227127, 0.0020943826530128717, 0.3866899311542511, 0.4353508949279785, 0.007965847849845886, 0.0022512178402394056, 0.06563165783882141, 0.0006926823989488184, 0.014892671257257462, 0.07480970025062561, 0.0005195118137635291, 0.0017317059682682157, 0.009351212531328201, 0.9664759039878845, 0.9678878784179688, 0.9735602736473083, 0.783656656742096, 0.9808523058891296, 0.6976074576377869, 0.46450281143188477, 0.07288740575313568, 0.368760883808136, 0.012353798374533653, 0.006794589105993509, 0.03644370287656784, 0.029649116098880768, 0.008029968477785587, 0.9949575662612915, 0.9661917090415955, 0.42969533801078796, 0.27223435044288635, 0.07893185317516327, 0.02214924432337284, 0.02617637813091278, 0.007248843554407358, 0.027787232771515846, 0.1071217954158783, 0.028592659160494804, 0.3906727433204651, 0.6049126386642456, 0.0110101867467165, 0.9872467517852783, 0.22540047764778137, 0.7701182961463928, 0.9222872257232666, 0.9911176562309265, 0.1999800056219101, 0.7374262809753418, 0.06249375268816948, 0.9535168409347534, 0.9987636208534241, 0.9823500514030457, 0.2566395401954651, 0.032079942524433136, 0.7057587504386902, 0.9438979625701904, 0.0019461814081296325, 0.03892362862825394, 0.01556945126503706, 0.9978424310684204, 0.9972176551818848, 0.9056516289710999, 0.0155254565179348, 0.05433909595012665, 0.01811303198337555, 0.005175152327865362, 0.07824235409498215, 0.9128274917602539, 0.984962522983551, 0.04500182718038559, 0.945038378238678, 0.07414501905441284, 0.34891772270202637, 0.20935063064098358, 0.36636361479759216, 0.007295582443475723, 0.036477912217378616, 0.5143385529518127, 0.4413827359676361, 0.0482594296336174, 0.9410589337348938, 0.9946039319038391, 0.9521390795707703, 0.9690069556236267, 0.8628048896789551, 0.007867648266255856, 0.983456015586853, 0.523650050163269, 0.882272481918335, 0.9898420572280884, 0.40145206451416016, 0.3135351240634918, 0.2777857482433319, 0.0002648100780788809, 0.006355441641062498, 0.0002648100780788809, 0.9093932509422302, 0.7136411070823669, 0.9595901966094971, 0.0960126519203186, 0.006400843150913715, 0.01920253038406372, 0.7937045693397522, 0.08321096003055573, 0.9900857210159302, 0.4021373689174652, 0.8721086978912354, 0.27031585574150085, 0.23202112317085266, 0.024778954684734344, 0.002252632286399603, 0.26355797052383423, 0.011263160966336727, 0.05406317114830017, 0.13290530443191528, 0.006757896393537521, 0.9072905778884888, 0.7774757742881775, 0.2600695490837097, 0.5201390981674194, 0.984127402305603, 0.9073993563652039, 0.08118835836648941, 0.009551571682095528, 0.9079625606536865, 0.020176945254206657, 0.07061930745840073, 0.01418083906173706, 0.9855682849884033, 0.9930624961853027, 0.1827630251646042, 0.05408293381333351, 0.7552961707115173, 0.007459715008735657, 0.9811899065971375, 0.24423246085643768, 0.5146327018737793, 0.24423246085643768, 0.9793168902397156, 0.8721086978912354, 0.9707550406455994, 0.19777533411979675, 0.762391984462738, 0.009569773450493813, 0.02232947200536728, 0.006379849277436733, 0.9721781611442566, 0.022263621911406517, 0.9197862148284912, 0.14586865901947021, 0.13260787725448608, 0.4773883521556854, 0.2386941760778427, 0.24289031326770782, 0.2783118188381195, 0.08349354565143585, 0.15433655679225922, 0.0556623637676239, 0.08096343278884888, 0.09867418557405472, 0.793976366519928, 0.18198244273662567, 0.8119216561317444, 0.9429081678390503, 0.04541180282831192, 0.9082360863685608, 0.32346704602241516, 0.09892439097166061, 0.13503964245319366, 0.23710449039936066, 0.07694119215011597, 0.06437936425209045, 0.043966393917798996, 0.01884273998439312, 0.0031404567416757345, 0.4825979173183441, 0.29180338978767395, 0.22310376167297363, 0.002040583174675703, 0.29898449778556824, 0.6859056353569031, 0.8619505763053894, 0.5829466581344604, 0.33311235904693604, 0.7069055438041687, 0.8721086978912354, 0.9934015274047852, 0.9065373539924622, 0.23999305069446564, 0.01777726225554943, 0.14221809804439545, 0.5599837899208069, 0.03555452451109886, 0.7973467707633972, 0.828852653503418, 0.22453193366527557, 0.029937591403722763, 0.15343016386032104, 0.25821173191070557, 0.23201633989810944, 0.09355497360229492, 0.9553396701812744, 0.8721086978912354, 0.012884046882390976, 0.785926878452301, 0.025768093764781952, 0.17393463850021362, 0.9514399766921997, 0.8721086978912354, 0.983452320098877, 0.9944221377372742, 0.8721086978912354, 0.9469985365867615, 0.6063712239265442, 0.29710933566093445, 0.04065706580877304, 0.23143252730369568, 0.2564522624015808, 0.1125888004899025, 0.04378453269600868, 0.015637332573533058, 0.9225516319274902, 0.8324753642082214, 0.9899477958679199, 0.6122652292251587, 0.03601560369133949, 0.007203120272606611, 0.007203120272606611, 0.15846864879131317, 0.17287489771842957, 0.830998957157135, 0.10995405912399292, 0.02537401393055916, 0.0021145010832697153, 0.004229002166539431, 0.02537401393055916, 0.9226574897766113, 0.045457419008016586, 0.8629806637763977, 0.0007102721720002592, 0.02059789188206196, 0.024149253964424133, 0.014915715903043747, 0.02628006972372532, 0.005682177376002073, 0.1324436217546463, 0.7779965996742249, 0.08858811855316162, 0.0008771100547164679, 0.45049017667770386, 0.5470237731933594, 0.009798633866012096, 0.6965938210487366, 0.1309453845024109, 0.08462456613779068, 0.008907848969101906, 0.01514334324747324, 0.03474061191082001, 0.018706483766436577, 0.17713233828544617, 0.7085293531417847, 0.9605758190155029, 0.5536860823631287, 0.9906028509140015, 0.8947043418884277, 0.00730039831250906, 0.006489242892712355, 0.07300398498773575, 0.01784541830420494, 0.6888460516929626, 0.9347575306892395, 0.9995761513710022, 0.46647465229034424, 0.12845851480960846, 0.20800992846488953, 0.006500310264527798, 0.10771942883729935, 0.0476689413189888, 0.012072005309164524, 0.01919139176607132, 0.003404924413189292, 0.9743183255195618, 0.8114294409751892, 0.2582366168498993, 0.7407313585281372, 0.47212231159210205, 0.47212231159210205, 0.8414196968078613, 0.030100705102086067, 0.0007000163896009326, 0.004900114610791206, 0.09450221061706543, 0.013300311751663685, 0.01400032825767994, 0.9950318932533264, 0.20741748809814453, 0.27655667066574097, 0.27655667066574097, 0.20741748809814453, 0.7188432216644287, 0.6233395934104919, 0.2727110683917999, 0.09090368449687958, 0.7774758338928223, 0.38409823179244995, 0.6134902238845825, 0.8144271373748779, 0.10180339217185974, 0.08144271373748779, 0.858637809753418, 0.04565155878663063, 0.047108523547649384, 0.048079829663038254, 0.9941945672035217, 0.7066588997840881, 0.3028538227081299, 0.36892828345298767, 0.14644481241703033, 0.0028162465896457434, 0.11828235536813736, 0.05069243907928467, 0.011264986358582973, 0.07885490357875824, 0.1830560266971588, 0.03942745178937912, 0.0028162465896457434, 0.5543234348297119, 0.2598990499973297, 0.02973015047609806, 0.033566299825906754, 0.0019180742092430592, 0.0009590371046215296, 0.004795185290277004, 0.10837119072675705, 0.0057542226277291775, 0.9860928654670715, 0.11759302020072937, 0.8701883554458618, 0.9731815457344055, 0.923407793045044, 0.9187581539154053, 0.6521254777908325, 0.9710795879364014, 0.0225832462310791, 0.7026991844177246, 0.0063535189256072044, 0.012707037851214409, 0.005082815419882536, 0.03939181938767433, 0.026684779673814774, 0.06988871097564697, 0.008894926868379116, 0.1270703822374344, 0.9850698709487915, 0.32726648449897766, 0.6545329689979553, 0.9926426410675049, 0.08546126633882523, 0.0017092253547161818, 0.1632310152053833, 0.06238672509789467, 0.047003697603940964, 0.28971368074417114, 0.3315897285938263, 0.017946865409612656, 0.9382458925247192, 0.9535970091819763, 0.7578914761543274, 0.8721086978912354, 0.0981912687420845, 0.02265952341258526, 0.13218054175376892, 0.08308491855859756, 0.24170157313346863, 0.35122260451316833, 0.07175515592098236, 0.9463150501251221, 0.9951345324516296, 0.9946621060371399, 0.08045176416635513, 0.04597243666648865, 0.05746554583311081, 0.04597243666648865, 0.21836906671524048, 0.4827105700969696, 0.04597243666648865, 0.757982075214386, 0.07009865343570709, 0.0063726045191287994, 0.10833428055047989, 0.0191178135573864, 0.7137317061424255, 0.031863022595644, 0.050980836153030396, 0.4998663365840912, 0.058350153267383575, 0.021395057439804077, 0.10114026814699173, 0.06807518005371094, 0.027230072766542435, 0.15365540981292725, 0.04862513020634651, 0.021395057439804077, 0.9836056232452393, 0.3180006742477417, 0.19538694620132446, 0.17520613968372345, 0.0391385443508625, 0.08622710406780243, 0.01009040605276823, 0.021709661930799484, 0.11863870918750763, 0.036080844700336456, 0.9753222465515137, 0.9911003112792969, 0.3768698275089264, 0.6124134659767151, 0.9584156274795532, 0.9830126166343689, 0.9313568472862244, 0.8753377199172974, 0.18860255181789398, 0.07380099594593048, 0.03280044347047806, 0.22140298783779144, 0.4838065505027771, 0.3206309974193573, 0.11948981136083603, 0.0049787419848144054, 0.13143879175186157, 0.30967774987220764, 0.02688520774245262, 0.08065562695264816, 0.005974490661174059, 0.9899448752403259, 0.9849797487258911, 0.994444727897644, 0.06025802716612816, 0.48206421732902527, 0.45528286695480347, 0.5349305868148804, 0.019926084205508232, 0.028087299317121506, 0.1476438045501709, 0.06793946772813797, 0.048437342047691345, 0.08510981500148773, 0.050981100648641586, 0.0019078166224062443, 0.00932710338383913, 0.005829439498484135, 0.9663088917732239, 0.9752034544944763, 0.0337567999958992, 0.1687840074300766, 0.7899091243743896, 0.43632781505584717, 0.12247797846794128, 0.003827436827123165, 0.09377220273017883, 0.25835198163986206, 0.02679205872118473, 0.05549783632159233, 0.9676438570022583, 0.08790941536426544, 0.6446690559387207, 0.26372823119163513, 0.5714353322982788, 0.18232418596744537, 0.2323964536190033, 0.0030578479636460543, 0.0011466930154711008, 0.00573346484452486, 0.0022933860309422016, 0.0015289239818230271, 0.20477832853794098, 0.009308106265962124, 0.7818809151649475, 0.05749702453613281, 0.054114844650030136, 0.2976316511631012, 0.08455444872379303, 0.36189302802085876, 0.14205147325992584, 0.3718019425868988, 0.5266827940940857, 0.10120052844285965, 0.0004400023026391864, 0.6393870711326599, 0.04819994792342186, 0.10722029209136963, 0.023608136922121048, 0.1495182067155838, 0.031477514654397964, 0.9960601925849915, 0.9706857204437256, 0.9794820547103882, 0.11102546006441116, 0.57891845703125, 0.05551273003220558, 0.10309506952762604, 0.1506774127483368, 0.9684765934944153, 0.030264893546700478, 0.9951569437980652, 0.2990371882915497, 0.1806214600801468, 0.0007494666497223079, 0.021734531968832016, 0.12216305732727051, 0.008244132623076439, 0.038222797214984894, 0.20085705816745758, 0.08394026011228561, 0.029978664591908455, 0.015738798305392265, 0.9520871639251709, 0.04555441066622734, 0.9861651062965393, 0.9622128009796143, 0.36691173911094666, 0.27564942836761475, 0.059599876403808594, 0.018624961376190186, 0.04283741116523743, 0.02421244978904724, 0.04283741116523743, 0.1694871485233307, 0.9181234240531921, 0.47668731212615967, 0.10532628744840622, 0.3103697597980499, 0.16266366839408875, 0.07790406048297882, 0.15456165373325348, 0.030538391321897507, 0.047365669161081314, 0.10719598084688187, 0.003739394713193178, 0.9264147281646729, 0.9079273343086243, 0.9009578227996826, 0.10296660661697388, 0.797007143497467, 0.9860230088233948, 0.4289696216583252, 0.4289696216583252, 0.41063863039016724, 0.14521412551403046, 0.3226446211338043, 0.023561231791973114, 0.011059354059398174, 0.046641621738672256, 0.02211870811879635, 0.014906086027622223, 0.0014425243716686964, 0.0014425243716686964, 0.8584684133529663, 0.9923253059387207, 0.994756281375885, 0.6871703863143921, 0.8721086978912354, 0.9502097964286804, 0.2702307105064392, 0.7206152081489563, 0.9898120760917664, 0.9793264269828796, 0.3164190351963043, 0.038638629019260406, 0.5017800331115723, 0.029762186110019684, 0.006787866819649935, 0.06735652685165405, 0.014620020985603333, 0.019319314509630203, 0.004699292592704296, 0.5414929389953613, 0.32468560338020325, 0.09106608480215073, 0.004553304053843021, 0.00385279580950737, 0.0056040664203464985, 0.0007005083025433123, 0.01716245338320732, 0.008756354451179504, 0.002101524965837598, 0.07000270485877991, 0.9275358319282532, 0.8716778755187988, 0.9810596108436584, 0.9916602969169617, 0.206697478890419, 0.5511932969093323, 0.15502311289310455, 0.08612395077943802, 0.49576279520988464, 0.9869254231452942, 0.6384385228157043, 0.1466008722782135, 0.1454128623008728, 0.011642533354461193, 0.011880136094987392, 0.016156984493136406, 0.004989657085388899, 0.02185945026576519, 0.0028512326534837484, 0.9907665252685547, 0.9316437840461731, 0.04050625115633011, 0.6696177124977112, 0.9922393560409546, 0.6286247372627258, 0.24047183990478516, 0.12807738780975342, 0.00043563739745877683, 0.00043563739745877683, 0.00043563739745877683, 0.0013069121632725, 0.47668731212615967, 0.4844471216201782, 0.5086694955825806, 0.7554892301559448, 0.979719877243042, 0.9941363334655762, 0.9904404878616333, 0.9407408833503723, 0.9139098525047302, 0.8599822521209717, 0.145210862159729, 0.0064538163132965565, 0.8454499244689941, 0.20530936121940613, 0.025663670152425766, 0.7673437595367432, 0.6469529271125793, 0.09613356739282608, 0.23383840918540955, 0.023383840918540955, 0.9648389220237732, 0.07864435762166977, 0.9175174832344055, 0.0699080154299736, 0.6116951107978821, 0.3145860433578491, 0.9248166084289551, 0.9567092657089233, 0.062282994389534, 0.2595124840736389, 0.028546372428536415, 0.009082936681807041, 0.2997369170188904, 0.01946343667805195, 0.031141497194767, 0.2647027373313904, 0.027248810976743698, 0.9949760437011719, 0.9073693752288818, 0.977472722530365, 0.9864888191223145, 0.9653134346008301, 0.9661425948143005, 0.9731875061988831, 0.9800537824630737, 0.855228066444397, 0.8197104930877686, 0.2267915904521942, 0.06280382722616196, 0.1360749453306198, 0.013956405222415924, 0.006978202611207962, 0.1465422511100769, 0.2267915904521942, 0.16049866378307343, 0.020934607833623886, 0.935806393623352, 0.8906974196434021, 0.18492765724658966, 0.016560686752200127, 0.03588148579001427, 0.11868491768836975, 0.06072251498699188, 0.09660400450229645, 0.43885818123817444, 0.04692194238305092, 0.7029610872268677, 0.24977856874465942, 0.055506348609924316, 0.055506348609924316, 0.049955710768699646, 0.2775317430496216, 0.1776203066110611, 0.08048420399427414, 0.008325952105224133, 0.01942722126841545, 0.027753174304962158, 0.9202359914779663, 0.07078738510608673, 0.9426853060722351, 0.9523319005966187, 0.9464555978775024, 0.042064692825078964, 0.9939506649971008, 0.6806623339653015, 0.03478940576314926, 0.009075497277081013, 0.09831789135932922, 0.16940928995609283, 0.0060503315180540085, 0.0015125828795135021, 0.9316129088401794, 0.9152311086654663, 0.7128625512123108, 0.47534069418907166, 0.20204026997089386, 0.2517312467098236, 0.021569164469838142, 0.007917794398963451, 0.01801980845630169, 0.006006602663546801, 0.010102013126015663, 0.0038223834708333015, 0.001365136937238276, 0.002184219192713499, 0.013291733339428902, 0.23925119638442993, 0.11962559819221497, 0.06645866483449936, 0.564898669719696, 0.8277546763420105, 0.28178098797798157, 0.6762743592262268, 0.606371283531189, 0.4999818801879883, 0.3125823736190796, 0.6367418766021729, 0.023154251277446747, 0.023154251277446747, 0.5605623126029968, 0.12927193939685822, 0.1220741719007492, 0.048656921833753586, 0.018138380721211433, 0.04606572538614273, 0.04894483461976051, 0.016410915181040764, 0.003167018759995699, 0.003742840373888612, 0.003167018759995699, 0.790648341178894, 0.1664522886276245, 0.37367936968803406, 0.07253775745630264, 0.2982107996940613, 0.03663523122668266, 0.06667612493038177, 0.07400316745042801, 0.030040889978408813, 0.04469498246908188, 0.0007327046478167176, 0.0029308185912668705, 0.9449948072433472, 0.11047788709402084, 0.8838230967521667, 0.41390061378479004, 0.42057642340660095, 0.16689540445804596, 0.9731171131134033, 0.9844961166381836, 0.9752174019813538, 0.8334084749221802, 0.15626409649848938, 0.9970470070838928, 0.13126201927661896, 0.8532031178474426, 0.2991945445537567, 0.056958261877298355, 0.3771030008792877, 0.07659904658794403, 0.022259552031755447, 0.08969289809465408, 0.05433949455618858, 0.018331395462155342, 0.0006546927033923566, 0.0045828488655388355, 0.6552950143814087, 0.6565114259719849, 0.9102940559387207, 0.9254730939865112, 0.031306471675634384, 0.9391941428184509, 0.5543532371520996, 0.12777920067310333, 0.19070369005203247, 0.008106837049126625, 0.08106837421655655, 0.03281338885426521, 0.005018518306314945, 0.29886019229888916, 0.13546745479106903, 0.5145386457443237, 0.016636352986097336, 0.015448042191565037, 0.0005941554554738104, 0.008318176493048668, 0.0017824664246290922, 0.008318176493048668, 0.9536685943603516, 0.9933030009269714, 0.05016493424773216, 0.9431007504463196, 0.15948481857776642, 0.8191016912460327, 0.01470976509153843, 0.006193585228174925, 0.6717557311058044, 0.2576788067817688, 0.1610492616891861, 0.0644197016954422, 0.5153576135635376, 0.7678477168083191, 0.21499735116958618, 0.5147457718849182, 0.13042882084846497, 0.014934597536921501, 0.03783431276679039, 0.16228929162025452, 0.01792151667177677, 0.0019912796560674906, 0.10752910375595093, 0.011947677470743656, 0.9420515298843384, 0.9051013588905334, 0.9635318517684937, 0.9619184732437134, 0.3276207745075226, 0.6654797196388245, 0.8209400773048401, 0.9835072755813599, 0.5384861826896667, 0.15008655190467834, 0.1881152242422104, 0.011662130244076252, 0.0030422948766499758, 0.02636655606329441, 0.0035493439063429832, 0.053747210651636124, 0.0045634424313902855, 0.020281964913010597, 0.9377890825271606, 0.9843875765800476, 0.3967411518096924, 0.00961796659976244, 0.1106066182255745, 0.1526852250099182, 0.05891004949808121, 0.14426951110363007, 0.07814598083496094, 0.04808983579277992, 0.921958327293396, 0.047526583075523376, 0.9505317211151123, 0.9793180227279663, 0.97802734375, 0.9825248718261719, 0.855228066444397, 0.6108219027519226, 0.007587849628180265, 0.013278736732900143, 0.0967450812458992, 0.08726026862859726, 0.05121798440814018, 0.12519952654838562, 0.007587849628180265, 0.2804386019706726, 0.02939094603061676, 0.61353600025177, 0.07592660933732986, 0.001224622712470591, 0.523650050163269, 0.2631189525127411, 0.08512672036886215, 0.4475601613521576, 0.05288174748420715, 0.14961665868759155, 0.0012897987617179751, 0.9891815781593323, 0.24713578820228577, 0.04435770586133003, 0.3421880006790161, 0.20277808606624603, 0.10138904303312302, 0.012673630379140377, 0.019010445103049278, 0.03168407455086708, 0.9927361011505127, 0.2232639044523239, 0.23476767539978027, 0.03557085990905762, 0.05282651260495186, 0.20192138850688934, 0.012563325464725494, 0.08007227629423141, 0.12881192564964294, 0.0022704803850501776, 0.00015136536967474967, 0.01846657507121563, 0.009233287535607815, 0.9591705799102783, 0.18533681333065033, 0.70816969871521, 0.0640670508146286, 0.003432163270190358, 0.01601676270365715, 0.004576217848807573, 0.004576217848807573, 0.013728653080761433, 0.9575473666191101, 0.07247081398963928, 0.8334143757820129, 0.0815296620130539, 0.9383001923561096, 0.03321868181228638, 0.6112237572669983, 0.3587617576122284, 0.9902194738388062, 0.3857157826423645, 0.13106846809387207, 0.19285789132118225, 0.11421680450439453, 0.08613070845603943, 0.048682574182748795, 0.03557572513818741, 0.0037448133807629347, 0.2685317099094391, 0.6591233015060425, 0.07323592156171799, 0.9592702388763428, 0.955941379070282, 0.7829340696334839, 0.1739853471517563, 0.969446063041687, 0.9365345239639282, 0.992642343044281, 0.5618607401847839, 0.07661737501621246, 0.07661737501621246, 0.2553912401199341, 0.5913395285606384, 0.9918566346168518, 0.9972667098045349, 0.9314635396003723, 0.9538012146949768, 0.02510003186762333, 0.057342950254678726, 0.1768074333667755, 0.028671475127339363, 0.7024511098861694, 0.03345005214214325, 0.9688631892204285, 0.8784562945365906, 0.769704282283783, 0.9253473877906799, 0.9885925054550171, 0.8690353631973267, 0.8551981449127197, 0.9846705794334412, 0.954397439956665, 0.969292938709259, 0.9615241289138794, 0.9130822420120239, 0.060787711292505264, 0.020262569189071655, 0.8915531039237976, 0.04052513837814331, 0.991642951965332, 0.7813611030578613, 0.6489315032958984, 0.25773927569389343, 0.033391322940588, 0.16800010204315186, 0.04486959055066109, 0.3026088774204254, 0.10017397254705429, 0.07513047754764557, 0.01460870448499918, 0.0031304366420954466, 0.056128788739442825, 0.01122575718909502, 0.864383339881897, 0.056128788739442825, 0.45220112800598145, 0.2688763439655304, 0.2046758532524109, 0.03416172415018082, 0.011485408060252666, 0.007215192075818777, 0.010307417251169682, 0.009276675060391426, 0.0005889952881261706, 0.00014724882203154266, 0.0005889952881261706, 0.0005889952881261706, 0.8211954236030579, 0.021766625344753265, 0.15038758516311646, 0.003957568202167749, 0.9378849267959595, 0.9993062019348145, 0.10153727233409882, 0.23076651990413666, 0.12922924757003784, 0.006153773982077837, 0.10461415350437164, 0.0030768869910389185, 0.3230731189250946, 0.10461415350437164, 0.00466159638017416, 0.9556272625923157, 0.03729277104139328, 0.9289548993110657, 0.06155725196003914, 0.005596113856881857, 0.985499382019043, 0.9776611328125, 0.16095605492591858, 0.8047803044319153, 0.009590493515133858, 0.9878208637237549, 0.7542856335639954, 0.47906023263931274, 0.5210830569267273, 0.19039954245090485, 0.7933314442634583, 0.9954907298088074, 0.9918426275253296, 0.9961763620376587, 0.1430433690547943, 0.08026894181966782, 0.059687159955501556, 0.06997805088758469, 0.18729420006275177, 0.010290890000760555, 0.142014279961586, 0.2696213126182556, 0.009261800907552242, 0.027785401791334152, 0.9151527881622314, 0.7622195482254028, 0.26554474234580994, 0.1797533631324768, 0.04698099195957184, 0.018383866176009178, 0.12664441764354706, 0.07762076705694199, 0.2573741376399994, 0.0224691703915596, 0.004085303749889135, 0.7400217056274414, 0.0873577892780304, 0.873577892780304, 0.2917972803115845, 0.28338003158569336, 0.0028057429008185863, 0.1711503267288208, 0.13748140633106232, 0.11503545939922333, 0.028024908155202866, 0.3419038653373718, 0.07286476343870163, 0.0504448339343071, 0.03923486918210983, 0.4035586714744568, 0.05604981631040573, 0.6059637069702148, 0.4554876387119293, 0.0016807662323117256, 0.02857302688062191, 0.09580367803573608, 0.06218834966421127, 0.05882681906223297, 0.038657624274492264, 0.19160735607147217, 0.06723064929246902, 0.32076674699783325, 0.03421511873602867, 0.1924600452184677, 0.03421511873602867, 0.051322679966688156, 0.269444078207016, 0.08553779870271683, 0.008553779684007168, 0.6645358800888062, 0.08428855985403061, 0.25103330612182617, 0.7730472087860107, 0.14012940227985382, 0.06422597914934158, 0.023354901000857353, 0.49880751967430115, 0.016557926312088966, 0.000827896292321384, 0.054641157388687134, 0.23181097209453583, 0.023595044389367104, 0.055469051003456116, 0.10886836051940918, 0.009106859564781189, 0.7029610872268677, 0.9713321924209595, 0.9648489356040955, 0.9742621779441833, 0.37319648265838623, 0.21184389293193817, 0.2711162865161896, 0.026892099529504776, 0.030733829364180565, 0.053235381841659546, 0.023050371557474136, 0.007683457341045141, 0.0010976367630064487, 0.32806745171546936, 0.12998899817466736, 0.507576048374176, 0.0247598085552454, 0.9945249557495117, 0.8870424032211304, 0.0933728814125061, 0.9548738598823547, 0.987103283405304, 0.538841962814331, 0.9169700741767883, 0.4612157344818115, 0.24830372631549835, 0.18032917380332947, 0.04213298484683037, 0.008988370187580585, 0.010111916810274124, 0.011797236278653145, 0.008988370187580585, 0.028088657185435295, 0.0005617731367237866, 0.452288419008255, 0.058459047228097916, 0.029229523614048958, 0.07999659329652786, 0.09691894799470901, 0.06845861673355103, 0.09307295829057693, 0.10845691710710526, 0.01230716798454523, 0.0007691979990340769, 0.855228066444397, 0.8043959140777588, 0.1507733017206192, 0.008149907924234867, 0.0024449725169688463, 0.008964898996055126, 0.011409871280193329, 0.013039853423833847, 0.0016299816779792309, 0.2642126977443695, 0.14376278221607208, 0.06605317443609238, 0.4351738393306732, 0.03108384646475315, 0.042740289121866226, 0.007770961616188288, 0.003885480808094144, 0.6063712239265442, 0.7734901309013367, 0.855228066444397, 0.06963884830474854, 0.905305027961731, 0.3628869652748108, 0.003888074541464448, 0.07776149362325668, 0.20347590744495392, 0.05572906881570816, 0.04017677158117294, 0.16718719899654388, 0.06220919266343117, 0.005184099543839693, 0.023328447714447975, 0.8819922804832458, 0.09270188957452774, 0.023837629705667496, 0.8500567674636841, 0.009315690957009792, 0.1164461299777031, 0.002328922739252448, 0.020960303023457527, 0.4910416305065155, 0.006344207096844912, 0.006344207096844912, 0.07613048702478409, 0.05202249810099602, 0.07613048702478409, 0.1535298079252243, 0.12434645742177963, 0.013957255519926548, 0.5992755889892578, 0.38135719299316406, 0.17635700106620789, 0.7877278923988342, 0.03527139872312546, 0.97361159324646, 0.5013261437416077, 0.20620787143707275, 0.06641499698162079, 0.043383993208408356, 0.06641499698162079, 0.024102218449115753, 0.028922662138938904, 0.04017036408185959, 0.0058916532434523106, 0.017139354720711708, 0.9417837262153625, 0.9554412961006165, 0.9932288527488708, 0.07627800852060318, 0.9153361320495605, 0.399577796459198, 0.060313630849123, 0.08293124288320541, 0.4598914384841919, 0.6777950525283813, 0.9965084791183472, 0.036842651665210724, 0.9497216939926147, 0.012280884198844433, 0.7863269448280334, 0.8721086978912354, 0.10399675369262695, 0.33179914951324463, 0.14361456036567688, 0.3417036235332489, 0.07428339123725891, 0.2843036949634552, 0.22053465247154236, 0.4928816556930542, 0.0013285219902172685, 0.9843648076057434, 0.48177370429039, 0.9742470979690552, 0.9903096556663513, 0.06736990809440613, 0.019248545169830322, 0.9143058657646179, 0.5279908180236816, 0.23324896395206451, 0.12450042366981506, 0.019386926665902138, 0.020901530981063843, 0.029383311048150063, 0.01968984864652157, 0.02029568888247013, 0.003937969449907541, 0.9909393191337585, 0.05230623111128807, 0.9153590202331543, 0.9693835973739624, 0.37207359075546265, 0.3842727243900299, 0.02439826913177967, 0.21348485350608826, 0.020269233733415604, 0.005791209638118744, 0.972923219203949, 0.9973556399345398, 0.9789295792579651, 0.6505540013313293, 0.11586057394742966, 0.0012391505297273397, 0.0600988008081913, 0.10718651860952377, 0.04584857076406479, 0.018587257713079453, 0.9812458753585815, 0.3032916486263275, 0.606583297252655, 0.4197370707988739, 0.27982470393180847, 0.010114146396517754, 0.07248471677303314, 0.20902569591999054, 0.006742764264345169, 0.9651823043823242, 0.3739313781261444, 0.5369271039962769, 0.009587984532117844, 0.07670387625694275, 0.061457566916942596, 0.9218634963035583, 0.004768121521919966, 0.4688652753829956, 0.007946869358420372, 0.2129760980606079, 0.0015893738018348813, 0.2447635680437088, 0.05880683287978172, 0.1868734508752823, 0.7474938035011292, 0.9759523868560791, 0.955650806427002, 0.08566136658191681, 0.009178003296256065, 0.13461072742938995, 0.024474676698446274, 0.42830684781074524, 0.3151114583015442, 0.42769816517829895, 0.007920335978269577, 0.11088471114635468, 0.007920335978269577, 0.4514591693878174, 0.9601441621780396, 0.30545559525489807, 0.1599767506122589, 0.09098678082227707, 0.09698590636253357, 0.1189827099442482, 0.004499346017837524, 0.048492953181266785, 0.12148234248161316, 0.001499782083556056, 0.012498184107244015, 0.01849731244146824, 0.019997093826532364, 0.9685975313186646, 0.6063712239265442, 0.8750468492507935, 0.9494715929031372, 0.5418057441711426, 0.7724924087524414, 0.9399176239967346, 0.9863124489784241, 0.6949054002761841, 0.9386533498764038, 0.9386388659477234, 0.9861221313476562, 0.9320418834686279, 0.0508386492729187, 0.993728518486023, 0.9868975877761841, 0.9597621560096741, 0.9763273000717163, 0.9918044805526733, 0.670793890953064, 0.20123817026615143, 0.06707939505577087, 0.9923200607299805, 0.8902456164360046, 0.9785116910934448, 0.9769386649131775, 0.5726850032806396, 0.219004824757576, 0.13467538356781006, 0.007866552099585533, 0.025802291929721832, 0.013845132663846016, 0.0062932418659329414, 0.011013173498213291, 0.00471993163228035, 0.0022026346996426582, 0.0015733104664832354, 0.559904932975769, 0.2974753677845001, 0.02373180165886879, 0.03844919800758362, 0.018672697246074677, 0.011130031198263168, 0.018672697246074677, 0.022995932027697563, 0.0011957883834838867, 0.0077266329899430275, 0.6741662621498108, 0.953788697719574, 0.9661425948143005, 0.9756048917770386, 0.008659601211547852, 0.06234912946820259, 0.8832793235778809, 0.008659601211547852, 0.038102246820926666, 0.21646839380264282, 0.7792862057685852, 0.4853254556655884, 0.33405518531799316, 0.17648199200630188, 0.9949827790260315, 0.8518394231796265, 0.8552281856536865, 0.9510048627853394, 0.26081573963165283, 0.7172432541847229, 0.8793148398399353, 0.0431947186589241, 0.7711057066917419, 0.039355188608169556, 0.030076323077082634, 0.017597848549485207, 0.04927397519350052, 0.041594915091991425, 0.007359100040048361, 0.939422607421875, 0.058194320648908615, 0.9962393641471863, 0.8806467056274414, 0.9974642395973206, 0.03830905631184578, 0.9385718703269958, 0.25498008728027344, 0.7285144925117493, 0.566451907157898, 0.03518334776163101, 0.14659728109836578, 0.05629335716366768, 0.00351833482272923, 0.1712256371974945, 0.021110009402036667, 0.9900630116462708, 0.9945739507675171, 0.20407253503799438, 0.08381550759077072, 0.10203626751899719, 0.24415820837020874, 0.003644152544438839, 0.003644152544438839, 0.2623789608478546, 0.09839211404323578, 0.8721086978912354, 0.06031598895788193, 0.8564870357513428, 0.03417906165122986, 0.04825279116630554, 0.9583253264427185, 0.4723820984363556, 0.3017350435256958, 0.014737701043486595, 0.017840374261140823, 0.0488671138882637, 0.027148395776748657, 0.06438048183917999, 0.04654010757803917, 0.0015513369580730796, 0.004654010757803917, 0.9217894673347473, 0.9671675562858582, 0.1420878916978836, 0.852527379989624, 0.9570664763450623, 0.6556451320648193, 0.4650428593158722, 0.11463669687509537, 0.2325214296579361, 0.047192104160785675, 0.03133402764797211, 0.0487205944955349, 0.02025248296558857, 0.03076084516942501, 0.002674856223165989, 0.006305017974227667, 0.0005731834680773318, 0.9555966854095459, 0.18169718980789185, 0.04836989939212799, 0.4852493107318878, 0.03751767799258232, 0.19533997774124146, 0.02666545659303665, 0.021394379436969757, 0.0037207615096122026, 0.9625986814498901, 0.9880550503730774, 0.6556448936462402, 0.4050271511077881, 0.019287006929516792, 0.34716612100601196, 0.05786101892590523, 0.15429605543613434, 0.9386388659477234, 0.9989611506462097, 0.004320970736443996, 0.15339446067810059, 0.13827106356620789, 0.03456776589155197, 0.11018475890159607, 0.05617262050509453, 0.18796223402023315, 0.2419743686914444, 0.07129602134227753, 0.8722724914550781, 0.4641387462615967, 0.5268601775169373, 0.9047588109970093, 0.012009241618216038, 0.9097000956535339, 0.0780600756406784, 0.4781942367553711, 0.2652713358402252, 0.044702041894197464, 0.026468314230442047, 0.08058131486177444, 0.002352739218622446, 0.025880130007863045, 0.03882019594311714, 0.011175510473549366, 0.0017645542975515127, 0.02411557547748089, 0.7056189775466919, 0.34643125534057617, 0.5196468830108643, 0.301774263381958, 0.6986073851585388, 0.6295682787895203, 0.030392952263355255, 0.3397497832775116, 0.17225076258182526, 0.8271822333335876, 0.5017509460449219, 0.4982665777206421, 0.07210440188646317, 0.9193311333656311, 0.962740957736969, 0.027506886050105095, 0.4845576882362366, 0.023493707180023193, 0.48749440908432007, 0.4920658767223358, 0.06906187534332275, 0.4359530806541443, 0.983452320098877, 0.9836462140083313, 0.9157652258872986, 0.4606999456882477, 0.2324809581041336, 0.15059003233909607, 0.02597779408097267, 0.046678848564624786, 0.016337597742676735, 0.029529446735978127, 0.03297962248325348, 0.0015221363864839077, 0.0031457485165446997, 0.0001014757581287995, 0.5860265493392944, 0.21924707293510437, 0.16965335607528687, 0.012844418175518513, 0.0005351841100491583, 0.0062438142485916615, 0.001605552271939814, 0.0008919734973460436, 0.0030327097047120333, 0.9923935532569885, 0.09218078851699829, 0.7681732177734375, 0.12290771305561066, 0.8939469456672668, 0.3849277198314667, 0.08310939371585846, 0.10498028993606567, 0.19027677178382874, 0.07436103373765945, 0.034993428736925125, 0.048115964978933334, 0.024057982489466667, 0.006561268121004105, 0.006561268121004105, 0.03280634060502052, 0.010935446247458458, 0.8101451396942139, 0.8142589330673218, 0.8403007388114929, 0.9983121752738953, 0.8233571648597717, 0.09148412942886353, 0.4177626967430115, 0.01016179472208023, 0.1456523984670639, 0.18855775892734528, 0.08129435777664185, 0.006774530280381441, 0.027098121121525764, 0.03838900476694107, 0.05984168127179146, 0.02371085435152054, 0.0011290883412584662, 0.4382287561893463, 0.075556680560112, 0.4344509243965149, 0.04533400759100914, 0.9803392291069031, 0.5480700135231018, 0.2074068784713745, 0.10459897667169571, 0.015761489048600197, 0.042985882610082626, 0.011462901718914509, 0.0007164313574321568, 0.058747369796037674, 0.0003582156787160784, 0.009671823121607304, 0.9824910759925842, 0.46761706471443176, 0.028825709596276283, 0.3676879405975342, 0.03202856704592705, 0.00960856955498457, 0.06918170303106308, 0.019857710227370262, 0.004483999218791723, 0.6274546980857849, 0.9261056184768677, 0.7483275532722473, 0.42889806628227234, 0.42542362213134766, 0.03204188868403435, 0.007720937021076679, 0.06369773298501968, 0.0007720937137492001, 0.0011581405997276306, 0.027795374393463135, 0.00887907762080431, 0.0038604685105383396, 0.8112062811851501, 0.31476545333862305, 0.02687022089958191, 0.20344595611095428, 0.11899669468402863, 0.29941102862358093, 0.03454742580652237, 0.0038386029191315174, 0.3835526704788208, 0.38183653354644775, 0.1505894660949707, 0.03046111762523651, 0.0051483577117323875, 0.013728953897953033, 0.013299924321472645, 0.009009625762701035, 0.0017161192372441292, 0.0004290298093110323, 0.009867685846984386, 0.8932976722717285, 0.08120887726545334, 0.9921800494194031, 0.9036241769790649, 0.964139997959137, 0.9876973628997803, 0.3838788866996765, 0.2532516419887543, 0.062473904341459274, 0.04388662427663803, 0.0689278170466423, 0.0038723493926227093, 0.01652202382683754, 0.13114356994628906, 0.0020652529783546925, 0.017038337886333466, 0.004904975648969412, 0.012391517870128155, 0.9683196544647217, 0.6886699795722961, 0.33103856444358826, 0.09977409988641739, 0.38720279932022095, 0.012554356828331947, 0.01850115694105625, 0.08986276388168335, 0.04096684977412224, 0.01982266828417778, 0.34100157022476196, 0.007359746377915144, 0.03679873049259186, 0.009812994860112667, 0.03679873049259186, 0.34100157022476196, 0.22569888830184937, 0.9563277959823608, 0.1923331618309021, 0.12822210788726807, 0.009158722124993801, 0.5586820244789124, 0.10990466177463531, 0.0454014427959919, 0.8083979487419128, 0.0428791418671608, 0.059274107217788696, 0.0214395709335804, 0.0214395709335804, 0.9984147548675537, 0.997506856918335, 0.28941747546195984, 0.23473747074604034, 0.013808086514472961, 0.016017379239201546, 0.19773179292678833, 0.020435966551303864, 0.07014507800340652, 0.13366226851940155, 0.0027616173028945923, 0.02209293842315674, 0.9740636348724365, 0.9904884099960327, 0.9551159739494324, 0.2967926561832428, 0.6306843757629395, 0.0741981640458107, 0.5894415974617004, 0.9740636348724365, 0.9386069178581238, 0.8335273265838623, 0.8152990937232971, 0.5693362951278687, 0.3243834674358368, 0.02514471486210823, 0.04396161809563637, 0.008825628086924553, 0.002830861834809184, 0.024145586416125298, 0.000499563873745501, 0.00016652129124850035, 0.00016652129124850035, 0.000499563873745501, 0.5781468152999878, 0.9637336730957031, 0.020750246942043304, 0.013833497650921345, 0.5126307606697083, 0.23494592308998108, 0.21227777004241943, 0.012750834226608276, 0.0028335186652839184, 0.013459214009344578, 0.006139290519058704, 0.003305771853774786, 0.001889012404717505, 0.6063712239265442, 0.5392606258392334, 0.04888481646776199, 0.2184540331363678, 0.06339749693870544, 0.0015276505146175623, 0.08783990889787674, 0.016804154962301254, 0.018331807106733322, 0.0045829517766833305, 0.3448863923549652, 0.011270797811448574, 0.12623293697834015, 0.11947045475244522, 0.2276701033115387, 0.060862306505441666, 0.11045381426811218, 0.9623191952705383, 0.7498270869255066, 0.47190043330192566, 0.508200466632843, 0.6886699795722961, 0.8126777410507202, 0.16253554821014404, 0.5712471008300781, 0.3876035213470459, 0.010755699127912521, 0.001593436929397285, 0.02549499087035656, 0.0027885145973414183, 0.00039835923234932125, 0.024195481091737747, 0.37502995133399963, 0.5927892923355103, 0.6069161295890808, 0.23604749143123627, 0.06807362288236618, 0.06100103631615639, 0.0008840730297379196, 0.0004420365148689598, 0.025196081027388573, 0.0017681460594758391, 0.7207702398300171, 0.14415405690670013, 0.05877969413995743, 0.9404751062393188, 0.9795008897781372, 0.8197029232978821, 0.17387637495994568, 0.5198990106582642, 0.9161030054092407, 0.6152137517929077, 0.24126029014587402, 0.12264064699411392, 0.022115526720881462, 0.08011563122272491, 0.11826593428850174, 0.15069368481636047, 0.16976884007453918, 0.44826605916023254, 0.011445090174674988, 0.013352605514228344, 0.00763006042689085, 0.9530003070831299, 0.33344924449920654, 0.5059229731559753, 0.01149825006723404, 0.02299650013446808, 0.1149825006723404, 0.6656901240348816, 0.7033242583274841, 0.015699107199907303, 0.9497959613800049, 0.031398214399814606, 0.5096399188041687, 0.3098379075527191, 0.002895681420341134, 0.002895681420341134, 0.17663656175136566, 0.8328683376312256, 0.8318260312080383, 0.6540136933326721, 0.9450570940971375, 0.9905444979667664, 0.35546204447746277, 0.0030643281061202288, 0.6281872391700745, 0.012257312424480915, 0.9821289777755737, 0.14498797059059143, 0.008054886944591999, 0.8457631468772888, 0.9382521510124207, 0.8721086978912354, 0.99045729637146, 0.050964947789907455, 0.29379794001579285, 0.12141649425029755, 0.013490721583366394, 0.20835669338703156, 0.005995876155793667, 0.03747422620654106, 0.2293422669172287, 0.03597525879740715, 0.9340786933898926, 0.9913201928138733, 0.5751895904541016, 0.281421959400177, 0.07184292376041412, 0.02141900733113289, 0.019187862053513527, 0.01011453103274107, 0.015915513038635254, 0.00431354995816946, 0.0005949724582023919, 0.722646176815033, 0.9861765503883362, 0.012483247555792332, 0.9476435780525208, 0.23476026952266693, 0.008615056052803993, 0.21106886863708496, 0.10553443431854248, 0.2692205011844635, 0.040921516716480255, 0.040921516716480255, 0.0495365709066391, 0.008615056052803993, 0.0021537640132009983, 0.0301526952534914, 0.9461032152175903, 0.9761559367179871, 0.8874942660331726, 0.27300962805747986, 0.24198579788208008, 0.40455061197280884, 0.08066193759441376, 0.44358402490615845, 0.21000386774539948, 0.16416102647781372, 0.013971150852739811, 0.08339030295610428, 0.01615414395928383, 0.02532271109521389, 0.027069104835391045, 0.008731969632208347, 0.003056189278140664, 0.004365984816104174, 0.9616010189056396, 0.9695472121238708, 0.9354045987129211, 0.867590606212616, 0.45548805594444275, 0.45548805594444275, 0.9559367299079895, 0.9789605736732483, 0.9679144620895386, 0.29350295662879944, 0.34449976682662964, 0.33473441004753113, 0.026583446189761162, 0.8389662504196167, 0.016547657549381256, 0.14065510034561157, 0.0033095316030085087, 0.02657133899629116, 0.8237114548683167, 0.13285669684410095, 0.08229846507310867, 0.9052830934524536, 0.982549250125885, 0.9365096092224121, 0.04091302677989006, 0.07415486127138138, 0.0485842190682888, 0.6648367047309875, 0.17388036847114563, 0.6155880093574524, 0.1618117094039917, 0.1974278688430786, 0.006595585960894823, 0.0008794114692136645, 0.003517645876854658, 0.0008794114692136645, 0.0043970574624836445, 0.008354408666491508, 0.7831035256385803, 0.043628476560115814, 0.030374255031347275, 0.0005522591527551413, 0.0110451839864254, 0.037001363933086395, 0.07621176540851593, 0.018224552273750305, 0.9868541359901428, 0.6788570284843445, 0.10804090648889542, 0.21248044073581696, 0.9900925159454346, 0.00543131772428751, 0.9939311146736145, 0.997832179069519, 0.47328293323516846, 0.01721028797328472, 0.240944042801857, 0.2667594850063324, 0.6916612982749939, 0.07410656660795212, 0.1852664202451706, 0.04940437898039818, 0.7722818851470947, 0.16548897325992584, 0.9982772469520569, 0.9639574289321899, 0.9429943561553955, 0.955122709274292, 0.6556451916694641, 0.9641393423080444, 0.9231610894203186, 0.9313568472862244, 0.9265293478965759, 0.08805498480796814, 0.014924573712050915, 0.2671498656272888, 0.0014924573479220271, 0.4328126311302185, 0.19401945173740387, 0.9712100625038147, 0.5078182220458984, 0.2507697343826294, 0.21766355633735657, 0.009703532792627811, 0.001712388126179576, 0.003995572216808796, 0.008181409910321236, 0.00019026534573640674, 0.03528515622019768, 0.3998984694480896, 0.5645624995231628, 0.9314449429512024, 0.1642671525478363, 0.34346768260002136, 0.48533475399017334, 0.9618571996688843, 0.97539222240448, 0.48070746660232544, 0.7863280177116394, 0.35647809505462646, 0.04985707625746727, 0.04985707625746727, 0.3539852499961853, 0.03739280626177788, 0.012464269064366817, 0.054842785000801086, 0.07478561252355576, 0.0074785612523555756, 0.9779124855995178, 0.8993029594421387, 0.30137899518013, 0.37989121675491333, 0.014747007749974728, 0.0045694950968027115, 0.15037792921066284, 0.03240187466144562, 0.03967152535915375, 0.06480374932289124, 0.012254555709660053, 0.9487648606300354, 0.8902456164360046, 0.49968859553337097, 0.9830628633499146, 0.13985136151313782, 0.13985136151313782, 0.10488852113485336, 0.6118497252464294, 0.017481420189142227, 0.9716454148292542, 0.008675405755639076, 0.017350811511278152, 0.9877817630767822, 0.376905620098114, 0.2578827738761902, 0.3173941969871521, 0.03967427462339401, 0.6185641884803772, 0.05687946453690529, 0.08531919866800308, 0.12797880172729492, 0.0035549665335565805, 0.1066489964723587, 0.4234735071659088, 0.5646313428878784, 0.7121642827987671, 0.23738810420036316, 0.9765032529830933, 0.9446947574615479, 0.974803626537323, 0.5269179940223694, 0.044897619634866714, 0.9428499937057495, 0.9988845586776733, 0.9919359683990479, 0.8968332409858704, 0.23485973477363586, 0.35515373945236206, 0.3666103184223175, 0.01718485914170742, 0.022913144901394844, 0.987280011177063, 0.320300430059433, 0.05057375133037567, 0.6068850159645081, 0.9984622001647949, 0.9919160604476929, 0.9892829060554504, 0.9989839792251587, 0.9166123270988464, 0.03666449338197708, 0.973783552646637, 0.009016514755785465, 0.01803302951157093, 0.9982641935348511, 0.9932802319526672, 0.993743896484375, 0.09712977707386017, 0.8984504342079163, 0.9941239953041077, 0.6446672677993774, 0.038776978850364685, 0.01211780495941639, 0.300521582365036, 0.004847122356295586, 0.9961984753608704, 0.9989038705825806, 0.7188432216644287, 0.8965412974357605, 0.9898425936698914, 0.3544054329395294, 0.15247675776481628, 0.0329679474234581, 0.09066186100244522, 0.01648397371172905, 0.342042475938797, 0.008241986855864525, 0.9682797789573669, 0.024827687069773674, 0.994193971157074, 0.9691992998123169, 0.9813235998153687, 0.010436560958623886, 0.9862550497055054, 0.21372301876544952, 0.7147148847579956, 0.04148740693926811, 0.0056573739275336266, 0.02388668991625309, 0.5431696772575378, 0.9429082274436951, 0.6888460516929626, 0.6888460516929626, 0.9768663048744202, 0.9298813939094543, 0.9584497809410095, 0.8552281856536865, 0.9567932486534119, 0.9661425948143005, 0.09707334637641907, 0.019414668902754784, 0.03882933780550957, 0.8348307609558105, 0.05380108952522278, 0.9146184921264648, 0.40623706579208374, 0.1944751888513565, 0.39759373664855957, 0.9912386536598206, 0.5336413383483887, 0.24477896094322205, 0.1531318575143814, 0.017691370099782944, 0.0034802695736289024, 0.01624125801026821, 0.004640359431505203, 0.023491820320487022, 0.002900224644690752, 0.8721086978912354, 0.6065988540649414, 0.7341457009315491, 0.7173815369606018, 0.13572083413600922, 0.13572083413600922, 0.41790834069252014, 0.5746239423751831, 0.9982898235321045, 0.9968518018722534, 0.058659277856349945, 0.11131931096315384, 0.8298954367637634, 0.9755279421806335, 0.09092037379741669, 0.12880386412143707, 0.7788845300674438, 0.8335272073745728, 0.9718874096870422, 0.09543710947036743, 0.8068773746490479, 0.08676101267337799, 0.9800177812576294, 0.9429081678390503, 0.7550141215324402, 0.9798421263694763, 0.08887053281068802, 0.055015090852975845, 0.43588879704475403, 0.04231930151581764, 0.15658141672611237, 0.15658141672611237, 0.03385544195771217, 0.02962351031601429, 0.929480791091919, 0.23013024032115936, 0.21780183911323547, 0.012328405864536762, 0.0904083102941513, 0.2753343880176544, 0.0472588874399662, 0.024656811729073524, 0.07807990163564682, 0.004109468311071396, 0.01849260926246643, 0.7354232668876648, 0.20583350956439972, 0.7204172611236572, 0.05145837739109993, 0.4349820911884308, 0.008446253836154938, 0.19679772853851318, 0.07855016738176346, 0.06672541052103043, 0.08446254581212997, 0.10051042586565018, 0.02280488610267639, 0.0050677526742219925, 0.9587461352348328, 0.9946357607841492, 0.8690891265869141, 0.7746093273162842, 0.7319779396057129, 0.9924814701080322, 0.25386330485343933, 0.22052770853042603, 0.161549374461174, 0.02820703387260437, 0.21539916098117828, 0.11539240926504135, 0.00256427563726902, 0.27286040782928467, 0.06107631325721741, 0.3577326834201813, 0.06980150192975998, 0.05790351703763008, 0.12294582277536392, 0.028555158525705338, 0.01269118208438158, 0.009518386796116829, 0.007138789631426334, 0.21300269663333893, 0.2600874900817871, 0.09192747622728348, 0.197307750582695, 0.0112106679007411, 0.18385495245456696, 0.0448426716029644, 0.8531398773193359, 0.9944479465484619, 0.007353117689490318, 0.9853177666664124, 0.9555776715278625, 0.00910073984414339, 0.031852588057518005, 0.464496374130249, 0.4046187400817871, 0.010078415274620056, 0.06580612808465958, 0.012746231630444527, 0.008892719633877277, 0.02875312604010105, 0.0032606639433652163, 0.0008892719633877277, 0.8721086978912354, 0.9616526365280151, 0.42299431562423706, 0.004834220744669437, 0.025379659608006477, 0.05801064893603325, 0.06284487247467041, 0.16436350345611572, 0.11239563673734665, 0.07855609059333801, 0.01208555232733488, 0.02779676951467991, 0.022962549701333046, 0.00604277616366744, 0.9006639122962952, 0.28977224230766296, 0.1263900250196457, 0.41616225242614746, 0.14488612115383148, 0.02157878316938877, 0.9419692754745483, 0.21288758516311646, 0.264588862657547, 0.04257751628756523, 0.40448638796806335, 0.07299003005027771, 0.9645419120788574, 0.5869346261024475, 0.05601450800895691, 0.1889880746603012, 0.07939447462558746, 0.025815382599830627, 0.005357909481972456, 0.01558664534240961, 0.027276629582047462, 0.014125397428870201, 0.948686957359314, 0.9440742135047913, 0.028608309105038643, 0.02384025789797306, 0.9924195408821106, 0.9802045226097107, 0.8208320736885071, 0.9962446689605713, 0.5480731725692749, 0.13025954365730286, 0.25525251030921936, 0.02247064933180809, 0.0017555194208398461, 0.028088310733437538, 0.0056176623329520226, 0.004213246516883373, 0.0007022077916190028, 0.0035110388416796923, 0.0003511038958095014, 0.9904964566230774, 0.9792152643203735, 0.8902456164360046, 0.9387950897216797, 0.8768534660339355, 0.05396021157503128, 0.06745026260614395, 0.3140113651752472, 0.6280227303504944, 0.9896264672279358, 0.07192233949899673, 0.020549239590764046, 0.6336015462875366, 0.1883680373430252, 0.08562183380126953, 0.9646497964859009, 0.7827931642532349, 0.0652327686548233, 0.10437242686748505, 0.02609310671687126, 0.5236498713493347, 0.7904446721076965, 0.9273070693016052, 0.8044103980064392, 0.8286024332046509, 0.7612215280532837, 0.3005024194717407, 0.11841359734535217, 0.035747501999139786, 0.03016195446252823, 0.19884547591209412, 0.0469185933470726, 0.22900742292404175, 0.0390988290309906, 0.569800853729248, 0.8822724223136902, 0.49968865513801575, 0.9843196868896484, 0.011185451410710812, 0.7813611626625061, 0.9487841129302979, 0.7222997546195984, 0.03925542160868645, 0.21983036398887634, 0.01570216938853264, 0.9569522738456726, 0.08788559585809708, 0.1098570004105568, 0.7909703850746155, 0.9893648624420166, 0.9633816480636597, 0.9767305850982666, 0.42039740085601807, 0.04221563786268234, 0.43007180094718933, 0.028143757954239845, 0.072118379175663, 0.007035939488559961, 0.9872382283210754, 0.6495639681816101, 0.0033056691754609346, 0.08925306797027588, 0.0876002311706543, 0.07107188552618027, 0.08594739437103271, 0.014875510707497597, 0.9313568472862244, 0.9263911247253418, 0.9951345324516296, 0.9727289080619812, 0.713834285736084, 0.9655125737190247, 0.9639993906021118, 0.02951018698513508, 0.004918364342302084, 0.855228066444397, 0.17625859379768372, 0.7768197059631348, 0.0012818806571885943, 0.023073852062225342, 0.004486582241952419, 0.008332224562764168, 0.009614105336368084, 0.9981467127799988, 0.855228066444397, 0.5579540729522705, 0.2320024073123932, 0.16336727142333984, 0.01905081607401371, 0.001304850447922945, 0.025053128600120544, 0.000782910268753767, 0.9876933097839355, 0.9927559494972229, 0.21821418404579163, 0.13886357843875885, 0.07935061305761337, 0.5554543137550354, 0.2956750690937042, 0.028405465185642242, 0.595223605632782, 0.0025823151227086782, 0.07876060903072357, 0.9423747062683105, 0.05086655914783478, 0.8816870450973511, 0.05086655914783478, 0.7274783253669739, 0.25377151370048523, 0.14200632274150848, 0.8520379066467285, 0.9740636348724365, 0.8818533420562744, 0.7029610872268677, 0.7207444310188293, 0.18018610775470734, 0.16812610626220703, 0.17933452129364014, 0.033625222742557526, 0.6164624094963074, 0.9909399747848511, 0.2520591914653778, 0.021605072543025017, 0.36728623509407043, 0.35288286209106445, 0.24076618254184723, 0.07861752808094025, 0.16706225275993347, 0.0245679784566164, 0.0982719138264656, 0.358692467212677, 0.014740786515176296, 0.00982719101011753, 0.9942827224731445, 0.9118516445159912, 0.19839462637901306, 0.13735012710094452, 0.5951838493347168, 0.03052224963903427, 0.04578337445855141, 0.007777485530823469, 0.034998685121536255, 0.9566307067871094, 0.9932244420051575, 0.9990358948707581, 0.996347963809967, 0.7772119045257568, 0.8265204429626465, 0.07534579187631607, 0.06849617511034012, 0.027398468926548958, 0.7391667366027832, 0.09561572223901749, 0.19654344022274017, 0.2231033593416214, 0.06905580312013626, 0.39839884638786316, 0.015935953706502914, 0.9222872257232666, 0.5781469941139221, 0.9991932511329651, 0.8335273861885071, 0.5184842944145203, 0.005083179101347923, 0.4168206751346588, 0.06099814921617508, 0.11475484073162079, 0.7459064722061157, 0.1434435397386551, 0.8778107762336731, 0.36646339297294617, 0.012081210501492023, 0.02013535052537918, 0.18121816217899323, 0.012081210501492023, 0.26175954937934875, 0.13692039251327515, 0.004027070011943579, 0.3382176458835602, 0.06841219961643219, 0.2936343848705292, 0.06994955241680145, 0.04612058773636818, 0.09839058667421341, 0.054576028138399124, 0.019216910004615784, 0.0007686764583922923, 0.009992793202400208, 0.6063712239265442, 0.9445751905441284, 0.41138315200805664, 0.1211092546582222, 0.3490082323551178, 0.031066101044416428, 0.024270392954349518, 0.011164380237460136, 0.008494636975228786, 0.03834721818566322, 0.005339486058801413, 0.9834864139556885, 0.965866208076477, 0.8721086978912354, 0.8902456164360046, 0.9806395769119263, 0.998790979385376, 0.9925792217254639, 0.2663950026035309, 0.665987491607666, 0.20035091042518616, 0.018782896921038628, 0.010434943251311779, 0.010434943251311779, 0.20869885385036469, 0.05634869262576103, 0.15861113369464874, 0.30261334776878357, 0.03339181840419769, 0.23353517055511475, 0.04865315929055214, 0.025948351249098778, 0.20758680999279022, 0.09406277537345886, 0.2821883261203766, 0.08433214575052261, 0.02270480804145336, 0.8993029594421387, 0.4811309278011322, 0.4811309278011322, 0.8771050572395325, 0.9955488443374634, 0.048009928315877914, 0.05401116982102394, 0.21004343032836914, 0.5461129546165466, 0.11402358114719391, 0.01800372265279293, 0.7240087985992432, 0.6540136933326721, 0.2391529530286789, 0.034576330333948135, 0.24203431606292725, 0.22474615275859833, 0.05762721598148346, 0.1224578395485878, 0.054745856672525406, 0.0014406804693862796, 0.023050887510180473, 0.29965439438819885, 0.6915101408958435, 0.8350934982299805, 0.029811928048729897, 0.9539816975593567, 0.6742516756057739, 0.15795917809009552, 0.07751700282096863, 0.006337868515402079, 0.024863945320248604, 0.019501132890582085, 0.02827664278447628, 0.005850339774042368, 0.004875283222645521, 0.30381661653518677, 0.26254674792289734, 0.14312748610973358, 0.007902744226157665, 0.12029733508825302, 0.007902744226157665, 0.01053699292242527, 0.131712406873703, 0.01229315809905529, 0.6877614259719849, 0.14829091727733612, 0.22633877396583557, 0.6009684801101685, 0.01560956984758377, 0.7399170994758606, 0.867104172706604, 0.1580388844013214, 0.07647042721509933, 0.09176450967788696, 0.2549014091491699, 0.30588170886039734, 0.010196056216955185, 0.0968625396490097, 0.2992553114891052, 0.16006678342819214, 0.03479712828993797, 0.4732409417629242, 0.03479712828993797, 0.523650050163269, 0.16965484619140625, 0.1895584762096405, 0.3032935559749603, 0.06776715815067291, 0.03933338448405266, 0.07392780482769012, 0.01895584724843502, 0.11089170724153519, 0.005686754360795021, 0.010899612680077553, 0.009951820597052574, 0.3828498423099518, 0.5359897613525391, 0.7083466649055481, 0.8721086978912354, 0.6497534513473511, 0.18152381479740143, 0.015268358401954174, 0.03435380384325981, 0.07719003409147263, 0.029264353215694427, 0.012723632156848907, 0.9866122603416443, 0.01738184690475464, 0.9733834266662598, 0.9382847547531128, 0.95749431848526, 0.9983621835708618, 0.059707820415496826, 0.021711934357881546, 0.027139918878674507, 0.7219218611717224, 0.1655535101890564, 0.9916994571685791, 0.6336125135421753, 0.07125069946050644, 0.1930047571659088, 0.021293312311172485, 0.021566303446888924, 0.02347724139690399, 0.015014514327049255, 0.003548885229974985, 0.016652461141347885, 0.0005459823296405375, 0.8074701428413391, 0.6216121912002563, 0.6955293416976929, 0.990199089050293, 0.9611279368400574, 0.22815506160259247, 0.3892056941986084, 0.08723576366901398, 0.046973101794719696, 0.2415759563446045, 0.6063712239265442, 0.9872530698776245, 0.8501899242401123, 0.48474082350730896, 0.13923406600952148, 0.33003631234169006, 0.04125453904271126, 0.9609583616256714, 0.25492826104164124, 0.04103297367691994, 0.5447781682014465, 0.018333882093429565, 0.013095629401504993, 0.09079636633396149, 0.02182604931294918, 0.015714755281805992, 0.8922735452651978, 0.9777352809906006, 0.4756072759628296, 0.8551981449127197, 0.9582085013389587, 0.1315094381570816, 0.6887048482894897, 0.00121393334120512, 0.05017590895295143, 0.05988737568259239, 0.024683311581611633, 0.02589724399149418, 0.00849753338843584, 0.008092888630926609, 0.0008092888747341931, 0.02244345098733902, 0.8145652413368225, 0.07591167092323303, 0.0033005073200911283, 0.007261116523295641, 0.061389438807964325, 0.007261116523295641, 0.007921217940747738, 0.8812385201454163, 0.1183437779545784, 0.03645114600658417, 0.10024064779281616, 0.856601893901825, 0.2770051658153534, 0.07914433628320694, 0.5276288986206055, 0.10552577674388885, 0.30920839309692383, 0.16223041713237762, 0.04437071084976196, 0.02218535542488098, 0.3175278902053833, 0.015252431854605675, 0.04298412427306175, 0.07210240513086319, 0.015252431854605675, 0.702186644077301, 0.9575425982475281, 0.37782302498817444, 0.07289189845323563, 0.116627037525177, 0.20409731566905975, 0.07167703658342361, 0.07896622270345688, 0.05345406010746956, 0.023082435131072998, 0.6927034258842468, 0.0027379582170397043, 0.2915925681591034, 0.012320812791585922, 0.9806608557701111, 0.3398485481739044, 0.04189913719892502, 0.49813419580459595, 0.11638649553060532, 0.2005225569009781, 0.5714892745018005, 0.06015676632523537, 0.1604180485010147, 0.01408394891768694, 0.7464492917060852, 0.2394271194934845, 0.05539455637335777, 0.929837167263031, 0.015827015042304993, 0.06447426974773407, 0.8854466080665588, 0.051579415798187256, 0.9971520900726318, 0.6012008786201477, 0.21392424404621124, 0.014753395691514015, 0.09589707106351852, 0.07376697659492493, 0.9828516244888306, 0.6063712239265442, 0.998451292514801, 0.7014644742012024, 0.9523075819015503, 0.5524964928627014, 0.3076227009296417, 0.09794951975345612, 0.005866768304258585, 0.011988612823188305, 0.0017855381593108177, 0.0007652306230738759, 0.017855381593108177, 0.0015304612461477518, 0.0022956919856369495, 0.9047300219535828, 0.984987735748291, 0.24106939136981964, 0.051428135484457016, 0.34071141481399536, 0.33428290486335754, 0.028928326442837715, 0.9480855464935303, 0.9562767148017883, 0.005033035296946764, 0.020132141187787056, 0.010066070593893528, 0.010066070593893528, 0.03716248273849487, 0.9538370370864868, 0.8103811740875244, 0.12922024726867676, 0.8399315476417542, 0.25061216950416565, 0.07914068549871445, 0.6331254839897156, 0.026380227878689766, 0.41348740458488464, 0.42436864972114563, 0.1577780842781067, 0.07979325950145721, 0.9176225066184998, 0.3238375782966614, 0.11844642460346222, 0.3427385985851288, 0.035281915217638016, 0.03024164028465748, 0.00756041007116437, 0.04158225655555725, 0.06804369390010834, 0.03276177868247032, 0.32928627729415894, 0.11645489931106567, 0.04417254775762558, 0.349364697933197, 0.03212549164891243, 0.04015686362981796, 0.060235295444726944, 0.024094117805361748, 0.9751953482627869, 0.6374158263206482, 0.18953709304332733, 0.041542377322912216, 0.062313564121723175, 0.026829451322555542, 0.010818326845765114, 0.02293485403060913, 0.008221928961575031, 0.976231038570404, 0.8161720633506775, 0.9174978137016296, 0.5361204147338867, 0.17836181819438934, 0.19319655001163483, 0.04329672455787659, 0.008969839662313461, 0.015869716182351112, 0.017422188073396683, 0.004657416604459286, 0.00034499383764341474, 0.0008624845650047064, 0.0005174907273612916, 0.0005174907273612916, 0.9433802366256714, 0.31902629137039185, 0.2404652088880539, 0.12638086080551147, 0.0013662795536220074, 0.13594481348991394, 0.01639535464346409, 0.044745657593011856, 0.09837213158607483, 0.017078494653105736, 0.9862786531448364, 0.9422829151153564, 0.1422034353017807, 0.8322758674621582, 0.00881881732493639, 0.0022047043312340975, 0.009921169839799404, 0.0033070563804358244, 0.8707884550094604, 0.9885843396186829, 0.5565888285636902, 0.19406531751155853, 0.18473701179027557, 0.027253281325101852, 0.0009145396761596203, 0.011889015324413776, 0.01774206943809986, 0.004938513971865177, 0.0014632634120061994, 0.00036581585300154984, 0.023368198424577713, 0.9697802066802979, 0.9588156342506409, 0.9661425948143005, 0.322968989610672, 0.1268806755542755, 0.39217662811279297, 0.019224345684051514, 0.09612172842025757, 0.04229355975985527, 0.9891790151596069, 0.46855899691581726, 0.3907524049282074, 0.12294299900531769, 0.002579223830252886, 0.015045472420752048, 0.6624132394790649, 0.2057294249534607, 0.0740448534488678, 0.00975441187620163, 0.026602942496538162, 0.011084559373557568, 0.004877205938100815, 0.003547058906406164, 0.0004433823633007705, 0.000886764726601541, 0.08044609427452087, 0.026815364137291908, 0.7106071710586548, 0.17429986596107483, 0.6805867552757263, 0.1508786380290985, 0.016328856348991394, 0.059437040239572525, 0.013716239482164383, 0.042455028742551804, 0.036576639860868454, 0.047217633575201035, 0.3147842288017273, 0.6295684576034546, 0.8103811740875244, 0.8829651474952698, 0.9527626037597656, 0.9391951560974121, 0.9528153538703918, 0.11947691440582275, 0.5874281525611877, 0.04978204891085625, 0.02986922860145569, 0.05973845720291138, 0.10952050238847733, 0.03982563689351082, 0.3716367185115814, 0.21619251370429993, 0.007146860007196665, 0.16259106993675232, 0.0035734300035983324, 0.01608043536543846, 0.1688445657491684, 0.045561231672763824, 0.00804021768271923, 0.65403151512146, 0.9715179800987244, 0.012200627475976944, 0.7198370099067688, 0.26841381192207336, 0.9537313580513, 0.7399170398712158, 0.9609394669532776, 0.9971286058425903, 0.16045281291007996, 0.060169801115989685, 0.7755219340324402, 0.9571385383605957, 0.9678360819816589, 0.8721086978912354, 0.013233569450676441, 0.02457662858068943, 0.9603790044784546, 0.9495394229888916, 0.9342411756515503, 0.9188522100448608, 0.9439685344696045, 0.9376588463783264, 0.7783355116844177, 0.014967991039156914, 0.06136876344680786, 0.06436236202716827, 0.0014967990573495626, 0.05687836557626724, 0.019458387047052383, 0.0029935981146991253, 0.8012707829475403, 0.019851302728056908, 0.17866171896457672, 0.9530791640281677, 0.9502240419387817, 0.7724223136901855, 0.026152145117521286, 0.12609070539474487, 0.028020156547427177, 0.004670026246458292, 0.03362418711185455, 0.0009340051910839975, 0.00747204152867198, 0.807738184928894, 0.17054882645606995, 0.00947493501007557, 0.004737467505037785, 0.005921834148466587, 0.7542856335639954, 0.671687662601471, 0.9781547784805298], \"Term\": [\"aabenbar\", \"aabenbar\", \"aabenbar\", \"aabenbar\", \"aand\", \"aand\", \"aand\", \"aand\", \"aand\", \"aand\", \"aand\", \"aand\", \"aand\", \"aand\", \"aand\", \"aandda\", \"aandmed\", \"aando\", \"aandsaa\", \"aandsom\", \"aandtil\", \"aar\", \"aar\", \"aar\", \"aar\", \"aar\", \"aar\", \"aar\", \"aar\", \"afrika\", \"afskum\", \"al\", \"al\", \"al\", \"al\", \"al\", \"al\", \"al\", \"al\", \"al\", \"aldenstund\", \"aldenstund\", \"alexand\", \"alexand\", \"alfad\", \"alfad\", \"allesammennu\", \"alterbog\", \"amen\", \"amen\", \"amen\", \"angel\", \"angelsachs\", \"antioki\", \"apollo\", \"apollo\", \"apollo\", \"apostl\", \"apostl\", \"apostl\", \"apostl\", \"apostolisk\", \"arab\", \"arbeid\", \"arbeid\", \"arbeid\", \"arbeid\", \"arbeid\", \"arild\", \"arild\", \"artemis\", \"asal\\u00e6r\", \"asal\\u00e6r\", \"aser\", \"aser\", \"aser\", \"aser\", \"asern\", \"asern\", \"asern\", \"asern\", \"asgaard\", \"asgaard\", \"asi\", \"askalon\", \"assyr\", \"asta\", \"atheniens\", \"atheniens\", \"athun\", \"axelstadtil\", \"axled\", \"baad\", \"baad\", \"baad\", \"baad\", \"baad\", \"baad\", \"baandog\", \"baandtil\", \"balak\", \"bald\", \"bald\", \"bald\", \"bald\", \"bald\", \"baldur\", \"banemed\", \"baresand\", \"barn\", \"barn\", \"barn\", \"barn\", \"barn\", \"barn\", \"barn\", \"barn\", \"barn\", \"barnehjert\", \"barraba\", \"bedsted\", \"bedsted\", \"befordr\", \"begrib\", \"begrib\", \"begrib\", \"behag\", \"behag\", \"behag\", \"bekjend\", \"bekjend\", \"beleiring\", \"ber\\u00f8mt\", \"ber\\u00f8mt\", \"ber\\u00f8mt\", \"ber\\u00f8mt\", \"beskikked\", \"besku\", \"besku\", \"besku\", \"beslutning\", \"betydersj\\u00e6l\", \"betydningsfuld\", \"bibel\", \"bibel\", \"bibel\", \"bibel\", \"bibel\", \"bibelsk\", \"bibelsk\", \"bibelsprog\", \"bittr\", \"bittr\", \"bittr\", \"bittr\", \"bjerg\", \"bjerg\", \"bjerg\", \"bjerg\", \"bjerg\", \"bjerg\", \"bjerg\", \"blaam\\u00e6nd\", \"blank\", \"blank\", \"blant\", \"blevn\", \"blevn\", \"blod\", \"blod\", \"blod\", \"blod\", \"blod\", \"blod\", \"blod\", \"blod\", \"blod\", \"blot\", \"blot\", \"blot\", \"blot\", \"boemund\", \"boemund\", \"bolt\", \"bondestand\", \"bondestand\", \"bondeven\", \"bordethvor\", \"borgemest\", \"bortkasted\", \"brag\", \"brag\", \"brag\", \"brag\", \"brag\", \"brageog\", \"brask\", \"brat\", \"brat\", \"brat\", \"brat\", \"brat\", \"brat\", \"brorson\", \"bryderaltid\", \"brynhild\", \"brynhild\", \"brynhild\", \"brynhild\", \"brystd\", \"br\\u00f8daf\", \"bysantinsk\", \"byzantin\", \"b\\u00e6gtehimmelbr\\u00f8d\", \"b\\u00f8genes_\\u00f8elad\", \"b\\u00f8geskovesom\", \"b\\u00f8lg\", \"b\\u00f8lg\", \"b\\u00f8lg\", \"b\\u00f8lg\", \"b\\u00f8lg\", \"b\\u00f8lg\", \"b\\u00f8lg\", \"b\\u00f8lgerd\", \"b\\u00f8lgerei\", \"b\\u00f8m\", \"b\\u00f8nd\", \"b\\u00f8nd\", \"b\\u00f8nd\", \"b\\u00f8nd\", \"b\\u00f8nd\", \"b\\u00f8nd\", \"b\\u00f8r\", \"b\\u00f8r\", \"b\\u00f8r\", \"b\\u00f8r\", \"b\\u00f8r\", \"b\\u00f8r\", \"canaan\", \"christ\", \"christ\", \"christ\", \"christ\", \"christ\", \"christ\", \"christ\", \"christ\", \"christendom\", \"christendom\", \"christendom\", \"christendom\", \"christian\", \"christian\", \"christn\", \"christn\", \"christn\", \"christn\", \"christn\", \"christn\", \"christn\", \"christn\", \"clara\", \"clara\", \"clara_raphael\", \"columbus\", \"c\\u00e6sar\", \"daab\", \"daab\", \"daab\", \"daab\", \"daab\", \"daaben\", \"daabog\", \"daabspag\", \"dag\", \"dag\", \"dag\", \"dag\", \"dag\", \"dag\", \"dag\", \"dag\", \"dag\", \"dagi\", \"dagtil\", \"dam\", \"dam\", \"daneh\\u00e6r\", \"daneh\\u00e6r\", \"danmark\", \"danmark\", \"danmark\", \"danmark\", \"danmark\", \"danmark\", \"danmark\", \"dannebraag\", \"dannebrog\", \"dannebrog\", \"dannebrog\", \"dannebrog\", \"dannebrogtil\", \"dannekvind\", \"dannekvind\", \"dannekvind\", \"dannelsessprog\", \"dannemark\", \"dannemark\", \"dannem\\u00e6nd\", \"dannem\\u00e6nd\", \"dannem\\u00e6nd\", \"dansk\", \"dansk\", \"dansk\", \"dansk\", \"darius\", \"davidspsalm\", \"davidspsalm\", \"deil\", \"deil\", \"deil\", \"deil\", \"deil\", \"deil\", \"deil\", \"deil\", \"deil\", \"deil\", \"del\", \"del\", \"del\", \"del\", \"del\", \"del\", \"del\", \"del\", \"del\", \"delphi\", \"delt\", \"delt\", \"demet\", \"demkong\", \"derhvor\", \"derog\", \"desv\\u00e6r\", \"desv\\u00e6r\", \"digt\", \"digt\", \"digt\", \"digt\", \"digt\", \"digt\", \"digt\", \"digt\", \"digt\", \"digtil\", \"digtning\", \"digtning\", \"diodor\", \"dit\", \"dit\", \"dit\", \"dit\", \"dit\", \"dit\", \"dit\", \"dit\", \"dod\", \"dogmed\", \"drabant\", \"drikkeblod\", \"drot\", \"drot\", \"drot\", \"drot\", \"drot\", \"drot\", \"drot\", \"drothan\", \"drotten_vort\", \"duel\", \"duft\", \"duft\", \"duft\", \"duft\", \"duft\", \"duft\", \"duft\", \"dvaled\", \"dv\\u00e6rg\", \"dv\\u00e6rg\", \"dv\\u00e6rg\", \"dv\\u00e6rg\", \"dv\\u00e6rg\", \"dv\\u00e6rg\", \"dv\\u00e6rg\", \"dybt\", \"dybt\", \"dybt\", \"dybt\", \"dybt\", \"dybt\", \"dybt\", \"dybt\", \"dybt\", \"d\\u00f8\", \"d\\u00f8d\", \"d\\u00f8d\", \"d\\u00f8d\", \"d\\u00f8d\", \"d\\u00f8d\", \"d\\u00f8d\", \"d\\u00f8d\", \"d\\u00f8d\", \"d\\u00f8d\", \"d\\u00f8ded\", \"d\\u00f8defor\", \"d\\u00f8dei\", \"d\\u00f8dei\", \"d\\u00f8dejesus_stod\", \"d\\u00f8dem\", \"d\\u00f8ds\\u00f8d\", \"d\\u00f8lgermed\", \"edda\", \"edda\", \"edda\", \"edda\", \"edda\", \"eder\", \"eder\", \"eder\", \"eder\", \"eder\", \"eder\", \"eder\", \"eder\", \"edvard\", \"efterkom\", \"egennyt\", \"egent\", \"egent\", \"egent\", \"ei\", \"ei\", \"ei\", \"ei\", \"ei\", \"ei\", \"ei\", \"ei\", \"ei\", \"ei\", \"ei\", \"eiegod\", \"eifor\", \"ej\", \"ej\", \"ej\", \"elsk\", \"elsk\", \"elsk\", \"elsk\", \"elsk\", \"elsk\", \"elsk\", \"emma\", \"enddog\", \"enddog\", \"enddog\", \"endnu\", \"endnu\", \"endnu\", \"endnu\", \"endnu\", \"endnu\", \"endnu\", \"endnu\", \"engelland\", \"engelland\", \"engelland\", \"engl\", \"engl\", \"engl\", \"engl\", \"engl\", \"engl\", \"ent\", \"ent\", \"ent\", \"ent\", \"ere\", \"ere\", \"ere\", \"ere\", \"ere\", \"ere\", \"erkebisp\", \"erkend\", \"esaia\", \"est\", \"est\", \"est\", \"est\", \"est\", \"evangeli\", \"evangeli\", \"evangelisk\", \"evig\", \"evig\", \"evig\", \"evig\", \"evig\", \"evig\", \"evig\", \"evig\", \"evig\", \"evig\", \"evig\", \"evige_liv\", \"evige_liv\", \"ey\", \"ezechia\", \"faa\", \"faa\", \"faa\", \"faa\", \"faa\", \"faa\", \"faa\", \"faa\", \"faard\", \"faarhan\", \"fad\", \"fad\", \"fad\", \"fad\", \"fad\", \"fad\", \"fad\", \"fad\", \"fad\", \"fader_godsom\", \"fadervor\", \"fafn\", \"fafn\", \"fagei\", \"fagr\", \"fagt\", \"fagt\", \"fald\", \"fald\", \"fald\", \"fald\", \"fald\", \"fald\", \"fald\", \"fald\", \"fald\", \"fald\", \"falded\", \"falst\", \"fanatism\", \"fanekorsban\", \"faresand\", \"favnd\", \"favr\", \"favr\", \"ferdinand\", \"fiern\", \"fik\", \"fik\", \"fik\", \"fik\", \"fik\", \"fik\", \"fik\", \"fik\", \"fik\", \"find\", \"find\", \"find\", \"find\", \"find\", \"find\", \"find\", \"find\", \"find\", \"find\", \"flaad\", \"flaad\", \"flidfor\", \"flokked\", \"fluk\", \"flux\", \"flux\", \"flux\", \"flux\", \"flyvem\", \"fl\\u00f8t\", \"folk\", \"folk\", \"folk\", \"folk\", \"folk\", \"folk\", \"folk\", \"folk\", \"folk\", \"folkekirk\", \"folkesang\", \"folkesang\", \"folketid\", \"forandred\", \"fordi\", \"fordi\", \"fordi\", \"fordi\", \"fordi\", \"fordi\", \"fordi\", \"forgaaerd\", \"forglem\", \"forglem\", \"forladerpaa\", \"formast\", \"formular\", \"forret\", \"forstaaeei\", \"fortabt\", \"forvold\", \"frankr\", \"frankr\", \"frankr\", \"fransk\", \"fransk\", \"fransk\", \"frederik\", \"frederik\", \"frederik\", \"frederik\", \"fredog\", \"frei\", \"frei\", \"freia\", \"freia\", \"freia\", \"freir\", \"frel\", \"frels\", \"frels\", \"frels\", \"frels\", \"frels\", \"frels\", \"frels\", \"frels\", \"frels\", \"frelsermand\", \"frelsernavn\", \"frey\", \"freya\", \"freyas\", \"friderich\", \"frig\", \"frit_oversat\", \"fritfiend\", \"frithan\", \"from\", \"from\", \"from\", \"from\", \"from\", \"from\", \"from\", \"from\", \"from\", \"fru_mari\", \"fruer\", \"fryd\", \"fryd\", \"fryd\", \"fryd\", \"fryd\", \"fryd\", \"fryd\", \"fryd\", \"fryde_mang\", \"fugl\", \"fugl\", \"fugl\", \"fugl\", \"fugl\", \"fugl\", \"fugl\", \"fugl\", \"fugl\", \"fugl\", \"ful\", \"ful\", \"fuldbrag\", \"fuldmang\", \"f\\u00e6derneland\", \"f\\u00e6derneland\", \"f\\u00e6dernetro\", \"f\\u00e6dr\", \"f\\u00e6dr\", \"f\\u00e6dr\", \"f\\u00e6dr\", \"f\\u00e6dr\", \"f\\u00e6dr\", \"f\\u00e6dr\", \"f\\u00e6drevi_bed\", \"f\\u00e6llesliv\", \"f\\u00f8dselsstund\", \"f\\u00f8rst\", \"f\\u00f8rst\", \"f\\u00f8rst\", \"f\\u00f8rst\", \"f\\u00f8rst\", \"f\\u00f8rst\", \"f\\u00f8rst\", \"f\\u00f8rst\", \"f\\u00f8rst\", \"f\\u00f8rst\", \"f\\u00f8rst\", \"gaa\", \"gaa\", \"gaa\", \"gaa\", \"gaa\", \"gaadesom\", \"gaaeog\", \"gaaeog\", \"gaaerm\", \"gaardsom\", \"gam\", \"gam\", \"gam\", \"gam\", \"gaml\", \"gaml\", \"gaml\", \"gaml\", \"gaml\", \"gaml\", \"gaml\", \"gaml\", \"gaml\", \"gaml\", \"gaml\", \"gammeldansk\", \"gammeldansk\", \"gav\", \"gav\", \"gav\", \"gav\", \"gav\", \"gav\", \"gav\", \"gav\", \"gav\", \"gav\", \"gavi\", \"genf\\u00f8d\", \"genf\\u00f8d\", \"gennem\", \"gennem\", \"gennem\", \"genstand\", \"ger\", \"gerda\", \"gern\", \"gern\", \"gerning\", \"gienl\\u00f8s\", \"gienl\\u00f8s\", \"gik\", \"gik\", \"gik\", \"gik\", \"gik\", \"gik\", \"gik\", \"gik\", \"gik\", \"gik\", \"givetaf\", \"givetat\", \"givetd\", \"gi\\u00e6stsom\", \"gi\\u00e6v\", \"gi\\u00e6v\", \"gi\\u00f8r\", \"gi\\u00f8r\", \"gi\\u00f8r\", \"gi\\u00f8r\", \"gi\\u00f8r\", \"gi\\u00f8r\", \"gi\\u00f8r\", \"gjord\", \"gjord\", \"gjord\", \"gjord\", \"gjord\", \"gjord\", \"gjord\", \"gjord\", \"gjord\", \"gjuk\", \"gjukung\", \"gj\\u00e6ld\", \"gj\\u00e6ld\", \"gj\\u00f8r\", \"gj\\u00f8r\", \"gj\\u00f8r\", \"gj\\u00f8r\", \"gladthi\", \"glands\", \"glands\", \"glands\", \"glands\", \"glemmes_aldr\", \"glemmes_aldr\", \"gl\\u00e6d\", \"gl\\u00e6d\", \"gl\\u00e6d\", \"gl\\u00e6d\", \"gl\\u00e6d\", \"gl\\u00e6d\", \"gl\\u00e6d\", \"gl\\u00e6d\", \"gl\\u00e6d\", \"gl\\u00e6deno\", \"gl\\u00e6denu\", \"gl\\u00e6deog\", \"gl\\u00e6desom\", \"gl\\u00f8d\", \"gl\\u00f8d\", \"gl\\u00f8dem\", \"godmund\", \"godt\", \"godt\", \"godt\", \"godt\", \"godt\", \"godt\", \"godt\", \"godt\", \"godt\", \"godt\", \"golgatha\", \"got\", \"grav\", \"grav\", \"grav\", \"grav\", \"grav\", \"grav\", \"grav\", \"grav\", \"gravs\", \"grev\", \"grev\", \"grimhild\", \"grimnersmaal\", \"grimnismal\", \"grueme\", \"grundtv\", \"grundtv\", \"grundtv\", \"grundtv\", \"grundtv\", \"grundtv\", \"grundtv\", \"grundtv\", \"gr\\u00e6k\", \"gr\\u00e6k\", \"gr\\u00e6k\", \"gr\\u00e6k\", \"gr\\u00e6k\", \"gr\\u00e6sb\\u00e6nk\", \"gr\\u00e6sk\", \"gr\\u00e6sk\", \"gr\\u00e6sk\", \"gr\\u00e6sk\", \"gr\\u00e6sk\", \"gr\\u00e6sk\", \"gr\\u00e6ske_myth\", \"gr\\u00f8n\", \"gr\\u00f8n\", \"gr\\u00f8n\", \"gr\\u00f8n\", \"gr\\u00f8n\", \"gr\\u00f8n\", \"gr\\u00f8n\", \"gr\\u00f8n\", \"gub\", \"gud\", \"gud\", \"gud\", \"gud\", \"gud\", \"gud\", \"gud\", \"gud\", \"gud\", \"gud\", \"gud\", \"gud\", \"gud_bedregud\", \"guddom\", \"guddom\", \"guddom\", \"guddom\", \"guddom\", \"guddom\", \"guddom\", \"guddom\", \"gudel\\u00e6r\", \"gudfad\", \"gudfad\", \"gudfad\", \"gudhjem\", \"gudrun\", \"gudrun\", \"gudrun\", \"gudsom\", \"guld\", \"guld\", \"guld\", \"guld\", \"guld\", \"guld\", \"guld\", \"guld\", \"guldald\", \"guldald\", \"guldald\", \"guldberg\", \"guldb\\u00e6g\", \"guldkron\", \"guldkron\", \"guldsom\", \"gunlaug\", \"gunnar\", \"gyldenaar\", \"gyldenaar\", \"gyldenaar\", \"gyldenaar\", \"gyldenaarmed\", \"gyldent\", \"gylfeleg\", \"gym\", \"g\\u00e6st\", \"g\\u00e6st\", \"g\\u00f8r\", \"g\\u00f8r\", \"g\\u00f8r\", \"g\\u00f8r\", \"g\\u00f8r\", \"haabd\", \"haandenm\", \"haandfor\", \"haandhan\", \"haando\", \"haandsaa\", \"haandskr\", \"haandtil\", \"hallelujad\", \"hallelujahan\", \"hallelujano\", \"hani\", \"hannem\", \"hannem\", \"hannem\", \"hannem\", \"hannibal\", \"harmei\", \"hasted\", \"hav\", \"hav\", \"hav\", \"hav\", \"hav\", \"hav\", \"hav\", \"hav\", \"hav\", \"heimdal\", \"heimdal\", \"heimdal\", \"heimdal\", \"hel\", \"hel\", \"hel\", \"hel\", \"hel\", \"hel\", \"hel\", \"hel\", \"hel\", \"hel\", \"hel\", \"hel\", \"helligaand\", \"helligaand\", \"helligaand\", \"helligaand\", \"helligaandsom\", \"hellige_skrift\", \"helved\", \"helved\", \"helved\", \"helved\", \"helved\", \"helved\", \"helved\", \"helved\", \"henrik\", \"henrik\", \"henrik\", \"hens\", \"hens\", \"hens\", \"heph\\u00e6sto\", \"herm\", \"herod\", \"herod\", \"herodot\", \"herodot\", \"herreat\", \"herres_jesu\", \"herres_jesu\", \"hersleb\", \"hersleb\", \"hertug\", \"higed\", \"hiin\", \"himl\", \"himl\", \"himl\", \"himl\", \"himl\", \"himl\", \"himl\", \"himl\", \"himl\", \"himl\", \"himlend\", \"himlensaa\", \"himmel\", \"himmel\", \"himmel\", \"himmel\", \"himmel\", \"himmel\", \"himmel\", \"himmel\", \"himmel\", \"himmeld\\u00f8r\", \"himmels_fo\", \"himmels_fo\", \"himmelsk\", \"himmelsk\", \"himmelsk\", \"himmelsk\", \"himmelsk\", \"himmelsk\", \"himmer\", \"himmer\", \"himmer\", \"himmer\", \"himmer\", \"himmer\", \"himmer\", \"himmerignaar\", \"hin\", \"hin\", \"hin\", \"hin\", \"hin\", \"hin\", \"hin\", \"hin\", \"hin\", \"hist\", \"hist\", \"hist\", \"hist\", \"hist\", \"hist\", \"hist\", \"hist\", \"histori\", \"histori\", \"histori\", \"historisk\", \"historisk\", \"historisk\", \"historisk\", \"hjert\", \"hjert\", \"hjert\", \"hjert\", \"hjert\", \"hjert\", \"hjert\", \"hjert\", \"hjert\", \"hjertefagre_ord\", \"hjordis\", \"hofm\\u00e6nd\", \"hogn\", \"hold\", \"hold\", \"hold\", \"hold\", \"hold\", \"hold\", \"hold\", \"hold\", \"hold\", \"hr\", \"hr\", \"hr\", \"hr\", \"hr_biskop\", \"hrungn\", \"hrungn\", \"hu_staa\", \"hult\", \"hurraraab\", \"huusm\\u00e6nd\", \"hvem\", \"hvem\", \"hvem\", \"hvem\", \"hvem\", \"hvem\", \"hvem\", \"hvem\", \"hvem\", \"hvem\", \"hver\", \"hver\", \"hver\", \"hver\", \"hver\", \"hver\", \"hver\", \"hver\", \"hver\", \"hver\", \"hvidthold\", \"hvilk\", \"hvilk\", \"hvilk\", \"hvilk\", \"hvilk\", \"hvilk\", \"hvilk\", \"hvilk\", \"hvo\", \"hvo\", \"hvo\", \"hvo\", \"hvo\", \"hvo\", \"hvo\", \"hvo\", \"hyttekong\", \"h\\u00e6nderog\", \"h\\u00e6versei\", \"h\\u00f8dur\", \"h\\u00f8dur\", \"h\\u00f8ie\", \"h\\u00f8ie\", \"h\\u00f8ie\", \"h\\u00f8ie\", \"h\\u00f8ie\", \"h\\u00f8ie\", \"h\\u00f8ie\", \"h\\u00f8ie\", \"h\\u00f8ie\", \"h\\u00f8ie\", \"h\\u00f8ier\", \"h\\u00f8ier\", \"h\\u00f8ier\", \"h\\u00f8iest\", \"h\\u00f8iest\", \"h\\u00f8iest\", \"h\\u00f8iest\", \"h\\u00f8iest\", \"h\\u00f8it\", \"h\\u00f8it\", \"h\\u00f8it\", \"h\\u00f8it\", \"h\\u00f8it\", \"h\\u00f8it\", \"h\\u00f8it\", \"h\\u00f8it\", \"h\\u00f8it\", \"h\\u00f8itydsk\", \"h\\u00f8itydsk\", \"h\\u00f8j\", \"h\\u00f8j\", \"h\\u00f8j\", \"h\\u00f8n\", \"h\\u00f8r\", \"h\\u00f8r\", \"h\\u00f8r\", \"h\\u00f8r\", \"h\\u00f8r\", \"h\\u00f8r\", \"h\\u00f8r\", \"h\\u00f8r\", \"h\\u00f8r\", \"h\\u00f8r\", \"h\\u00f8red\", \"h\\u00f8yer\", \"iaft\", \"idun\", \"idun\", \"igen\", \"igen\", \"igen\", \"igen\", \"igienog\", \"igrund\", \"ii\", \"ii\", \"ii\", \"ikkei\", \"ikkeud\", \"ikkun\", \"ikkun\", \"ikkun\", \"ikkun\", \"ikkun\", \"imidlertid\", \"imidlertid\", \"imidlertid\", \"imidlertid\", \"indbyd\", \"indgi\\u00f8d\", \"indknib\", \"indstift\", \"indtog\", \"indtog\", \"indtog\", \"ing\", \"ing\", \"ing\", \"ing\", \"ing\", \"ing\", \"ing\", \"ing\", \"ing\", \"ingel\", \"isak\", \"isak\", \"isefjord\", \"island\", \"island\", \"island\", \"island\", \"itali\", \"itali\", \"itali\", \"italiensk\", \"iver\", \"ja\", \"ja\", \"ja\", \"ja\", \"ja\", \"ja\", \"ja\", \"januar\", \"japh\", \"japh\", \"jesu\", \"jesu\", \"jesu\", \"jesu\", \"jesu\", \"jesu\", \"jesu_christ\", \"jesu_christi\", \"jesu_christi\", \"jesu_christi\", \"jesu_christi\", \"jesu_kristi\", \"jesu_kristi\", \"jesus\", \"jesus\", \"jesus\", \"jesus\", \"jesus\", \"jesus\", \"jesus\", \"jesus_christ\", \"jesus_christ\", \"jesus_lillefor\", \"jesus_migop\", \"jet\", \"jet\", \"jet\", \"jet\", \"jet\", \"jet\", \"jomfru\", \"jomfru\", \"jomfru\", \"jomfru\", \"jomfru\", \"jomsborg\", \"jord\", \"jord\", \"jord\", \"jord\", \"jord\", \"jord\", \"jord\", \"jord\", \"jord\", \"jord\", \"jord\", \"jord\", \"jordaf\", \"jordderfor\", \"jordei\", \"jordenog\", \"jordensaa\", \"jorderigog\", \"jordhvor\", \"jordjeg\", \"jordlyd\", \"jordmed\", \"jordvold\", \"josef\", \"josva\", \"josva\", \"jotun\", \"julesang\", \"julev\", \"juul\", \"j\\u00e6rtegn\", \"j\\u00f8defolk\", \"j\\u00f8defolk\", \"j\\u00f8defolk\", \"j\\u00f8deland\", \"kaarsaa\", \"kain\", \"kaivin\", \"kald\", \"kald\", \"kald\", \"kald\", \"kald\", \"kald\", \"kald\", \"kald\", \"kald\", \"kald\", \"kald\", \"kan\", \"kan\", \"kan\", \"kan\", \"kan\", \"kan\", \"kan\", \"kan\", \"kan\", \"kan\", \"kanhvor\", \"karak\", \"katolik\", \"katolsk\", \"keis\", \"keis\", \"keis\", \"keis\", \"keis\", \"kejs\", \"kejs\", \"kend\", \"kend\", \"kend\", \"kendem\\u00e6rk\", \"kildegud\", \"kildejakob\", \"kildevang\", \"kildev\\u00e6ld\", \"kildev\\u00e6ld\", \"kimed\", \"kirk\", \"kirk\", \"kirk\", \"kirk\", \"kirk\", \"kirk\", \"kirk\", \"kirk\", \"kirkehistori\", \"kirkehistori\", \"kirkehistorisk\", \"kirkekord\", \"kirkesamfund\", \"ki\\u00e6mp\", \"ki\\u00e6mp\", \"ki\\u00e6nd\", \"ki\\u00e6nd\", \"ki\\u00e6r\", \"ki\\u00e6r\", \"ki\\u00e6r\", \"ki\\u00e6r\", \"ki\\u00e6r\", \"ki\\u00e6r\", \"ki\\u00e6r\", \"ki\\u00e6rlighed\", \"ki\\u00f8benhavn\", \"ki\\u00f8d\", \"ki\\u00f8d\", \"ki\\u00f8d\", \"ki\\u00f8d\", \"ki\\u00f8d\", \"ki\\u00f8d\", \"ki\\u00f8d\", \"ki\\u00f8d\", \"ki\\u00f8dskjul\", \"kjend\", \"kjend\", \"kjend\", \"kjend\", \"kl\", \"klar\", \"klar\", \"klar\", \"klar\", \"klar\", \"klar\", \"klar\", \"klar\", \"klar\", \"klar\", \"klard\", \"klemt\", \"kl\\u00e6dning\", \"kl\\u00e6dning\", \"knop\", \"kolding\", \"kom\", \"kom\", \"kom\", \"kom\", \"kom\", \"kom\", \"kom\", \"kom\", \"kom\", \"kom\", \"kom\", \"komtil\", \"kong\", \"kong\", \"kong\", \"kong\", \"kong\", \"kong\", \"kong\", \"kong\", \"kong_harald\", \"kong_olav\", \"kongekron\", \"konger\", \"konger\", \"konger\", \"konger\", \"konger\", \"kongest\\u00e6vn\", \"konstantinopel\", \"kors\", \"kors\", \"kors\", \"kors\", \"kors\", \"kors\", \"kors\", \"kors\", \"kors\", \"korsets_tr\\u00e6\", \"korsf\\u00e6st\", \"korsf\\u00e6st\", \"korsf\\u00e6stedenu\", \"korstog\", \"korstog\", \"korstog\", \"kraft\", \"kraft\", \"kraft\", \"kraft\", \"kraft\", \"kraft\", \"kraft\", \"kraft\", \"kraft\", \"kraft\", \"kraft\", \"krandsog\", \"kreta\", \"kreta\", \"krig\", \"krig\", \"krist\", \"krist\", \"krist\", \"kristendom\", \"kristendom\", \"kristi\", \"kristi\", \"kristian\", \"kristian\", \"kristjan\", \"kristjan\", \"kristn\", \"kristn\", \"kristn\", \"kristus\", \"kristus\", \"kristus\", \"kromvel\", \"krono\", \"krophan\", \"kun\", \"kun\", \"kun\", \"kun\", \"kun\", \"kun\", \"kun\", \"kun\", \"kun\", \"kun\", \"kun\", \"kund\", \"kund\", \"kund\", \"kund\", \"kund\", \"kund\", \"kund\", \"kund\", \"kund\", \"kundskabstr\\u00e6\", \"kveld\", \"kveld\", \"kveld\", \"kviddr\", \"kvind\", \"kvind\", \"kvind\", \"kvind\", \"kvind\", \"kvind\", \"kvind\", \"kvind\", \"kvind\", \"kvind\", \"kvind\", \"kvind\", \"kvindesaa\", \"kv\\u00e6dl\", \"kv\\u00e6r\", \"kyrus\", \"k\\u00e6kt\", \"k\\u00e6kt\", \"k\\u00e6mp\", \"k\\u00e6mp\", \"k\\u00e6mp\", \"k\\u00e6mp\", \"k\\u00e6mp\", \"k\\u00e6mp\", \"k\\u00e6mp\", \"k\\u00e6mp\", \"k\\u00e6mp\", \"k\\u00e6mp\", \"k\\u00e6mp\", \"k\\u00e6r\", \"k\\u00e6r\", \"k\\u00e6r\", \"k\\u00e6r\", \"k\\u00f8d\", \"lad\", \"lad\", \"lad\", \"lad\", \"lad\", \"lad\", \"lad\", \"lad\", \"lad\", \"lad\", \"lak\", \"land\", \"land\", \"land\", \"land\", \"land\", \"land\", \"land\", \"land\", \"laus\", \"leto\", \"letsom\", \"lev\", \"lev\", \"lev\", \"lev\", \"lev\", \"lev\", \"lev\", \"lev\", \"lev\", \"lev\", \"lided\", \"lif\", \"lif\", \"lif\", \"lif\", \"lif\", \"lif\", \"lif\", \"lig\", \"lig\", \"lig\", \"lig\", \"lig\", \"lig\", \"lig\", \"lig\", \"lig\", \"lig\", \"lig\", \"lilj\", \"lilj\", \"lindberg\", \"lindr\", \"listed\", \"literatur\", \"liv\", \"liv\", \"liv\", \"liv\", \"liv\", \"liv\", \"liv\", \"liv\", \"liv\", \"liv\", \"liv\", \"liv\", \"livets_tr\\u00e6\", \"livsfyrst\", \"lod\", \"lod\", \"lod\", \"lod\", \"lod\", \"lod\", \"lod\", \"lod\", \"lok\", \"lok\", \"lok\", \"lok\", \"lok\", \"lok\", \"lok\", \"lokegluf\", \"lund\", \"lund\", \"lund\", \"lund\", \"lund\", \"luth\", \"luth\", \"luth\", \"luth\", \"luth\", \"luth\", \"lutheran\", \"luthersk\", \"lys\", \"lys\", \"lys\", \"lys\", \"lys\", \"lys\", \"lys\", \"lys\", \"lys\", \"lys\", \"lysog\", \"l\\u00e6gfolk\", \"l\\u00e6ngsl\", \"l\\u00e6rk\", \"l\\u00e6rk\", \"l\\u00e6rk\", \"l\\u00e6rtat\", \"l\\u00f8fteog\", \"l\\u00f8nfor\", \"l\\u00f8nmed\", \"l\\u00f8nraad_sl\", \"maa\", \"maa\", \"maa\", \"maa\", \"maa\", \"maa\", \"maa\", \"maa\", \"maa\", \"maa\", \"maa\", \"maaderat\", \"maaske\", \"maaske\", \"maaske\", \"maat\", \"maat\", \"maat\", \"maat\", \"maat\", \"maat\", \"maat\", \"maat\", \"maat\", \"maglegaardhvor\", \"mand\", \"mand\", \"mand\", \"mand\", \"mand\", \"mand\", \"mand\", \"mand\", \"mand\", \"mark\", \"mark\", \"mark\", \"mark\", \"mark\", \"mark\", \"mark\", \"marmor\", \"matthisonhans\", \"mel\", \"mel\", \"mellemslesv\", \"melodi\", \"melodi\", \"mennesk\", \"mennesk\", \"mennesk\", \"mennesk\", \"mennesk\", \"mennesk\", \"mennesk\", \"ment\", \"ment\", \"ment\", \"mer\", \"mer\", \"mer\", \"mer\", \"mer\", \"mer\", \"mer\", \"mer\", \"mester_and\", \"mester_and\", \"midgard\", \"midgard\", \"migog\", \"mj\\u00f8ln\", \"mj\\u00f8ln\", \"moderhun\", \"moderog\", \"modersmaal\", \"modersmaal\", \"modersmaal\", \"modersmaal\", \"mon\", \"mon\", \"mon\", \"mon\", \"mon\", \"mon\", \"mon\", \"mon\", \"morgenhan\", \"morgenr\\u00f8d\", \"morgenr\\u00f8d\", \"morgenr\\u00f8d\", \"morgenr\\u00f8d\", \"morgenr\\u00f8d\", \"morgenr\\u00f8deda\", \"morgenr\\u00f8defor\", \"morten_luth\", \"morten_luth\", \"morten_luth\", \"mul\", \"mul\", \"mul\", \"mul\", \"mul\", \"mundepaa\", \"mundi\", \"mundlag\", \"mundtil\", \"mynst\", \"myth\", \"myth\", \"myth\", \"myth\", \"mythesmed\", \"mythisk\", \"mythisk\", \"mythisk\", \"mythograph\", \"m\\u00e6tlad\", \"m\\u00f8l\", \"naad\", \"naad\", \"naad\", \"naad\", \"naad\", \"naad\", \"naad\", \"naad\", \"naad\", \"naadeja\", \"naademidl\", \"naar\", \"naar\", \"naar\", \"naar\", \"naar\", \"naar\", \"naar\", \"naar\", \"naar\", \"naboth\", \"nadv\", \"nadv\", \"nan\", \"nat\", \"nat\", \"nat\", \"nat\", \"nat\", \"nat\", \"nat\", \"nat\", \"nat\", \"nat\", \"nat\", \"natda\", \"nattergal\", \"natugl\", \"naturligviis\", \"naturligviis\", \"naturligviis\", \"naturligviis\", \"navn\", \"navn\", \"navn\", \"navn\", \"navn\", \"navn\", \"navn\", \"navn\", \"navn\", \"navn\", \"navn\", \"navnhan\", \"navnlad\", \"navnsom\", \"nedb\\u00f8i\", \"nedfo\", \"nedfo\", \"nedi\", \"nedmed\", \"nedog\", \"nem\", \"nem\", \"nem\", \"nem\", \"nep\", \"nep\", \"nep\", \"nep\", \"niding\", \"niding\", \"niding\", \"nil\", \"nil\", \"niniv\", \"niord\", \"no\", \"no\", \"no\", \"no\", \"no\", \"nok\", \"nok\", \"nok\", \"nok\", \"nok\", \"nok\", \"nok\", \"nok\", \"nok\", \"nord\", \"nord\", \"nord\", \"nord\", \"nord\", \"nord\", \"nord\", \"nord\", \"nordahl_brun\", \"nordisk\", \"nordisk\", \"nordisk\", \"nordiske_myth\", \"norman\", \"norman\", \"normannisk\", \"norn\", \"norn\", \"norn\", \"norn\", \"nr\", \"nr\", \"nr\", \"nr\", \"ny_psalmebog\", \"ny_psalmebog\", \"ny_testament\", \"nyrup\", \"nytaarsnat\", \"n\\u00e6rd\", \"n\\u00e6rsaa\", \"n\\u00e6rsom\", \"n\\u00e6vneog\", \"n\\u00f8ds\\u00f8d\", \"n\\u00f8g\", \"odin\", \"odin\", \"odin\", \"odin\", \"odin\", \"odin\", \"odrun\", \"ogsaa\", \"ogsaa\", \"ogsaa\", \"ogsaa\", \"ogsaa\", \"ogsaa\", \"ogsaa\", \"ogsaa\", \"olav\", \"olav\", \"olav\", \"oldgranskning\", \"oldsagn\", \"oldsagn\", \"oldsagn\", \"olj\", \"omd\", \"omsom\", \"omsonstselv\", \"ond\", \"ond\", \"ond\", \"ond\", \"ond\", \"ond\", \"ond\", \"ond\", \"ond\", \"opfostr\", \"opstandeni_dag\", \"ord\", \"ord\", \"ord\", \"ord\", \"ord\", \"ord\", \"ord\", \"ord\", \"ord\", \"ordfra\", \"ordho\", \"ordhvem\", \"ordnaar\", \"ordsom\", \"ordsom\", \"ordsom\", \"ordsom\", \"ordsom\", \"ordsprog\", \"ordsprog\", \"ordsprog\", \"overdaad\", \"overgang\", \"overgang\", \"overgang\", \"overgang\", \"overs\\u00e6t\", \"overs\\u00e6t\", \"overs\\u00e6t\", \"overs\\u00e6t\", \"overs\\u00e6t\", \"overs\\u00e6t\", \"paanyi\", \"paanyi\", \"paasaa\", \"paasaa\", \"paaskemorg\", \"paaskesang\", \"paaskev\", \"palo\", \"pandora\", \"pandora\", \"papist\", \"papistisk\", \"paradisd\", \"ped\", \"ped\", \"ped\", \"ped\", \"ped\", \"period\", \"perl\", \"perl\", \"perl\", \"pers\", \"persephon\", \"pharao\", \"philip\", \"philist\", \"philist\", \"philosoph\", \"philosoph\", \"philosoph\", \"philosophi\", \"ph\\u00f8nic\", \"plutark\", \"pluto\", \"pluto\", \"poet\", \"poetisk\", \"poetisk\", \"poetisk\", \"poetisk\", \"poetisk\", \"politisk\", \"polyb\", \"portog\", \"pot\", \"preus\", \"priis\", \"priis\", \"priis\", \"priis\", \"priis\", \"priis\", \"priis\", \"prindses\", \"prindses\", \"prof_claus\", \"propheten_esaia\", \"prosaiske_edda\", \"protestantisk\", \"protestantisk\", \"pr\\u00e6st\", \"pr\\u00e6st\", \"pr\\u00e6st\", \"pr\\u00e6st\", \"pr\\u00e6st\", \"pr\\u00e6sterog\", \"pr\\u00f8js\", \"raabenpaa\", \"raabeog\", \"ragnarokr\", \"rahab\", \"rahbek\", \"rakel\", \"ravnegald\", \"rdr\", \"rejs\", \"rejs\", \"rejs\", \"rejs\", \"rejst\", \"rejst\", \"religion\", \"religion\", \"religion\", \"religionsfri\", \"ret\", \"ret\", \"ret\", \"ret\", \"ret\", \"ret\", \"ret\", \"ret\", \"ret\", \"retbr\\u00f8d\", \"rethan\", \"rigesom\", \"rigsdag\", \"rigsdag\", \"rigsdag\", \"riim\", \"riim\", \"rikard\", \"robert\", \"rom\", \"rom\", \"rom\", \"romaborg\", \"romersk\", \"romersk\", \"romersk\", \"roog\", \"rosenkild\", \"roskild\", \"roskild\", \"roskild\", \"roth\", \"rovger\", \"runersom\", \"rusland\", \"r\\u00f8d\", \"r\\u00f8d\", \"r\\u00f8d\", \"r\\u00f8d\", \"r\\u00f8d\", \"r\\u00f8d\", \"r\\u00f8d\", \"r\\u00f8d\", \"r\\u00f8nneb\\u00e6ksholm\", \"r\\u00f8st\", \"r\\u00f8st\", \"r\\u00f8st\", \"r\\u00f8st\", \"r\\u00f8st\", \"r\\u00f8st\", \"r\\u00f8st\", \"r\\u00f8st\", \"r\\u00f8st\", \"r\\u00f8st\", \"r\\u00f8stfor\", \"saaat\", \"saaat\", \"saaat\", \"saae\", \"saae\", \"saae\", \"saae\", \"saae\", \"saae\", \"saae\", \"saae\", \"saae\", \"saaehvor\", \"saaeog\", \"saaesom\", \"saal\", \"saamed\", \"sacrament\", \"sad\", \"sad\", \"sad\", \"sad\", \"sad\", \"sad\", \"sad\", \"sagd\", \"sagd\", \"sagd\", \"sagd\", \"sagd\", \"sagd\", \"sagd\", \"sagd\", \"sagd\", \"sagd\", \"sagn\", \"sagn\", \"sagn\", \"sagn\", \"sagn\", \"sagn\", \"sagn\", \"sagog\", \"saladin\", \"sammest\", \"sammest\", \"samt\", \"samt\", \"samt\", \"sand\", \"sand\", \"sand\", \"sand\", \"sand\", \"sand\", \"sand\", \"sand\", \"sand\", \"sandefalsk\", \"sandv\", \"sang\", \"sang\", \"sang\", \"sang\", \"sang\", \"sang\", \"sang\", \"sang\", \"sang\", \"sang\", \"sang\", \"sang\", \"savnog\", \"saxo\", \"saxo\", \"saxo\", \"saxo\", \"saxo\", \"sch\\u00f8nning\", \"se\", \"se\", \"se\", \"se\", \"se\", \"se_po\", \"see\", \"see\", \"see\", \"see\", \"see\", \"see\", \"see\", \"see\", \"see\", \"seeog\", \"selskab\", \"selskab\", \"selskab\", \"selvmodsig\", \"sem\", \"sendetil\", \"sicili\", \"sid\", \"sid\", \"sid\", \"sid\", \"sid\", \"sid\", \"sid\", \"sid\", \"sid\", \"sid\", \"sid\", \"sidon\", \"sif\", \"sigenaar\", \"siger_kishurra\", \"sigmund\", \"sigmund\", \"sigmund\", \"signed\", \"signed\", \"sigrun\", \"sigurd\", \"sigurd\", \"sigurd\", \"sigurd\", \"sigurd\", \"sigvald\", \"siig\", \"siig\", \"siig\", \"siig\", \"sildem\", \"sineog\", \"sjungemed\", \"sjungero\", \"sjungesom\", \"sjungetil\", \"sj\\u00e6l\", \"sj\\u00e6l\", \"sj\\u00e6l\", \"sj\\u00e6l\", \"sj\\u00e6l\", \"sj\\u00e6l\", \"sj\\u00e6l\", \"sj\\u00e6l\", \"sj\\u00e6legladhan\", \"sj\\u00e6lthi\", \"skadesaa\", \"skalda\", \"skalda\", \"skamlingsbank\", \"skebn\", \"skeet\", \"skeet\", \"skeet\", \"skeet\", \"skemt\", \"sket\", \"sket\", \"sket\", \"skirn\", \"skirners_reis\", \"skiul\", \"ski\\u00f8nd\", \"ski\\u00f8nd\", \"ski\\u00f8nd\", \"ski\\u00f8nd\", \"ski\\u00f8nd\", \"ski\\u00f8nd\", \"ski\\u00f8ndu\", \"skjald\", \"skjald\", \"skjald\", \"skjald\", \"skjald\", \"skjald\", \"skjald\", \"skjaldekong\", \"skjaldemund\", \"skjoldi_ve\", \"skougaard\", \"skovog\", \"skr\", \"skribent\", \"skribent\", \"skribent\", \"skridtvis\", \"skrift\", \"skrift\", \"skrift\", \"skrift\", \"skrift\", \"skrift\", \"skrift\", \"skriftklog\", \"skueplant\", \"skuld\", \"skuld\", \"skuld\", \"skuld\", \"skuld\", \"skuld\", \"skuld\", \"sk\\u00e6nk\", \"sk\\u00f8nd\", \"sk\\u00f8nt\", \"sk\\u00f8nt\", \"sk\\u00f8nt\", \"sk\\u00f8nt\", \"slag\", \"slag\", \"slag\", \"slag\", \"slag\", \"slagterb\\u00e6nk\", \"sleipn\", \"sleipn\", \"sleipn\", \"slesv\", \"slesv\", \"slesvigsk\", \"slesvigsk\", \"sl\\u00e6gtog\", \"smaafugl\", \"smertefagr\", \"snedorf\", \"snedorf\", \"snek\", \"snek\", \"snek\", \"snek\", \"snig\", \"snorro\", \"snorro\", \"snorro\", \"snorro\", \"soel\", \"soel\", \"soel\", \"soel\", \"soel\", \"soel\", \"soel\", \"soel\", \"sognepr\\u00e6st\", \"sorrigfuld\", \"spaaet\", \"spaaet\", \"spaaet\", \"spaaet\", \"spaaet\", \"spani\", \"spani\", \"spani\", \"spansk\", \"sparta\", \"spartan\", \"sporaf\", \"sprog\", \"sprog\", \"sprog\", \"sprog\", \"sprogog\", \"staa\", \"staa\", \"staa\", \"staa\", \"staa\", \"staa\", \"stadvi\", \"stammehan\", \"statskirk\", \"stavsom\", \"steds\", \"steds\", \"steds\", \"steds\", \"sti\", \"sti\", \"sti\", \"stigeop\", \"stjern\", \"stjern\", \"stjern\", \"stjern\", \"stjern\", \"stjern\", \"stjern\", \"stjern\", \"stod\", \"stod\", \"stod\", \"stod\", \"stod\", \"stod\", \"stod\", \"stod\", \"stod\", \"stod\", \"stokvar\", \"stopped\", \"stor\", \"stor\", \"stor\", \"stor\", \"stor\", \"stor\", \"stor\", \"stor\", \"stor\", \"stord\", \"strak\", \"strandesand\", \"strandkun\", \"stroph\", \"stud\", \"st\\u00e6nd\", \"st\\u00e6ndertid\", \"st\\u00e6ndertid\", \"st\\u00f8v\", \"st\\u00f8v\", \"st\\u00f8v\", \"st\\u00f8v\", \"st\\u00f8v\", \"st\\u00f8v\", \"st\\u00f8v\", \"st\\u00f8v\", \"st\\u00f8v\", \"suk\", \"suk\", \"suk\", \"suk\", \"suk\", \"suk\", \"suk\", \"suk\", \"sukker_helved\", \"sukkerr\\u00f8r\", \"sukkerr\\u00f8r\", \"svagesom\", \"svand\", \"svend\", \"svend\", \"svend\", \"svend\", \"svend\", \"svend\", \"svigei\", \"svingerfar\", \"sv\\u00e6rd\", \"sv\\u00e6rd\", \"sv\\u00e6rd\", \"sv\\u00e6rd\", \"sv\\u00e6rd\", \"sv\\u00e6rd\", \"sv\\u00e6rd\", \"sv\\u00e6rd\", \"sv\\u00e6rd\", \"sv\\u00f8bt\", \"sv\\u00f8bt\", \"syl\", \"symbol\", \"symbol\", \"syn\", \"syn\", \"syn\", \"syn\", \"syn\", \"syn\", \"syn\", \"syn\", \"syn\", \"synd\", \"synd\", \"synd\", \"synd\", \"synd\", \"synd\", \"synd\", \"synd\", \"synd\", \"syndsom\", \"synt\", \"synt\", \"synt\", \"synt\", \"syrith\", \"s\\u00f8dog\", \"s\\u00f8dt\", \"s\\u00f8dt\", \"s\\u00f8dt\", \"s\\u00f8dt\", \"s\\u00f8dt\", \"s\\u00f8dt\", \"s\\u00f8dt\", \"s\\u00f8gt\", \"s\\u00f8gt\", \"s\\u00f8gt\", \"s\\u00f8gt\", \"s\\u00f8gt\", \"s\\u00f8jl\", \"s\\u00f8n\", \"s\\u00f8n\", \"s\\u00f8n\", \"s\\u00f8n\", \"s\\u00f8n\", \"s\\u00f8n\", \"s\\u00f8n\", \"s\\u00f8n\", \"s\\u00f8n\", \"s\\u00f8n\", \"s\\u00f8n\", \"s\\u00f8nderjylland\", \"s\\u00f8nderjylland\", \"s\\u00f8njeg\", \"taaberverd\", \"tal\", \"tal\", \"tal\", \"tal\", \"tal\", \"tal\", \"tal\", \"tappert\", \"tend\", \"tend\", \"tendent\", \"teologi\", \"theolog\", \"thor\", \"thor\", \"thor\", \"thor\", \"thor\", \"thurs\", \"tid\", \"tid\", \"tid\", \"tid\", \"tid\", \"tid\", \"tid\", \"tid\", \"tid\", \"tid\", \"tidfor\", \"tidsom\", \"tilbage\", \"tildel\", \"tiljeg\", \"till\\u00e6g\", \"till\\u00e6g\", \"till\\u00e6g\", \"till\\u00e6g\", \"till\\u00e6g\", \"till\\u00e6gi\", \"tilog\", \"tilsaa\", \"tilv\\u00e6r\", \"tilv\\u00e6r\", \"tilv\\u00e6r\", \"tilv\\u00e6r\", \"toft\", \"tog\", \"tog\", \"tog\", \"tog\", \"tog\", \"tog\", \"tog\", \"tog\", \"togd\", \"tok\", \"topda\", \"tranek\\u00e6r\", \"trehundred\", \"tro\", \"tro\", \"tro\", \"tro\", \"tro\", \"tro\", \"tro\", \"tro\", \"tro\", \"tro\", \"troen\", \"troen\", \"troen\", \"troen\", \"troen\", \"troen\", \"troen\", \"troen\", \"troend\", \"troend\", \"tron\", \"tron\", \"tron\", \"tr\\u00e6ngsel\", \"tr\\u00e6ngsel\", \"tr\\u00e6ngsel\", \"tr\\u00e6ngsel\", \"tr\\u00f8st\", \"tr\\u00f8st\", \"tr\\u00f8st\", \"tr\\u00f8st\", \"tr\\u00f8st\", \"tr\\u00f8st\", \"tr\\u00f8st\", \"tr\\u00f8st\", \"tr\\u00f8st\", \"tr\\u00f8std\", \"tugted\", \"tung\", \"tung\", \"tung\", \"tung\", \"tung\", \"tung\", \"tung\", \"tung\", \"tydsk\", \"tydsk\", \"tydsk\", \"tydsk\", \"tyg\", \"tyk\", \"tyk\", \"tyk\", \"tyk\", \"tykt\", \"tykt\", \"tykt\", \"tykt\", \"tyr\", \"tyr\", \"tyr\", \"tyran\", \"tyran\", \"tyran\", \"tyrk\", \"tyrk\", \"tyrk\", \"tyrus\", \"tysk\", \"tysk\", \"tysk\", \"tysk\", \"tysk\", \"t\\u00e6m\", \"t\\u00e6nkerd\", \"uchrist\", \"udat\", \"udbryd\", \"uden\", \"uden\", \"uden\", \"uden\", \"uden\", \"uden\", \"uden\", \"uden\", \"uden\", \"uden\", \"udfor\", \"udgaardslok\", \"udi\", \"udi\", \"udi\", \"udi\", \"udi\", \"ulf\", \"ungdom\", \"ungdom\", \"ungdom\", \"ungdom\", \"ungdom\", \"unge_her\", \"unge_her\", \"ungm\\u00f8\", \"uns\", \"uns\", \"urt\", \"urt\", \"urt\", \"urt\", \"valhal\", \"valhal\", \"valhal\", \"valhald\", \"valhald\", \"vand\", \"vand\", \"vand\", \"vand\", \"vand\", \"vand\", \"vand\", \"vand\", \"vand\", \"vandr\", \"vandr\", \"vandr\", \"vandr\", \"vandr\", \"vandr\", \"vandr\", \"vandr\", \"vare_blevn\", \"veed\", \"veed\", \"veed\", \"veed\", \"veed\", \"veed\", \"veed\", \"veed\", \"veiog\", \"veisom\", \"veitil\", \"vel\", \"vel\", \"vel\", \"vel\", \"vel\", \"vel\", \"vel\", \"vel\", \"vel\", \"vel\", \"vel\", \"vel\", \"veni\", \"verd\", \"verd\", \"verd\", \"verd\", \"verd\", \"verd\", \"verd\", \"verd\", \"verd\", \"verdslige_\\u00f8vr\", \"vidar\", \"vidnesbyrd\", \"vidnesbyrd\", \"vidnesbyrd\", \"vidnesbyrd\", \"vidnesbyrd\", \"vidnesbyrd\", \"vidtat\", \"viid\", \"vild\", \"vild\", \"vild\", \"vild\", \"vild\", \"vild\", \"vild\", \"vild\", \"vild\", \"vild\", \"vilhelm\", \"vilhelm\", \"vilibrord\", \"vinfred\", \"ving\", \"ving\", \"ving\", \"ving\", \"ving\", \"ving\", \"vintr\\u00e6\", \"virk\", \"virk\", \"virk\", \"virk\", \"virk\", \"vis\", \"vis\", \"vis\", \"vis\", \"vis\", \"vis\", \"vis\", \"vis\", \"vis\", \"vis\", \"visdom\", \"visdom\", \"visdom\", \"visdom\", \"vist\", \"vist\", \"vist\", \"vist\", \"vist\", \"vist\", \"vist\", \"vola\", \"vola\", \"vola\", \"voldend\", \"volm\\u00e6r\", \"volsungkvad\", \"volt\\u00e6r\", \"voluspa\", \"vorher\", \"vorher\", \"vorher\", \"vorher\", \"vorher\", \"vorher\", \"vorher\", \"vort\", \"vort\", \"vort\", \"vort\", \"vort\", \"vort\", \"vort\", \"vort\", \"vort\", \"v\\u00e6regud\", \"v\\u00e6reno\", \"v\\u00f8luspa\", \"v\\u00f8luspa\", \"v\\u00f8luspa\", \"westminst\", \"willemo\", \"ydr\", \"yttring\", \"zeus\", \"zeus\", \"zeus\", \"zverg\", \"\\u00e6delste\", \"\\u00e6gte\", \"\\u00e6gypt\", \"\\u00e6gypt\", \"\\u00e6gypt\", \"\\u00e6lvedronning\", \"\\u00e6refor\", \"\\u00e6relad\", \"\\u00e6reo\", \"\\u00f8ded\", \"\\u00f8ie\", \"\\u00f8ie\", \"\\u00f8ie\", \"\\u00f8ie\", \"\\u00f8ie\", \"\\u00f8ie\", \"\\u00f8ie\", \"\\u00f8ie\", \"\\u00f8ieblik\", \"\\u00f8ieblik\", \"\\u00f8ieblik\", \"\\u00f8iehan\", \"\\u00f8iesaa\", \"\\u00f8in\", \"\\u00f8in\", \"\\u00f8in\", \"\\u00f8in\", \"\\u00f8in\", \"\\u00f8in\", \"\\u00f8in\", \"\\u00f8in\", \"\\u00f8nsk\", \"\\u00f8nsk\", \"\\u00f8nsk\", \"\\u00f8nsk\", \"\\u00f8nsk\", \"\\u00f8resaa\", \"\\u00f8sterlid\", \"\\u00f8xe\"]}, \"R\": 30, \"lambda.step\": 0.01, \"plot.opts\": {\"xlab\": \"PC1\", \"ylab\": \"PC2\"}, \"topic.order\": [12, 2, 3, 19, 15, 4, 6, 1, 13, 11, 9, 10, 7, 20, 18, 17, 14, 8, 16, 5]};\n",
       "\n",
       "function LDAvis_load_lib(url, callback){\n",
       "  var s = document.createElement('script');\n",
       "  s.src = url;\n",
       "  s.async = true;\n",
       "  s.onreadystatechange = s.onload = callback;\n",
       "  s.onerror = function(){console.warn(\"failed to load library \" + url);};\n",
       "  document.getElementsByTagName(\"head\")[0].appendChild(s);\n",
       "}\n",
       "\n",
       "if(typeof(LDAvis) !== \"undefined\"){\n",
       "   // already loaded: just create the visualization\n",
       "   !function(LDAvis){\n",
       "       new LDAvis(\"#\" + \"ldavis_el7972413517526438324974599105\", ldavis_el7972413517526438324974599105_data);\n",
       "   }(LDAvis);\n",
       "}else if(typeof define === \"function\" && define.amd){\n",
       "   // require.js is available: use it to load d3/LDAvis\n",
       "   require.config({paths: {d3: \"https://cdnjs.cloudflare.com/ajax/libs/d3/3.5.5/d3.min\"}});\n",
       "   require([\"d3\"], function(d3){\n",
       "      window.d3 = d3;\n",
       "      LDAvis_load_lib(\"https://cdn.rawgit.com/bmabey/pyLDAvis/files/ldavis.v1.0.0.js\", function(){\n",
       "        new LDAvis(\"#\" + \"ldavis_el7972413517526438324974599105\", ldavis_el7972413517526438324974599105_data);\n",
       "      });\n",
       "    });\n",
       "}else{\n",
       "    // require.js not available: dynamically load d3 & LDAvis\n",
       "    LDAvis_load_lib(\"https://cdnjs.cloudflare.com/ajax/libs/d3/3.5.5/d3.min.js\", function(){\n",
       "         LDAvis_load_lib(\"https://cdn.rawgit.com/bmabey/pyLDAvis/files/ldavis.v1.0.0.js\", function(){\n",
       "                 new LDAvis(\"#\" + \"ldavis_el7972413517526438324974599105\", ldavis_el7972413517526438324974599105_data);\n",
       "            })\n",
       "         });\n",
       "}\n",
       "</script>"
      ],
      "text/plain": [
       "PreparedData(topic_coordinates=              x         y  topics  cluster       Freq\n",
       "topic                                                \n",
       "11    -0.352784  0.104270       1        1  38.215927\n",
       "1     -0.314503  0.133810       2        1  18.817039\n",
       "2     -0.271219  0.154337       3        1  16.645805\n",
       "18    -0.159185 -0.052501       4        1   4.234265\n",
       "14    -0.204727 -0.131468       5        1   3.650233\n",
       "3     -0.139732 -0.050343       6        1   3.597452\n",
       "5     -0.122792 -0.150784       7        1   3.559372\n",
       "0     -0.171779 -0.178790       8        1   3.416525\n",
       "12     0.064811  0.181207       9        1   1.790168\n",
       "10     0.095434  0.072177      10        1   1.773048\n",
       "8     -0.039518 -0.144934      11        1   1.235544\n",
       "9      0.098585  0.078714      12        1   1.196652\n",
       "6      0.185622 -0.009612      13        1   0.600547\n",
       "19     0.187353  0.003058      14        1   0.343766\n",
       "17     0.195321  0.001090      15        1   0.218330\n",
       "16     0.191845  0.001320      16        1   0.203044\n",
       "13     0.193297 -0.002011      17        1   0.193560\n",
       "7      0.188863 -0.003126      18        1   0.145942\n",
       "15     0.187987 -0.002729      19        1   0.083356\n",
       "4      0.187121 -0.003685      20        1   0.079421, topic_info=      Category          Freq             Term         Total  loglift  logprob\n",
       "term                                                                         \n",
       "10     Default   9434.000000               ei   9434.000000  30.0000  30.0000\n",
       "1835   Default   2059.000000            dansk   2059.000000  29.0000  29.0000\n",
       "193    Default   6606.000000              gud   6606.000000  28.0000  28.0000\n",
       "74     Default   4814.000000              ord   4814.000000  27.0000  27.0000\n",
       "116    Default   5774.000000             aand   5774.000000  26.0000  26.0000\n",
       "44     Default  10871.000000              kan  10871.000000  25.0000  25.0000\n",
       "748    Default   3873.000000              liv   3873.000000  24.0000  24.0000\n",
       "50     Default   3225.000000             kong   3225.000000  23.0000  23.0000\n",
       "52     Default   9854.000000              kun   9854.000000  22.0000  22.0000\n",
       "8      Default   3270.000000              død   3270.000000  21.0000  21.0000\n",
       "397    Default   2415.000000            hjert   2415.000000  20.0000  20.0000\n",
       "149    Default   1428.000000          danmark   1428.000000  19.0000  19.0000\n",
       "108    Default   2927.000000             verd   2927.000000  18.0000  18.0000\n",
       "256    Default   1810.000000             nord   1810.000000  17.0000  17.0000\n",
       "1070   Default   3125.000000             kirk   3125.000000  16.0000  16.0000\n",
       "22143  Default    735.000000              dam    735.000000  15.0000  15.0000\n",
       "3673   Default    921.000000            krist    921.000000  14.0000  14.0000\n",
       "0      Default   2483.000000               al   2483.000000  13.0000  13.0000\n",
       "384    Default   2590.000000             giør   2590.000000  12.0000  12.0000\n",
       "901    Default   6005.000000              maa   6005.000000  11.0000  11.0000\n",
       "146    Default   3230.000000              dag   3230.000000  10.0000  10.0000\n",
       "409    Default   5233.000000              kom   5233.000000   9.0000   9.0000\n",
       "60     Default   1810.000000              lys   1810.000000   8.0000   8.0000\n",
       "561    Default   2510.000000          mennesk   2510.000000   7.0000   7.0000\n",
       "42     Default   2000.000000             jord   2000.000000   6.0000   6.0000\n",
       "2723   Default   1016.000000              ere   1016.000000   5.0000   5.0000\n",
       "445    Default   3373.000000             sand   3373.000000   4.0000   4.0000\n",
       "102    Default   2471.000000              tro   2471.000000   3.0000   3.0000\n",
       "154    Default   1170.000000              dit   1170.000000   2.0000   2.0000\n",
       "13     Default   1334.000000             evig   1334.000000   1.0000   1.0000\n",
       "...        ...           ...              ...           ...      ...      ...\n",
       "1783   Topic20      0.750723           saamed      1.366161   6.5394  -7.2283\n",
       "1777   Topic20      0.720875           letsom      1.336313   6.5210  -7.2689\n",
       "14825  Topic20      0.718203    matthisonhans      1.333641   6.5192  -7.2726\n",
       "9470   Topic20      0.710320           øresaa      1.325758   6.5141  -7.2836\n",
       "16271  Topic20      0.710320          herreat      1.325758   6.5141  -7.2836\n",
       "9322   Topic20      0.671210           sporaf      1.286650   6.4874  -7.3403\n",
       "68364  Topic20      0.656296      omsonstselv      1.271734   6.4766  -7.3627\n",
       "79663  Topic20      0.656295            ikkei      1.271736   6.4766  -7.3627\n",
       "14704  Topic20      0.639256            fagei      1.254694   6.4638  -7.3891\n",
       "68434  Topic20      0.602838         sendetil      1.218276   6.4346  -7.4477\n",
       "30533  Topic20      0.602678           glødem      1.218116   6.4345  -7.4480\n",
       "6      Topic20      0.585798         bølgerei      1.201237   6.4200  -7.4764\n",
       "14833  Topic20      0.585232         mundepaa      1.200670   6.4195  -7.4773\n",
       "1769   Topic20      0.531774          flidfor      1.147213   6.3693  -7.5731\n",
       "96815  Topic20      0.531208  bægtehimmelbrød      1.146646   6.3687  -7.5742\n",
       "96811  Topic20      0.531208      betydersjæl      1.146646   6.3687  -7.5742\n",
       "96820  Topic20      0.531208           mætlad      1.146646   6.3687  -7.5742\n",
       "96819  Topic20      0.531208        kiødskjul      1.146646   6.3687  -7.5742\n",
       "96818  Topic20      0.531208           ikkeud      1.146646   6.3687  -7.5742\n",
       "96817  Topic20      0.531208         faresand      1.146646   6.3687  -7.5742\n",
       "96816  Topic20      0.531208       drikkeblod      1.146646   6.3687  -7.5742\n",
       "96814  Topic20      0.531208           brødaf      1.146646   6.3687  -7.5742\n",
       "96813  Topic20      0.531208      bryderaltid      1.146646   6.3687  -7.5742\n",
       "96827  Topic20      0.531208             ægte      1.146646   6.3687  -7.5742\n",
       "96826  Topic20      0.531208       taaberverd      1.146646   6.3687  -7.5742\n",
       "96825  Topic20      0.531208      strandesand      1.146646   6.3687  -7.5742\n",
       "96824  Topic20      0.531208       sandefalsk      1.146646   6.3687  -7.5742\n",
       "96812  Topic20      0.531208       bordethvor      1.146646   6.3687  -7.5742\n",
       "96810  Topic20      0.531208         baresand      1.146646   6.3687  -7.5742\n",
       "96822  Topic20      0.531208          retbrød      1.146646   6.3687  -7.5742\n",
       "\n",
       "[1287 rows x 6 columns], token_table=       Topic      Freq      Term\n",
       "term                            \n",
       "1790       1  0.307351  aabenbar\n",
       "1790       2  0.493751  aabenbar\n",
       "1790       3  0.196348  aabenbar\n",
       "1790      10  0.002094  aabenbar\n",
       "116        1  0.386690      aand\n",
       "116        2  0.435351      aand\n",
       "116        3  0.007966      aand\n",
       "116        4  0.002251      aand\n",
       "116        5  0.065632      aand\n",
       "116        6  0.000693      aand\n",
       "116        7  0.014893      aand\n",
       "116        8  0.074810      aand\n",
       "116        9  0.000520      aand\n",
       "116       10  0.001732      aand\n",
       "116       11  0.009351      aand\n",
       "10927      5  0.966476    aandda\n",
       "15391     11  0.967888   aandmed\n",
       "19512     16  0.973560     aando\n",
       "10156     16  0.783657   aandsaa\n",
       "10044      6  0.980852   aandsom\n",
       "10826     19  0.697607   aandtil\n",
       "120        1  0.464503       aar\n",
       "120        2  0.072887       aar\n",
       "120        3  0.368761       aar\n",
       "120        4  0.012354       aar\n",
       "120        5  0.006795       aar\n",
       "120        6  0.036444       aar\n",
       "120        7  0.029649       aar\n",
       "120        9  0.008030       aar\n",
       "41961      3  0.994958    afrika\n",
       "...      ...       ...       ...\n",
       "30249      8  0.937659      øded\n",
       "5440       1  0.778336       øie\n",
       "5440       3  0.014968       øie\n",
       "5440       4  0.061369       øie\n",
       "5440       5  0.064362       øie\n",
       "5440       6  0.001497       øie\n",
       "5440       7  0.056878       øie\n",
       "5440       8  0.019458       øie\n",
       "5440      12  0.002994       øie\n",
       "5441       1  0.801271   øieblik\n",
       "5441       2  0.019851   øieblik\n",
       "5441       3  0.178662   øieblik\n",
       "19613     14  0.953079    øiehan\n",
       "10750      7  0.950224    øiesaa\n",
       "339        1  0.772422       øin\n",
       "339        2  0.026152       øin\n",
       "339        3  0.126091       øin\n",
       "339        5  0.028020       øin\n",
       "339        7  0.004670       øin\n",
       "339        8  0.033624       øin\n",
       "339       10  0.000934       øin\n",
       "339       11  0.007472       øin\n",
       "2047       1  0.807738      ønsk\n",
       "2047       2  0.170549      ønsk\n",
       "2047       3  0.009475      ønsk\n",
       "2047       5  0.004737      ønsk\n",
       "2047       6  0.005922      ønsk\n",
       "9470      20  0.754286    øresaa\n",
       "18321     16  0.671688  østerlid\n",
       "64399      7  0.978155       øxe\n",
       "\n",
       "[2949 rows x 3 columns], R=30, lambda_step=0.01, plot_opts={'xlab': 'PC1', 'ylab': 'PC2'}, topic_order=[12, 2, 3, 19, 15, 4, 6, 1, 13, 11, 9, 10, 7, 20, 18, 17, 14, 8, 16, 5])"
      ]
     },
     "execution_count": 54,
     "metadata": {},
     "output_type": "execute_result"
    }
   ],
   "source": [
    "# Visualize the topics\n",
    "pyLDAvis.enable_notebook()\n",
    "vis = pyLDAvis.gensim.prepare(lda_model, corpus, id2word)\n",
    "vis"
   ]
  },
  {
   "cell_type": "code",
   "execution_count": 55,
   "metadata": {},
   "outputs": [
    {
     "name": "stdout",
     "output_type": "stream",
     "text": [
      "Stored 'vis' (PreparedData)\n"
     ]
    }
   ],
   "source": [
    "%store vis"
   ]
  },
  {
   "cell_type": "markdown",
   "metadata": {},
   "source": [
    "#### Visulize the topic distribution for a single passage"
   ]
  },
  {
   "cell_type": "code",
   "execution_count": null,
   "metadata": {},
   "outputs": [],
   "source": []
  },
  {
   "cell_type": "code",
   "execution_count": 83,
   "metadata": {},
   "outputs": [],
   "source": [
    "def topic_distribution(index_document_number,ldamodel=lda_model, corpus=corpus, texts=data):\n",
    "    topic_and_distribution = lda_model[corpus][index_document_number][0]\n",
    "    labels = [i[0] for i in topic_and_distribution]\n",
    "    percentage = [i[1] for i in topic_and_distribution]\n",
    "    return labels,percentage"
   ]
  },
  {
   "cell_type": "code",
   "execution_count": 102,
   "metadata": {},
   "outputs": [],
   "source": [
    "def visulize_topic_dist(index_document_number):\n",
    "    labels,percentage=topic_distribution(index_document_number)\n",
    "    x = np.arange(len(labels))\n",
    "    plt.bar(x, percentage)\n",
    "    plt.xticks(x, labels)\n",
    "    plt.ylabel('percentage', fontsize=18)\n",
    "    plt.xlabel('topic ', fontsize=16)\n",
    "    plt.show()"
   ]
  },
  {
   "cell_type": "code",
   "execution_count": 103,
   "metadata": {},
   "outputs": [
    {
     "data": {
      "image/png": "[encoded data removed]",
      "text/plain": [
       "<Figure size 432x288 with 1 Axes>"
      ]
     },
     "metadata": {},
     "output_type": "display_data"
    }
   ],
   "source": [
    "visulize_topic_dist(50)"
   ]
  },
  {
   "cell_type": "markdown",
   "metadata": {},
   "source": [
    "#### Finding the dominant topic in each sentence"
   ]
  },
  {
   "cell_type": "markdown",
   "metadata": {},
   "source": [
    "Here we present the topic modelling results to for each of the document we have, and we extract the most popular topic for each document"
   ]
  },
  {
   "cell_type": "code",
   "execution_count": 70,
   "metadata": {},
   "outputs": [],
   "source": [
    "\"\"\"the following code will help to determine what topic a given document is about\"\"\"\n",
    "def format_topics_sentences(ldamodel=lda_model, corpus=corpus, texts=data):\n",
    "    # Init output\n",
    "    sent_topics_df = pd.DataFrame()\n",
    "\n",
    "    # Get main topic in each document\n",
    "    for i, row in enumerate(ldamodel[corpus]):\n",
    "        row = row[0]\n",
    "        row = sorted(row, key=lambda x: (x[1]), reverse=True)\n",
    "        # Get the Dominant topic, Perc Contribution and Keywords for each document\n",
    "        topic_num = row[0][0]\n",
    "        prop_topic = row[0][1]\n",
    "        wp = ldamodel.show_topic(topic_num)\n",
    "        topic_keywords = \", \".join([word for word, prop in wp])\n",
    "        sent_topics_df = sent_topics_df.append(pd.Series([int(topic_num), round(prop_topic,4), topic_keywords]), ignore_index=True)\n",
    "    sent_topics_df.columns = ['Dominant_Topic', 'Perc_Contribution', 'Topic_Keywords']\n",
    "\n",
    "    # Add original text to the end of the output\n",
    "    contents = pd.Series(texts)\n",
    "    sent_topics_df = pd.concat([sent_topics_df, contents], axis=1)\n",
    "    return(sent_topics_df)"
   ]
  },
  {
   "cell_type": "code",
   "execution_count": 71,
   "metadata": {},
   "outputs": [],
   "source": [
    "df_topic_sents_keywords = format_topics_sentences(lda_model, corpus=corpus, texts=data)"
   ]
  },
  {
   "cell_type": "code",
   "execution_count": 106,
   "metadata": {},
   "outputs": [
    {
     "data": {
      "text/html": [
       "<div>\n",
       "<style scoped>\n",
       "    .dataframe tbody tr th:only-of-type {\n",
       "        vertical-align: middle;\n",
       "    }\n",
       "\n",
       "    .dataframe tbody tr th {\n",
       "        vertical-align: top;\n",
       "    }\n",
       "\n",
       "    .dataframe thead th {\n",
       "        text-align: right;\n",
       "    }\n",
       "</style>\n",
       "<table border=\"1\" class=\"dataframe\">\n",
       "  <thead>\n",
       "    <tr style=\"text-align: right;\">\n",
       "      <th></th>\n",
       "      <th>Document_No</th>\n",
       "      <th>Dominant_Topic</th>\n",
       "      <th>Topic_Perc_Contrib</th>\n",
       "      <th>Keywords</th>\n",
       "      <th>Text</th>\n",
       "    </tr>\n",
       "  </thead>\n",
       "  <tbody>\n",
       "    <tr>\n",
       "      <th>0</th>\n",
       "      <td>0</td>\n",
       "      <td>0.0</td>\n",
       "      <td>0.7281</td>\n",
       "      <td>gud, liv, ei, aand, dit, død, kun, ord, verd, ...</td>\n",
       "      <td>No. 196.\\n *)Jeg som et Barn mig glæde vil,Og ...</td>\n",
       "    </tr>\n",
       "    <tr>\n",
       "      <th>1</th>\n",
       "      <td>1</td>\n",
       "      <td>7.0</td>\n",
       "      <td>0.3263</td>\n",
       "      <td>herod, delphi, melodi, slagterbænk, guldsom, d...</td>\n",
       "      <td>HENRICH STEFFENS.VED Henrik Steffens' Død den ...</td>\n",
       "    </tr>\n",
       "    <tr>\n",
       "      <th>2</th>\n",
       "      <td>2</td>\n",
       "      <td>2.0</td>\n",
       "      <td>0.3679</td>\n",
       "      <td>kong, kun, stor, hel, rom, kom, ogsaa, vel, ba...</td>\n",
       "      <td>No. 40\\n .Verden er, som Man den tager,Herlig ...</td>\n",
       "    </tr>\n",
       "    <tr>\n",
       "      <th>3</th>\n",
       "      <td>3</td>\n",
       "      <td>14.0</td>\n",
       "      <td>0.9285</td>\n",
       "      <td>gud, ord, ei, hjert, kun, verd, aand, lys, dag...</td>\n",
       "      <td>No. 63\\n . *)Paradis-Gaard og Folke-Vang!Synge...</td>\n",
       "    </tr>\n",
       "    <tr>\n",
       "      <th>4</th>\n",
       "      <td>4</td>\n",
       "      <td>8.0</td>\n",
       "      <td>0.5306</td>\n",
       "      <td>gud, død, ei, kan, al, no, liv, ord, aand, vort</td>\n",
       "      <td>No. 327\\n .Gud-Fader udsendte sit Naadens-Ord,...</td>\n",
       "    </tr>\n",
       "    <tr>\n",
       "      <th>5</th>\n",
       "      <td>5</td>\n",
       "      <td>14.0</td>\n",
       "      <td>0.7349</td>\n",
       "      <td>gud, ord, ei, hjert, kun, verd, aand, lys, dag...</td>\n",
       "      <td>No. 200\\n .Guds Engle sang i Stjerne-Tal,Stjer...</td>\n",
       "    </tr>\n",
       "    <tr>\n",
       "      <th>6</th>\n",
       "      <td>6</td>\n",
       "      <td>14.0</td>\n",
       "      <td>0.2904</td>\n",
       "      <td>gud, ord, ei, hjert, kun, verd, aand, lys, dag...</td>\n",
       "      <td>No. 156\\n . *)Stjernernes Skaber og Himmelens ...</td>\n",
       "    </tr>\n",
       "    <tr>\n",
       "      <th>7</th>\n",
       "      <td>7</td>\n",
       "      <td>10.0</td>\n",
       "      <td>0.3623</td>\n",
       "      <td>dam, odin, thor, myth, asern, jet, lok, nord, ...</td>\n",
       "      <td>No. 119\\n .Syng, Guds Folk! med Hjertens Glæde...</td>\n",
       "    </tr>\n",
       "    <tr>\n",
       "      <th>8</th>\n",
       "      <td>8</td>\n",
       "      <td>17.0</td>\n",
       "      <td>0.7665</td>\n",
       "      <td>glemmes_aldr, kvædl, willemo, syrith, himlensa...</td>\n",
       "      <td>No. 2\\n .Adam og Eva\\n .Ordet sig hviled,Engle...</td>\n",
       "    </tr>\n",
       "    <tr>\n",
       "      <th>9</th>\n",
       "      <td>9</td>\n",
       "      <td>8.0</td>\n",
       "      <td>0.9021</td>\n",
       "      <td>gud, død, ei, kan, al, no, liv, ord, aand, vort</td>\n",
       "      <td>No\\n . 86.*)Mel.\\n : Et Barn er født i Bethehe...</td>\n",
       "    </tr>\n",
       "  </tbody>\n",
       "</table>\n",
       "</div>"
      ],
      "text/plain": [
       "   Document_No  Dominant_Topic  Topic_Perc_Contrib  \\\n",
       "0            0             0.0              0.7281   \n",
       "1            1             7.0              0.3263   \n",
       "2            2             2.0              0.3679   \n",
       "3            3            14.0              0.9285   \n",
       "4            4             8.0              0.5306   \n",
       "5            5            14.0              0.7349   \n",
       "6            6            14.0              0.2904   \n",
       "7            7            10.0              0.3623   \n",
       "8            8            17.0              0.7665   \n",
       "9            9             8.0              0.9021   \n",
       "\n",
       "                                            Keywords  \\\n",
       "0  gud, liv, ei, aand, dit, død, kun, ord, verd, ...   \n",
       "1  herod, delphi, melodi, slagterbænk, guldsom, d...   \n",
       "2  kong, kun, stor, hel, rom, kom, ogsaa, vel, ba...   \n",
       "3  gud, ord, ei, hjert, kun, verd, aand, lys, dag...   \n",
       "4    gud, død, ei, kan, al, no, liv, ord, aand, vort   \n",
       "5  gud, ord, ei, hjert, kun, verd, aand, lys, dag...   \n",
       "6  gud, ord, ei, hjert, kun, verd, aand, lys, dag...   \n",
       "7  dam, odin, thor, myth, asern, jet, lok, nord, ...   \n",
       "8  glemmes_aldr, kvædl, willemo, syrith, himlensa...   \n",
       "9    gud, død, ei, kan, al, no, liv, ord, aand, vort   \n",
       "\n",
       "                                                Text  \n",
       "0  No. 196.\\n *)Jeg som et Barn mig glæde vil,Og ...  \n",
       "1  HENRICH STEFFENS.VED Henrik Steffens' Død den ...  \n",
       "2  No. 40\\n .Verden er, som Man den tager,Herlig ...  \n",
       "3  No. 63\\n . *)Paradis-Gaard og Folke-Vang!Synge...  \n",
       "4  No. 327\\n .Gud-Fader udsendte sit Naadens-Ord,...  \n",
       "5  No. 200\\n .Guds Engle sang i Stjerne-Tal,Stjer...  \n",
       "6  No. 156\\n . *)Stjernernes Skaber og Himmelens ...  \n",
       "7  No. 119\\n .Syng, Guds Folk! med Hjertens Glæde...  \n",
       "8  No. 2\\n .Adam og Eva\\n .Ordet sig hviled,Engle...  \n",
       "9  No\\n . 86.*)Mel.\\n : Et Barn er født i Bethehe...  "
      ]
     },
     "execution_count": 106,
     "metadata": {},
     "output_type": "execute_result"
    }
   ],
   "source": [
    "\n",
    "# Format\n",
    "df_dominant_topic = df_topic_sents_keywords.reset_index()\n",
    "df_dominant_topic.columns = ['Document_No', 'Dominant_Topic', 'Topic_Perc_Contrib', 'Keywords', 'Text']\n",
    "\n",
    "# Show\n",
    "df_dominant_topic.head(10)"
   ]
  },
  {
   "cell_type": "markdown",
   "metadata": {},
   "source": [
    "#### Find the most representative document for each topic"
   ]
  },
  {
   "cell_type": "code",
   "execution_count": 104,
   "metadata": {},
   "outputs": [
    {
     "data": {
      "text/html": [
       "<div>\n",
       "<style scoped>\n",
       "    .dataframe tbody tr th:only-of-type {\n",
       "        vertical-align: middle;\n",
       "    }\n",
       "\n",
       "    .dataframe tbody tr th {\n",
       "        vertical-align: top;\n",
       "    }\n",
       "\n",
       "    .dataframe thead th {\n",
       "        text-align: right;\n",
       "    }\n",
       "</style>\n",
       "<table border=\"1\" class=\"dataframe\">\n",
       "  <thead>\n",
       "    <tr style=\"text-align: right;\">\n",
       "      <th></th>\n",
       "      <th>Topic_Num</th>\n",
       "      <th>Topic_Perc_Contrib</th>\n",
       "      <th>Keywords</th>\n",
       "      <th>Text</th>\n",
       "    </tr>\n",
       "  </thead>\n",
       "  <tbody>\n",
       "    <tr>\n",
       "      <th>0</th>\n",
       "      <td>0.0</td>\n",
       "      <td>0.9325</td>\n",
       "      <td>gud, liv, ei, aand, dit, død, kun, ord, verd, ...</td>\n",
       "      <td>No. 354.\\n *)Sin Eenbaarne Gud hengivetHar for...</td>\n",
       "    </tr>\n",
       "    <tr>\n",
       "      <th>1</th>\n",
       "      <td>1.0</td>\n",
       "      <td>0.9229</td>\n",
       "      <td>kan, aand, kirk, kun, maa, naar, ord, hel, tro...</td>\n",
       "      <td>DEN CHRISTELIGEBØRNELÆRDOM.DEN Række Afhandlin...</td>\n",
       "    </tr>\n",
       "    <tr>\n",
       "      <th>2</th>\n",
       "      <td>2.0</td>\n",
       "      <td>0.7049</td>\n",
       "      <td>kong, kun, stor, hel, rom, kom, ogsaa, vel, ba...</td>\n",
       "      <td>HAANDBOG I VERDENSHISTORIEN. ANDEN DEEL.\\n MID...</td>\n",
       "    </tr>\n",
       "    <tr>\n",
       "      <th>3</th>\n",
       "      <td>3.0</td>\n",
       "      <td>0.6854</td>\n",
       "      <td>kong, ei, kom, dannemark, kun, gaml, søn, ord,...</td>\n",
       "      <td>No. 211\\n . *)Med sin Alabaster-Krukke,Fuld af...</td>\n",
       "    </tr>\n",
       "    <tr>\n",
       "      <th>4</th>\n",
       "      <td>4.0</td>\n",
       "      <td>0.5207</td>\n",
       "      <td>jordensaa, rethan, tidsom, givetat, tilbage, s...</td>\n",
       "      <td>No. 38\\n .Christne, med Skiel,Kaldes de vel,Al...</td>\n",
       "    </tr>\n",
       "    <tr>\n",
       "      <th>5</th>\n",
       "      <td>5.0</td>\n",
       "      <td>0.9112</td>\n",
       "      <td>ei, gud, dit, kun, mon, kan, ord, gaml, kirk, maa</td>\n",
       "      <td>No. 61\\n . *)Hyggelig, rolig,Gud! er din Bolig...</td>\n",
       "    </tr>\n",
       "    <tr>\n",
       "      <th>6</th>\n",
       "      <td>6.0</td>\n",
       "      <td>0.4928</td>\n",
       "      <td>liv, herm, boemund, antioki, glemmes_aldr, apo...</td>\n",
       "      <td>No. 344\\n . *)Dag med Ære, Dag med Ynde!Rosen-...</td>\n",
       "    </tr>\n",
       "    <tr>\n",
       "      <th>7</th>\n",
       "      <td>7.0</td>\n",
       "      <td>0.4847</td>\n",
       "      <td>herod, delphi, melodi, slagterbænk, guldsom, d...</td>\n",
       "      <td>No. 205\\n . *)Al den ganske ChristenhedPriser ...</td>\n",
       "    </tr>\n",
       "    <tr>\n",
       "      <th>8</th>\n",
       "      <td>8.0</td>\n",
       "      <td>0.9432</td>\n",
       "      <td>gud, død, ei, kan, al, no, liv, ord, aand, vort</td>\n",
       "      <td>No. 284\\n . *)Guds Engel sidder paa Gravens Br...</td>\n",
       "    </tr>\n",
       "    <tr>\n",
       "      <th>9</th>\n",
       "      <td>9.0</td>\n",
       "      <td>0.4415</td>\n",
       "      <td>odin, asern, jet, digt, lok, aser, norn, gud, ...</td>\n",
       "      <td>No. 26.Overgangen i det røde Hav.Pharao sidder...</td>\n",
       "    </tr>\n",
       "    <tr>\n",
       "      <th>10</th>\n",
       "      <td>10.0</td>\n",
       "      <td>0.5498</td>\n",
       "      <td>dam, odin, thor, myth, asern, jet, lok, nord, ...</td>\n",
       "      <td>No. 292\\n . *)Hører, I, som græde,Og med Taare...</td>\n",
       "    </tr>\n",
       "    <tr>\n",
       "      <th>11</th>\n",
       "      <td>11.0</td>\n",
       "      <td>0.9887</td>\n",
       "      <td>kan, ei, kun, naar, maa, kund, vel, hel, vild,...</td>\n",
       "      <td>VALGDAGEN I KJERTEMINDE. (1855. Juni 21).DEN 2...</td>\n",
       "    </tr>\n",
       "    <tr>\n",
       "      <th>12</th>\n",
       "      <td>13.0</td>\n",
       "      <td>0.6632</td>\n",
       "      <td>korsets_træ, blaamænd, sagog, korsfæstedenu, v...</td>\n",
       "      <td>No. 239.\\n *)Dag uden Mage!Evigheds Morgen!Ban...</td>\n",
       "    </tr>\n",
       "    <tr>\n",
       "      <th>13</th>\n",
       "      <td>14.0</td>\n",
       "      <td>0.9553</td>\n",
       "      <td>gud, ord, ei, hjert, kun, verd, aand, lys, dag...</td>\n",
       "      <td>No. 132.\\n *)Blomstre som en Rosen-GaardSkal d...</td>\n",
       "    </tr>\n",
       "    <tr>\n",
       "      <th>14</th>\n",
       "      <td>15.0</td>\n",
       "      <td>0.8343</td>\n",
       "      <td>canaan, aandtil, kvær, haandsaa, stigeop, raha...</td>\n",
       "      <td>Bibel-Historien.No. 4.Verden døde,Tomt og øde,...</td>\n",
       "    </tr>\n",
       "    <tr>\n",
       "      <th>15</th>\n",
       "      <td>16.0</td>\n",
       "      <td>0.4744</td>\n",
       "      <td>fadervor, fortabt, aando, aandsaa, jordei, sig...</td>\n",
       "      <td>No. 97\\n .Smuler under Herrens BordHunde smaa ...</td>\n",
       "    </tr>\n",
       "    <tr>\n",
       "      <th>16</th>\n",
       "      <td>17.0</td>\n",
       "      <td>0.7665</td>\n",
       "      <td>glemmes_aldr, kvædl, willemo, syrith, himlensa...</td>\n",
       "      <td>No. 2\\n .Adam og Eva\\n .Ordet sig hviled,Engle...</td>\n",
       "    </tr>\n",
       "    <tr>\n",
       "      <th>17</th>\n",
       "      <td>18.0</td>\n",
       "      <td>0.9485</td>\n",
       "      <td>ei, kan, gud, maa, kun, vel, kom, hel, jord, dit</td>\n",
       "      <td>Rachab.No. 41. *)Om I gik ud ad Porten,Som nys...</td>\n",
       "    </tr>\n",
       "    <tr>\n",
       "      <th>18</th>\n",
       "      <td>19.0</td>\n",
       "      <td>0.4502</td>\n",
       "      <td>dansk, bønd, danmark, slesv, fru_mari, modersm...</td>\n",
       "      <td>No. 43.Samson.Mel.\\n Hr. Peder kasted Runer ov...</td>\n",
       "    </tr>\n",
       "  </tbody>\n",
       "</table>\n",
       "</div>"
      ],
      "text/plain": [
       "    Topic_Num  Topic_Perc_Contrib  \\\n",
       "0         0.0              0.9325   \n",
       "1         1.0              0.9229   \n",
       "2         2.0              0.7049   \n",
       "3         3.0              0.6854   \n",
       "4         4.0              0.5207   \n",
       "5         5.0              0.9112   \n",
       "6         6.0              0.4928   \n",
       "7         7.0              0.4847   \n",
       "8         8.0              0.9432   \n",
       "9         9.0              0.4415   \n",
       "10       10.0              0.5498   \n",
       "11       11.0              0.9887   \n",
       "12       13.0              0.6632   \n",
       "13       14.0              0.9553   \n",
       "14       15.0              0.8343   \n",
       "15       16.0              0.4744   \n",
       "16       17.0              0.7665   \n",
       "17       18.0              0.9485   \n",
       "18       19.0              0.4502   \n",
       "\n",
       "                                             Keywords  \\\n",
       "0   gud, liv, ei, aand, dit, død, kun, ord, verd, ...   \n",
       "1   kan, aand, kirk, kun, maa, naar, ord, hel, tro...   \n",
       "2   kong, kun, stor, hel, rom, kom, ogsaa, vel, ba...   \n",
       "3   kong, ei, kom, dannemark, kun, gaml, søn, ord,...   \n",
       "4   jordensaa, rethan, tidsom, givetat, tilbage, s...   \n",
       "5   ei, gud, dit, kun, mon, kan, ord, gaml, kirk, maa   \n",
       "6   liv, herm, boemund, antioki, glemmes_aldr, apo...   \n",
       "7   herod, delphi, melodi, slagterbænk, guldsom, d...   \n",
       "8     gud, død, ei, kan, al, no, liv, ord, aand, vort   \n",
       "9   odin, asern, jet, digt, lok, aser, norn, gud, ...   \n",
       "10  dam, odin, thor, myth, asern, jet, lok, nord, ...   \n",
       "11  kan, ei, kun, naar, maa, kund, vel, hel, vild,...   \n",
       "12  korsets_træ, blaamænd, sagog, korsfæstedenu, v...   \n",
       "13  gud, ord, ei, hjert, kun, verd, aand, lys, dag...   \n",
       "14  canaan, aandtil, kvær, haandsaa, stigeop, raha...   \n",
       "15  fadervor, fortabt, aando, aandsaa, jordei, sig...   \n",
       "16  glemmes_aldr, kvædl, willemo, syrith, himlensa...   \n",
       "17   ei, kan, gud, maa, kun, vel, kom, hel, jord, dit   \n",
       "18  dansk, bønd, danmark, slesv, fru_mari, modersm...   \n",
       "\n",
       "                                                 Text  \n",
       "0   No. 354.\\n *)Sin Eenbaarne Gud hengivetHar for...  \n",
       "1   DEN CHRISTELIGEBØRNELÆRDOM.DEN Række Afhandlin...  \n",
       "2   HAANDBOG I VERDENSHISTORIEN. ANDEN DEEL.\\n MID...  \n",
       "3   No. 211\\n . *)Med sin Alabaster-Krukke,Fuld af...  \n",
       "4   No. 38\\n .Christne, med Skiel,Kaldes de vel,Al...  \n",
       "5   No. 61\\n . *)Hyggelig, rolig,Gud! er din Bolig...  \n",
       "6   No. 344\\n . *)Dag med Ære, Dag med Ynde!Rosen-...  \n",
       "7   No. 205\\n . *)Al den ganske ChristenhedPriser ...  \n",
       "8   No. 284\\n . *)Guds Engel sidder paa Gravens Br...  \n",
       "9   No. 26.Overgangen i det røde Hav.Pharao sidder...  \n",
       "10  No. 292\\n . *)Hører, I, som græde,Og med Taare...  \n",
       "11  VALGDAGEN I KJERTEMINDE. (1855. Juni 21).DEN 2...  \n",
       "12  No. 239.\\n *)Dag uden Mage!Evigheds Morgen!Ban...  \n",
       "13  No. 132.\\n *)Blomstre som en Rosen-GaardSkal d...  \n",
       "14  Bibel-Historien.No. 4.Verden døde,Tomt og øde,...  \n",
       "15  No. 97\\n .Smuler under Herrens BordHunde smaa ...  \n",
       "16  No. 2\\n .Adam og Eva\\n .Ordet sig hviled,Engle...  \n",
       "17  Rachab.No. 41. *)Om I gik ud ad Porten,Som nys...  \n",
       "18  No. 43.Samson.Mel.\\n Hr. Peder kasted Runer ov...  "
      ]
     },
     "execution_count": 104,
     "metadata": {},
     "output_type": "execute_result"
    }
   ],
   "source": [
    "\"\"\"find the documents a given topic has contributed to the most and infer the topic by reading that document.\"\"\"\n",
    "# Group top 5 sentences under each topic\n",
    "sent_topics_sorteddf_mallet = pd.DataFrame()\n",
    "\n",
    "sent_topics_outdf_grpd = df_topic_sents_keywords.groupby('Dominant_Topic')\n",
    "\n",
    "for i, grp in sent_topics_outdf_grpd:\n",
    "    sent_topics_sorteddf_mallet = pd.concat([sent_topics_sorteddf_mallet, \n",
    "                                             grp.sort_values(['Perc_Contribution'], ascending=[0]).head(1)], \n",
    "                                            axis=0)\n",
    "\n",
    "# Reset Index    \n",
    "sent_topics_sorteddf_mallet.reset_index(drop=True, inplace=True)\n",
    "\n",
    "# Format\n",
    "sent_topics_sorteddf_mallet.columns = ['Topic_Num', \"Topic_Perc_Contrib\", \"Keywords\", \"Text\"]\n",
    "\n",
    "# Show\n",
    "sent_topics_sorteddf_mallet.head()"
   ]
  },
  {
   "cell_type": "markdown",
   "metadata": {},
   "source": [
    "#### Topic distribution across documents"
   ]
  },
  {
   "cell_type": "markdown",
   "metadata": {},
   "source": [
    "understand the volume and distribution of topics in order to judge how widely it was discusse"
   ]
  },
  {
   "cell_type": "code",
   "execution_count": 191,
   "metadata": {},
   "outputs": [
    {
     "data": {
      "text/html": [
       "<div>\n",
       "<style scoped>\n",
       "    .dataframe tbody tr th:only-of-type {\n",
       "        vertical-align: middle;\n",
       "    }\n",
       "\n",
       "    .dataframe tbody tr th {\n",
       "        vertical-align: top;\n",
       "    }\n",
       "\n",
       "    .dataframe thead th {\n",
       "        text-align: right;\n",
       "    }\n",
       "</style>\n",
       "<table border=\"1\" class=\"dataframe\">\n",
       "  <thead>\n",
       "    <tr style=\"text-align: right;\">\n",
       "      <th></th>\n",
       "      <th>index</th>\n",
       "      <th>Dominant_Topic</th>\n",
       "      <th>Topic_Keywords</th>\n",
       "      <th>Num_Documents</th>\n",
       "      <th>Perc_Documents</th>\n",
       "    </tr>\n",
       "  </thead>\n",
       "  <tbody>\n",
       "    <tr>\n",
       "      <th>0</th>\n",
       "      <td>13</td>\n",
       "      <td>9.0</td>\n",
       "      <td>odin, asern, jet, digt, lok, aser, norn, gud, ...</td>\n",
       "      <td>3</td>\n",
       "      <td>0.0043</td>\n",
       "    </tr>\n",
       "    <tr>\n",
       "      <th>1</th>\n",
       "      <td>5</td>\n",
       "      <td>10.0</td>\n",
       "      <td>dam, odin, thor, myth, asern, jet, lok, nord, ...</td>\n",
       "      <td>5</td>\n",
       "      <td>0.0072</td>\n",
       "    </tr>\n",
       "    <tr>\n",
       "      <th>2</th>\n",
       "      <td>18</td>\n",
       "      <td>19.0</td>\n",
       "      <td>dansk, bønd, danmark, slesv, fru_mari, modersm...</td>\n",
       "      <td>6</td>\n",
       "      <td>0.0086</td>\n",
       "    </tr>\n",
       "    <tr>\n",
       "      <th>3</th>\n",
       "      <td>2</td>\n",
       "      <td>2.0</td>\n",
       "      <td>kong, kun, stor, hel, rom, kom, ogsaa, vel, ba...</td>\n",
       "      <td>6</td>\n",
       "      <td>0.0086</td>\n",
       "    </tr>\n",
       "    <tr>\n",
       "      <th>4</th>\n",
       "      <td>16</td>\n",
       "      <td>15.0</td>\n",
       "      <td>canaan, aandtil, kvær, haandsaa, stigeop, raha...</td>\n",
       "      <td>6</td>\n",
       "      <td>0.0086</td>\n",
       "    </tr>\n",
       "    <tr>\n",
       "      <th>5</th>\n",
       "      <td>6</td>\n",
       "      <td>17.0</td>\n",
       "      <td>glemmes_aldr, kvædl, willemo, syrith, himlensa...</td>\n",
       "      <td>8</td>\n",
       "      <td>0.0115</td>\n",
       "    </tr>\n",
       "    <tr>\n",
       "      <th>6</th>\n",
       "      <td>14</td>\n",
       "      <td>4.0</td>\n",
       "      <td>jordensaa, rethan, tidsom, givetat, tilbage, s...</td>\n",
       "      <td>10</td>\n",
       "      <td>0.0144</td>\n",
       "    </tr>\n",
       "    <tr>\n",
       "      <th>7</th>\n",
       "      <td>8</td>\n",
       "      <td>13.0</td>\n",
       "      <td>korsets_træ, blaamænd, sagog, korsfæstedenu, v...</td>\n",
       "      <td>10</td>\n",
       "      <td>0.0144</td>\n",
       "    </tr>\n",
       "    <tr>\n",
       "      <th>8</th>\n",
       "      <td>1</td>\n",
       "      <td>7.0</td>\n",
       "      <td>herod, delphi, melodi, slagterbænk, guldsom, d...</td>\n",
       "      <td>11</td>\n",
       "      <td>0.0158</td>\n",
       "    </tr>\n",
       "    <tr>\n",
       "      <th>9</th>\n",
       "      <td>10</td>\n",
       "      <td>6.0</td>\n",
       "      <td>liv, herm, boemund, antioki, glemmes_aldr, apo...</td>\n",
       "      <td>13</td>\n",
       "      <td>0.0187</td>\n",
       "    </tr>\n",
       "    <tr>\n",
       "      <th>10</th>\n",
       "      <td>11</td>\n",
       "      <td>3.0</td>\n",
       "      <td>kong, ei, kom, dannemark, kun, gaml, søn, ord,...</td>\n",
       "      <td>13</td>\n",
       "      <td>0.0187</td>\n",
       "    </tr>\n",
       "    <tr>\n",
       "      <th>11</th>\n",
       "      <td>15</td>\n",
       "      <td>16.0</td>\n",
       "      <td>fadervor, fortabt, aando, aandsaa, jordei, sig...</td>\n",
       "      <td>18</td>\n",
       "      <td>0.0259</td>\n",
       "    </tr>\n",
       "    <tr>\n",
       "      <th>12</th>\n",
       "      <td>9</td>\n",
       "      <td>1.0</td>\n",
       "      <td>kan, aand, kirk, kun, maa, naar, ord, hel, tro...</td>\n",
       "      <td>30</td>\n",
       "      <td>0.0432</td>\n",
       "    </tr>\n",
       "    <tr>\n",
       "      <th>13</th>\n",
       "      <td>3</td>\n",
       "      <td>14.0</td>\n",
       "      <td>gud, ord, ei, hjert, kun, verd, aand, lys, dag...</td>\n",
       "      <td>35</td>\n",
       "      <td>0.0504</td>\n",
       "    </tr>\n",
       "    <tr>\n",
       "      <th>14</th>\n",
       "      <td>7</td>\n",
       "      <td>5.0</td>\n",
       "      <td>ei, gud, dit, kun, mon, kan, ord, gaml, kirk, maa</td>\n",
       "      <td>50</td>\n",
       "      <td>0.0719</td>\n",
       "    </tr>\n",
       "    <tr>\n",
       "      <th>15</th>\n",
       "      <td>17</td>\n",
       "      <td>18.0</td>\n",
       "      <td>ei, kan, gud, maa, kun, vel, kom, hel, jord, dit</td>\n",
       "      <td>63</td>\n",
       "      <td>0.0906</td>\n",
       "    </tr>\n",
       "    <tr>\n",
       "      <th>16</th>\n",
       "      <td>12</td>\n",
       "      <td>11.0</td>\n",
       "      <td>kan, ei, kun, naar, maa, kund, vel, hel, vild,...</td>\n",
       "      <td>74</td>\n",
       "      <td>0.1065</td>\n",
       "    </tr>\n",
       "    <tr>\n",
       "      <th>17</th>\n",
       "      <td>4</td>\n",
       "      <td>8.0</td>\n",
       "      <td>gud, død, ei, kan, al, no, liv, ord, aand, vort</td>\n",
       "      <td>92</td>\n",
       "      <td>0.1324</td>\n",
       "    </tr>\n",
       "    <tr>\n",
       "      <th>18</th>\n",
       "      <td>0</td>\n",
       "      <td>0.0</td>\n",
       "      <td>gud, liv, ei, aand, dit, død, kun, ord, verd, ...</td>\n",
       "      <td>242</td>\n",
       "      <td>0.3482</td>\n",
       "    </tr>\n",
       "  </tbody>\n",
       "</table>\n",
       "</div>"
      ],
      "text/plain": [
       "    index  Dominant_Topic                                     Topic_Keywords  \\\n",
       "0      13             9.0  odin, asern, jet, digt, lok, aser, norn, gud, ...   \n",
       "1       5            10.0  dam, odin, thor, myth, asern, jet, lok, nord, ...   \n",
       "2      18            19.0  dansk, bønd, danmark, slesv, fru_mari, modersm...   \n",
       "3       2             2.0  kong, kun, stor, hel, rom, kom, ogsaa, vel, ba...   \n",
       "4      16            15.0  canaan, aandtil, kvær, haandsaa, stigeop, raha...   \n",
       "5       6            17.0  glemmes_aldr, kvædl, willemo, syrith, himlensa...   \n",
       "6      14             4.0  jordensaa, rethan, tidsom, givetat, tilbage, s...   \n",
       "7       8            13.0  korsets_træ, blaamænd, sagog, korsfæstedenu, v...   \n",
       "8       1             7.0  herod, delphi, melodi, slagterbænk, guldsom, d...   \n",
       "9      10             6.0  liv, herm, boemund, antioki, glemmes_aldr, apo...   \n",
       "10     11             3.0  kong, ei, kom, dannemark, kun, gaml, søn, ord,...   \n",
       "11     15            16.0  fadervor, fortabt, aando, aandsaa, jordei, sig...   \n",
       "12      9             1.0  kan, aand, kirk, kun, maa, naar, ord, hel, tro...   \n",
       "13      3            14.0  gud, ord, ei, hjert, kun, verd, aand, lys, dag...   \n",
       "14      7             5.0  ei, gud, dit, kun, mon, kan, ord, gaml, kirk, maa   \n",
       "15     17            18.0   ei, kan, gud, maa, kun, vel, kom, hel, jord, dit   \n",
       "16     12            11.0  kan, ei, kun, naar, maa, kund, vel, hel, vild,...   \n",
       "17      4             8.0    gud, død, ei, kan, al, no, liv, ord, aand, vort   \n",
       "18      0             0.0  gud, liv, ei, aand, dit, død, kun, ord, verd, ...   \n",
       "\n",
       "    Num_Documents  Perc_Documents  \n",
       "0               3          0.0043  \n",
       "1               5          0.0072  \n",
       "2               6          0.0086  \n",
       "3               6          0.0086  \n",
       "4               6          0.0086  \n",
       "5               8          0.0115  \n",
       "6              10          0.0144  \n",
       "7              10          0.0144  \n",
       "8              11          0.0158  \n",
       "9              13          0.0187  \n",
       "10             13          0.0187  \n",
       "11             18          0.0259  \n",
       "12             30          0.0432  \n",
       "13             35          0.0504  \n",
       "14             50          0.0719  \n",
       "15             63          0.0906  \n",
       "16             74          0.1065  \n",
       "17             92          0.1324  \n",
       "18            242          0.3482  "
      ]
     },
     "execution_count": 191,
     "metadata": {},
     "output_type": "execute_result"
    }
   ],
   "source": [
    "# Number of Documents for Each Topic\n",
    "topic_counts = df_topic_sents_keywords['Dominant_Topic'].value_counts()\n",
    "\n",
    "# Percentage of Documents for Each Topic\n",
    "topic_contribution = round(topic_counts/topic_counts.sum(), 4)\n",
    "\n",
    "# Topic Number and Keywords\n",
    "topic_num_keywords = df_topic_sents_keywords[['Dominant_Topic', 'Topic_Keywords']]\n",
    "topic_num_keywords= topic_num_keywords.drop_duplicates(subset=['Dominant_Topic', 'Topic_Keywords'])\n",
    "\n",
    "#Merge the quitity into a single table by topic number\n",
    "temp = pd.DataFrame(topic_counts).reset_index()\n",
    "temp.columns = ['Dominant_Topic','Num_Documents']\n",
    "temp2 = pd.DataFrame(topic_contribution).reset_index()\n",
    "temp2.columns = ['Dominant_Topic','Perc_Documents']\n",
    "temp3 = pd.merge(topic_num_keywords, temp, on=\"Dominant_Topic\")\n",
    "df_dominant_topics=pd.merge(temp3, temp2, on=\"Dominant_Topic\")\n",
    "\n",
    "# Show\n",
    "df_dominant_topics.sort_values(by=['Perc_Documents']).reset_index()"
   ]
  }
 ],
 "metadata": {
  "kernelspec": {
   "display_name": "Python 3",
   "language": "python",
   "name": "python3"
  },
  "language_info": {
   "codemirror_mode": {
    "name": "ipython",
    "version": 3
   },
   "file_extension": ".py",
   "mimetype": "text/x-python",
   "name": "python",
   "nbconvert_exporter": "python",
   "pygments_lexer": "ipython3",
   "version": "3.6.5"
  }
 },
 "nbformat": 4,
 "nbformat_minor": 2
}
