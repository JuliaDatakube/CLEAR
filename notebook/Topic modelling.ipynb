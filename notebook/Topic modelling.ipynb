{
 "cells": [
  {
   "cell_type": "code",
   "execution_count": 1,
   "metadata": {},
   "outputs": [
    {
     "data": {
      "text/plain": [
       "'this notebook heavily refers to the post https://www.machinelearningplus.com/nlp/topic-modeling-gensim-python/'"
      ]
     },
     "execution_count": 1,
     "metadata": {},
     "output_type": "execute_result"
    }
   ],
   "source": [
    "'''this notebook heavily refers to the post https://www.machinelearningplus.com/nlp/topic-modeling-gensim-python/'''"
   ]
  },
  {
   "cell_type": "markdown",
   "metadata": {},
   "source": [
    "## Overview of Topic Modeling"
   ]
  },
  {
   "cell_type": "markdown",
   "metadata": {},
   "source": [
    "Before using the topic modelling to explore our data set, let's first look at definition of Topic Modelling. (If you are not very fimilar with\n",
    "the techniques about preprocessing, here is a separate notebook introducing these ideas.)"
   ]
  },
  {
   "cell_type": "markdown",
   "metadata": {},
   "source": [
    "### What is topic modelling"
   ]
  },
  {
   "cell_type": "markdown",
   "metadata": {},
   "source": [
    "Topic Modelling is a technique used in the Natrual Language Processing context to discover the latent semantic structures in the text, although it is very\n",
    "tempting to think of it as a magic tool to extract the topic from the text, **topic modelling** actually has very specific definition and should be used properly.\n",
    "Here we use the definition from the book *Speech and Language Processing*: topic modelling is used to induce sets of associated words from text using unsupervised learning. For example, this set of words {waiter, dishes, chef, plate} is associated and often appear at the same time in text.\n",
    "\n",
    "More rigoriously, topic can be defined as the **probability distribution over words**\n",
    "\n",
    "Another task which is easily confused with topic modelling is **text classification**, in that task, we need to assigne a label to a given text. For example, figure out if a poem is about history or religion. The main difference is that, in topic modelling, the output is a set of words which represent an unknown topic(e.g. {waiter, dishes ...}), while in text classification, the output is a single label(e.g. history)"
   ]
  },
  {
   "cell_type": "markdown",
   "metadata": {},
   "source": [
    "### How to use topic modelling "
   ]
  },
  {
   "cell_type": "markdown",
   "metadata": {},
   "source": [
    "Topic modelling is very useful when it is used to provide some insight to the reader about a large amount of text, by looking at the output of the results, you can see how many potential topics are there, and then by looking at the words contained in each topic, you can have a vague idea for what this topic is about. "
   ]
  },
  {
   "cell_type": "markdown",
   "metadata": {},
   "source": [
    "### (Aside issue) Implementation of topic modelling"
   ]
  },
  {
   "cell_type": "markdown",
   "metadata": {},
   "source": [
    "In this script, we use a common algorithm called *Latent Dirichlet Allocation,LDA* to implement Topic modelling, understand this method may require substantial math. background, but just in case anyone is interesting, I put the link to the original paper [here](http://www.robotics.stanford.edu/~ang/papers/jair03-lda.pdf)"
   ]
  },
  {
   "cell_type": "markdown",
   "metadata": {},
   "source": [
    "## Content"
   ]
  },
  {
   "cell_type": "markdown",
   "metadata": {},
   "source": [
    "In this notebook we did the following things:\n",
    "- Import the library\n",
    "- Preprocessing the text\n",
    "    * Remove the stop words\n",
    "    * Stemming the words\n",
    "    * Create bigrams and trigrams from the words\n",
    "- Apply topic modelling algorithm\n",
    "- Explore the results of topic modelling\n",
    "    * Using pyLDAvis to dynamically interact with the topic modelling results\n",
    "    * Look at the topic modelling results from tables"
   ]
  },
  {
   "cell_type": "markdown",
   "metadata": {},
   "source": [
    "### Loading the library"
   ]
  },
  {
   "cell_type": "markdown",
   "metadata": {},
   "source": [
    "You may need to install the following library before importing to install this library just run the following code in the terminal\n",
    "- gensim \n",
    "    - conda install -c anaconda gensim \n",
    "- nltk \n",
    "    - conda install -c anaconda nltk\n",
    "- pyLDAvis\n",
    "    - conda install -c conda-forge pyldavis \n",
    "    - or\n",
    "    - conda install -c conda-forge/label/gcc7 pyldavis\n",
    "\n",
    "Make sure you have anoconda in your computer!!!\n"
   ]
  },
  {
   "cell_type": "code",
   "execution_count": 1,
   "metadata": {},
   "outputs": [
    {
     "name": "stderr",
     "output_type": "stream",
     "text": [
      "C:\\Users\\ljh\\Anaconda3\\lib\\site-packages\\gensim\\utils.py:1209: UserWarning: detected Windows; aliasing chunkize to chunkize_serial\n",
      "  warnings.warn(\"detected Windows; aliasing chunkize to chunkize_serial\")\n"
     ]
    }
   ],
   "source": [
    "import nltk\n",
    "#nltk.download('stopwords')\n",
    "import re\n",
    "import numpy as np\n",
    "import pandas as pd\n",
    "from pprint import pprint\n",
    "\n",
    "# Gensim\n",
    "import gensim\n",
    "import gensim.corpora as corpora\n",
    "from gensim.utils import simple_preprocess\n",
    "from gensim.models import CoherenceModel\n",
    "\n",
    "#for Stemming\n",
    "from nltk.stem.snowball import DanishStemmer\n",
    "\n",
    "# Plotting tools\n",
    "import pyLDAvis\n",
    "import pyLDAvis.gensim  # don't skip this\n",
    "import matplotlib.pyplot as plt\n",
    "%matplotlib inline\n",
    "\n",
    "# Enable logging for gensim - optional\n",
    "import logging\n",
    "logging.basicConfig(format='%(asctime)s : %(levelname)s : %(message)s', level=logging.ERROR)\n",
    "\n",
    "import warnings\n",
    "warnings.filterwarnings(\"ignore\",category=DeprecationWarning)"
   ]
  },
  {
   "cell_type": "code",
   "execution_count": 2,
   "metadata": {},
   "outputs": [
    {
     "name": "stdout",
     "output_type": "stream",
     "text": [
      "yo uare sadfsaffsa\t\tfsad\n"
     ]
    }
   ],
   "source": [
    "import os,sys\n",
    "parentPath = os.path.join(os.path.dirname(os.getcwd()),\"tools\")\n",
    "sys.path.insert(0, parentPath)\n",
    "from scripts_py import preprocessing as pre"
   ]
  },
  {
   "cell_type": "markdown",
   "metadata": {},
   "source": [
    "### Preprocessing"
   ]
  },
  {
   "cell_type": "markdown",
   "metadata": {},
   "source": [
    "#### Prepare stopwords"
   ]
  },
  {
   "cell_type": "markdown",
   "metadata": {},
   "source": [
    "we have a list of stop words from nltk library, but you can also have your own list of stop words as well"
   ]
  },
  {
   "cell_type": "code",
   "execution_count": 3,
   "metadata": {},
   "outputs": [],
   "source": [
    "from nltk.corpus import stopwords\n",
    "stop_words = stopwords.words('danish')\n",
    "stop_words.extend(['paa','ved','saa','den'])"
   ]
  },
  {
   "cell_type": "markdown",
   "metadata": {},
   "source": [
    "#### Select author and Read in the article of the author"
   ]
  },
  {
   "cell_type": "markdown",
   "metadata": {},
   "source": [
    "You can select any author by  last name, the available name is the second column of ADL/metadata/metadata_adl.csv file"
   ]
  },
  {
   "cell_type": "code",
   "execution_count": 4,
   "metadata": {},
   "outputs": [],
   "source": [
    "import codecs\n",
    "def creat_file_list(author_name):\n",
    "    \"\"\"this function is used to get the list of articles of a given author\"\"\"\n",
    "    file_list=['non']\n",
    "    cwd=os.getcwd()\n",
    "    parent_path = os.path.dirname(cwd)\n",
    "    des_pos=os.path.join(parent_path,\"ADL\",\"metadata\",\"metadata_adl.csv\")\n",
    "    fh=codecs.open(des_pos,'r','utf-8')\n",
    "    for line in fh.readlines():\n",
    "        L=line.split(\",\")\n",
    "        if(re.search(author_name,L[1])):\n",
    "            temp_string=L[0]+\".txt\"\n",
    "            file_list.append(temp_string)\n",
    "    return file_list[1:]\n",
    "def read_articles(articles):\n",
    "    \"\"\"this function read in articles and return content\"\"\"\n",
    "    data = list()\n",
    "    for ele in articles:\n",
    "        article = os.path.join(os.path.dirname(os.getcwd()),\"ADL\",\"plain\",ele)\n",
    "        with open(article, encoding =\"utf-8\") as f:\n",
    "            lines = f.readlines()\n",
    "        data.append( ' '.join(lines))\n",
    "    return data"
   ]
  },
  {
   "cell_type": "markdown",
   "metadata": {},
   "source": [
    "The code below read all the articles of Grundtvig and store them into data"
   ]
  },
  {
   "cell_type": "code",
   "execution_count": 5,
   "metadata": {},
   "outputs": [],
   "source": [
    "author = \"Grundtvig\"\n",
    "articles = creat_file_list(author)\n",
    "data = read_articles(articles)"
   ]
  },
  {
   "cell_type": "markdown",
   "metadata": {},
   "source": [
    "If you don't want all the articles but only specifc articles, you can specify in the following way"
   ]
  },
  {
   "cell_type": "code",
   "execution_count": 6,
   "metadata": {},
   "outputs": [],
   "source": [
    "#articles = [\"aare01val_workid69870.txt\",\"aakjaer01val_workid55565.txt\",\"aakjaer01val_workid55662.txt\" ,\"aakjaer01val_workid55881.txt\"]\n",
    "#data = read_articles(articles)"
   ]
  },
  {
   "cell_type": "markdown",
   "metadata": {},
   "source": [
    "#### Cleaning the text\n",
    "Tokenize the words and remove non-alpha symbol"
   ]
  },
  {
   "cell_type": "code",
   "execution_count": 7,
   "metadata": {},
   "outputs": [],
   "source": [
    "nalpha_content = [pre.re_nalpha(ele) for ele in data]\n",
    "tokenized_content = [pre.tokenizer(ele) for ele in nalpha_content]"
   ]
  },
  {
   "cell_type": "markdown",
   "metadata": {
    "collapsed": true
   },
   "source": [
    "Remove stop words"
   ]
  },
  {
   "cell_type": "code",
   "execution_count": 8,
   "metadata": {},
   "outputs": [],
   "source": [
    "def remove_stopwords(texts):\n",
    "    return [[word for word in simple_preprocess(str(doc)) if word not in stop_words] for doc in texts]"
   ]
  },
  {
   "cell_type": "code",
   "execution_count": 9,
   "metadata": {},
   "outputs": [],
   "source": [
    "data_words_nostops=remove_stopwords(tokenized_content)"
   ]
  },
  {
   "cell_type": "markdown",
   "metadata": {},
   "source": [
    "### Apply lda algorithm to obtain the result"
   ]
  },
  {
   "cell_type": "markdown",
   "metadata": {},
   "source": [
    "#### Form bigrams from the text"
   ]
  },
  {
   "cell_type": "markdown",
   "metadata": {},
   "source": [
    "We first construct faster model(a model which could capture the common phrase in the corpus) then apply this model to obtain bigram words.\n",
    "The way to do this is a little bit diffcult to understand, but the key is to understand what *gensim.models.Phrases()* , this function, is doing. This function will train a model from our text, and resulting model using the vector representation of the words to find the meaningful bigram and store these bigram in the model. Details could be found [here](https://radimrehurek.com/gensim/models/phrases.html)"
   ]
  },
  {
   "cell_type": "code",
   "execution_count": 10,
   "metadata": {},
   "outputs": [],
   "source": [
    "bigram = gensim.models.Phrases(tokenized_content, min_count=5, threshold=100)\n",
    "bigram_mod = gensim.models.phrases.Phraser(bigram)\n",
    "#trigram = gensim.models.Phrases(bigram[tokenized_content], threshold=100)\n",
    "#trigram_mod = gensim.models.phrases.Phraser(trigram)"
   ]
  },
  {
   "cell_type": "code",
   "execution_count": 11,
   "metadata": {},
   "outputs": [],
   "source": [
    "def make_bigrams(texts):\n",
    "    \"\"\"this function will use our model to find the bigram in each sentence\"\"\"\n",
    "    return [bigram_mod[doc] for doc in texts]\n",
    "#def make_trigrams(texts):\n",
    "#    return [trigram_mod[bigram_mod[doc]] for doc in texts]\n",
    "def stemmer(wordList):\n",
    "    \"\"\"stemming the words for later processing\"\"\"\n",
    "    stemmer = DanishStemmer()\n",
    "    return [stemmer.stem(tempWord) for tempWord in wordList]"
   ]
  },
  {
   "cell_type": "markdown",
   "metadata": {},
   "source": [
    "Get the bigram and stem obtained bigrams"
   ]
  },
  {
   "cell_type": "code",
   "execution_count": 12,
   "metadata": {},
   "outputs": [],
   "source": [
    "# Form Bigrams\n",
    "data_words_bigrams = make_bigrams(data_words_nostops)\n",
    "data_stemmed = [stemmer(ele) for ele in data_words_bigrams]\n",
    "data_stemmed=remove_stopwords(data_stemmed)"
   ]
  },
  {
   "cell_type": "markdown",
   "metadata": {},
   "source": [
    "Create informative measurement from the raw text, which are used by the LDA training function"
   ]
  },
  {
   "cell_type": "code",
   "execution_count": 13,
   "metadata": {
    "scrolled": false
   },
   "outputs": [],
   "source": [
    "#Create Dictionary wich contains a mapping between normalized words and their integer ids\n",
    "id2word = corpora.Dictionary(data_stemmed)"
   ]
  },
  {
   "cell_type": "code",
   "execution_count": 14,
   "metadata": {},
   "outputs": [],
   "source": [
    "# Term Document Frequency\n",
    "texts = data_stemmed\n",
    "corpus = [id2word.doc2bow(text) for text in texts]"
   ]
  },
  {
   "cell_type": "markdown",
   "metadata": {},
   "source": [
    "#### Get lda model "
   ]
  },
  {
   "cell_type": "markdown",
   "metadata": {},
   "source": [
    "Tuning of hyper parameter(e.g. num_topics, update_every, etc.) is essential for the quality of the reuslting model, modeling training could last for very long time depending on the length of the text"
   ]
  },
  {
   "cell_type": "code",
   "execution_count": 15,
   "metadata": {},
   "outputs": [],
   "source": [
    "lda_model = gensim.models.ldamodel.LdaModel(corpus=corpus,\n",
    "                                           id2word=id2word,\n",
    "                                           num_topics=20, \n",
    "                                           random_state=100,\n",
    "                                           update_every=1,\n",
    "                                           chunksize=100,\n",
    "                                           passes=10,\n",
    "                                           alpha='auto',\n",
    "                                           per_word_topics=True)"
   ]
  },
  {
   "cell_type": "code",
   "execution_count": 16,
   "metadata": {},
   "outputs": [
    {
     "name": "stdout",
     "output_type": "stream",
     "text": [
      "Stored 'lda_model' (LdaModel)\n"
     ]
    }
   ],
   "source": [
    "%store lda_model"
   ]
  },
  {
   "cell_type": "markdown",
   "metadata": {},
   "source": [
    "### Model exploration"
   ]
  },
  {
   "cell_type": "markdown",
   "metadata": {},
   "source": [
    "#### A brief looking at the obtained results"
   ]
  },
  {
   "cell_type": "code",
   "execution_count": 17,
   "metadata": {},
   "outputs": [
    {
     "name": "stdout",
     "output_type": "stream",
     "text": [
      "[(0,\n",
      "  '0.019*\"gud\" + 0.011*\"liv\" + 0.011*\"ei\" + 0.010*\"aand\" + 0.009*\"dit\" + '\n",
      "  '0.009*\"død\" + 0.007*\"kun\" + 0.007*\"ord\" + 0.006*\"verd\" + 0.006*\"evig\"'),\n",
      " (1,\n",
      "  '0.013*\"kan\" + 0.010*\"aand\" + 0.010*\"kirk\" + 0.009*\"kun\" + 0.008*\"maa\" + '\n",
      "  '0.008*\"naar\" + 0.007*\"ord\" + 0.007*\"hel\" + 0.007*\"tro\" + 0.006*\"gud\"'),\n",
      " (2,\n",
      "  '0.007*\"kong\" + 0.007*\"kun\" + 0.007*\"stor\" + 0.006*\"hel\" + 0.006*\"rom\" + '\n",
      "  '0.006*\"kom\" + 0.005*\"ogsaa\" + 0.005*\"vel\" + 0.005*\"baad\" + 0.005*\"vild\"'),\n",
      " (3,\n",
      "  '0.013*\"kong\" + 0.010*\"ei\" + 0.005*\"kom\" + 0.005*\"dannemark\" + 0.003*\"kun\" + '\n",
      "  '0.003*\"gaml\" + 0.003*\"søn\" + 0.003*\"ord\" + 0.003*\"sagd\" + 0.003*\"dag\"'),\n",
      " (4,\n",
      "  '0.001*\"jordensaa\" + 0.001*\"rethan\" + 0.001*\"tidsom\" + 0.001*\"givetat\" + '\n",
      "  '0.001*\"tilbage\" + 0.001*\"sønjeg\" + 0.001*\"svigei\" + 0.001*\"saamed\" + '\n",
      "  '0.001*\"letsom\" + 0.001*\"matthisonhans\"'),\n",
      " (5,\n",
      "  '0.017*\"ei\" + 0.011*\"gud\" + 0.007*\"dit\" + 0.006*\"kun\" + 0.005*\"mon\" + '\n",
      "  '0.004*\"kan\" + 0.004*\"ord\" + 0.004*\"gaml\" + 0.003*\"kirk\" + 0.003*\"maa\"'),\n",
      " (6,\n",
      "  '0.006*\"liv\" + 0.005*\"herm\" + 0.005*\"boemund\" + 0.004*\"antioki\" + '\n",
      "  '0.003*\"glemmes_aldr\" + 0.003*\"apollo\" + 0.003*\"tysk\" + 0.002*\"sødt\" + '\n",
      "  '0.002*\"flokked\" + 0.002*\"kvind\"'),\n",
      " (7,\n",
      "  '0.013*\"herod\" + 0.004*\"delphi\" + 0.002*\"melodi\" + 0.002*\"slagterbænk\" + '\n",
      "  '0.002*\"guldsom\" + 0.002*\"drabant\" + 0.002*\"josva\" + 0.002*\"lønraad_sl\" + '\n",
      "  '0.002*\"syl\" + 0.002*\"kreta\"'),\n",
      " (8,\n",
      "  '0.008*\"gud\" + 0.007*\"død\" + 0.005*\"ei\" + 0.005*\"kan\" + 0.004*\"al\" + '\n",
      "  '0.004*\"no\" + 0.004*\"liv\" + 0.004*\"ord\" + 0.003*\"aand\" + 0.003*\"vort\"'),\n",
      " (9,\n",
      "  '0.008*\"odin\" + 0.008*\"asern\" + 0.007*\"jet\" + 0.006*\"digt\" + 0.006*\"lok\" + '\n",
      "  '0.005*\"aser\" + 0.004*\"norn\" + 0.004*\"gud\" + 0.004*\"thor\" + 0.004*\"edda\"'),\n",
      " (10,\n",
      "  '0.024*\"dam\" + 0.013*\"odin\" + 0.012*\"thor\" + 0.009*\"myth\" + 0.006*\"asern\" + '\n",
      "  '0.006*\"jet\" + 0.006*\"lok\" + 0.006*\"nord\" + 0.005*\"bald\" + 0.005*\"poetisk\"'),\n",
      " (11,\n",
      "  '0.012*\"kan\" + 0.010*\"ei\" + 0.009*\"kun\" + 0.008*\"naar\" + 0.007*\"maa\" + '\n",
      "  '0.007*\"kund\" + 0.006*\"vel\" + 0.006*\"hel\" + 0.006*\"vild\" + 0.005*\"folk\"'),\n",
      " (12,\n",
      "  '0.019*\"kristendom\" + 0.013*\"krist\" + 0.007*\"kristn\" + 0.007*\"ere\" + '\n",
      "  '0.006*\"gør\" + 0.006*\"kristi\" + 0.006*\"se\" + 0.005*\"ej\" + 0.005*\"kær\" + '\n",
      "  '0.005*\"hin\"'),\n",
      " (13,\n",
      "  '0.002*\"korsets_træ\" + 0.002*\"blaamænd\" + 0.002*\"sagog\" + '\n",
      "  '0.001*\"korsfæstedenu\" + 0.001*\"væregud\" + 0.001*\"fanekorsban\" + '\n",
      "  '0.001*\"runersom\" + 0.001*\"forladerpaa\" + 0.001*\"jorderigog\" + '\n",
      "  '0.001*\"frithan\"'),\n",
      " (14,\n",
      "  '0.028*\"gud\" + 0.015*\"ord\" + 0.013*\"ei\" + 0.012*\"hjert\" + 0.010*\"kun\" + '\n",
      "  '0.008*\"verd\" + 0.008*\"aand\" + 0.008*\"lys\" + 0.007*\"dag\" + 0.007*\"eder\"'),\n",
      " (15,\n",
      "  '0.005*\"canaan\" + 0.002*\"aandtil\" + 0.002*\"kvær\" + 0.002*\"haandsaa\" + '\n",
      "  '0.002*\"stigeop\" + 0.001*\"rahab\" + 0.001*\"kækt\" + 0.001*\"gyldenaarmed\" + '\n",
      "  '0.001*\"laus\" + 0.001*\"nærsaa\"'),\n",
      " (16,\n",
      "  '0.004*\"fadervor\" + 0.002*\"fortabt\" + 0.002*\"aando\" + 0.002*\"aandsaa\" + '\n",
      "  '0.001*\"jordei\" + 0.001*\"signed\" + 0.001*\"himmeldør\" + 0.001*\"dvaled\" + '\n",
      "  '0.001*\"haandfor\" + 0.001*\"ny_psalmebog\"'),\n",
      " (17,\n",
      "  '0.002*\"glemmes_aldr\" + 0.002*\"kvædl\" + 0.001*\"syrith\" + 0.001*\"willemo\" + '\n",
      "  '0.001*\"himlensaa\" + 0.001*\"prindses\" + 0.001*\"kanhvor\" + 0.001*\"naboth\" + '\n",
      "  '0.001*\"rigesom\" + 0.001*\"tilsaa\"'),\n",
      " (18,\n",
      "  '0.025*\"ei\" + 0.008*\"kan\" + 0.006*\"gud\" + 0.005*\"maa\" + 0.005*\"kun\" + '\n",
      "  '0.005*\"vel\" + 0.004*\"kom\" + 0.004*\"hel\" + 0.004*\"jord\" + 0.003*\"dit\"'),\n",
      " (19,\n",
      "  '0.022*\"dansk\" + 0.005*\"bønd\" + 0.004*\"danmark\" + 0.003*\"slesv\" + '\n",
      "  '0.003*\"fru_mari\" + 0.002*\"modersmaal\" + 0.002*\"dannebrog\" + 0.002*\"vort\" + '\n",
      "  '0.002*\"tydsk\" + 0.002*\"rønnebæksholm\"')]\n"
     ]
    }
   ],
   "source": [
    "pprint(lda_model.print_topics())\n",
    "doc_lda = lda_model[corpus]"
   ]
  },
  {
   "cell_type": "markdown",
   "metadata": {},
   "source": [
    "#### The following is two standards to evaluate the quality of our results"
   ]
  },
  {
   "cell_type": "markdown",
   "metadata": {},
   "source": [
    "Perplexity measures the prediction ability of language model, a smaller value of perplexity indicates a better quality of our model. And coherence score is specifically designed for evaluating the results of topic modelling, bigger value of coherence Score indicate a better model.The paper about cohenrent score can be find [here](http://svn.aksw.org/papers/2015/WSDM_Topic_Evaluation/public.pdf)"
   ]
  },
  {
   "cell_type": "code",
   "execution_count": 53,
   "metadata": {},
   "outputs": [
    {
     "name": "stdout",
     "output_type": "stream",
     "text": [
      "\n",
      "Perplexity:  -8.747958119674093\n",
      "\n",
      "Coherence Score:  0.4597481856292293\n"
     ]
    }
   ],
   "source": [
    "# Compute Perplexity\n",
    "print('\\nPerplexity: ', lda_model.log_perplexity(corpus)) \n",
    "\n",
    "# Compute Coherence Score\n",
    "coherence_model_lda = CoherenceModel(model=lda_model, texts=data_stemmed, dictionary=id2word, coherence='c_v')\n",
    "coherence_lda = coherence_model_lda.get_coherence()\n",
    "print('\\nCoherence Score: ', coherence_lda)"
   ]
  },
  {
   "cell_type": "markdown",
   "metadata": {},
   "source": [
    "#### Interact with the results dynamically"
   ]
  },
  {
   "cell_type": "markdown",
   "metadata": {},
   "source": [
    "This is powerful tool, and you can use it to explore the topic modelling results"
   ]
  },
  {
   "cell_type": "code",
   "execution_count": 18,
   "metadata": {},
   "outputs": [
    {
     "name": "stderr",
     "output_type": "stream",
     "text": [
      "C:\\Users\\ljh\\Anaconda3\\lib\\site-packages\\pyLDAvis\\_prepare.py:257: FutureWarning: Sorting because non-concatenation axis is not aligned. A future version\n",
      "of pandas will change to not sort by default.\n",
      "\n",
      "To accept the future behavior, pass 'sort=True'.\n",
      "\n",
      "To retain the current behavior and silence the warning, pass sort=False\n",
      "\n",
      "  return pd.concat([default_term_info] + list(topic_dfs))\n"
     ]
    },
    {
     "data": {
      "text/html": [
       "\n",
       "<link rel=\"stylesheet\" type=\"text/css\" href=\"https://cdn.rawgit.com/bmabey/pyLDAvis/files/ldavis.v1.0.0.css\">\n",
       "\n",
       "\n",
       "<div id=\"ldavis_el4615220628510332724846013304\"></div>\n",
       "<script type=\"text/javascript\">\n",
       "\n",
       "var ldavis_el4615220628510332724846013304_data = {\"mdsDat\": {\"x\": [-0.35276742164658814, -0.31448918862508984, -0.271213407329505, -0.1592416301240057, -0.20485236840745258, -0.13974006974705708, -0.12272870696497681, -0.1717567996324632, 0.06469697342127453, 0.0949950464252726, -0.039235913899539614, 0.09875265827999447, 0.18563962673287335, 0.18737212675421064, 0.19534629630032402, 0.1918658728234115, 0.1933174734696421, 0.18888294822786933, 0.18801328372665535, 0.1871432002151493], \"y\": [-0.10425252506747451, -0.13377175489544305, -0.1542924066231966, 0.05257140810617173, 0.13148453255772855, 0.05038581362294945, 0.1508396525738169, 0.17877397652711063, -0.18121037811334606, -0.07236590028067794, 0.14482173804486217, -0.07863284418491052, 0.009607526530071972, -0.0030578907280963533, -0.0011238012398852733, -0.0013240915315089247, 0.002008307262438591, 0.0031248076587253653, 0.0027301043648602415, 0.003683725415803214], \"topics\": [1, 2, 3, 4, 5, 6, 7, 8, 9, 10, 11, 12, 13, 14, 15, 16, 17, 18, 19, 20], \"cluster\": [1, 1, 1, 1, 1, 1, 1, 1, 1, 1, 1, 1, 1, 1, 1, 1, 1, 1, 1, 1], \"Freq\": [38.21024703979492, 18.816728591918945, 16.64521598815918, 4.235777854919434, 3.6534674167633057, 3.5980582237243652, 3.5585708618164062, 3.416616439819336, 1.7913020849227905, 1.775761365890503, 1.2341428995132446, 1.195965051651001, 0.6005541682243347, 0.3437620997428894, 0.2184075564146042, 0.20304860174655914, 0.19356077909469604, 0.14594732224941254, 0.08343915641307831, 0.07942146807909012]}, \"tinfo\": {\"Category\": [\"Default\", \"Default\", \"Default\", \"Default\", \"Default\", \"Default\", \"Default\", \"Default\", \"Default\", \"Default\", \"Default\", \"Default\", \"Default\", \"Default\", \"Default\", \"Default\", \"Default\", \"Default\", \"Default\", \"Default\", \"Default\", \"Default\", \"Default\", \"Default\", \"Default\", \"Default\", \"Default\", \"Default\", \"Default\", \"Default\", \"Topic1\", \"Topic1\", \"Topic1\", \"Topic1\", \"Topic1\", \"Topic1\", \"Topic1\", \"Topic1\", \"Topic1\", \"Topic1\", \"Topic1\", \"Topic1\", \"Topic1\", \"Topic1\", \"Topic1\", \"Topic1\", \"Topic1\", \"Topic1\", \"Topic1\", \"Topic1\", \"Topic1\", \"Topic1\", \"Topic1\", \"Topic1\", \"Topic1\", \"Topic1\", \"Topic1\", \"Topic1\", \"Topic1\", \"Topic1\", \"Topic1\", \"Topic1\", \"Topic1\", \"Topic1\", \"Topic1\", \"Topic1\", \"Topic1\", \"Topic1\", \"Topic1\", \"Topic1\", \"Topic1\", \"Topic1\", \"Topic1\", \"Topic1\", \"Topic1\", \"Topic1\", \"Topic1\", \"Topic1\", \"Topic1\", \"Topic1\", \"Topic1\", \"Topic1\", \"Topic1\", \"Topic1\", \"Topic1\", \"Topic1\", \"Topic1\", \"Topic1\", \"Topic1\", \"Topic1\", \"Topic1\", \"Topic1\", \"Topic1\", \"Topic1\", \"Topic1\", \"Topic1\", \"Topic1\", \"Topic1\", \"Topic1\", \"Topic1\", \"Topic1\", \"Topic1\", \"Topic1\", \"Topic1\", \"Topic1\", \"Topic1\", \"Topic1\", \"Topic1\", \"Topic1\", \"Topic1\", \"Topic1\", \"Topic1\", \"Topic1\", \"Topic1\", \"Topic1\", \"Topic1\", \"Topic1\", \"Topic1\", \"Topic1\", \"Topic1\", \"Topic1\", \"Topic1\", \"Topic1\", \"Topic1\", \"Topic1\", \"Topic1\", \"Topic2\", \"Topic2\", \"Topic2\", \"Topic2\", \"Topic2\", \"Topic2\", \"Topic2\", \"Topic2\", \"Topic2\", \"Topic2\", \"Topic2\", \"Topic2\", \"Topic2\", \"Topic2\", \"Topic2\", \"Topic2\", \"Topic2\", \"Topic2\", \"Topic2\", \"Topic2\", \"Topic2\", \"Topic2\", \"Topic2\", \"Topic2\", \"Topic2\", \"Topic2\", \"Topic2\", \"Topic2\", \"Topic2\", \"Topic2\", \"Topic2\", \"Topic2\", \"Topic2\", \"Topic2\", \"Topic2\", \"Topic2\", \"Topic2\", \"Topic2\", \"Topic2\", \"Topic2\", \"Topic2\", \"Topic2\", \"Topic2\", \"Topic2\", \"Topic2\", \"Topic2\", \"Topic2\", \"Topic2\", \"Topic2\", \"Topic2\", \"Topic2\", \"Topic2\", \"Topic2\", \"Topic2\", \"Topic2\", \"Topic2\", \"Topic2\", \"Topic2\", \"Topic2\", \"Topic2\", \"Topic2\", \"Topic2\", \"Topic2\", \"Topic2\", \"Topic2\", \"Topic2\", \"Topic2\", \"Topic2\", \"Topic2\", \"Topic2\", \"Topic2\", \"Topic2\", \"Topic2\", \"Topic2\", \"Topic2\", \"Topic2\", \"Topic2\", \"Topic2\", \"Topic2\", \"Topic2\", \"Topic2\", \"Topic2\", \"Topic2\", \"Topic3\", \"Topic3\", \"Topic3\", \"Topic3\", \"Topic3\", \"Topic3\", \"Topic3\", \"Topic3\", \"Topic3\", \"Topic3\", \"Topic3\", \"Topic3\", \"Topic3\", \"Topic3\", \"Topic3\", \"Topic3\", \"Topic3\", \"Topic3\", \"Topic3\", \"Topic3\", \"Topic3\", \"Topic3\", \"Topic3\", \"Topic3\", \"Topic3\", \"Topic3\", \"Topic3\", \"Topic3\", \"Topic3\", \"Topic3\", \"Topic3\", \"Topic3\", \"Topic3\", \"Topic3\", \"Topic3\", \"Topic3\", \"Topic3\", \"Topic3\", \"Topic3\", \"Topic3\", \"Topic3\", \"Topic3\", \"Topic3\", \"Topic3\", \"Topic3\", \"Topic3\", \"Topic3\", \"Topic3\", \"Topic3\", \"Topic3\", \"Topic3\", \"Topic3\", \"Topic3\", \"Topic3\", \"Topic3\", \"Topic3\", \"Topic3\", \"Topic3\", \"Topic3\", \"Topic3\", \"Topic3\", \"Topic3\", \"Topic3\", \"Topic3\", \"Topic3\", \"Topic3\", \"Topic3\", \"Topic3\", \"Topic3\", \"Topic3\", \"Topic3\", \"Topic3\", \"Topic3\", \"Topic3\", \"Topic3\", \"Topic3\", \"Topic3\", \"Topic3\", \"Topic3\", \"Topic3\", \"Topic3\", \"Topic3\", \"Topic3\", \"Topic3\", \"Topic3\", \"Topic3\", \"Topic4\", \"Topic4\", \"Topic4\", \"Topic4\", \"Topic4\", \"Topic4\", \"Topic4\", \"Topic4\", \"Topic4\", \"Topic4\", \"Topic4\", \"Topic4\", \"Topic4\", \"Topic4\", \"Topic4\", \"Topic4\", \"Topic4\", \"Topic4\", \"Topic4\", \"Topic4\", \"Topic4\", \"Topic4\", \"Topic4\", \"Topic4\", \"Topic4\", \"Topic4\", \"Topic4\", \"Topic4\", \"Topic4\", \"Topic4\", \"Topic4\", \"Topic4\", \"Topic4\", \"Topic4\", \"Topic4\", \"Topic4\", \"Topic4\", \"Topic4\", \"Topic4\", \"Topic4\", \"Topic4\", \"Topic4\", \"Topic4\", \"Topic4\", \"Topic4\", \"Topic4\", \"Topic4\", \"Topic4\", \"Topic4\", \"Topic4\", \"Topic4\", \"Topic4\", \"Topic4\", \"Topic4\", \"Topic4\", \"Topic4\", \"Topic4\", \"Topic4\", \"Topic4\", \"Topic4\", \"Topic4\", \"Topic4\", \"Topic4\", \"Topic4\", \"Topic4\", \"Topic4\", \"Topic4\", \"Topic4\", \"Topic4\", \"Topic4\", \"Topic4\", \"Topic4\", \"Topic4\", \"Topic4\", \"Topic4\", \"Topic4\", \"Topic4\", \"Topic4\", \"Topic4\", \"Topic4\", \"Topic4\", \"Topic4\", \"Topic5\", \"Topic5\", \"Topic5\", \"Topic5\", \"Topic5\", \"Topic5\", \"Topic5\", \"Topic5\", \"Topic5\", \"Topic5\", \"Topic5\", \"Topic5\", \"Topic5\", \"Topic5\", \"Topic5\", \"Topic5\", \"Topic5\", \"Topic5\", \"Topic5\", \"Topic5\", \"Topic5\", \"Topic5\", \"Topic5\", \"Topic5\", \"Topic5\", \"Topic5\", \"Topic5\", \"Topic5\", \"Topic5\", \"Topic5\", \"Topic5\", \"Topic5\", \"Topic5\", \"Topic5\", \"Topic5\", \"Topic5\", \"Topic5\", \"Topic5\", \"Topic5\", \"Topic5\", \"Topic5\", \"Topic5\", \"Topic5\", \"Topic5\", \"Topic5\", \"Topic5\", \"Topic5\", \"Topic5\", \"Topic5\", \"Topic5\", \"Topic5\", \"Topic5\", \"Topic5\", \"Topic5\", \"Topic5\", \"Topic5\", \"Topic5\", \"Topic5\", \"Topic5\", \"Topic5\", \"Topic5\", \"Topic5\", \"Topic5\", \"Topic5\", \"Topic5\", \"Topic5\", \"Topic5\", \"Topic5\", \"Topic5\", \"Topic5\", \"Topic5\", \"Topic5\", \"Topic5\", \"Topic5\", \"Topic5\", \"Topic5\", \"Topic5\", \"Topic5\", \"Topic5\", \"Topic5\", \"Topic5\", \"Topic5\", \"Topic5\", \"Topic5\", \"Topic5\", \"Topic6\", \"Topic6\", \"Topic6\", \"Topic6\", \"Topic6\", \"Topic6\", \"Topic6\", \"Topic6\", \"Topic6\", \"Topic6\", \"Topic6\", \"Topic6\", \"Topic6\", \"Topic6\", \"Topic6\", \"Topic6\", \"Topic6\", \"Topic6\", \"Topic6\", \"Topic6\", \"Topic6\", \"Topic6\", \"Topic6\", \"Topic6\", \"Topic6\", \"Topic6\", \"Topic6\", \"Topic6\", \"Topic6\", \"Topic6\", \"Topic6\", \"Topic6\", \"Topic6\", \"Topic6\", \"Topic6\", \"Topic6\", \"Topic6\", \"Topic6\", \"Topic6\", \"Topic6\", \"Topic6\", \"Topic6\", \"Topic6\", \"Topic6\", \"Topic6\", \"Topic6\", \"Topic6\", \"Topic6\", \"Topic6\", \"Topic6\", \"Topic6\", \"Topic6\", \"Topic6\", \"Topic6\", \"Topic6\", \"Topic6\", \"Topic6\", \"Topic6\", \"Topic6\", \"Topic6\", \"Topic6\", \"Topic6\", \"Topic6\", \"Topic6\", \"Topic6\", \"Topic6\", \"Topic6\", \"Topic6\", \"Topic6\", \"Topic6\", \"Topic6\", \"Topic6\", \"Topic6\", \"Topic6\", \"Topic6\", \"Topic6\", \"Topic6\", \"Topic6\", \"Topic6\", \"Topic6\", \"Topic6\", \"Topic6\", \"Topic6\", \"Topic6\", \"Topic6\", \"Topic6\", \"Topic7\", \"Topic7\", \"Topic7\", \"Topic7\", \"Topic7\", \"Topic7\", \"Topic7\", \"Topic7\", \"Topic7\", \"Topic7\", \"Topic7\", \"Topic7\", \"Topic7\", \"Topic7\", \"Topic7\", \"Topic7\", \"Topic7\", \"Topic7\", \"Topic7\", \"Topic7\", \"Topic7\", \"Topic7\", \"Topic7\", \"Topic7\", \"Topic7\", \"Topic7\", \"Topic7\", \"Topic7\", \"Topic7\", \"Topic7\", \"Topic7\", \"Topic7\", \"Topic7\", \"Topic7\", \"Topic7\", \"Topic7\", \"Topic7\", \"Topic7\", \"Topic7\", \"Topic7\", \"Topic7\", \"Topic7\", \"Topic7\", \"Topic7\", \"Topic7\", \"Topic7\", \"Topic7\", \"Topic7\", \"Topic7\", \"Topic7\", \"Topic7\", \"Topic7\", \"Topic7\", \"Topic7\", \"Topic7\", \"Topic7\", \"Topic7\", \"Topic7\", \"Topic7\", \"Topic7\", \"Topic7\", \"Topic7\", \"Topic7\", \"Topic7\", \"Topic7\", \"Topic7\", \"Topic7\", \"Topic7\", \"Topic7\", \"Topic7\", \"Topic7\", \"Topic7\", \"Topic7\", \"Topic7\", \"Topic7\", \"Topic7\", \"Topic7\", \"Topic7\", \"Topic7\", \"Topic8\", \"Topic8\", \"Topic8\", \"Topic8\", \"Topic8\", \"Topic8\", \"Topic8\", \"Topic8\", \"Topic8\", \"Topic8\", \"Topic8\", \"Topic8\", \"Topic8\", \"Topic8\", \"Topic8\", \"Topic8\", \"Topic8\", \"Topic8\", \"Topic8\", \"Topic8\", \"Topic8\", \"Topic8\", \"Topic8\", \"Topic8\", \"Topic8\", \"Topic8\", \"Topic8\", \"Topic8\", \"Topic8\", \"Topic8\", \"Topic8\", \"Topic8\", \"Topic8\", \"Topic8\", \"Topic8\", \"Topic8\", \"Topic8\", \"Topic8\", \"Topic8\", \"Topic8\", \"Topic8\", \"Topic8\", \"Topic8\", \"Topic8\", \"Topic8\", \"Topic8\", \"Topic8\", \"Topic8\", \"Topic8\", \"Topic8\", \"Topic8\", \"Topic8\", \"Topic8\", \"Topic8\", \"Topic8\", \"Topic8\", \"Topic8\", \"Topic8\", \"Topic8\", \"Topic8\", \"Topic8\", \"Topic8\", \"Topic8\", \"Topic8\", \"Topic8\", \"Topic8\", \"Topic8\", \"Topic8\", \"Topic8\", \"Topic8\", \"Topic8\", \"Topic8\", \"Topic8\", \"Topic8\", \"Topic8\", \"Topic8\", \"Topic8\", \"Topic9\", \"Topic9\", \"Topic9\", \"Topic9\", \"Topic9\", \"Topic9\", \"Topic9\", \"Topic9\", \"Topic9\", \"Topic9\", \"Topic9\", \"Topic9\", \"Topic9\", \"Topic9\", \"Topic9\", \"Topic9\", \"Topic9\", \"Topic9\", \"Topic9\", \"Topic9\", \"Topic9\", \"Topic9\", \"Topic9\", \"Topic9\", \"Topic9\", \"Topic9\", \"Topic9\", \"Topic9\", \"Topic9\", \"Topic9\", \"Topic9\", \"Topic9\", \"Topic9\", \"Topic9\", \"Topic9\", \"Topic9\", \"Topic9\", \"Topic9\", \"Topic9\", \"Topic9\", \"Topic9\", \"Topic9\", \"Topic9\", \"Topic9\", \"Topic9\", \"Topic9\", \"Topic9\", \"Topic9\", \"Topic9\", \"Topic9\", \"Topic9\", \"Topic9\", \"Topic9\", \"Topic9\", \"Topic9\", \"Topic9\", \"Topic9\", \"Topic9\", \"Topic9\", \"Topic9\", \"Topic9\", \"Topic9\", \"Topic9\", \"Topic9\", \"Topic9\", \"Topic9\", \"Topic9\", \"Topic9\", \"Topic9\", \"Topic9\", \"Topic9\", \"Topic9\", \"Topic10\", \"Topic10\", \"Topic10\", \"Topic10\", \"Topic10\", \"Topic10\", \"Topic10\", \"Topic10\", \"Topic10\", \"Topic10\", \"Topic10\", \"Topic10\", \"Topic10\", \"Topic10\", \"Topic10\", \"Topic10\", \"Topic10\", \"Topic10\", \"Topic10\", \"Topic10\", \"Topic10\", \"Topic10\", \"Topic10\", \"Topic10\", \"Topic10\", \"Topic10\", \"Topic10\", \"Topic10\", \"Topic10\", \"Topic10\", \"Topic10\", \"Topic10\", \"Topic10\", \"Topic10\", \"Topic10\", \"Topic10\", \"Topic10\", \"Topic10\", \"Topic10\", \"Topic10\", \"Topic10\", \"Topic10\", \"Topic10\", \"Topic10\", \"Topic10\", \"Topic10\", \"Topic10\", \"Topic10\", \"Topic10\", \"Topic10\", \"Topic10\", \"Topic10\", \"Topic10\", \"Topic10\", \"Topic10\", \"Topic10\", \"Topic10\", \"Topic10\", \"Topic10\", \"Topic10\", \"Topic10\", \"Topic10\", \"Topic10\", \"Topic10\", \"Topic10\", \"Topic11\", \"Topic11\", \"Topic11\", \"Topic11\", \"Topic11\", \"Topic11\", \"Topic11\", \"Topic11\", \"Topic11\", \"Topic11\", \"Topic11\", \"Topic11\", \"Topic11\", \"Topic11\", \"Topic11\", \"Topic11\", \"Topic11\", \"Topic11\", \"Topic11\", \"Topic11\", \"Topic11\", \"Topic11\", \"Topic11\", \"Topic11\", \"Topic11\", \"Topic11\", \"Topic11\", \"Topic11\", \"Topic11\", \"Topic11\", \"Topic11\", \"Topic11\", \"Topic11\", \"Topic11\", \"Topic11\", \"Topic11\", \"Topic11\", \"Topic11\", \"Topic11\", \"Topic11\", \"Topic11\", \"Topic11\", \"Topic11\", \"Topic11\", \"Topic11\", \"Topic11\", \"Topic11\", \"Topic11\", \"Topic11\", \"Topic11\", \"Topic11\", \"Topic11\", \"Topic11\", \"Topic11\", \"Topic11\", \"Topic11\", \"Topic11\", \"Topic11\", \"Topic11\", \"Topic11\", \"Topic11\", \"Topic11\", \"Topic11\", \"Topic11\", \"Topic11\", \"Topic11\", \"Topic11\", \"Topic11\", \"Topic11\", \"Topic11\", \"Topic11\", \"Topic11\", \"Topic12\", \"Topic12\", \"Topic12\", \"Topic12\", \"Topic12\", \"Topic12\", \"Topic12\", \"Topic12\", \"Topic12\", \"Topic12\", \"Topic12\", \"Topic12\", \"Topic12\", \"Topic12\", \"Topic12\", \"Topic12\", \"Topic12\", \"Topic12\", \"Topic12\", \"Topic12\", \"Topic12\", \"Topic12\", \"Topic12\", \"Topic12\", \"Topic12\", \"Topic12\", \"Topic12\", \"Topic12\", \"Topic12\", \"Topic12\", \"Topic12\", \"Topic12\", \"Topic12\", \"Topic12\", \"Topic12\", \"Topic12\", \"Topic12\", \"Topic12\", \"Topic12\", \"Topic12\", \"Topic12\", \"Topic12\", \"Topic12\", \"Topic12\", \"Topic12\", \"Topic12\", \"Topic12\", \"Topic12\", \"Topic12\", \"Topic12\", \"Topic12\", \"Topic12\", \"Topic12\", \"Topic12\", \"Topic12\", \"Topic12\", \"Topic12\", \"Topic12\", \"Topic12\", \"Topic12\", \"Topic13\", \"Topic13\", \"Topic13\", \"Topic13\", \"Topic13\", \"Topic13\", \"Topic13\", \"Topic13\", \"Topic13\", \"Topic13\", \"Topic13\", \"Topic13\", \"Topic13\", \"Topic13\", \"Topic13\", \"Topic13\", \"Topic13\", \"Topic13\", \"Topic13\", \"Topic13\", \"Topic13\", \"Topic13\", \"Topic13\", \"Topic13\", \"Topic13\", \"Topic13\", \"Topic13\", \"Topic13\", \"Topic13\", \"Topic13\", \"Topic13\", \"Topic13\", \"Topic13\", \"Topic13\", \"Topic13\", \"Topic13\", \"Topic13\", \"Topic13\", \"Topic13\", \"Topic13\", \"Topic13\", \"Topic13\", \"Topic13\", \"Topic13\", \"Topic14\", \"Topic14\", \"Topic14\", \"Topic14\", \"Topic14\", \"Topic14\", \"Topic14\", \"Topic14\", \"Topic14\", \"Topic14\", \"Topic14\", \"Topic14\", \"Topic14\", \"Topic14\", \"Topic14\", \"Topic14\", \"Topic14\", \"Topic14\", \"Topic14\", \"Topic14\", \"Topic14\", \"Topic14\", \"Topic14\", \"Topic14\", \"Topic14\", \"Topic14\", \"Topic14\", \"Topic14\", \"Topic14\", \"Topic14\", \"Topic14\", \"Topic14\", \"Topic14\", \"Topic14\", \"Topic14\", \"Topic14\", \"Topic14\", \"Topic14\", \"Topic14\", \"Topic14\", \"Topic14\", \"Topic14\", \"Topic14\", \"Topic14\", \"Topic14\", \"Topic14\", \"Topic14\", \"Topic14\", \"Topic14\", \"Topic14\", \"Topic14\", \"Topic14\", \"Topic14\", \"Topic14\", \"Topic15\", \"Topic15\", \"Topic15\", \"Topic15\", \"Topic15\", \"Topic15\", \"Topic15\", \"Topic15\", \"Topic15\", \"Topic15\", \"Topic15\", \"Topic15\", \"Topic15\", \"Topic15\", \"Topic15\", \"Topic15\", \"Topic15\", \"Topic15\", \"Topic15\", \"Topic15\", \"Topic15\", \"Topic15\", \"Topic15\", \"Topic15\", \"Topic15\", \"Topic15\", \"Topic15\", \"Topic15\", \"Topic15\", \"Topic15\", \"Topic15\", \"Topic15\", \"Topic15\", \"Topic15\", \"Topic15\", \"Topic15\", \"Topic15\", \"Topic15\", \"Topic15\", \"Topic15\", \"Topic16\", \"Topic16\", \"Topic16\", \"Topic16\", \"Topic16\", \"Topic16\", \"Topic16\", \"Topic16\", \"Topic16\", \"Topic16\", \"Topic16\", \"Topic16\", \"Topic16\", \"Topic16\", \"Topic16\", \"Topic16\", \"Topic16\", \"Topic16\", \"Topic16\", \"Topic16\", \"Topic16\", \"Topic16\", \"Topic16\", \"Topic16\", \"Topic16\", \"Topic16\", \"Topic16\", \"Topic16\", \"Topic16\", \"Topic16\", \"Topic16\", \"Topic16\", \"Topic16\", \"Topic17\", \"Topic17\", \"Topic17\", \"Topic17\", \"Topic17\", \"Topic17\", \"Topic17\", \"Topic17\", \"Topic17\", \"Topic17\", \"Topic17\", \"Topic17\", \"Topic17\", \"Topic17\", \"Topic17\", \"Topic17\", \"Topic17\", \"Topic17\", \"Topic17\", \"Topic17\", \"Topic17\", \"Topic17\", \"Topic17\", \"Topic17\", \"Topic17\", \"Topic17\", \"Topic17\", \"Topic17\", \"Topic17\", \"Topic17\", \"Topic17\", \"Topic18\", \"Topic18\", \"Topic18\", \"Topic18\", \"Topic18\", \"Topic18\", \"Topic18\", \"Topic18\", \"Topic18\", \"Topic18\", \"Topic18\", \"Topic18\", \"Topic18\", \"Topic18\", \"Topic18\", \"Topic18\", \"Topic18\", \"Topic18\", \"Topic18\", \"Topic18\", \"Topic18\", \"Topic18\", \"Topic18\", \"Topic18\", \"Topic18\", \"Topic18\", \"Topic18\", \"Topic18\", \"Topic18\", \"Topic18\", \"Topic18\", \"Topic18\", \"Topic18\", \"Topic18\", \"Topic18\", \"Topic18\", \"Topic18\", \"Topic18\", \"Topic19\", \"Topic19\", \"Topic19\", \"Topic19\", \"Topic19\", \"Topic19\", \"Topic19\", \"Topic19\", \"Topic19\", \"Topic19\", \"Topic19\", \"Topic19\", \"Topic19\", \"Topic19\", \"Topic19\", \"Topic19\", \"Topic19\", \"Topic19\", \"Topic19\", \"Topic19\", \"Topic19\", \"Topic19\", \"Topic19\", \"Topic19\", \"Topic19\", \"Topic19\", \"Topic19\", \"Topic19\", \"Topic19\", \"Topic19\", \"Topic19\", \"Topic19\", \"Topic19\", \"Topic19\", \"Topic19\", \"Topic19\", \"Topic20\", \"Topic20\", \"Topic20\", \"Topic20\", \"Topic20\", \"Topic20\", \"Topic20\", \"Topic20\", \"Topic20\", \"Topic20\", \"Topic20\", \"Topic20\", \"Topic20\", \"Topic20\", \"Topic20\", \"Topic20\", \"Topic20\", \"Topic20\", \"Topic20\", \"Topic20\", \"Topic20\", \"Topic20\", \"Topic20\", \"Topic20\", \"Topic20\", \"Topic20\", \"Topic20\", \"Topic20\", \"Topic20\", \"Topic20\", \"Topic20\", \"Topic20\", \"Topic20\", \"Topic20\", \"Topic20\", \"Topic20\", \"Topic20\"], \"Freq\": [9434.0, 2059.0, 6606.0, 4814.0, 5774.0, 10871.0, 3873.0, 3225.0, 9854.0, 3270.0, 2415.0, 1428.0, 2927.0, 1810.0, 3125.0, 736.0, 921.0, 2483.0, 2590.0, 6005.0, 3230.0, 5233.0, 1810.0, 2510.0, 2000.0, 1016.0, 3373.0, 2471.0, 1170.0, 1334.0, 135.5609130859375, 132.66114807128906, 108.5616455078125, 97.77196502685547, 100.96455383300781, 86.9041519165039, 75.7191390991211, 74.1825180053711, 71.953125, 71.70569610595703, 61.18379211425781, 60.88529586791992, 58.7779426574707, 96.2130126953125, 55.72439193725586, 55.480247497558594, 54.286678314208984, 51.57752990722656, 50.917171478271484, 49.77000045776367, 49.44295120239258, 49.3947868347168, 46.89430236816406, 46.40061569213867, 46.31010437011719, 46.1710090637207, 45.115264892578125, 44.21054458618164, 43.354576110839844, 42.76537322998047, 66.34820556640625, 47.59083557128906, 418.4027404785156, 223.79364013671875, 379.56390380859375, 129.10824584960938, 195.7479248046875, 107.70541381835938, 210.1771697998047, 197.56349182128906, 1768.3333740234375, 349.8001403808594, 1202.0848388671875, 166.5079803466797, 333.20159912109375, 1417.1666259765625, 986.6614379882812, 190.02928161621094, 507.1691589355469, 180.00355529785156, 682.4039916992188, 365.25714111328125, 826.9458618164062, 393.02374267578125, 661.8089599609375, 2686.96142578125, 361.6100158691406, 6085.4755859375, 2320.771728515625, 443.6999206542969, 1383.1329345703125, 3866.927734375, 3285.39013671875, 1493.5921630859375, 519.5051879882812, 5045.6201171875, 3418.63916015625, 1532.288330078125, 3041.53662109375, 1472.55712890625, 1042.0086669921875, 3107.598876953125, 1442.904296875, 1088.1982421875, 2138.448974609375, 4538.9521484375, 2165.80908203125, 1820.05810546875, 1947.0699462890625, 2668.47802734375, 1400.096923828125, 3070.45751953125, 2170.938232421875, 1372.790771484375, 1840.2156982421875, 2433.136962890625, 1743.4229736328125, 1495.3427734375, 2232.39404296875, 1560.569091796875, 1740.8602294921875, 1545.4649658203125, 1529.803955078125, 1694.451171875, 1566.287353515625, 1516.25927734375, 578.90380859375, 436.2442321777344, 476.23370361328125, 329.2564392089844, 272.5494079589844, 196.75567626953125, 165.54779052734375, 154.36976623535156, 152.00625610351562, 151.2637481689453, 146.68612670898438, 125.63236999511719, 122.56961059570312, 118.48975372314453, 107.95774841308594, 106.4439468383789, 97.57952117919922, 95.1517105102539, 93.2987289428711, 85.12296295166016, 81.14701843261719, 80.13236236572266, 78.88614654541016, 76.88155364990234, 73.44743347167969, 73.00719451904297, 66.60211181640625, 65.05905151367188, 61.028629302978516, 60.7915153503418, 416.6583251953125, 316.0222473144531, 189.17201232910156, 85.83454132080078, 484.98870849609375, 191.7233123779297, 1103.19091796875, 339.06011962890625, 242.40621948242188, 208.89053344726562, 131.0106964111328, 1214.8016357421875, 188.41705322265625, 2410.191162109375, 1233.58203125, 1058.11865234375, 755.239990234375, 416.8152160644531, 1211.818359375, 426.0300598144531, 887.1714477539062, 641.35205078125, 1701.5462646484375, 1137.21044921875, 415.4143981933594, 781.8525390625, 477.97430419921875, 619.3713989257812, 2513.927490234375, 1196.7841796875, 579.3367919921875, 3234.161865234375, 1828.5269775390625, 1365.177490234375, 1947.6707763671875, 943.1068115234375, 1102.3709716796875, 1891.6390380859375, 2291.0947265625, 1825.983642578125, 972.9595947265625, 1550.39990234375, 1205.865478515625, 1184.227783203125, 1318.1632080078125, 908.84619140625, 1228.3551025390625, 889.858154296875, 1061.1397705078125, 980.8178100585938, 994.58935546875, 1033.8948974609375, 927.2916259765625, 248.67636108398438, 237.685302734375, 205.3526611328125, 210.67835998535156, 165.46446228027344, 157.27456665039062, 141.96151733398438, 144.54957580566406, 129.38265991210938, 123.88116455078125, 113.0578384399414, 108.73116302490234, 106.43265533447266, 105.13748168945312, 104.75873565673828, 104.55712127685547, 102.65095520019531, 101.60193634033203, 115.13176727294922, 100.26998138427734, 100.09146881103516, 98.92900085449219, 88.92671203613281, 87.31121063232422, 85.6731948852539, 84.65290832519531, 84.0144271850586, 82.91228485107422, 82.56796264648438, 80.25102996826172, 182.5099334716797, 268.685791015625, 205.5186309814453, 335.9820251464844, 508.04864501953125, 134.16082763671875, 125.23889923095703, 246.0894012451172, 166.464111328125, 232.44357299804688, 205.42465209960938, 1245.3211669921875, 509.6740417480469, 302.91900634765625, 234.78091430664062, 212.42713928222656, 160.0061798095703, 514.1964721679688, 189.83853149414062, 262.1860656738281, 205.7527313232422, 404.59954833984375, 462.66741943359375, 1565.3270263671875, 298.81707763671875, 960.929443359375, 865.5353393554688, 501.2572021484375, 624.4663696289062, 742.401123046875, 1438.386474609375, 460.88055419921875, 1049.2242431640625, 1217.0377197265625, 1389.898681640625, 1143.53955078125, 585.7535400390625, 921.7593994140625, 1483.8624267578125, 1119.8634033203125, 597.3255615234375, 671.1707763671875, 575.6246948242188, 574.3048706054688, 1010.2854614257812, 899.1298217773438, 617.2991943359375, 950.3931274414062, 727.3731689453125, 639.6044921875, 707.4025268554688, 671.7802124023438, 656.3529052734375, 608.4027099609375, 625.7466430664062, 612.4027709960938, 79.00020599365234, 76.49198913574219, 57.12514877319336, 52.57195281982422, 69.91192626953125, 38.74314498901367, 35.47217559814453, 35.45268630981445, 30.851520538330078, 29.019811630249023, 28.654897689819336, 27.002269744873047, 25.453075408935547, 23.815359115600586, 23.510272979736328, 23.418468475341797, 23.35025405883789, 22.2215633392334, 21.875782012939453, 21.11326026916504, 20.8394775390625, 20.420717239379883, 20.192472457885742, 20.14389991760254, 18.22512435913086, 17.866962432861328, 17.82530403137207, 17.821969985961914, 17.698877334594727, 17.604097366333008, 38.30326461791992, 17.855043411254883, 35.374549865722656, 38.92276382446289, 65.06734466552734, 25.480667114257812, 121.78546142578125, 64.35041046142578, 32.91670227050781, 34.673667907714844, 185.2418212890625, 60.44801712036133, 107.25979614257812, 73.21480560302734, 1393.1982421875, 110.2344970703125, 116.42699432373047, 54.67399215698242, 102.56111145019531, 141.68975830078125, 77.29547882080078, 179.04849243164062, 56.71551513671875, 150.90797424316406, 156.20230102539062, 77.65892791748047, 156.785888671875, 191.03392028808594, 166.56517028808594, 349.11285400390625, 418.3603515625, 194.5379180908203, 79.5788803100586, 264.6042175292969, 246.849609375, 250.91763305664062, 132.1106414794922, 232.57058715820312, 255.7103729248047, 169.53604125976562, 169.98239135742188, 143.0396270751953, 103.30209350585938, 144.21282958984375, 137.95201110839844, 124.80049896240234, 132.18658447265625, 149.22276306152344, 144.17518615722656, 127.62176513671875, 128.1727752685547, 123.91943359375, 38.80888748168945, 25.951879501342773, 24.20779800415039, 21.47352409362793, 20.32729721069336, 15.81153392791748, 14.979825019836426, 13.926860809326172, 13.866739273071289, 13.671305656433105, 13.896299362182617, 12.5465669631958, 12.188754081726074, 11.953763961791992, 11.89754581451416, 11.810720443725586, 11.531367301940918, 11.468756675720215, 11.394325256347656, 11.380942344665527, 11.352763175964355, 11.309063911437988, 11.28389835357666, 11.197937965393066, 11.15134334564209, 11.150142669677734, 10.972501754760742, 10.957850456237793, 10.938435554504395, 10.795015335083008, 12.36265754699707, 59.17279052734375, 12.751826286315918, 64.7063217163086, 17.760726928710938, 26.213281631469727, 47.596778869628906, 28.228878021240234, 1335.2344970703125, 311.3868713378906, 112.28500366210938, 290.7769470214844, 561.1935424804688, 61.622188568115234, 228.93966674804688, 55.73172378540039, 27.53201675415039, 230.90721130371094, 101.99349975585938, 18.346515655517578, 723.6604614257812, 358.17083740234375, 166.6985626220703, 134.64053344726562, 87.490234375, 40.4197883605957, 43.85750961303711, 398.32257080078125, 135.4782257080078, 124.79325866699219, 178.5658416748047, 117.09764862060547, 248.2939910888672, 168.0301055908203, 182.10838317871094, 641.9711303710938, 348.69488525390625, 139.56361389160156, 182.454833984375, 238.671875, 379.6780090332031, 134.2866973876953, 282.1104431152344, 460.7371520996094, 163.34573364257812, 267.7054443359375, 222.88275146484375, 190.9557647705078, 173.702880859375, 163.2037353515625, 182.45172119140625, 203.85508728027344, 163.52516174316406, 165.0924072265625, 164.5518798828125, 46.98799133300781, 46.78353500366211, 35.99009704589844, 35.661842346191406, 31.333782196044922, 30.41327476501465, 27.622161865234375, 27.5438175201416, 26.960081100463867, 26.776273727416992, 26.170618057250977, 25.545740127563477, 24.27569007873535, 24.052444458007812, 23.499231338500977, 22.98016357421875, 22.867347717285156, 21.240530014038086, 20.703176498413086, 20.6102294921875, 20.593982696533203, 20.38984489440918, 19.840368270874023, 19.45853042602539, 18.87076187133789, 18.736719131469727, 18.63749885559082, 18.2241268157959, 18.13584327697754, 18.079776763916016, 49.45746612548828, 30.240314483642578, 35.26236343383789, 93.10741424560547, 43.509605407714844, 230.24258422851562, 22.898704528808594, 91.45758819580078, 91.09281921386719, 84.58983612060547, 30.749263763427734, 135.50694274902344, 630.5486450195312, 81.97225189208984, 54.71601867675781, 63.66263961791992, 60.87014389038086, 44.39908981323242, 48.22820281982422, 105.81012725830078, 47.8591423034668, 99.69374084472656, 456.8262634277344, 44.29065704345703, 101.46577453613281, 135.94114685058594, 69.26042938232422, 155.11798095703125, 89.52964782714844, 112.1702651977539, 255.41891479492188, 82.23683166503906, 63.867027282714844, 156.43426513671875, 135.5299072265625, 137.34327697753906, 135.80889892578125, 127.96060180664062, 87.85986328125, 160.082763671875, 154.396240234375, 84.00642395019531, 128.9753875732422, 115.36357879638672, 156.3465118408203, 161.49330139160156, 103.60589599609375, 108.21732330322266, 100.34683227539062, 100.9636001586914, 121.14881896972656, 95.98114776611328, 97.426513671875, 97.28128814697266, 96.99302673339844, 97.38578033447266, 45.30379867553711, 29.662450790405273, 25.4135799407959, 22.817148208618164, 18.58656883239746, 17.98447036743164, 16.352693557739258, 16.31148910522461, 16.13340950012207, 15.502313613891602, 15.39636516571045, 15.201750755310059, 15.188819885253906, 14.67525577545166, 14.612021446228027, 14.609715461730957, 14.568357467651367, 14.566593170166016, 14.531015396118164, 14.281457901000977, 14.247053146362305, 14.149419784545898, 14.106498718261719, 13.926249504089355, 13.610350608825684, 13.196308135986328, 12.963528633117676, 12.706412315368652, 12.640058517456055, 12.5494966506958, 57.98051071166992, 21.725208282470703, 64.0525894165039, 234.68978881835938, 24.959339141845703, 24.990373611450195, 339.1961975097656, 36.466880798339844, 34.65880584716797, 103.77853393554688, 42.23562240600586, 803.0452270507812, 42.28776931762695, 87.3857421875, 528.6527099609375, 77.83808898925781, 36.28225326538086, 128.715087890625, 137.46481323242188, 69.28036499023438, 121.37337493896484, 120.45561218261719, 62.99594497680664, 64.65254211425781, 87.34384155273438, 64.26924133300781, 65.07075500488281, 119.26712036132812, 290.5231628417969, 121.39376068115234, 169.97909545898438, 190.4857940673828, 126.74485778808594, 153.90728759765625, 79.15764617919922, 133.42588806152344, 92.45980834960938, 203.31900024414062, 131.3761749267578, 75.96685791015625, 145.3590545654297, 97.43893432617188, 106.12104797363281, 107.08421325683594, 100.83604431152344, 96.879150390625, 83.13188171386719, 86.12448120117188, 86.29403686523438, 29.80573272705078, 29.554122924804688, 29.554122924804688, 23.482746124267578, 22.523691177368164, 21.949649810791016, 19.16790199279785, 15.116551399230957, 14.607492446899414, 12.788827896118164, 11.491718292236328, 11.396857261657715, 11.175490379333496, 11.167348861694336, 10.868908882141113, 10.672423362731934, 10.574461936950684, 10.474231719970703, 10.237198829650879, 10.213032722473145, 10.015745162963867, 9.975058555603027, 9.871827125549316, 10.030220031738281, 9.202592849731445, 9.00013542175293, 8.961385726928711, 8.798267364501953, 8.697010040283203, 8.640402793884277, 92.43929290771484, 259.8477478027344, 25.62885093688965, 20.180767059326172, 29.830669403076172, 158.9961700439453, 388.4467468261719, 34.628265380859375, 262.3629455566406, 107.42539978027344, 203.6543426513672, 57.157623291015625, 144.53521728515625, 72.37083435058594, 850.8713989257812, 93.4725570678711, 105.00440979003906, 205.49232482910156, 268.0478515625, 507.6075439453125, 154.29640197753906, 83.02838134765625, 153.30303955078125, 125.5781478881836, 388.4000549316406, 73.10957336425781, 189.05569458007812, 241.60438537597656, 431.9184265136719, 112.04405975341797, 243.29644775390625, 262.7208251953125, 265.8630676269531, 287.59197998046875, 481.0466613769531, 233.87953186035156, 124.25184631347656, 311.91778564453125, 145.55015563964844, 210.1103515625, 324.4572448730469, 172.28509521484375, 150.14337158203125, 249.7603302001953, 164.1179962158203, 160.9138641357422, 157.87921142578125, 68.05592346191406, 31.183837890625, 56.300682067871094, 23.594797134399414, 23.044626235961914, 22.52518081665039, 21.31949234008789, 20.904808044433594, 18.182058334350586, 17.77579689025879, 17.163501739501953, 16.885339736938477, 15.815704345703125, 15.383637428283691, 14.017003059387207, 13.644142150878906, 13.644142150878906, 13.194413185119629, 12.96049690246582, 34.751251220703125, 12.185372352600098, 11.82897663116455, 11.82897663116455, 11.82897663116455, 11.82897663116455, 10.921392440795898, 10.439338684082031, 10.013810157775879, 10.013809204101562, 10.013809204101562, 30.298934936523438, 34.331321716308594, 50.569358825683594, 436.8890686035156, 94.49964904785156, 20.258920669555664, 37.15127944946289, 116.90467071533203, 31.6748104095459, 83.99038696289062, 43.027610778808594, 66.90731048583984, 146.9295196533203, 36.47678756713867, 53.106651306152344, 35.57209777832031, 166.56671142578125, 77.58341979980469, 142.61863708496094, 85.10359191894531, 313.17913818359375, 115.45637512207031, 133.63885498046875, 100.88487243652344, 49.24558639526367, 91.6485595703125, 81.72661590576172, 67.72205352783203, 58.764007568359375, 67.62800598144531, 74.61749267578125, 60.73500061035156, 152.45997619628906, 114.23851013183594, 62.982913970947266, 113.49555969238281, 91.23280334472656, 111.70191955566406, 63.8751220703125, 65.53351593017578, 61.85741424560547, 64.34068298339844, 86.69053649902344, 70.12041473388672, 60.9440803527832, 57.22687911987305, 43.15829849243164, 88.11888885498047, 37.46164321899414, 34.06018829345703, 33.350643157958984, 29.052915573120117, 28.069435119628906, 27.303804397583008, 26.37429428100586, 26.038516998291016, 23.478050231933594, 22.78986167907715, 22.66937255859375, 22.209012985229492, 22.894317626953125, 21.263713836669922, 26.14990234375, 16.898910522460938, 16.03298568725586, 15.612858772277832, 15.425015449523926, 15.181493759155273, 14.211095809936523, 14.076912879943848, 13.552419662475586, 13.470410346984863, 76.84031677246094, 78.34314727783203, 42.13725280761719, 71.82418060302734, 46.10459518432617, 73.71393585205078, 76.90629577636719, 104.6302490234375, 546.5115966796875, 52.3000602722168, 266.56536865234375, 123.92398071289062, 116.43321228027344, 65.89717864990234, 38.243106842041016, 205.39422607421875, 112.24341583251953, 290.550048828125, 141.16961669921875, 58.573448181152344, 52.75056457519531, 140.47817993164062, 138.73008728027344, 53.696537017822266, 123.8477554321289, 62.62691879272461, 118.19448852539062, 65.1925048828125, 116.6201171875, 138.2269744873047, 81.72814178466797, 82.76885986328125, 84.9427261352539, 64.7184066772461, 64.70237731933594, 14.970335960388184, 12.746048927307129, 12.71860122680664, 11.70726203918457, 11.337035179138184, 11.043304443359375, 10.752344131469727, 10.640299797058105, 10.89690113067627, 9.57205867767334, 9.347840309143066, 8.834358215332031, 8.819178581237793, 8.687026023864746, 8.54450798034668, 8.520742416381836, 8.508256912231445, 8.324722290039062, 8.286766052246094, 8.22193431854248, 8.221169471740723, 8.201550483703613, 8.076108932495117, 7.908483505249023, 7.8602399826049805, 7.7240519523620605, 7.721305847167969, 7.669065952301025, 7.458846092224121, 7.365421295166016, 13.09024429321289, 9.692089080810547, 12.179036140441895, 16.514907836914062, 21.119482040405273, 12.128301620483398, 67.50181579589844, 16.17864418029785, 12.962664604187012, 13.981185913085938, 41.607566833496094, 117.46189880371094, 40.594261169433594, 121.979736328125, 38.84809875488281, 34.05739974975586, 70.45684814453125, 50.53389358520508, 37.057308197021484, 40.343379974365234, 66.13727569580078, 87.3669662475586, 49.707122802734375, 33.005863189697266, 84.16364288330078, 27.233051300048828, 59.01847457885742, 49.61610794067383, 39.60554122924805, 25.403461456298828, 34.623538970947266, 53.92601013183594, 39.76959228515625, 40.190948486328125, 36.791263580322266, 31.86277198791504, 26.427278518676758, 26.795475006103516, 32.470088958740234, 29.10725212097168, 30.6960506439209, 26.963680267333984, 45.26477813720703, 43.845855712890625, 37.349334716796875, 34.78554916381836, 27.223424911499023, 25.002269744873047, 24.567733764648438, 24.47430992126465, 19.766427993774414, 17.328609466552734, 16.019224166870117, 13.292274475097656, 12.386942863464355, 12.294358253479004, 11.860129356384277, 11.835529327392578, 11.085267066955566, 10.972952842712402, 10.95626449584961, 10.879778861999512, 31.782581329345703, 10.089558601379395, 9.675987243652344, 9.54050064086914, 9.450248718261719, 41.83295440673828, 9.074111938476562, 9.072370529174805, 8.966167449951172, 8.847780227661133, 34.886314392089844, 15.724751472473145, 13.151541709899902, 41.052764892578125, 39.869972229003906, 120.52642059326172, 30.167415618896484, 58.86506271362305, 19.98358726501465, 83.90718078613281, 103.15514373779297, 27.75298309326172, 130.148681640625, 49.47268295288086, 92.11743927001953, 61.763790130615234, 100.03653717041016, 61.03158187866211, 36.35939025878906, 35.21846389770508, 27.758617401123047, 40.449195861816406, 61.161128997802734, 54.530086517333984, 41.316734313964844, 39.57512664794922, 29.413454055786133, 32.82833480834961, 31.923696517944336, 29.644607543945312, 40.32217788696289, 29.947214126586914, 15.717060089111328, 12.606624603271484, 12.550365447998047, 11.584717750549316, 11.285845756530762, 11.280410766601562, 9.869039535522461, 8.63698673248291, 7.99776029586792, 7.99776029586792, 7.99776029586792, 7.752374172210693, 7.6756463050842285, 7.345966815948486, 7.23858118057251, 7.057134628295898, 6.868436336517334, 6.362200736999512, 6.079970359802246, 6.079970359802246, 5.963857173919678, 5.760196685791016, 5.732666969299316, 5.732147693634033, 5.726987838745117, 5.699213981628418, 5.567896842956543, 5.567896842956543, 5.567896842956543, 25.10068702697754, 39.04643249511719, 22.081655502319336, 10.782570838928223, 19.191028594970703, 20.393949508666992, 47.51655578613281, 10.412749290466309, 11.271772384643555, 14.584689140319824, 10.067161560058594, 9.03351879119873, 7.1222710609436035, 13.290387153625488, 8.00564193725586, 5.694095134735107, 5.012295246124268, 4.851459980010986, 4.459167003631592, 4.352469444274902, 3.561246395111084, 3.2381932735443115, 3.2381932735443115, 3.101780414581299, 5.866174697875977, 2.893338203430176, 2.8871872425079346, 2.825991630554199, 2.805331230163574, 2.5948636531829834, 2.5948636531829834, 2.594331741333008, 2.5218734741210938, 2.456787109375, 2.456787109375, 2.3855273723602295, 2.2438573837280273, 2.2438573837280273, 2.2438573837280273, 2.227982521057129, 2.203949213027954, 2.1809990406036377, 2.1809985637664795, 5.292484283447266, 3.9300038814544678, 7.139959812164307, 15.058534622192383, 24.429466247558594, 6.672232151031494, 3.8133533000946045, 99.06084442138672, 9.060813903808594, 7.974809169769287, 4.267159938812256, 3.7021143436431885, 6.68098783493042, 19.708511352539062, 7.530320167541504, 10.630908012390137, 8.759647369384766, 8.999945640563965, 4.111101150512695, 4.704671382904053, 4.458962440490723, 4.575314044952393, 4.116174221038818, 4.021137237548828, 4.304957389831543, 3.4468400478363037, 3.4468400478363037, 3.328171491622925, 2.358726739883423, 2.159663200378418, 2.116302490234375, 1.7443838119506836, 1.7306047677993774, 1.7306047677993774, 1.638516902923584, 1.6385167837142944, 1.6385167837142944, 1.6385167837142944, 1.575898289680481, 1.560450792312622, 1.560450792312622, 1.4721773862838745, 1.391965389251709, 1.3153241872787476, 1.3015459775924683, 1.3015459775924683, 1.3015459775924683, 1.3015457391738892, 1.1468394994735718, 1.121498942375183, 1.1214985847473145, 1.088348388671875, 1.0420818328857422, 1.0409727096557617, 1.0409725904464722, 1.0409727096557617, 1.0409727096557617, 1.0409725904464722, 1.040972352027893, 1.0409725904464722, 6.881893157958984, 2.3587284088134766, 1.293215036392212, 1.2436856031417847, 9.303780555725098, 5.956236839294434, 5.553978443145752, 4.495290756225586, 3.962151288986206, 3.348872423171997, 3.4264729022979736, 3.288595199584961, 3.015252113342285, 3.0115442276000977, 2.850778579711914, 2.848839044570923, 2.8113293647766113, 2.8060684204101562, 2.629274368286133, 2.6021454334259033, 2.5369648933410645, 2.4430410861968994, 2.395380735397339, 2.36855149269104, 2.3682520389556885, 2.3417229652404785, 2.294349431991577, 2.294349431991577, 2.294349431991577, 2.242155075073242, 2.2346160411834717, 2.225367784500122, 2.1935057640075684, 2.192747116088867, 3.7630324363708496, 3.262385368347168, 2.2316105365753174, 5.123170375823975, 4.428943157196045, 4.079573154449463, 2.706801652908325, 2.448956251144409, 2.3014843463897705, 2.0399527549743652, 2.0382871627807617, 1.980018138885498, 1.830880880355835, 1.8039686679840088, 1.7295515537261963, 1.7295513153076172, 1.7295515537261963, 1.7295513153076172, 1.7295513153076172, 1.7295513153076172, 1.7295513153076172, 1.7295513153076172, 1.6560890674591064, 1.5693496465682983, 1.493567705154419, 1.4666553735733032, 1.4080854654312134, 1.3922383785247803, 1.3922381401062012, 1.2888195514678955, 1.2468212842941284, 1.2320362329483032, 1.197068214416504, 1.43305242061615, 8.516695976257324, 3.634207248687744, 3.515674591064453, 3.3479509353637695, 3.0692224502563477, 2.9819998741149902, 2.8700618743896484, 2.705484390258789, 2.6643171310424805, 2.5857999324798584, 2.5641934871673584, 25.038537979125977, 2.4715585708618164, 2.45646333694458, 2.2378063201904297, 1.9752341508865356, 1.9714981317520142, 1.8978683948516846, 1.8550113439559937, 1.8543336391448975, 1.8400105237960815, 1.793893575668335, 1.788986325263977, 1.788986325263977, 1.788986325263977, 1.6430753469467163, 1.6310044527053833, 1.5560063123703003, 1.487345576286316, 1.487345576286316, 2.109715700149536, 2.882002592086792, 3.8506369590759277, 1.9852441549301147, 3.2782859802246094, 2.6672451496124268, 1.839034914970398, 1.8520967960357666, 5.8917036056518555, 2.25311541557312, 1.765928030014038, 1.6871751546859741, 1.6641515493392944, 1.5364781618118286, 1.076416254043579, 0.9790114164352417, 0.9104379415512085, 0.9104380011558533, 0.9104378819465637, 0.8391650319099426, 0.8372453451156616, 0.8372453451156616, 0.8242067694664001, 0.744866669178009, 0.7379752993583679, 0.6987506151199341, 0.6712671518325806, 0.6712672114372253, 0.6281689405441284, 0.6190038323402405, 0.6190038323402405, 0.5589041113853455, 0.5333400964736938, 0.5183818340301514, 0.5183819532394409, 0.49281802773475647, 0.49281805753707886, 0.4791572690010071, 0.4791572391986847, 0.4791572391986847, 1.2699531316757202, 0.6527031660079956, 0.7582880854606628, 0.5261480808258057, 1.2302441596984863, 1.0330997705459595, 0.9932832717895508, 0.907766580581665, 0.8223171830177307, 0.7962988615036011, 0.765762209892273, 0.7507244348526001, 0.7208763957023621, 0.7182038426399231, 0.7103210687637329, 0.7103210687637329, 0.6712110638618469, 0.6562972068786621, 0.6562967896461487, 0.6392571330070496, 0.6028392910957336, 0.6026788353919983, 0.5857992172241211, 0.5852331519126892, 0.5317750573158264, 0.5312092304229736, 0.5312092304229736, 0.5312092304229736, 0.5312092304229736, 0.5312092304229736, 0.5312092304229736, 0.5312092304229736, 0.5312092304229736, 0.5312092304229736, 0.5312092304229736, 0.5312092304229736, 0.5312092304229736, 0.5312092304229736, 0.5312092304229736, 0.5312092304229736, 0.5312092304229736], \"Term\": [\"ei\", \"dansk\", \"gud\", \"ord\", \"aand\", \"kan\", \"liv\", \"kong\", \"kun\", \"d\\u00f8d\", \"hjert\", \"danmark\", \"verd\", \"nord\", \"kirk\", \"dam\", \"krist\", \"al\", \"gi\\u00f8r\", \"maa\", \"dag\", \"kom\", \"lys\", \"mennesk\", \"jord\", \"ere\", \"sand\", \"tro\", \"dit\", \"evig\", \"sparta\", \"philosophi\", \"stud\", \"igrund\", \"egennyt\", \"ki\\u00f8benhavn\", \"politisk\", \"preus\", \"sk\\u00f8nd\", \"hiin\", \"overdaad\", \"st\\u00e6nd\", \"poet\", \"literatur\", \"fanatism\", \"januar\", \"indbyd\", \"yttring\", \"m\\u00f8l\", \"iaft\", \"formast\", \"tyg\", \"tildel\", \"beslutning\", \"beskikked\", \"befordr\", \"efterkom\", \"niniv\", \"iver\", \"forandred\", \"rusland\", \"duel\", \"maaske\", \"ordsprog\", \"ungdom\", \"desv\\u00e6r\", \"skribent\", \"philosoph\", \"samt\", \"selskab\", \"dansk\", \"arbeid\", \"danmark\", \"hens\", \"h\\u00f8ier\", \"nord\", \"hvilk\", \"begrib\", \"nep\", \"behag\", \"\\u00f8nsk\", \"h\\u00f8iest\", \"\\u00f8in\", \"b\\u00f8r\", \"historisk\", \"folk\", \"sprog\", \"kan\", \"tid\", \"\\u00f8ieblik\", \"syn\", \"naar\", \"kund\", \"vis\", \"\\u00f8ie\", \"ei\", \"maa\", \"tal\", \"vild\", \"veed\", \"vist\", \"vel\", \"fordi\", \"histori\", \"skuld\", \"kun\", \"uden\", \"kald\", \"gaml\", \"ogsaa\", \"nok\", \"hel\", \"maat\", \"mer\", \"ret\", \"kom\", \"ing\", \"endnu\", \"aand\", \"sid\", \"f\\u00f8rst\", \"find\", \"lad\", \"stor\", \"sand\", \"baad\", \"statskirk\", \"skriftklog\", \"apostolisk\", \"luthersk\", \"daabspag\", \"theolog\", \"hellige_skrift\", \"f\\u00e6dernetro\", \"kirkehistorisk\", \"hr_biskop\", \"ny_testament\", \"lutheran\", \"papist\", \"alterbog\", \"evangelisk\", \"mynst\", \"uchrist\", \"sacrament\", \"folkekirk\", \"papistisk\", \"religionsfri\", \"naademidl\", \"sognepr\\u00e6st\", \"prof_claus\", \"verdslige_\\u00f8vr\", \"lindberg\", \"kirkesamfund\", \"forret\", \"indstift\", \"formular\", \"bekjend\", \"nadv\", \"protestantisk\", \"selvmodsig\", \"apostl\", \"evangeli\", \"daab\", \"kirkehistori\", \"morten_luth\", \"evige_liv\", \"bibelsk\", \"christ\", \"gj\\u00e6ld\", \"kirk\", \"troen\", \"gj\\u00f8r\", \"vidnesbyrd\", \"troend\", \"skrift\", \"kjend\", \"christendom\", \"luth\", \"tro\", \"pr\\u00e6st\", \"helligaand\", \"christn\", \"bibel\", \"guddom\", \"aand\", \"ent\", \"krist\", \"kan\", \"ord\", \"sand\", \"maa\", \"aabenbar\", \"lev\", \"naar\", \"kun\", \"hel\", \"mennesk\", \"gud\", \"uden\", \"baad\", \"ogsaa\", \"virk\", \"kund\", \"lig\", \"vild\", \"liv\", \"maat\", \"vel\", \"find\", \"philip\", \"polyb\", \"hertug\", \"pers\", \"plutark\", \"asi\", \"sicili\", \"konstantinopel\", \"diodor\", \"spartan\", \"saladin\", \"arab\", \"c\\u00e6sar\", \"ph\\u00f8nic\", \"robert\", \"angelsachs\", \"normannisk\", \"rikard\", \"spansk\", \"hannibal\", \"borgemest\", \"afrika\", \"byzantin\", \"edvard\", \"tyrus\", \"italiensk\", \"beleiring\", \"darius\", \"kyrus\", \"ferdinand\", \"norman\", \"alexand\", \"herodot\", \"itali\", \"\\u00e6gypt\", \"sammest\", \"atheniens\", \"spani\", \"vilhelm\", \"ii\", \"henrik\", \"rom\", \"keis\", \"korstog\", \"tyran\", \"flaad\", \"grev\", \"romersk\", \"indtog\", \"frankr\", \"tyrk\", \"ber\\u00f8mt\", \"krig\", \"kong\", \"fransk\", \"fik\", \"gjord\", \"gr\\u00e6k\", \"tog\", \"imidlertid\", \"stor\", \"slag\", \"baad\", \"kom\", \"hel\", \"ogsaa\", \"lod\", \"f\\u00f8rst\", \"kun\", \"vel\", \"aar\", \"fald\", \"gik\", \"land\", \"vild\", \"maat\", \"nem\", \"kund\", \"sid\", \"s\\u00f8n\", \"tid\", \"dag\", \"blot\", \"endnu\", \"skuld\", \"folk\", \"gunnar\", \"fagr\", \"sk\\u00e6nk\", \"gerning\", \"pharao\", \"fluk\", \"erkend\", \"odrun\", \"josef\", \"esaia\", \"j\\u00e6rtegn\", \"kain\", \"jomsborg\", \"d\\u00f8\", \"erkebisp\", \"trehundred\", \"ydr\", \"sigvald\", \"migog\", \"\\u00e6delste\", \"sem\", \"askalon\", \"kong_harald\", \"hofm\\u00e6nd\", \"skemt\", \"romaborg\", \"tok\", \"opfostr\", \"ger\", \"sigrun\", \"g\\u00e6st\", \"omd\", \"isak\", \"ful\", \"sigmund\", \"philist\", \"brynhild\", \"gern\", \"nil\", \"fafn\", \"sigurd\", \"siig\", \"tyk\", \"est\", \"ei\", \"norn\", \"k\\u00e6r\", \"gam\", \"r\\u00f8d\", \"ond\", \"kend\", \"odin\", \"tykt\", \"blod\", \"sv\\u00e6rd\", \"valhal\", \"h\\u00f8ie\", \"dit\", \"k\\u00e6mp\", \"gud\", \"kan\", \"jord\", \"aser\", \"maa\", \"kom\", \"vel\", \"eder\", \"hel\", \"kun\", \"gaml\", \"liv\", \"s\\u00f8n\", \"guld\", \"veed\", \"mer\", \"fad\", \"hjert\", \"vild\", \"naar\", \"d\\u00f8d\", \"stor\", \"tro\", \"gudsom\", \"frit_oversat\", \"livets_tr\\u00e6\", \"fuldmang\", \"frel\", \"veiog\", \"n\\u00e6rsom\", \"jesu_christ\", \"propheten_esaia\", \"lak\", \"aandda\", \"l\\u00e6gfolk\", \"jordhvor\", \"tugted\", \"olj\", \"jordaf\", \"snig\", \"hani\", \"derhvor\", \"bibelsprog\", \"gravs\", \"haandhan\", \"sjungemed\", \"naadeja\", \"golgatha\", \"helligaandsom\", \"udbryd\", \"angel\", \"n\\u00e6rd\", \"klemt\", \"sorrigfuld\", \"amen\", \"jordenog\", \"gl\\u00f8d\", \"kl\\u00e6dning\", \"sti\", \"urt\", \"saaat\", \"gud\", \"eder\", \"hvo\", \"hav\", \"hjert\", \"herres_jesu\", \"tr\\u00f8st\", \"jesu_christi\", \"davidspsalm\", \"frels\", \"ving\", \"guldkron\", \"ord\", \"lys\", \"jesu\", \"r\\u00f8st\", \"vandr\", \"tr\\u00e6ngsel\", \"morgenr\\u00f8d\", \"verd\", \"elsk\", \"nat\", \"sj\\u00e6l\", \"barn\", \"fad\", \"tung\", \"himl\", \"ei\", \"dag\", \"naad\", \"vort\", \"jord\", \"aand\", \"jesus\", \"d\\u00f8d\", \"kun\", \"gl\\u00e6d\", \"liv\", \"sand\", \"navn\", \"ja\", \"evig\", \"tal\", \"kan\", \"see\", \"lev\", \"kom\", \"kong_olav\", \"j\\u00f8deland\", \"got\", \"gjukung\", \"hjordis\", \"nedog\", \"gub\", \"svand\", \"k\\u00f8d\", \"fl\\u00f8t\", \"rosenkild\", \"dannebraag\", \"skr\", \"hogn\", \"l\\u00e6ngsl\", \"nattergal\", \"aandsom\", \"marmor\", \"tappert\", \"ingel\", \"thurs\", \"gjuk\", \"fiern\", \"ulf\", \"skiul\", \"godmund\", \"viid\", \"zverg\", \"sandv\", \"se_po\", \"ki\\u00e6mp\", \"gi\\u00e6v\", \"arild\", \"roskild\", \"hannem\", \"dannemark\", \"folkesang\", \"gudrun\", \"svend\", \"christian\", \"niding\", \"saxo\", \"kong\", \"hr\", \"snek\", \"flux\", \"lund\", \"enddog\", \"aldenstund\", \"udi\", \"olav\", \"fugl\", \"ei\", \"riim\", \"mark\", \"sang\", \"ikkun\", \"sagd\", \"frederik\", \"f\\u00e6dr\", \"kom\", \"b\\u00f8lg\", \"ped\", \"s\\u00f8n\", \"danmark\", \"gik\", \"lod\", \"stod\", \"sagn\", \"gaml\", \"dag\", \"sad\", \"fik\", \"mand\", \"ord\", \"kun\", \"tog\", \"land\", \"saae\", \"gav\", \"kan\", \"hav\", \"fald\", \"dansk\", \"hold\", \"ing\", \"stroph\", \"higed\", \"tiljeg\", \"t\\u00e6m\", \"d\\u00f8defor\", \"isefjord\", \"paaskesang\", \"b\\u00f8genes_\\u00f8elad\", \"knop\", \"saaeog\", \"jordmed\", \"favnd\", \"kildevang\", \"d\\u00f8dem\", \"hult\", \"tilog\", \"b\\u00f8m\", \"ki\\u00e6rlighed\", \"kundskabstr\\u00e6\", \"h\\u00f8red\", \"\\u00e6reo\", \"\\u00f8iesaa\", \"morgenhan\", \"fredog\", \"jordjeg\", \"veni\", \"balak\", \"\\u00f8xe\", \"ordnaar\", \"axled\", \"blank\", \"lilj\", \"favr\", \"mon\", \"hersleb\", \"kveld\", \"dit\", \"perl\", \"freia\", \"udi\", \"korsf\\u00e6st\", \"ei\", \"duft\", \"suk\", \"gud\", \"lif\", \"bittr\", \"h\\u00f8ie\", \"himl\", \"brat\", \"h\\u00f8it\", \"grav\", \"hist\", \"stjern\", \"kors\", \"drot\", \"from\", \"saae\", \"kun\", \"hver\", \"gaml\", \"ord\", \"lys\", \"kirk\", \"dybt\", \"hjert\", \"sang\", \"kan\", \"verd\", \"st\\u00f8v\", \"maa\", \"jord\", \"kom\", \"naar\", \"vel\", \"vild\", \"klar\", \"kong\", \"aand\", \"julesang\", \"drotten_vort\", \"skjoldi_ve\", \"brorson\", \"frelsermand\", \"jesus_lillefor\", \"hallelujano\", \"hu_staa\", \"nordahl_brun\", \"v\\u00e6reno\", \"givetd\", \"veitil\", \"daabog\", \"navnsom\", \"julev\", \"paaskemorg\", \"digtil\", \"lindr\", \"demkong\", \"gi\\u00e6stsom\", \"fuldbrag\", \"drothan\", \"jesus_migop\", \"\\u00f8ded\", \"\\u00e6relad\", \"dod\", \"gl\\u00e6deno\", \"d\\u00f8dejesus_stod\", \"haabd\", \"paaskev\", \"gudfad\", \"no\", \"gienl\\u00f8s\", \"melodi\", \"sv\\u00f8bt\", \"fryd\", \"dit\", \"ordsom\", \"himl\", \"engl\", \"frels\", \"jomfru\", \"st\\u00f8v\", \"himmer\", \"gud\", \"drot\", \"helved\", \"sj\\u00e6l\", \"evig\", \"liv\", \"jesus\", \"priis\", \"naad\", \"himmel\", \"d\\u00f8d\", \"soel\", \"vort\", \"lys\", \"aand\", \"kors\", \"jord\", \"hjert\", \"al\", \"verd\", \"ei\", \"s\\u00f8n\", \"jesu\", \"ord\", \"ki\\u00e6r\", \"gi\\u00f8r\", \"kun\", \"fad\", \"synd\", \"kan\", \"lad\", \"kom\", \"stor\", \"ey\", \"katolsk\", \"tend\", \"falst\", \"genstand\", \"kendem\\u00e6rk\", \"rahbek\", \"kaivin\", \"vilibrord\", \"roth\", \"teologi\", \"skougaard\", \"vare_blevn\", \"tendent\", \"kl\", \"kromvel\", \"bysantinsk\", \"nytaarsnat\", \"guldberg\", \"kristjan\", \"volt\\u00e6r\", \"vinfred\", \"friderich\", \"rdr\", \"katolik\", \"h\\u00f8yer\", \"bortkasted\", \"rovger\", \"pr\\u00f8js\", \"blant\", \"jesu_kristi\", \"rejst\", \"kristian\", \"kristendom\", \"tron\", \"blevn\", \"delt\", \"ej\", \"genf\\u00f8d\", \"engelland\", \"rejs\", \"h\\u00f8j\", \"g\\u00f8r\", \"sket\", \"visdom\", \"kejs\", \"kristn\", \"synt\", \"kristi\", \"gaa\", \"krist\", \"k\\u00e6r\", \"se\", \"kristus\", \"ment\", \"religion\", \"steds\", \"s\\u00f8gt\", \"besku\", \"egent\", \"staa\", \"igen\", \"ere\", \"hin\", \"gennem\", \"del\", \"faa\", \"evig\", \"tilv\\u00e6r\", \"grundtv\", \"mul\", \"mennesk\", \"gylfeleg\", \"sidon\", \"persephon\", \"freya\", \"krono\", \"skalda\", \"frig\", \"mythesmed\", \"demet\", \"grimhild\", \"grimnersmaal\", \"assyr\", \"freyas\", \"frey\", \"ravnegald\", \"udgaardslok\", \"nordiske_myth\", \"afskum\", \"sif\", \"ezechia\", \"eiegod\", \"h\\u00f8n\", \"listed\", \"gr\\u00e6ske_myth\", \"mythograph\", \"volsungkvad\", \"nan\", \"lokegluf\", \"gyldent\", \"skjaldemund\", \"unge_her\", \"asgaard\", \"pandora\", \"idun\", \"valhald\", \"pluto\", \"heimdal\", \"mythisk\", \"dam\", \"sleipn\", \"thor\", \"bald\", \"zeus\", \"mj\\u00f8ln\", \"hrungn\", \"myth\", \"dv\\u00e6rg\", \"odin\", \"asern\", \"v\\u00f8luspa\", \"tyr\", \"jet\", \"lok\", \"guldald\", \"poetisk\", \"brag\", \"nordisk\", \"oldsagn\", \"gr\\u00e6sk\", \"nord\", \"sagn\", \"ski\\u00f8nd\", \"gi\\u00f8r\", \"deil\", \"naturligviis\", \"gl\\u00e6deog\", \"dagi\", \"juul\", \"d\\u00f8ded\", \"klard\", \"mundtil\", \"hallelujahan\", \"nedmed\", \"komtil\", \"stord\", \"gl\\u00e6denu\", \"hallelujad\", \"nedi\", \"navnlad\", \"haandtil\", \"ski\\u00f8ndu\", \"haando\", \"paradisd\", \"savnog\", \"barnehjert\", \"frelsernavn\", \"baandog\", \"b\\u00f8lgerd\", \"forstaaeei\", \"natda\", \"navnhan\", \"gl\\u00e6desom\", \"aandmed\", \"saaesom\", \"kimed\", \"uns\", \"himmels_fo\", \"jesus_christ\", \"l\\u00e6rk\", \"forglem\", \"gaaeog\", \"no\", \"glands\", \"d\\u00f8dei\", \"mel\", \"engl\", \"d\\u00f8d\", \"himmelsk\", \"gud\", \"bjerg\", \"helved\", \"al\", \"vort\", \"jesus\", \"grav\", \"liv\", \"ei\", \"hvem\", \"kors\", \"kan\", \"ki\\u00f8d\", \"ord\", \"verd\", \"evig\", \"brat\", \"sj\\u00e6l\", \"aand\", \"lys\", \"godt\", \"jord\", \"h\\u00f8r\", \"vand\", \"himl\", \"kom\", \"see\", \"kun\", \"lad\", \"prosaiske_edda\", \"baldur\", \"gerda\", \"skirn\", \"betydningsfuld\", \"ragnarokr\", \"jotun\", \"gudel\\u00e6r\", \"grimnismal\", \"skebn\", \"skirners_reis\", \"gunlaug\", \"freir\", \"gym\", \"nyrup\", \"strak\", \"vidar\", \"brystd\", \"voluspa\", \"gud_bedregud\", \"symbol\", \"niord\", \"indknib\", \"period\", \"pot\", \"asal\\u00e6r\", \"oldgranskning\", \"f\\u00e6drevi_bed\", \"sch\\u00f8nning\", \"karak\", \"frei\", \"midgard\", \"h\\u00f8dur\", \"alfad\", \"vola\", \"asern\", \"digtning\", \"edda\", \"ki\\u00e6nd\", \"aser\", \"jet\", \"sk\\u00f8nt\", \"odin\", \"snorro\", \"lok\", \"norn\", \"digt\", \"thor\", \"till\\u00e6g\", \"island\", \"besku\", \"hin\", \"gud\", \"ei\", \"kraft\", \"jord\", \"valhal\", \"nord\", \"ere\", \"overs\\u00e6t\", \"herm\", \"antioki\", \"flokked\", \"artemis\", \"vintr\\u00e6\", \"heph\\u00e6sto\", \"leto\", \"n\\u00f8g\", \"guldb\\u00e6g\", \"eifor\", \"n\\u00f8ds\\u00f8d\", \"d\\u00f8ds\\u00f8d\", \"skjaldekong\", \"saaehvor\", \"emma\", \"smaafugl\", \"kviddr\", \"himlend\", \"gudhjem\", \"asta\", \"sukker_helved\", \"opstandeni_dag\", \"f\\u00e6llesliv\", \"stopped\", \"seeog\", \"ordfra\", \"\\u00e6lvedronning\", \"westminst\", \"lysog\", \"l\\u00f8fteog\", \"sl\\u00e6gtog\", \"glemmes_aldr\", \"boemund\", \"apollo\", \"kildev\\u00e6ld\", \"s\\u00f8dt\", \"tysk\", \"liv\", \"gyldenaar\", \"vorher\", \"kvind\", \"fugl\", \"skjald\", \"dannekvind\", \"fru_mari\", \"r\\u00f8nneb\\u00e6ksholm\", \"\\u00f8iehan\", \"fruer\", \"huusm\\u00e6nd\", \"sineog\", \"tidfor\", \"toft\", \"harmei\", \"skamlingsbank\", \"kvindesaa\", \"slesvigsk\", \"falded\", \"forvold\", \"d\\u00f8lgermed\", \"kirkekord\", \"kongest\\u00e6vn\", \"jordvold\", \"siger_kishurra\", \"clara_raphael\", \"svingerfar\", \"mundlag\", \"folketid\", \"fryde_mang\", \"hjertefagre_ord\", \"smertefagr\", \"bondeven\", \"f\\u00f8dselsstund\", \"dannebrogtil\", \"portog\", \"st\\u00e6ndertid\", \"clara\", \"s\\u00f8nderjylland\", \"slesv\", \"b\\u00f8nd\", \"h\\u00f8itydsk\", \"paanyi\", \"dansk\", \"dannebrog\", \"konger\", \"bondestand\", \"daneh\\u00e6r\", \"rigsdag\", \"danmark\", \"dannem\\u00e6nd\", \"modersmaal\", \"tydsk\", \"vort\", \"gammeldansk\", \"gr\\u00f8n\", \"f\\u00e6derneland\", \"kvind\", \"nr\", \"overgang\", \"kv\\u00e6dl\", \"syrith\", \"willemo\", \"himlensaa\", \"kanhvor\", \"naboth\", \"rigesom\", \"tilsaa\", \"tranek\\u00e6r\", \"haandskr\", \"kaarsaa\", \"sigenaar\", \"strandkun\", \"ordho\", \"krophan\", \"allesammennu\", \"stadvi\", \"omsom\", \"gaardsom\", \"moderhun\", \"s\\u00f8jl\", \"athun\", \"gr\\u00e6sb\\u00e6nk\", \"sildem\", \"sj\\u00e6legladhan\", \"stammehan\", \"maaderat\", \"l\\u00e6rtat\", \"himmerignaar\", \"t\\u00e6nkerd\", \"hyttekong\", \"stokvar\", \"till\\u00e6gi\", \"jordderfor\", \"vingei\", \"maglegaardhvor\", \"glemmes_aldr\", \"prindses\", \"snedorf\", \"mester_and\", \"fadervor\", \"fortabt\", \"aando\", \"aandsaa\", \"jordei\", \"dvaled\", \"himmeld\\u00f8r\", \"haandfor\", \"gaadesom\", \"sjungesom\", \"s\\u00f8dog\", \"nedb\\u00f8i\", \"svagesom\", \"haandenm\", \"fader_godsom\", \"\\u00e6refor\", \"dogmed\", \"givetaf\", \"morgenr\\u00f8deda\", \"\\u00f8sterlid\", \"gladthi\", \"igienog\", \"raabeog\", \"daaben\", \"raabenpaa\", \"udat\", \"morgenr\\u00f8defor\", \"krandsog\", \"baandtil\", \"skovog\", \"signed\", \"ny_psalmebog\", \"fagt\", \"korsets_tr\\u00e6\", \"blaam\\u00e6nd\", \"sagog\", \"korsf\\u00e6stedenu\", \"v\\u00e6regud\", \"fanekorsban\", \"runersom\", \"forladerpaa\", \"jorderigog\", \"frithan\", \"brask\", \"kildejakob\", \"hvidthold\", \"rakel\", \"skueplant\", \"skridtvis\", \"h\\u00e6versei\", \"fritfiend\", \"grueme\", \"volm\\u00e6r\", \"faard\", \"topda\", \"indgi\\u00f8d\", \"flyvem\", \"skadesaa\", \"ordhvem\", \"palo\", \"hurraraab\", \"pr\\u00e6sterog\", \"columbus\", \"banemed\", \"delphi\", \"slagterb\\u00e6nk\", \"guldsom\", \"drabant\", \"l\\u00f8nraad_sl\", \"syl\", \"bolt\", \"udfor\", \"moderog\", \"l\\u00f8nfor\", \"gavi\", \"herod\", \"hasted\", \"derog\", \"tr\\u00f8std\", \"h\\u00e6nderog\", \"saal\", \"brageog\", \"lided\", \"dagtil\", \"veisom\", \"mundi\", \"stavsom\", \"l\\u00f8nmed\", \"roog\", \"natugl\", \"togd\", \"n\\u00e6vneog\", \"forgaaerd\", \"faarhan\", \"japh\", \"kreta\", \"melodi\", \"nedfo\", \"josva\", \"spaaet\", \"bedsted\", \"skeet\", \"canaan\", \"aandtil\", \"kv\\u00e6r\", \"haandsaa\", \"stigeop\", \"rahab\", \"gyldenaarmed\", \"laus\", \"kolding\", \"n\\u00e6rsaa\", \"kongekron\", \"syndsom\", \"livsfyrst\", \"mellemslesv\", \"jordlyd\", \"r\\u00f8stfor\", \"sprogog\", \"sjungetil\", \"barraba\", \"dannelsessprog\", \"sjungero\", \"voldend\", \"ungm\\u00f8\", \"kildegud\", \"vidtat\", \"axelstadtil\", \"sj\\u00e6lthi\", \"lygted\", \"drotev\", \"tuensom\", \"byggeri\", \"indeja\", \"k\\u00e6kt\", \"paasaa\", \"j\\u00f8defolk\", \"sukkerr\\u00f8r\", \"jordensaa\", \"rethan\", \"tidsom\", \"givetat\", \"tilbage\", \"s\\u00f8njeg\", \"svigei\", \"saamed\", \"letsom\", \"matthisonhans\", \"\\u00f8resaa\", \"herreat\", \"sporaf\", \"omsonstselv\", \"ikkei\", \"fagei\", \"sendetil\", \"gl\\u00f8dem\", \"b\\u00f8lgerei\", \"mundepaa\", \"flidfor\", \"taaberverd\", \"\\u00e6gte\", \"strandesand\", \"baresand\", \"sandefalsk\", \"retbr\\u00f8d\", \"m\\u00e6tlad\", \"ikkeud\", \"faresand\", \"drikkeblod\", \"bordethvor\", \"betydersj\\u00e6l\", \"bryderaltid\", \"br\\u00f8daf\", \"b\\u00e6gtehimmelbr\\u00f8d\", \"ki\\u00f8dskjul\"], \"Total\": [9434.0, 2059.0, 6606.0, 4814.0, 5774.0, 10871.0, 3873.0, 3225.0, 9854.0, 3270.0, 2415.0, 1428.0, 2927.0, 1810.0, 3125.0, 736.0, 921.0, 2483.0, 2590.0, 6005.0, 3230.0, 5233.0, 1810.0, 2510.0, 2000.0, 1016.0, 3373.0, 2471.0, 1170.0, 1334.0, 136.13265991210938, 133.23263549804688, 109.1330795288086, 98.34440612792969, 101.56532287597656, 87.47554016113281, 76.29080200195312, 74.76013946533203, 72.526123046875, 72.27710723876953, 61.755191802978516, 61.456695556640625, 59.349361419677734, 97.19712829589844, 56.29579162597656, 56.05177688598633, 54.85829544067383, 52.150291442871094, 51.49190902709961, 50.341400146484375, 50.01482391357422, 49.96683120727539, 47.465702056884766, 46.972015380859375, 46.882347106933594, 46.74241256713867, 45.68669509887695, 44.781944274902344, 43.92599105834961, 43.33677673339844, 67.35838317871094, 48.258174896240234, 433.7324523925781, 230.5392303466797, 397.3681640625, 132.83316040039062, 203.32125854492188, 110.9085693359375, 219.76394653320312, 209.73243713378906, 2059.109130859375, 386.4662780761719, 1428.5438232421875, 178.69679260253906, 377.5608215332031, 1810.8221435546875, 1226.9736328125, 209.39170837402344, 604.3212280273438, 198.24667358398438, 844.333251953125, 429.3811340332031, 1070.662109375, 472.9234313964844, 856.3720703125, 4208.69140625, 438.00677490234375, 10871.474609375, 3663.045166015625, 554.1210327148438, 2051.140625, 6723.02880859375, 5605.5322265625, 2255.375244140625, 668.0921020507812, 9434.892578125, 6005.22021484375, 2357.818115234375, 5467.1435546875, 2310.89697265625, 1531.014892578125, 5797.177734375, 2295.496337890625, 1637.234130859375, 3831.846435546875, 9854.6142578125, 3920.368408203125, 3178.033447265625, 3473.29541015625, 5255.8505859375, 2274.256103515625, 6791.185546875, 4234.97802734375, 2262.153076171875, 3447.992431640625, 5233.9423828125, 3301.188232421875, 2616.20654296875, 5774.76220703125, 2848.13427734375, 3662.567138671875, 2855.09423828125, 2791.632568359375, 4120.22314453125, 3373.58740234375, 3776.31982421875, 579.47265625, 436.81341552734375, 477.03350830078125, 329.82525634765625, 273.11822509765625, 197.32493591308594, 166.11672973632812, 154.93865966796875, 152.57513427734375, 151.83262634277344, 147.2550048828125, 126.2011947631836, 123.13843536376953, 119.05857849121094, 108.52657318115234, 107.01280975341797, 98.15289306640625, 95.72053527832031, 93.8675537109375, 85.69178771972656, 81.7166748046875, 80.70118713378906, 79.45497131347656, 77.45037841796875, 74.0162582397461, 73.57601928710938, 67.17093658447266, 65.62796783447266, 61.59746551513672, 61.360355377197266, 423.1093444824219, 320.4323425292969, 191.6356658935547, 86.65757751464844, 513.835205078125, 198.25051879882812, 1232.8343505859375, 360.862548828125, 254.79443359375, 219.51927185058594, 134.75022888183594, 1407.9317626953125, 199.34410095214844, 3125.42822265625, 1514.949462890625, 1291.672119140625, 907.158447265625, 473.2052001953125, 1560.2391357421875, 497.399169921875, 1140.1119384765625, 792.9962158203125, 2471.25732421875, 1590.851318359375, 505.37200927734375, 1122.629638671875, 627.0040893554688, 874.1104125976562, 5774.76220703125, 2272.7294921875, 921.1292114257812, 10871.474609375, 4814.59423828125, 3373.58740234375, 6005.22021484375, 1909.8817138671875, 2590.417724609375, 6723.02880859375, 9854.6142578125, 6791.185546875, 2510.19091796875, 6606.62353515625, 3920.368408203125, 3776.31982421875, 5255.8505859375, 2326.328125, 5605.5322265625, 2330.817138671875, 5467.1435546875, 3873.70947265625, 4234.97802734375, 5797.177734375, 2855.09423828125, 249.24774169921875, 238.25588989257812, 205.92404174804688, 211.3204803466797, 166.03506469726562, 157.84828186035156, 142.5321044921875, 145.14755249023438, 129.9532470703125, 124.45176696777344, 113.62837982177734, 109.30170440673828, 107.00321197509766, 105.7080307006836, 105.32927703857422, 105.12767028808594, 103.22150421142578, 102.17247772216797, 115.7819595336914, 100.84052276611328, 100.66201782226562, 99.49954223632812, 89.49725341796875, 87.88175201416016, 86.24373626708984, 85.22350311279297, 84.58496856689453, 83.48283386230469, 83.13851165771484, 80.82164764404297, 184.1133270263672, 272.468994140625, 208.5352783203125, 345.34344482421875, 528.94677734375, 135.99375915527344, 127.10000610351562, 257.1470031738281, 171.169189453125, 244.27687072753906, 214.5236053466797, 1500.162353515625, 577.38330078125, 333.08416748046875, 252.7283172607422, 228.55796813964844, 168.32333374023438, 659.9073486328125, 207.80368041992188, 309.8882751464844, 232.64524841308594, 536.204833984375, 662.7386474609375, 3225.055419921875, 389.6497497558594, 1915.15966796875, 1683.044677734375, 816.6188354492188, 1145.410888671875, 1505.427001953125, 4120.22314453125, 774.4944458007812, 3776.31982421875, 5233.9423828125, 6791.185546875, 5255.8505859375, 1513.4088134765625, 3662.567138671875, 9854.6142578125, 5797.177734375, 1618.845703125, 2079.694580078125, 1527.4324951171875, 1561.080078125, 5467.1435546875, 4234.97802734375, 1843.2911376953125, 5605.5322265625, 2848.13427734375, 2110.07470703125, 3663.045166015625, 3230.657958984375, 2940.355224609375, 2616.20654296875, 3831.846435546875, 4208.69140625, 79.58457946777344, 77.07636260986328, 57.709529876708984, 53.156333923339844, 70.75736999511719, 39.3275260925293, 36.056556701660156, 36.0370979309082, 31.43590545654297, 29.60723304748535, 29.239290237426758, 27.592601776123047, 26.03746223449707, 24.399744033813477, 24.09465789794922, 24.002853393554688, 23.93463897705078, 22.80594825744629, 22.460166931152344, 21.69764518737793, 21.42386245727539, 21.005102157592773, 20.776857376098633, 20.7283992767334, 18.80950927734375, 18.45134735107422, 18.40968894958496, 18.406354904174805, 18.283262252807617, 18.1884822845459, 39.84004592895508, 18.453903198242188, 38.23583221435547, 42.37989044189453, 74.13915252685547, 27.274017333984375, 155.23785400390625, 76.79228210449219, 36.451725006103516, 38.84721374511719, 291.98773193359375, 76.64921569824219, 214.7978515625, 126.09590148925781, 9434.892578125, 232.4352264404297, 264.6839294433594, 86.37680053710938, 236.3018341064453, 401.1092834472656, 158.6470184326172, 670.1148681640625, 99.73265838623047, 636.8402709960938, 694.1255493164062, 183.79994201660156, 771.5966796875, 1170.13623046875, 885.7006225585938, 6606.62353515625, 10871.474609375, 2000.3077392578125, 229.2935333251953, 6005.22021484375, 5233.9423828125, 5797.177734375, 1004.294921875, 6791.185546875, 9854.6142578125, 3473.29541015625, 3873.70947265625, 2110.07470703125, 534.0721435546875, 2310.89697265625, 2262.153076171875, 1604.58984375, 2415.87744140625, 5467.1435546875, 6723.02880859375, 3270.461181640625, 4120.22314453125, 2471.25732421875, 39.388099670410156, 26.531091690063477, 24.787010192871094, 22.052743911743164, 20.90651512145996, 16.390748977661133, 15.559039115905762, 14.506074905395508, 14.445953369140625, 14.250519752502441, 14.487100601196289, 13.125781059265137, 12.767992973327637, 12.532978057861328, 12.476759910583496, 12.389934539794922, 12.110581398010254, 12.04797077178955, 11.973540306091309, 11.960156440734863, 11.931977272033691, 11.888278007507324, 11.863153457641602, 11.777152061462402, 11.730557441711426, 11.72935676574707, 11.551715850830078, 11.537064552307129, 11.517666816711426, 11.374229431152344, 13.164899826049805, 80.01268005371094, 13.726091384887695, 97.67771911621094, 21.11483383178711, 34.85541534423828, 75.81686401367188, 38.87262725830078, 6606.62353515625, 1004.294921875, 257.3855285644531, 958.3775634765625, 2415.87744140625, 118.98738098144531, 721.238037109375, 104.29842376708984, 39.62684631347656, 770.726806640625, 260.09649658203125, 22.99432373046875, 4814.59423828125, 1810.635009765625, 593.248779296875, 486.72698974609375, 249.0157012939453, 75.78107452392578, 86.97369384765625, 2927.75439453125, 522.5333862304688, 464.327392578125, 895.2078247070312, 443.94305419921875, 1604.58984375, 823.1761474609375, 971.77978515625, 9434.892578125, 3230.657958984375, 667.1592407226562, 1119.422607421875, 2000.3077392578125, 5774.76220703125, 629.2122802734375, 3270.461181640625, 9854.6142578125, 1004.4124755859375, 3873.70947265625, 3373.58740234375, 2290.44580078125, 1613.9830322265625, 1334.2945556640625, 2357.818115234375, 10871.474609375, 2053.08203125, 2590.417724609375, 5233.9423828125, 47.571022033691406, 47.3665657043457, 36.57312774658203, 36.244873046875, 31.91681480407715, 30.996307373046875, 28.20654296875, 28.126850128173828, 27.543113708496094, 27.35930633544922, 26.753650665283203, 26.131359100341797, 24.858726501464844, 24.63547706604004, 24.082263946533203, 23.563199996948242, 23.450380325317383, 21.823562622070312, 21.286209106445312, 21.193262100219727, 21.17701530456543, 20.972877502441406, 20.42340087890625, 20.041563034057617, 19.453794479370117, 19.319751739501953, 19.220531463623047, 18.807159423828125, 18.718875885009766, 18.662809371948242, 52.20927047729492, 31.94380760192871, 38.34251022338867, 115.26423645019531, 49.35432815551758, 374.9132385253906, 24.688756942749023, 150.5696563720703, 166.66134643554688, 155.3906707763672, 37.63560485839844, 324.41375732421875, 3225.055419921875, 161.5564727783203, 89.22171020507812, 116.11597442626953, 109.18567657470703, 68.33921813964844, 79.35332489013672, 311.119140625, 85.02323913574219, 360.3324279785156, 9434.892578125, 76.57141876220703, 443.6361083984375, 827.4623413085938, 201.93380737304688, 1260.7325439453125, 384.9580993652344, 661.1334228515625, 5233.9423828125, 319.7695007324219, 174.3164520263672, 2110.07470703125, 1428.5438232421875, 1527.4324951171875, 1513.4088134765625, 1300.91845703125, 446.0257568359375, 3473.29541015625, 3230.657958984375, 389.96881103515625, 1915.15966796875, 1309.1905517578125, 4814.59423828125, 9854.6142578125, 1145.410888671875, 1561.080078125, 1183.953857421875, 1364.7943115234375, 10871.474609375, 958.3775634765625, 2079.694580078125, 2059.109130859375, 1822.1009521484375, 3301.188232421875, 45.887454986572266, 30.24610710144043, 26.00925064086914, 23.400814056396484, 19.170225143432617, 18.568126678466797, 16.936349868774414, 16.895145416259766, 16.717422485351562, 16.08597183227539, 15.980020523071289, 15.785673141479492, 15.772475242614746, 15.2589111328125, 15.195679664611816, 15.193370819091797, 15.152013778686523, 15.150248527526855, 15.114670753479004, 14.865113258361816, 14.830708503723145, 14.733075141906738, 14.690154075622559, 14.509904861450195, 14.194005966186523, 13.779963493347168, 13.547183990478516, 13.290069580078125, 13.223713874816895, 13.13315200805664, 71.43531036376953, 24.627197265625, 88.81310272216797, 524.2610473632812, 31.51192855834961, 32.543800354003906, 1170.13623046875, 59.31779479980469, 57.215736389160156, 311.119140625, 79.71758270263672, 9434.892578125, 87.00759887695312, 308.3149719238281, 6606.62353515625, 260.5268249511719, 75.4185562133789, 771.5966796875, 971.77978515625, 267.2253112792969, 788.1184692382812, 831.7805786132812, 233.81472778320312, 248.3313446044922, 462.8724365234375, 264.78155517578125, 286.60614013671875, 1183.953857421875, 9854.6142578125, 1300.0865478515625, 3473.29541015625, 4814.59423828125, 1810.635009765625, 3125.42822265625, 514.14404296875, 2415.87744140625, 827.4623413085938, 10871.474609375, 2927.75439453125, 479.1752014160156, 6005.22021484375, 2000.3077392578125, 5233.9423828125, 6723.02880859375, 5797.177734375, 5467.1435546875, 1289.225830078125, 3225.055419921875, 5774.76220703125, 30.39784049987793, 30.146230697631836, 30.146230697631836, 24.074853897094727, 23.115798950195312, 22.541757583618164, 19.760009765625, 15.708658218383789, 15.19959831237793, 13.380934715270996, 12.083840370178223, 11.98896312713623, 11.767596244812012, 11.759454727172852, 11.461014747619629, 11.26452922821045, 11.1665678024292, 11.066393852233887, 10.829304695129395, 10.80513858795166, 10.6078519821167, 10.567164421081543, 10.463932991027832, 10.66467571258545, 9.794698715209961, 9.592241287231445, 9.553491592407227, 9.390373229980469, 9.289115905761719, 9.232508659362793, 110.3862533569336, 391.0624084472656, 30.473346710205078, 24.61125946044922, 43.382606506347656, 362.31756591796875, 1170.13623046875, 57.20730209350586, 971.77978515625, 295.6043395996094, 770.726806640625, 126.25405883789062, 479.1752014160156, 178.41590881347656, 6606.62353515625, 264.78155517578125, 325.0084533691406, 895.2078247070312, 1334.2945556640625, 3873.70947265625, 629.2122802734375, 242.66261291503906, 667.1592407226562, 489.5780029296875, 3270.461181640625, 203.47421264648438, 1119.422607421875, 1810.635009765625, 5774.76220703125, 462.8724365234375, 2000.3077392578125, 2415.87744140625, 2483.155029296875, 2927.75439453125, 9434.892578125, 2110.07470703125, 593.248779296875, 4814.59423828125, 852.7106323242188, 2590.46044921875, 9854.6142578125, 1604.58984375, 1138.865966796875, 10871.474609375, 2791.632568359375, 5233.9423828125, 4120.22314453125, 68.95872497558594, 31.77736473083496, 57.535438537597656, 24.187286376953125, 23.63701820373535, 23.11757469177246, 21.91188621520996, 21.49720001220703, 18.774450302124023, 18.368274688720703, 17.75589370727539, 17.47780418395996, 16.408096313476562, 15.98742389678955, 14.609813690185547, 14.236533164978027, 14.236533164978027, 13.786810874938965, 13.552887916564941, 36.356597900390625, 12.777763366699219, 12.421367645263672, 12.421367645263672, 12.421367645263672, 12.421367645263672, 11.51378345489502, 11.031729698181152, 10.606201171875, 10.606200218200684, 10.606200218200684, 32.536521911621094, 37.17574691772461, 55.477596282958984, 528.2669677734375, 109.73712921142578, 22.022010803222656, 42.511138916015625, 148.10585021972656, 36.207645416259766, 107.43933868408203, 51.5080680847168, 85.05134582519531, 209.26637268066406, 45.49871063232422, 74.57195281982422, 46.19883346557617, 340.4815979003906, 128.09884643554688, 286.9598083496094, 150.44760131835938, 921.1292114257812, 264.6839294433594, 328.7630920410156, 231.63685607910156, 82.65625, 231.36373901367188, 196.7242889404297, 143.67149353027344, 114.63300323486328, 149.34642028808594, 188.21714782714844, 132.63726806640625, 1016.4967041015625, 594.9752807617188, 149.78390502929688, 1042.4522705078125, 536.7024536132812, 1334.2945556640625, 193.91473388671875, 527.1580810546875, 344.86932373046875, 2510.19091796875, 87.25576782226562, 70.68563842773438, 61.509315490722656, 57.79212188720703, 43.72352981567383, 89.41999053955078, 38.026878356933594, 34.6254768371582, 33.91605758666992, 29.618249893188477, 28.63467025756836, 27.86903953552246, 26.939531326293945, 26.604434967041016, 24.0433292388916, 23.355106353759766, 23.23468780517578, 22.774248123168945, 23.494319915771484, 21.828948974609375, 26.91162872314453, 17.464147567749023, 16.598312377929688, 16.178112030029297, 15.99026107788086, 15.74672794342041, 14.77632999420166, 14.642147064208984, 14.117653846740723, 14.03564453125, 80.7519760131836, 82.90401458740234, 44.56171417236328, 78.67588806152344, 50.138797760009766, 82.38296508789062, 89.15824890136719, 124.17244720458984, 736.0535278320312, 58.99744415283203, 368.5359191894531, 156.2600860595703, 149.6121063232422, 80.53485870361328, 42.850341796875, 326.3955078125, 156.953857421875, 670.1148681640625, 274.1692199707031, 81.98302459716797, 71.01742553710938, 326.902587890625, 407.65966796875, 81.95091247558594, 412.6603088378906, 112.5232925415039, 555.39794921875, 133.94601440429688, 775.3780517578125, 1810.8221435546875, 446.0257568359375, 1137.0426025390625, 2590.46044921875, 355.1268310546875, 805.8593139648438, 15.564163208007812, 13.339628219604492, 13.312180519104004, 12.300841331481934, 11.930614471435547, 11.636883735656738, 11.34592342376709, 11.233879089355469, 11.509047508239746, 10.165637969970703, 9.94141960144043, 9.427937507629395, 9.412757873535156, 9.280625343322754, 9.138090133666992, 9.1143217086792, 9.101836204528809, 8.918303489685059, 8.880372047424316, 8.815513610839844, 8.814748764038086, 8.795130729675293, 8.66968822479248, 8.502062797546387, 8.453877449035645, 8.317630767822266, 8.314885139465332, 8.263627052307129, 8.052648544311523, 7.959000110626221, 15.47457218170166, 11.448472023010254, 16.085174560546875, 26.95368194580078, 41.279441833496094, 17.744367599487305, 391.0624084472656, 31.04361915588379, 21.228628158569336, 27.545141220092773, 295.6043395996094, 3270.461181640625, 356.4359436035156, 6606.62353515625, 395.2555847167969, 325.0084533691406, 2483.155029296875, 1119.422607421875, 629.2122802734375, 831.7805786132812, 3873.70947265625, 9434.892578125, 1780.0709228515625, 462.8724365234375, 10871.474609375, 274.42413330078125, 4814.59423828125, 2927.75439453125, 1334.2945556640625, 267.2253112792969, 895.2078247070312, 5774.76220703125, 1810.635009765625, 1972.17724609375, 2000.3077392578125, 1867.079345703125, 793.5791015625, 971.77978515625, 5233.9423828125, 2053.08203125, 9854.6142578125, 2791.632568359375, 45.85224533081055, 44.43655014038086, 37.93680191040039, 35.373016357421875, 27.810895919799805, 25.589740753173828, 25.155521392822266, 25.06178092956543, 20.353899002075195, 17.916080474853516, 16.6066951751709, 13.879743576049805, 12.974411964416504, 12.881827354431152, 12.447599411010742, 12.422998428344727, 11.67276382446289, 11.560422897338867, 11.543734550476074, 11.46724796295166, 33.54615783691406, 10.677027702331543, 10.263457298278809, 10.127970695495605, 10.037718772888184, 44.438968658447266, 9.661581039428711, 9.659839630126953, 9.55363655090332, 9.435249328613281, 38.14371109008789, 17.013690948486328, 14.359079360961914, 53.23529052734375, 63.540260314941406, 274.1692199707031, 45.83289337158203, 121.95401000976562, 27.451499938964844, 229.2935333251953, 326.902587890625, 50.411373138427734, 670.1148681640625, 138.85867309570312, 407.65966796875, 232.4352264404297, 786.9005126953125, 368.5359191894531, 149.0221710205078, 163.94654846191406, 114.63300323486328, 594.9752807617188, 6606.62353515625, 9434.892578125, 1700.1405029296875, 2000.3077392578125, 183.79994201660156, 1810.8221435546875, 1016.4967041015625, 281.3005676269531, 40.91408157348633, 30.53911018371582, 16.308956146240234, 13.198517799377441, 13.142258644104004, 12.176610946655273, 11.877738952636719, 11.87230396270752, 10.460932731628418, 9.228879928588867, 8.589653968811035, 8.589653968811035, 8.589653968811035, 8.344267845153809, 8.267539978027344, 7.937860012054443, 7.830474376678467, 7.6490278244018555, 7.460329532623291, 6.954093933105469, 6.671863555908203, 6.671863555908203, 6.555750846862793, 6.352090835571289, 6.324560165405273, 6.324041366577148, 6.318881034851074, 6.291107654571533, 6.159790515899658, 6.159790515899658, 6.159790515899658, 32.56010055541992, 56.86994552612305, 31.16753387451172, 15.33578109741211, 196.1598663330078, 271.13055419921875, 3873.70947265625, 39.1541862487793, 100.43697357177734, 457.2314453125, 360.3324279785156, 605.0306396484375, 77.01190948486328, 13.89162826538086, 8.60688304901123, 6.295336723327637, 5.613537788391113, 5.452701568603516, 5.060408592224121, 4.953710556030273, 4.162487506866455, 3.8394341468811035, 3.8394341468811035, 3.703021764755249, 7.041903018951416, 3.494579792022705, 3.4884281158447266, 3.4272332191467285, 3.4065723419189453, 3.1961045265197754, 3.1961045265197754, 3.195572853088379, 3.123114585876465, 3.05802845954895, 3.05802845954895, 2.9867682456970215, 2.8450984954833984, 2.8450984954833984, 2.8450984954833984, 2.8292236328125, 2.8055810928344727, 2.782240152359009, 2.782240390777588, 7.507631778717041, 5.6454949378967285, 13.060190200805664, 59.11016082763672, 138.83026123046875, 18.355857849121094, 7.084052085876465, 2059.109130859375, 43.393585205078125, 51.848419189453125, 12.008097648620605, 8.472554206848145, 51.57770538330078, 1428.5438232421875, 98.22822570800781, 497.3957214355469, 730.475341796875, 1119.422607421875, 24.032012939453125, 157.8080291748047, 95.09391021728516, 457.2314453125, 80.9661636352539, 100.82205200195312, 4.913374423980713, 4.055257320404053, 4.055257320404053, 3.936598062515259, 2.967144012451172, 2.768080234527588, 2.724719762802124, 2.3528013229370117, 2.339021921157837, 2.339021921157837, 2.246934175491333, 2.246933937072754, 2.246933937072754, 2.246934175491333, 2.1843156814575195, 2.16886830329895, 2.16886830329895, 2.080594778060913, 2.000382661819458, 1.9237439632415771, 1.9099631309509277, 1.9099631309509277, 1.9099631309509277, 1.909963607788086, 1.7552567720413208, 1.7299162149429321, 1.7299166917800903, 1.6967660188674927, 1.6504992246627808, 1.6493898630142212, 1.6493897438049316, 1.6493898630142212, 1.6493898630142212, 1.6493898630142212, 1.649390459060669, 1.6493898630142212, 32.56010055541992, 80.55338287353516, 5.549587726593018, 6.937121868133545, 9.912857055664062, 6.56531286239624, 6.1630539894104, 5.104366302490234, 4.571264743804932, 3.9579479694366455, 4.053940773010254, 3.8976709842681885, 3.6243276596069336, 3.620619773864746, 3.4598543643951416, 3.4579153060913086, 3.4204049110412598, 3.4151439666748047, 3.2383499145507812, 3.2112209796905518, 3.146040678024292, 3.052116632461548, 3.0044562816619873, 2.9776291847229004, 2.977327585220337, 2.950798988342285, 2.9034600257873535, 2.9034600257873535, 2.9034600257873535, 2.8512306213378906, 2.84369158744812, 2.8344433307647705, 2.802581310272217, 2.8018226623535156, 6.369316577911377, 18.12858009338379, 4.662514686584473, 5.732203483581543, 5.037978172302246, 4.688606262207031, 3.3158347606658936, 3.0579891204833984, 2.910517454147339, 2.648986577987671, 2.647320508956909, 2.5890512466430664, 2.4399139881134033, 2.4130020141601562, 2.3385844230651855, 2.3385848999023438, 2.3385844230651855, 2.3385848999023438, 2.3385848999023438, 2.3385848999023438, 2.3385848999023438, 2.3385848999023438, 2.2651219367980957, 2.178382635116577, 2.1026008129119873, 2.0756890773773193, 2.0171189308166504, 2.0012714862823486, 2.0012714862823486, 1.8978527784347534, 1.8558557033538818, 1.8410693407058716, 1.8061014413833618, 2.486750602722168, 9.127251625061035, 4.244741916656494, 4.126209259033203, 3.9584856033325195, 3.6797568798065186, 3.5925345420837402, 3.4805967807769775, 3.316019058227539, 3.2748517990112305, 3.1963346004486084, 3.1747281551361084, 31.065624237060547, 3.0820932388305664, 3.06699800491333, 2.848341464996338, 2.585768699645996, 2.5820326805114746, 2.5084028244018555, 2.465546131134033, 2.4648680686950684, 2.450545310974121, 2.404428482055664, 2.3995208740234375, 2.3995211124420166, 2.3995211124420166, 2.253610134124756, 2.2415390014648438, 2.1665408611297607, 2.0978801250457764, 2.0978801250457764, 3.2979207038879395, 5.773784160614014, 24.61125946044922, 4.391295909881592, 59.00960922241211, 65.52482604980469, 3.845442771911621, 127.36984252929688, 6.507136344909668, 2.8685479164123535, 2.3813610076904297, 2.302607536315918, 2.2795844078063965, 2.1519103050231934, 1.6918485164642334, 1.5944442749023438, 1.525870442390442, 1.5258703231811523, 1.5258710384368896, 1.4545974731445312, 1.452677607536316, 1.452677607536316, 1.4396390914916992, 1.3602991104125977, 1.353407859802246, 1.3141833543777466, 1.2866995334625244, 1.2866995334625244, 1.2436017990112305, 1.23443603515625, 1.23443603515625, 1.1743364334106445, 1.148772954940796, 1.1338143348693848, 1.1338144540786743, 1.108250379562378, 1.108250379562378, 1.0945897102355957, 1.0945898294448853, 1.0945897102355957, 10.932509422302246, 4.213204383850098, 14.95307731628418, 2.0788886547088623, 1.8456981182098389, 1.6485538482666016, 1.608737826347351, 1.5232203006744385, 1.4377714395523071, 1.4117555618286133, 1.381216049194336, 1.3661785125732422, 1.3363306522369385, 1.3336577415466309, 1.325774908065796, 1.325774908065796, 1.2866673469543457, 1.2717511653900146, 1.2717528343200684, 1.2547110319137573, 1.2182931900024414, 1.2181326150894165, 1.2012536525726318, 1.2006869316101074, 1.1472294330596924, 1.146662950515747, 1.146662950515747, 1.146662950515747, 1.146662950515747, 1.146662950515747, 1.146662950515747, 1.146662950515747, 1.146662950515747, 1.146662950515747, 1.146662950515747, 1.146662950515747, 1.146662950515747, 1.146662950515747, 1.146662950515747, 1.146662950515747, 1.146662950515747], \"loglift\": [30.0, 29.0, 28.0, 27.0, 26.0, 25.0, 24.0, 23.0, 22.0, 21.0, 20.0, 19.0, 18.0, 17.0, 16.0, 15.0, 14.0, 13.0, 12.0, 11.0, 10.0, 9.0, 8.0, 7.0, 6.0, 5.0, 4.0, 3.0, 2.0, 1.0, 0.9578999876976013, 0.9577999711036682, 0.9567999839782715, 0.9562000036239624, 0.9560999870300293, 0.9555000066757202, 0.9545000195503235, 0.9542999863624573, 0.9541000127792358, 0.9541000127792358, 0.9527999758720398, 0.9527000188827515, 0.9524000287055969, 0.9519000053405762, 0.9519000053405762, 0.9517999887466431, 0.9516000151634216, 0.9509999752044678, 0.9508000016212463, 0.9506999850273132, 0.9506000280380249, 0.9506000280380249, 0.949999988079071, 0.9498000144958496, 0.9498000144958496, 0.9498000144958496, 0.9495000243186951, 0.9491999745368958, 0.9490000009536743, 0.9488000273704529, 0.9470000267028809, 0.9480999708175659, 0.9261000156402588, 0.9323999881744385, 0.9161999821662903, 0.9336000084877014, 0.9240999817848206, 0.9327999949455261, 0.9175000190734863, 0.9023000001907349, 0.8098000288009644, 0.8623999953269958, 0.7894999980926514, 0.8913999795913696, 0.8371000289916992, 0.7168999910354614, 0.7440999746322632, 0.8650000095367432, 0.7868000268936157, 0.8654999732971191, 0.7491000294685364, 0.8003000020980835, 0.7038000226020813, 0.7770000100135803, 0.7042999863624573, 0.5133000016212463, 0.7703999876976013, 0.38179999589920044, 0.5056999921798706, 0.739799976348877, 0.5680000185966492, 0.4090000092983246, 0.4277999997138977, 0.5498999953269958, 0.7105000019073486, 0.3361999988555908, 0.3986999988555908, 0.5310999751091003, 0.3756999969482422, 0.5113999843597412, 0.5773000121116638, 0.3384999930858612, 0.49779999256134033, 0.553600013256073, 0.37880000472068787, 0.1868000030517578, 0.3686999976634979, 0.40470001101493835, 0.3833000063896179, 0.2842000126838684, 0.47699999809265137, 0.16830000281333923, 0.2937999963760376, 0.4625999927520752, 0.334199994802475, 0.19609999656677246, 0.32359999418258667, 0.4027000069618225, 0.011599999852478504, 0.3605000078678131, 0.218299999833107, 0.3483000099658966, 0.36059999465942383, 0.07349999994039536, 0.19480000436306, 0.04960000142455101, 1.6693999767303467, 1.669100046157837, 1.6686999797821045, 1.6686999797821045, 1.6683000326156616, 1.6675000190734863, 1.6670000553131104, 1.666700005531311, 1.666700005531311, 1.666700005531311, 1.666599988937378, 1.6658999919891357, 1.6657999753952026, 1.6655999422073364, 1.6651999950408936, 1.6650999784469604, 1.6646000146865845, 1.6644999980926514, 1.6642999649047852, 1.6638000011444092, 1.6634000539779663, 1.6634000539779663, 1.6632000207901, 1.663100004196167, 1.6627000570297241, 1.6627000570297241, 1.6619000434875488, 1.6617000102996826, 1.6611000299453735, 1.6611000299453735, 1.6550999879837036, 1.656599998474121, 1.6575000286102295, 1.6608999967575073, 1.6125999689102173, 1.6368999481201172, 1.5592999458312988, 1.6081000566482544, 1.6205999851226807, 1.6208000183105469, 1.642300009727478, 1.5228999853134155, 1.6139999628067017, 1.410599946975708, 1.465000033378601, 1.4709999561309814, 1.4871000051498413, 1.5434999465942383, 1.4177000522613525, 1.5154999494552612, 1.419600009918213, 1.4581999778747559, 1.2971999645233154, 1.3346999883651733, 1.4744000434875488, 1.3086999654769897, 1.3990000486373901, 1.3258999586105347, 0.8388000130653381, 1.029099941253662, 1.2066999673843384, 0.45809999108314514, 0.7023000121116638, 0.7656999826431274, 0.5443999767303467, 0.9648000001907349, 0.816100001335144, 0.40230000019073486, 0.21150000393390656, 0.35690000653266907, 0.7226999998092651, 0.22089999914169312, 0.49140000343322754, 0.5108000040054321, 0.2872999906539917, 0.7305999994277954, 0.15230000019073486, 0.7074999809265137, 0.03099999949336052, 0.29679998755455017, 0.2215999960899353, -0.053599998354911804, 0.545799970626831, 1.7907999753952026, 1.7905999422073364, 1.7903000116348267, 1.7899999618530273, 1.7896000146865845, 1.7893999814987183, 1.7890000343322754, 1.7889000177383423, 1.788599967956543, 1.7884999513626099, 1.7879999876022339, 1.7877999544143677, 1.7877000570297241, 1.787600040435791, 1.787600040435791, 1.787600040435791, 1.787500023841858, 1.7874000072479248, 1.7874000072479248, 1.7874000072479248, 1.7874000072479248, 1.7872999906539917, 1.7867000102996826, 1.7864999771118164, 1.7863999605178833, 1.7862999439239502, 1.7862999439239502, 1.7862000465393066, 1.7862000465393066, 1.7860000133514404, 1.7842999696731567, 1.779099941253662, 1.778499960899353, 1.7655999660491943, 1.7526999711990356, 1.7795000076293945, 1.7783000469207764, 1.7490999698638916, 1.7652000188827515, 1.743399977684021, 1.7496999502182007, 1.6068999767303467, 1.6683000326156616, 1.698099970817566, 1.7194000482559204, 1.7199000120162964, 1.742400050163269, 1.5435999631881714, 1.7026000022888184, 1.6259000301361084, 1.670199990272522, 1.5113999843597412, 1.4336999654769897, 1.070199966430664, 1.5276000499725342, 1.1033999919891357, 1.128000020980835, 1.3049999475479126, 1.186400055885315, 1.0860999822616577, 0.7407000064849854, 1.2740000486373901, 0.5123000144958496, 0.3343000113964081, 0.20669999718666077, 0.2678000032901764, 0.8438000082969666, 0.41339999437332153, -0.10019999742507935, 0.14890000224113464, 0.7960000038146973, 0.6621000170707703, 0.8172000050544739, 0.7930999994277954, 0.10450000315904617, 0.24330000579357147, 0.6991000175476074, 0.018400000408291817, 0.42809998989105225, 0.599399983882904, 0.1485999971628189, 0.2224999964237213, 0.29350000619888306, 0.3343999981880188, -0.019099999219179153, -0.13449999690055847, 3.1542000770568848, 3.1540000438690186, 3.151400089263916, 3.1505000591278076, 3.149600028991699, 3.1466000080108643, 3.1452999114990234, 3.1452999114990234, 3.1428000926971436, 3.1415998935699463, 3.141400098800659, 3.140000104904175, 3.1389000415802, 3.137399911880493, 3.1370999813079834, 3.13700008392334, 3.136899948120117, 3.1356000900268555, 3.135200023651123, 3.1342999935150146, 3.1338999271392822, 3.1333999633789062, 3.1331000328063965, 3.132999897003174, 3.130000114440918, 3.1294000148773193, 3.129300117492676, 3.129300117492676, 3.1291000843048096, 3.1289000511169434, 3.122299909591675, 3.1285998821258545, 3.0838000774383545, 3.0764999389648438, 3.031100034713745, 3.093600034713745, 2.9189000129699707, 2.984800100326538, 3.0596001148223877, 3.0478999614715576, 2.7065999507904053, 2.924099922180176, 2.4672000408172607, 2.618000030517578, 1.2488000392913818, 2.415600061416626, 2.3403000831604004, 2.7042999267578125, 2.3269999027252197, 2.121000051498413, 2.4426000118255615, 1.8417999744415283, 2.5971999168395996, 1.7217999696731567, 1.6700999736785889, 2.300100088119507, 1.5679999589920044, 1.3492000102996826, 1.4905999898910522, 0.22120000422000885, -0.09600000083446503, 0.8312000036239624, 2.103300094604492, 0.039500001817941666, 0.10750000178813934, 0.02160000056028366, 1.1332000494003296, -0.2125999927520752, -0.49000000953674316, 0.14180000126361847, 0.03530000150203705, 0.4702000021934509, 1.5187000036239624, 0.38749998807907104, 0.3643999993801117, 0.607699990272522, 0.25600001215934753, -0.43950000405311584, -0.6807000041007996, -0.0820000022649765, -0.30869999527931213, 0.1687999963760376, 3.2946999073028564, 3.287400007247925, 3.285799980163574, 3.282900094985962, 3.281399965286255, 3.2734999656677246, 3.2716000080108643, 3.268699884414673, 3.2685999870300293, 3.2679998874664307, 3.267899990081787, 3.264400005340576, 3.2630999088287354, 3.262200117111206, 3.26200008392334, 3.2616000175476074, 3.260499954223633, 3.260200023651123, 3.2599000930786133, 3.2599000930786133, 3.259700059890747, 3.259500026702881, 3.259399890899658, 3.2590999603271484, 3.2588999271392822, 3.2588999271392822, 3.2581000328063965, 3.257999897003174, 3.2578999996185303, 3.257200002670288, 3.2465999126434326, 3.0078001022338867, 3.2358999252319336, 2.897700071334839, 3.1364998817443848, 3.024600028991699, 2.843899965286255, 2.989500045776367, 1.7105000019073486, 2.1384999752044678, 2.4800000190734863, 2.11680006980896, 1.8496999740600586, 2.6514999866485596, 2.1619999408721924, 2.682800054550171, 2.9453001022338867, 2.1041998863220215, 2.3733999729156494, 3.083699941635132, 1.4143999814987183, 1.6891000270843506, 2.04010009765625, 2.024399995803833, 2.2634999752044678, 2.680999994277954, 2.624799966812134, 1.3148000240325928, 1.9595999717712402, 1.9955999851226807, 1.6973999738693237, 1.9767999649047852, 1.44350004196167, 1.7204999923706055, 1.6349999904632568, 0.6219000220298767, 1.0831999778747559, 1.7450000047683716, 1.4953999519348145, 1.183500051498413, 0.5875999927520752, 1.7649999856948853, 0.8590999841690063, 0.24660000205039978, 1.4931999444961548, 0.6373999714851379, 0.5924000144004822, 0.824999988079071, 1.080399990081787, 1.208299994468689, 0.7505000233650208, -0.6669999957084656, 0.7793999910354614, 0.5564000010490417, -0.1501999944448471, 3.3124001026153564, 3.3124001026153564, 3.3087000846862793, 3.3085999488830566, 3.306299924850464, 3.305799961090088, 3.303800106048584, 3.303800106048584, 3.3034000396728516, 3.3032000064849854, 3.3027000427246094, 3.3020999431610107, 3.3010001182556152, 3.300800085067749, 3.300299882888794, 3.2997000217437744, 3.2995998859405518, 3.2976999282836914, 3.296999931335449, 3.2969000339508057, 3.2969000339508057, 3.296600103378296, 3.295799970626831, 3.295300006866455, 3.294300079345703, 3.294100046157837, 3.2939999103546143, 3.293299913406372, 3.293100118637085, 3.2929999828338623, 3.2706000804901123, 3.2699999809265137, 3.240999937057495, 3.111299991607666, 3.198699951171875, 2.8371999263763428, 3.249500036239624, 2.826200008392334, 2.7207000255584717, 2.716599941253662, 3.1226999759674072, 2.4518001079559326, 1.6927000284194946, 2.6463000774383545, 2.8357999324798584, 2.72379994392395, 2.740499973297119, 2.8935000896453857, 2.8268001079559326, 2.2462000846862793, 2.7500998973846436, 2.039900064468384, 0.2969000041484833, 2.7772998809814453, 1.8494999408721924, 1.5185999870300293, 2.254699945449829, 1.2295000553131104, 1.8661999702453613, 1.5507999658584595, 0.30480000376701355, 1.9667999744415283, 2.32069993019104, 0.7228999733924866, 0.9696000218391418, 0.9158999919891357, 0.9139000177383423, 1.0056999921798706, 1.7000999450683594, 0.2476000040769577, 0.2838999927043915, 1.7896000146865845, 0.626800000667572, 0.8956999778747559, -0.10260000079870224, -0.7864999771118164, 0.9218999743461609, 0.6557999849319458, 0.8568000197410583, 0.72079998254776, -1.1720999479293823, 1.0236999988555908, 0.2639000117778778, 0.27239999175071716, 0.39169999957084656, -0.19859999418258667, 3.322999954223633, 3.3162999153137207, 3.3125998973846436, 3.3106000423431396, 3.3048999309539795, 3.3039000034332275, 3.3006999492645264, 3.3006999492645264, 3.300299882888794, 3.2988998889923096, 3.2985999584198, 3.298099994659424, 3.298099994659424, 3.296799898147583, 3.296600103378296, 3.296600103378296, 3.2964999675750732, 3.2964999675750732, 3.2964000701904297, 3.295799970626831, 3.2957000732421875, 3.2953999042510986, 3.295300006866455, 3.294800043106079, 3.293800115585327, 3.2925000190734863, 3.291800022125244, 3.2908999919891357, 3.2906999588012695, 3.2904000282287598, 3.1270999908447266, 3.210400104522705, 3.009000062942505, 2.532099962234497, 3.1026999950408936, 3.071700096130371, 2.0975000858306885, 2.849299907684326, 2.8345000743865967, 2.2379000186920166, 2.7005999088287354, 0.8720999956130981, 2.614300012588501, 2.075000047683716, 0.8102999925613403, 2.127700090408325, 2.604099988937378, 1.5449999570846558, 1.3801000118255615, 1.9859000444412231, 1.465000033378601, 1.403499960899353, 2.024399995803833, 1.9901000261306763, 1.6682000160217285, 1.9199999570846558, 1.8531999588012695, 1.0405999422073364, -0.1881999969482422, 0.9646999835968018, 0.31859999895095825, 0.10599999874830246, 0.6765999794006348, 0.3248000144958496, 1.4646999835968018, 0.43950000405311584, 1.1441999673843384, -0.6432999968528748, 0.23190000653266907, 1.49399995803833, -0.3853999972343445, 0.3140000104904175, -0.5625, -0.8039000034332275, -0.7157999873161316, -0.6972000002861023, 0.5943999886512756, -0.2870999872684479, -0.8676999807357788, 3.356800079345703, 3.3566999435424805, 3.3566999435424805, 3.351599931716919, 3.350600004196167, 3.349900007247925, 3.346100091934204, 3.338099956512451, 3.3368000984191895, 3.3313000202178955, 3.3262999057769775, 3.325900077819824, 3.324899911880493, 3.324899911880493, 3.323499917984009, 3.322499990463257, 3.322000026702881, 3.321500062942505, 3.3203001022338867, 3.320199966430664, 3.3190999031066895, 3.3189001083374023, 3.3183000087738037, 3.315200090408325, 3.314199924468994, 3.3127999305725098, 3.3125, 3.3113999366760254, 3.310699939727783, 3.3101999759674072, 3.1991000175476074, 2.9677000045776367, 3.203399896621704, 3.177999973297119, 3.002000093460083, 2.5529000759124756, 2.2737998962402344, 2.874500036239624, 2.0671000480651855, 2.364300012588501, 2.045599937438965, 2.5840001106262207, 2.177999973297119, 2.4742000102996826, 1.3270000219345093, 2.3352999687194824, 2.2467000484466553, 1.9048999547958374, 1.7714999914169312, 1.3443000316619873, 1.970900058746338, 2.303999900817871, 1.905900001525879, 2.015899896621704, 1.24590003490448, 2.3529000282287598, 1.5980000495910645, 1.3624000549316406, 0.7835000157356262, 1.9579999446868896, 1.269700050354004, 1.1577999591827393, 1.142199993133545, 1.0561000108718872, 0.400299996137619, 1.176800012588501, 1.8131999969482422, 0.6399000287055969, 1.6086000204086304, 0.8646000027656555, -0.03700000047683716, 1.1449999809265137, 1.3502999544143677, -0.3968999981880188, 0.5426999926567078, -0.1054999977350235, 0.11469999700784683, 4.008999824523926, 4.003399848937988, 4.000500202178955, 3.9974000453948975, 3.996799945831299, 3.996299982070923, 3.994800090789795, 3.99429988861084, 3.9902000427246094, 3.9893999099731445, 3.988300085067749, 3.9876999855041504, 3.9855000972747803, 3.9837000370025635, 3.980799913406372, 3.9797000885009766, 3.9797000885009766, 3.978300094604492, 3.9774999618530273, 3.977099895477295, 3.9748001098632812, 3.973400115966797, 3.973400115966797, 3.973400115966797, 3.973400115966797, 3.969399929046631, 3.9670000076293945, 3.9647998809814453, 3.9647998809814453, 3.9647998809814453, 3.9509999752044678, 3.9426000118255615, 3.9296000003814697, 3.8322999477386475, 3.8726999759674072, 3.938800096511841, 3.887500047683716, 3.7857000827789307, 3.8884999752044678, 3.7760000228881836, 3.8422999382019043, 3.7822999954223633, 3.668600082397461, 3.8011999130249023, 3.682800054550171, 3.7607998847961426, 3.307300090789795, 3.5208001136779785, 3.3231000900268555, 3.452500104904175, 2.9433999061584473, 3.1926000118255615, 3.121999979019165, 3.190999984741211, 3.5044000148773193, 3.0961999893188477, 3.1438000202178955, 3.2701001167297363, 3.3540000915527344, 3.2300000190734863, 3.0969998836517334, 3.2411000728607178, 2.125, 2.371999979019165, 3.155900001525879, 1.8047000169754028, 2.250200033187866, 1.5419000387191772, 2.9117000102996826, 1.9372999668121338, 2.3039000034332275, 0.35830000042915344, 4.024400234222412, 4.022900104522705, 4.021699905395508, 4.021100044250488, 4.017899990081787, 4.016300201416016, 4.015999794006348, 4.014500141143799, 4.014100074768066, 4.01170015335083, 4.011000156402588, 4.010499954223633, 4.009699821472168, 4.009399890899658, 4.0071001052856445, 4.006400108337402, 4.00629997253418, 4.005799770355225, 4.005099773406982, 4.004700183868408, 4.002200126647949, 3.997999906539917, 3.996299982070923, 3.9953999519348145, 3.994999885559082, 3.9944000244140625, 3.9918999671936035, 3.9916000366210938, 3.9900999069213867, 3.989799976348877, 3.981300115585327, 3.974400043487549, 3.9749999046325684, 3.9398000240325928, 3.9470999240875244, 3.919800043106079, 3.8831000328063965, 3.8596999645233154, 3.7332000732421875, 3.910399913787842, 3.7070000171661377, 3.799099922180176, 3.7802000045776367, 3.8303000926971436, 3.9172000885009766, 3.5678000450134277, 3.69569993019104, 3.1953001022338867, 3.3671998977661133, 3.694700002670288, 3.733599901199341, 3.186300039291382, 2.953000068664551, 3.6082000732421875, 2.827399969100952, 3.444999933242798, 2.483599901199341, 3.310800075531006, 2.1364998817443848, 1.458299994468689, 2.3340001106262207, 1.4107999801635742, 0.6133000254631042, 2.3285000324249268, 1.5088000297546387, 4.355899810791016, 4.349299907684326, 4.3491997718811035, 4.345300197601318, 4.343800067901611, 4.342400074005127, 4.341100215911865, 4.3404998779296875, 4.340099811553955, 4.33459997177124, 4.333199977874756, 4.329800128936768, 4.329699993133545, 4.328700065612793, 4.327600002288818, 4.327499866485596, 4.327400207519531, 4.325900077819824, 4.3256001472473145, 4.325099945068359, 4.325099945068359, 4.324900150299072, 4.32390022277832, 4.322400093078613, 4.322000026702881, 4.320799827575684, 4.320700168609619, 4.320099830627441, 4.31820011138916, 4.317299842834473, 4.227499961853027, 4.2281999588012695, 4.116600036621094, 3.904900074005127, 3.724600076675415, 4.0142998695373535, 2.6380999088287354, 3.7430999279022217, 3.9014999866485596, 3.7167000770568848, 2.4340999126434326, 1.0681999921798706, 2.2223000526428223, 0.4027999937534332, 2.074899911880493, 2.1389999389648438, 0.8324999809265137, 1.2969000339508057, 1.5628000497817993, 1.3687000274658203, 0.3246000111103058, -0.2872999906539917, 0.8165000081062317, 1.753999948501587, -0.46630001068115234, 2.0845999717712402, -0.006800000090152025, 0.31709998846054077, 0.8776000142097473, 2.041599988937378, 1.142300009727478, -0.27880001068115234, 0.5764999985694885, 0.5015000104904175, 0.39899998903274536, 0.32409998774528503, 0.9926000237464905, 0.8039000034332275, -0.6877999901771545, 0.1386999934911728, -1.3767999410629272, -0.2451000064611435, 4.413300037384033, 4.412799835205078, 4.410600185394287, 4.4095001220703125, 4.404900074005127, 4.4029998779296875, 4.402599811553955, 4.402500152587891, 4.396900177001953, 4.392899990081787, 4.390200138092041, 4.382999897003174, 4.379899978637695, 4.379499912261963, 4.377900123596191, 4.377799987792969, 4.374599933624268, 4.374100208282471, 4.374000072479248, 4.373600006103516, 4.372200012207031, 4.36959981918335, 4.367300033569336, 4.366499900817871, 4.365900039672852, 4.365799903869629, 4.363500118255615, 4.363500118255615, 4.362800121307373, 4.3618998527526855, 4.336999893188477, 4.347400188446045, 4.338399887084961, 4.166399955749512, 3.960200071334839, 3.604300022125244, 4.007999897003174, 3.6977999210357666, 4.108699798583984, 3.4209001064300537, 3.2727999687194824, 3.8292999267578125, 2.787400007247925, 3.394200086593628, 2.938800096511841, 3.1008999347686768, 2.3636999130249023, 2.6280999183654785, 3.0155999660491943, 2.888200044631958, 3.007999897003174, 1.7376999855041504, -0.25609999895095825, -0.7271999716758728, 0.7089999914169312, 0.5034000277519226, 2.5938000679016113, 0.41600000858306885, 0.965399980545044, 2.176100015640259, 5.100500106811523, 5.0954999923706055, 5.078100204467773, 5.069200038909912, 5.068999767303467, 5.065199851989746, 5.064000129699707, 5.063899993896484, 5.05679988861084, 5.048799991607666, 5.043700218200684, 5.043700218200684, 5.043700218200684, 5.041500091552734, 5.040800094604492, 5.037600040435791, 5.036499977111816, 5.0345001220703125, 5.032400131225586, 5.026100158691406, 5.022200107574463, 5.022200107574463, 5.020400047302246, 5.017300128936768, 5.0167999267578125, 5.0167999267578125, 5.01669979095459, 5.016300201416016, 5.013999938964844, 5.013999938964844, 5.013999938964844, 4.854899883270264, 4.739099979400635, 4.770400047302246, 4.762800216674805, 2.790600061416626, 2.5276999473571777, 0.7142000198364258, 3.790600061416626, 2.927799940109253, 1.6698999404907227, 1.5372999906539917, 0.9107000231742859, 2.734299898147583, 5.628699779510498, 5.600599765777588, 5.5725998878479, 5.559700012207031, 5.556099891662598, 5.546500205993652, 5.543600082397461, 5.517000198364258, 5.502699851989746, 5.502699851989746, 5.495800018310547, 5.490300178527832, 5.4842000007629395, 5.483799934387207, 5.480100154876709, 5.478799819946289, 5.464600086212158, 5.464600086212158, 5.4644999504089355, 5.459099769592285, 5.454100131988525, 5.454100131988525, 5.448200225830078, 5.4355998039245605, 5.4355998039245605, 5.4355998039245605, 5.434100151062012, 5.431600093841553, 5.429500102996826, 5.429500102996826, 5.323299884796143, 5.310800075531006, 5.0690999031066895, 4.305500030517578, 3.935499906539917, 4.660999774932861, 5.053599834442139, 2.638700008392334, 4.106599807739258, 3.8008999824523926, 4.638299942016602, 4.84499979019165, 3.629199981689453, 1.3896000385284424, 3.104599952697754, 1.8273999691009521, 1.249400019645691, 0.8496000170707703, 3.9072999954223633, 2.1602001190185547, 2.61299991607666, 1.06850004196167, 2.6939001083374023, 2.451200008392334, 5.9944000244140625, 5.964000225067139, 5.964000225067139, 5.958700180053711, 5.89709997177124, 5.878399848937988, 5.873899936676025, 5.827400207519531, 5.825300216674805, 5.825300216674805, 5.810800075531006, 5.810800075531006, 5.810800075531006, 5.810800075531006, 5.800099849700928, 5.797299861907959, 5.797299861907959, 5.780700206756592, 5.763899803161621, 5.746399879455566, 5.743000030517578, 5.743000030517578, 5.743000030517578, 5.743000030517578, 5.701000213623047, 5.69320011138916, 5.69320011138916, 5.682499885559082, 5.6666998863220215, 5.666299819946289, 5.666299819946289, 5.666299819946289, 5.666299819946289, 5.666299819946289, 5.666299819946289, 5.666299819946289, 4.572400093078613, 2.5957999229431152, 4.670000076293945, 4.407800197601318, 6.136099815368652, 6.102099895477295, 6.095399856567383, 6.072400093078613, 6.05649995803833, 6.032400131225586, 6.031300067901611, 6.029600143432617, 6.015500068664551, 6.0152997970581055, 6.005799770355225, 6.00570011138916, 6.003399848937988, 6.002999782562256, 5.991099834442139, 5.989200115203857, 5.984300136566162, 5.976900100708008, 5.972899913787842, 5.970600128173828, 5.970600128173828, 5.968299865722656, 5.964000225067139, 5.964000225067139, 5.964000225067139, 5.959199905395508, 5.958399772644043, 5.957600116729736, 5.954400062561035, 5.954400062561035, 5.6732001304626465, 4.484399795532227, 5.462600231170654, 6.135000228881836, 6.118500232696533, 6.1082000732421875, 6.044400215148926, 6.025199890136719, 6.012599945068359, 5.986100196838379, 5.985899925231934, 5.979100227355957, 5.96019983291626, 5.956500053405762, 5.9456000328063965, 5.9456000328063965, 5.9456000328063965, 5.9456000328063965, 5.9456000328063965, 5.9456000328063965, 5.9456000328063965, 5.9456000328063965, 5.934199810028076, 5.919400215148926, 5.905300140380859, 5.900000095367432, 5.887899875640869, 5.884500026702881, 5.884500026702881, 5.860300064086914, 5.849599838256836, 5.845699787139893, 5.835999965667725, 5.696199893951416, 6.460400104522705, 6.3744001388549805, 6.36959981918335, 6.362199783325195, 6.348299980163574, 6.343400001525879, 6.3368000984191895, 6.326200008392334, 6.323400020599365, 6.317699909210205, 6.316100120544434, 6.314000129699707, 6.308899879455566, 6.307700157165527, 6.288400173187256, 6.260300159454346, 6.259900093078613, 6.250800132751465, 6.245200157165527, 6.245100021362305, 6.243100166320801, 6.236800193786621, 6.236100196838379, 6.236100196838379, 6.236100196838379, 6.213699817657471, 6.211699962615967, 6.198699951171875, 6.185699939727783, 6.185699939727783, 6.082900047302246, 5.834799766540527, 4.674699783325195, 5.735799789428711, 3.6393001079559326, 3.3282999992370605, 5.791999816894531, 2.2988998889923096, 6.989500045776367, 6.847300052642822, 6.78980016708374, 6.7778000831604, 6.774099826812744, 6.7519001960754395, 6.636600017547607, 6.601099967956543, 6.572400093078613, 6.572400093078613, 6.572400093078613, 6.538700103759766, 6.537799835205078, 6.537799835205078, 6.531099796295166, 6.486599922180176, 6.4822998046875, 6.457099914550781, 6.4380998611450195, 6.4380998611450195, 6.405799865722656, 6.398600101470947, 6.398600101470947, 6.34630012512207, 6.321499824523926, 6.30620002746582, 6.30620002746582, 6.27839994430542, 6.27839994430542, 6.262700080871582, 6.262700080871582, 6.262700080871582, 4.935999870300293, 5.223999977111816, 4.1072001457214355, 5.714799880981445, 6.732500076293945, 6.67080020904541, 6.656000137329102, 6.62060022354126, 6.579400062561035, 6.565499782562256, 6.548299789428711, 6.539400100708008, 6.520899772644043, 6.519199848175049, 6.514100074768066, 6.514100074768066, 6.487400054931641, 6.476600170135498, 6.476600170135498, 6.463799953460693, 6.434599876403809, 6.434500217437744, 6.420000076293945, 6.41949987411499, 6.36929988861084, 6.36870002746582, 6.36870002746582, 6.36870002746582, 6.36870002746582, 6.36870002746582, 6.36870002746582, 6.36870002746582, 6.36870002746582, 6.36870002746582, 6.36870002746582, 6.36870002746582, 6.36870002746582, 6.36870002746582, 6.36870002746582, 6.36870002746582, 6.36870002746582], \"logprob\": [30.0, 29.0, 28.0, 27.0, 26.0, 25.0, 24.0, 23.0, 22.0, 21.0, 20.0, 19.0, 18.0, 17.0, 16.0, 15.0, 14.0, 13.0, 12.0, 11.0, 10.0, 9.0, 8.0, 7.0, 6.0, 5.0, 4.0, 3.0, 2.0, 1.0, -8.20829963684082, -8.229900360107422, -8.430399894714355, -8.535099983215332, -8.502900123596191, -8.652899742126465, -8.79069995880127, -8.811200141906738, -8.841699600219727, -8.845100402832031, -9.003800392150879, -9.008700370788574, -9.043899536132812, -8.55109977722168, -9.097299575805664, -9.101699829101562, -9.12339973449707, -9.174599647521973, -9.1875, -9.21030044555664, -9.216899871826172, -9.21780014038086, -9.269800186157227, -9.280400276184082, -9.282299995422363, -9.285300254821777, -9.308500289916992, -9.328700065612793, -9.348299980163574, -9.362000465393066, -8.922800064086914, -9.25510025024414, -7.081200122833252, -7.706999778747559, -7.178699970245361, -8.256999969482422, -7.84089994430542, -8.438300132751465, -7.769700050354004, -7.831600189208984, -5.639900207519531, -7.260300159454346, -6.025899887084961, -8.002599716186523, -7.308899879455566, -5.861299991607666, -6.223400115966797, -7.870500087738037, -6.888800144195557, -7.924699783325195, -6.592100143432617, -7.217100143432617, -6.400000095367432, -7.143799781799316, -6.622700214385986, -5.221499919891357, -7.227099895477295, -4.4039998054504395, -5.368000030517578, -7.022500038146973, -5.8856000900268555, -4.857500076293945, -5.020500183105469, -5.808800220489502, -6.864799976348877, -4.591400146484375, -4.9807000160217285, -5.783199787139893, -5.097599983215332, -5.82289981842041, -6.168799877166748, -5.076099872589111, -5.843299865722656, -6.125400066375732, -5.449900150299072, -4.697199821472168, -5.437099933624268, -5.611100196838379, -5.543600082397461, -5.228400230407715, -5.8734002113342285, -5.088099956512451, -5.434800148010254, -5.893099784851074, -5.600100040435791, -5.320799827575684, -5.654099941253662, -5.807600021362305, -5.406899929046631, -5.764900207519531, -5.655600070953369, -5.774600028991699, -5.784800052642822, -5.682600021362305, -5.761199951171875, -5.793700218200684, -6.0482001304626465, -6.331099987030029, -6.2434000968933105, -6.612500190734863, -6.801499843597412, -7.127399921417236, -7.300099849700928, -7.369999885559082, -7.38539981842041, -7.3902997970581055, -7.421000003814697, -7.576000213623047, -7.6006999015808105, -7.634500026702881, -7.72760009765625, -7.741700172424316, -7.828700065612793, -7.853899955749512, -7.873499870300293, -7.965199947357178, -8.013099670410156, -8.025699615478516, -8.041299819946289, -8.067099571228027, -8.112799644470215, -8.118800163269043, -8.210599899291992, -8.234000205993652, -8.29800033569336, -8.301899909973145, -6.377099990844727, -6.653500080108643, -7.1666998863220215, -7.956900119781494, -6.225200176239014, -7.153299808502197, -5.40339994430542, -6.583199977874756, -6.918700218200684, -7.067500114440918, -7.53410005569458, -5.307000160217285, -7.1707000732421875, -4.6219000816345215, -5.2916998863220215, -5.445099830627441, -5.782299995422363, -6.376699924468994, -5.309500217437744, -6.354800224304199, -5.621300220489502, -5.945799827575684, -4.96999979019165, -5.373000144958496, -6.380099773406982, -5.747700214385986, -6.239799976348877, -5.980599880218506, -4.579699993133545, -5.321899890899658, -6.047500133514404, -4.3277997970581055, -4.898099899291992, -5.190299987792969, -4.83489990234375, -5.560200214385986, -5.404099941253662, -4.864099979400635, -4.672599792480469, -4.899499893188477, -5.5289998054504395, -5.0630998611450195, -5.3144001960754395, -5.332499980926514, -5.225299835205078, -5.5971999168396, -5.295899868011475, -5.618299961090088, -5.442200183868408, -5.520899772644043, -5.506999969482422, -5.468200206756592, -5.577099800109863, -6.770599842071533, -6.815800189971924, -6.961999893188477, -6.936399936676025, -7.177999973297119, -7.228700160980225, -7.331200122833252, -7.3130998611450195, -7.423900127410889, -7.467400074005127, -7.558800220489502, -7.597799777984619, -7.619200229644775, -7.631400108337402, -7.6350998878479, -7.63700008392334, -7.655399799346924, -7.665599822998047, -7.540599822998047, -7.678800106048584, -7.680600166320801, -7.692299842834473, -7.798900127410889, -7.817200183868408, -7.83620023727417, -7.848199844360352, -7.8557000160217285, -7.868899822235107, -7.8730998039245605, -7.901599884033203, -7.079899787902832, -6.69320011138916, -6.96120023727417, -6.469699859619141, -6.056099891662598, -7.387700080871582, -7.456500053405762, -6.781000137329102, -7.171899795532227, -6.838099956512451, -6.961599826812744, -5.159599781036377, -6.0528998374938965, -6.573200225830078, -6.828100204467773, -6.928100109100342, -7.21150016784668, -6.044099807739258, -7.040500164031982, -6.717700004577637, -6.960000038146973, -6.28380012512207, -6.149700164794922, -4.9309000968933105, -6.586900234222412, -5.418799877166748, -5.523399829864502, -6.0696001052856445, -5.849800109863281, -5.676799774169922, -5.015399932861328, -6.153600215911865, -5.330900192260742, -5.182499885559082, -5.049699783325195, -5.244800090789795, -5.91379976272583, -5.460400104522705, -4.984300136566162, -5.2657999992370605, -5.894199848175049, -5.777699947357178, -5.931300163269043, -5.933599948883057, -5.36870002746582, -5.485300064086914, -5.861400127410889, -5.429800033569336, -5.697299957275391, -5.825900077819824, -5.725100040435791, -5.776800155639648, -5.800000190734863, -5.875899791717529, -5.847799777984619, -5.86929988861084, -6.548699855804443, -6.580999851226807, -6.872900009155273, -6.955999851226807, -6.670899868011475, -7.261199951171875, -7.349400043487549, -7.349999904632568, -7.488999843597412, -7.55019998550415, -7.56279993057251, -7.622200012207031, -7.681300163269043, -7.747799873352051, -7.760700225830078, -7.764599800109863, -7.767499923706055, -7.8171000480651855, -7.832799911499023, -7.868299961090088, -7.88129997253418, -7.901599884033203, -7.912799835205078, -7.915299892425537, -8.015399932861328, -8.035200119018555, -8.037500381469727, -8.037699699401855, -8.044699668884277, -8.050000190734863, -7.272600173950195, -8.035900115966797, -7.352200031280518, -7.2565999031066895, -6.742700099945068, -7.680200099945068, -6.115900039672852, -6.753799915313721, -7.424200057983398, -7.372200012207031, -5.696499824523926, -6.816400051116943, -6.2428998947143555, -6.624800205230713, -3.678800106048584, -6.2154998779296875, -6.160900115966797, -6.916800022125244, -6.287700176239014, -5.9644999504089355, -6.570499897003174, -5.730500221252441, -6.880099773406982, -5.901500225067139, -5.867000102996826, -6.565800189971924, -5.86329984664917, -5.6656999588012695, -5.802800178527832, -5.06279993057251, -4.881800174713135, -5.647500038146973, -6.541399955749512, -5.339900016784668, -5.40939998626709, -5.39300012588501, -6.0345001220703125, -5.468999862670898, -5.374100208282471, -5.785099983215332, -5.78249979019165, -5.954999923706055, -6.2804999351501465, -5.946899890899658, -5.991199970245361, -6.091400146484375, -6.033899784088135, -5.912700176239014, -5.9471001625061035, -6.0690999031066895, -6.064799785614014, -6.098499774932861, -7.111599922180176, -7.513999938964844, -7.583600044250488, -7.703400135040283, -7.758299827575684, -8.009499549865723, -8.063599586486816, -8.13640022277832, -8.140800476074219, -8.154999732971191, -8.13860034942627, -8.240799903869629, -8.269800186157227, -8.289199829101562, -8.293899536132812, -8.301300048828125, -8.325200080871582, -8.330599784851074, -8.337200164794922, -8.338299751281738, -8.340800285339355, -8.34469985961914, -8.34689998626709, -8.354499816894531, -8.358699798583984, -8.358799934387207, -8.374899864196777, -8.376199722290039, -8.378000259399414, -8.391200065612793, -8.255599975585938, -6.689799785614014, -8.224599838256836, -6.600399971008301, -7.8933000564575195, -7.504000186920166, -6.90749979019165, -7.429900169372559, -3.5734000205993652, -5.029200077056885, -6.049200057983398, -5.097700119018555, -4.440199851989746, -6.649199962615967, -5.3368000984191895, -6.74970006942749, -7.454899787902832, -5.328199863433838, -6.145400047302246, -7.860799789428711, -4.1859002113342285, -4.8892998695373535, -5.654099941253662, -5.867700099945068, -6.298699855804443, -7.070899963378906, -6.989299774169922, -4.7829999923706055, -5.861499786376953, -5.943600177764893, -5.585299968719482, -6.007299900054932, -5.25570011138916, -5.646100044250488, -5.565700054168701, -4.305699825286865, -4.916100025177002, -5.831699848175049, -5.563799858093262, -5.295199871063232, -4.830900192260742, -5.870299816131592, -5.127999782562256, -4.637400150299072, -5.6743998527526855, -5.1803998947143555, -5.36359977722168, -5.518199920654297, -5.6128997802734375, -5.675300121307373, -5.563799858093262, -5.452899932861328, -5.673299789428711, -5.66379976272583, -5.666999816894531, -6.905099868774414, -6.9095001220703125, -7.1717000007629395, -7.1809000968933105, -7.310299873352051, -7.340099811553955, -7.436399936676025, -7.439199924468994, -7.460599899291992, -7.46750020980835, -7.490300178527832, -7.514500141143799, -7.565499782562256, -7.574699878692627, -7.5980000495910645, -7.6203999519348145, -7.62529993057251, -7.699100017547607, -7.724699974060059, -7.7291998863220215, -7.730000019073486, -7.7399001121521, -7.767300128936768, -7.7866997718811035, -7.817399978637695, -7.82450008392334, -7.829800128936768, -7.852200031280518, -7.857100009918213, -7.860199928283691, -6.853899955749512, -7.345799922943115, -7.192200183868408, -6.221199989318848, -6.98199987411499, -5.315800189971924, -7.623899936676025, -6.239099979400635, -6.243100166320801, -6.317200183868408, -7.329100131988525, -5.8460001945495605, -4.3084001541137695, -6.348599910736084, -6.752799987792969, -6.601399898529053, -6.646200180053711, -6.9618000984191895, -6.879000186920166, -6.093299865722656, -6.88670015335083, -6.152900218963623, -4.63070011138916, -6.964200019836426, -6.135300159454346, -5.842800140380859, -6.517099857330322, -5.7108001708984375, -6.26039981842041, -6.034999847412109, -5.212100028991699, -6.345399856567383, -6.598199844360352, -5.702300071716309, -5.845799922943115, -5.832499980926514, -5.843699932098389, -5.903299808502197, -6.279200077056885, -5.679299831390381, -5.7154998779296875, -6.324100017547607, -5.895400047302246, -6.006899833679199, -5.702899932861328, -5.670499801635742, -6.1143999099731445, -6.070799827575684, -6.146399974822998, -6.140200138092041, -5.958000183105469, -6.190800189971924, -6.175899982452393, -6.1774001121521, -6.180300235748291, -6.176300048828125, -6.930600166320801, -7.354100227355957, -7.508699893951416, -7.616399765014648, -7.821499824523926, -7.854400157928467, -7.9496002197265625, -7.952099800109863, -7.963099956512451, -8.003000259399414, -8.00979995727539, -8.022500038146973, -8.02340030670166, -8.05780029296875, -8.062100410461426, -8.062299728393555, -8.065099716186523, -8.065199851989746, -8.067700386047363, -8.085000038146973, -8.087400436401367, -8.094300270080566, -8.097299575805664, -8.110199928283691, -8.133099555969238, -8.163999557495117, -8.18179988861084, -8.201800346374512, -8.207099914550781, -8.214300155639648, -6.683800220489502, -7.665500164031982, -6.584199905395508, -5.285699844360352, -7.526700019836426, -7.5254998207092285, -4.917399883270264, -7.147500038146973, -7.198400020599365, -6.1016998291015625, -7.000699996948242, -4.055500030517578, -6.9994001388549805, -6.273600101470947, -4.473599910736084, -6.3892998695373535, -7.152599811553955, -5.886300086975098, -5.8206000328063965, -6.505799770355225, -5.945099830627441, -5.952700138092041, -6.600900173187256, -6.574900150299072, -6.274099826812744, -6.580900192260742, -6.56850004196167, -5.962600231170654, -5.072299957275391, -5.944900035858154, -5.60830020904541, -5.4944000244140625, -5.901800155639648, -5.707600116729736, -6.372499942779541, -5.850399971008301, -6.217199802398682, -5.429200172424316, -5.865900039672852, -6.413700103759766, -5.764699935913086, -6.164700031280518, -6.079400062561035, -6.070300102233887, -6.130499839782715, -6.170499801635742, -6.323500156402588, -6.2881999015808105, -6.286200046539307, -7.308499813079834, -7.316999912261963, -7.316999912261963, -7.546999931335449, -7.588699817657471, -7.614500045776367, -7.75, -7.987400054931641, -8.021699905395508, -8.15470027923584, -8.26159954071045, -8.26990032196045, -8.28950023651123, -8.290200233459473, -8.317299842834473, -8.335599899291992, -8.344799995422363, -8.354299545288086, -8.37720012664795, -8.379599571228027, -8.399100303649902, -8.403200149536133, -8.413599967956543, -8.397600173950195, -8.483799934387207, -8.505999565124512, -8.510299682617188, -8.52869987487793, -8.540300369262695, -8.546799659729004, -6.176700115203857, -5.143099784851074, -7.459499835968018, -7.698500156402588, -7.307700157165527, -5.634399890899658, -4.741099834442139, -7.158599853515625, -5.133500099182129, -6.026400089263916, -5.3867998123168945, -6.657400131225586, -5.729700088500977, -6.42140007019043, -3.9570000171661377, -6.165599822998047, -6.049200057983398, -5.377799987792969, -5.112100124359131, -4.473499774932861, -5.664400100708008, -6.28410005569458, -5.67080020904541, -5.870299816131592, -4.741199970245361, -6.411300182342529, -5.46120023727417, -5.21589994430542, -4.635000228881836, -5.984300136566162, -5.209000110626221, -5.1321001052856445, -5.120299816131592, -5.0416998863220215, -4.527299880981445, -5.2484002113342285, -5.880899906158447, -4.9604997634887695, -5.722700119018555, -5.355599880218506, -4.92110013961792, -5.554100036621094, -5.6915998458862305, -5.182700157165527, -5.602700233459473, -5.622399806976318, -5.64139986038208, -5.837200164794922, -6.617599964141846, -6.026800155639648, -6.896500110626221, -6.920100212097168, -6.94290018081665, -6.997900009155273, -7.017600059509277, -7.157100200653076, -7.179699897766113, -7.214700222015381, -7.231100082397461, -7.296500205993652, -7.32420015335083, -7.417300224304199, -7.444200038909912, -7.444200038909912, -7.477700233459473, -7.49560022354126, -6.509300231933594, -7.557300090789795, -7.586999893188477, -7.586999893188477, -7.586999893188477, -7.586999893188477, -7.666800022125244, -7.711999893188477, -7.753600120544434, -7.753600120544434, -7.753600120544434, -6.646399974822998, -6.521500110626221, -6.134200096130371, -3.9779000282287598, -5.508900165557861, -7.048900127410889, -6.442500114440918, -5.296199798583984, -6.6020002365112305, -5.626800060272217, -6.2957000732421875, -5.8541998863220215, -5.067599773406982, -6.460899829864502, -6.08519983291626, -6.486000061035156, -4.9421000480651855, -5.706200122833252, -5.097400188446045, -5.613699913024902, -4.310800075531006, -5.308599948883057, -5.162399768829346, -5.443600177764893, -6.160699844360352, -5.539599895477295, -5.654200077056885, -5.842100143432617, -5.984000205993652, -5.843500137329102, -5.745200157165527, -5.951000213623047, -5.030600070953369, -5.319200038909912, -5.914700031280518, -5.325799942016602, -5.544099807739258, -5.341700077056885, -5.900599956512451, -5.875, -5.932700157165527, -5.8933000564575195, -5.58650016784668, -5.798600196838379, -5.938899993896484, -6.001800060272217, -6.283899784088135, -5.570099830627441, -6.42549991607666, -6.520699977874756, -6.5416998863220215, -6.679699897766113, -6.714099884033203, -6.741799831390381, -6.776400089263916, -6.7891998291015625, -6.8927998542785645, -6.922500133514404, -6.927800178527832, -6.948299884796143, -6.917900085449219, -6.991799831390381, -6.784999847412109, -7.22160005569458, -7.274199962615967, -7.3007001876831055, -7.31279993057251, -7.328700065612793, -7.394800186157227, -7.404300212860107, -7.442299842834473, -7.448299884796143, -5.707099914550781, -5.687699794769287, -6.3078999519348145, -5.774600028991699, -6.217899799346924, -5.748600006103516, -5.706200122833252, -5.398399829864502, -3.745300054550171, -6.091800212860107, -4.463200092315674, -5.2291998863220215, -5.291500091552734, -5.8607001304626465, -6.404900074005127, -4.723899841308594, -5.328100204467773, -4.376999855041504, -5.098899841308594, -5.978499889373779, -6.083199977874756, -5.103799819946289, -5.116300106048584, -6.065499782562256, -5.229800224304199, -5.911600112915039, -5.276500225067139, -5.871500015258789, -5.289899826049805, -5.119900226593018, -5.645400047302246, -5.632800102233887, -5.606800079345703, -5.878799915313721, -5.879000186920166, -6.978899955749512, -7.139699935913086, -7.141900062561035, -7.224800109863281, -7.256899833679199, -7.283100128173828, -7.309800148010254, -7.320300102233887, -7.296500205993652, -7.42609977722168, -7.44980001449585, -7.50629997253418, -7.507999897003174, -7.523099899291992, -7.539700031280518, -7.542500019073486, -7.543900012969971, -7.565700054168701, -7.570300102233887, -7.578199863433838, -7.5782999992370605, -7.580599784851074, -7.596099853515625, -7.617000102996826, -7.6230998039245605, -7.640600204467773, -7.640999794006348, -7.647799968719482, -7.675600051879883, -7.688199996948242, -7.113100051879883, -7.413700103759766, -7.185200214385986, -6.88070011138916, -6.634799957275391, -7.1894001960754395, -5.472799777984619, -6.901299953460693, -7.122900009155273, -7.047299861907959, -5.956699848175049, -4.918900012969971, -5.981299877166748, -4.881100177764893, -6.025300025939941, -6.156899929046631, -5.429999828338623, -5.76230001449585, -6.072500228881836, -5.987500190734863, -5.493199825286865, -5.214799880981445, -5.778800010681152, -6.188300132751465, -5.252200126647949, -6.380499839782715, -5.607100009918213, -5.780600070953369, -6.00600004196167, -6.450099945068359, -6.140399932861328, -5.697400093078613, -6.0019001960754395, -5.991300106048584, -6.079699993133545, -6.223499774932861, -6.410600185394287, -6.396699905395508, -6.204599857330322, -6.314000129699707, -6.260799884796143, -6.390500068664551, -5.841000080108643, -5.872900009155273, -6.033199787139893, -6.104300022125244, -6.3495001792907715, -6.434599876403809, -6.452099800109863, -6.455900192260742, -6.669600009918213, -6.801199913024902, -6.879799842834473, -7.066400051116943, -7.136899948120117, -7.144400119781494, -7.1803998947143555, -7.182400226593018, -7.247900009155273, -7.2581000328063965, -7.2596001625061035, -7.266600131988525, -6.1946001052856445, -7.3420000076293945, -7.383900165557861, -7.3979997634887695, -7.40749979019165, -5.919899940490723, -7.4481000900268555, -7.448299884796143, -7.460100173950195, -7.473400115966797, -6.101399898529053, -6.8983001708984375, -7.077000141143799, -5.938700199127197, -5.967899799346924, -4.861700057983398, -6.246799945831299, -5.5782999992370605, -6.658599853515625, -5.223800182342529, -5.017300128936768, -6.3302001953125, -4.784900188446045, -5.752099990844727, -5.130499839782715, -5.530200004577637, -5.047999858856201, -5.542200088500977, -6.060100078582764, -6.0920000076293945, -6.329999923706055, -5.953499794006348, -5.539999961853027, -5.654799938201904, -5.932300090789795, -5.975299835205078, -6.27209997177124, -6.162300109863281, -6.190199851989746, -6.2642998695373535, -5.2677998542785645, -5.565299987792969, -6.20989990234375, -6.430500030517578, -6.434899806976318, -6.514999866485596, -6.541100025177002, -6.541600227355957, -6.675300121307373, -6.808599948883057, -6.885499954223633, -6.885499954223633, -6.885499954223633, -6.9166998863220215, -6.926599979400635, -6.9704999923706055, -6.985300064086914, -7.0106000900268555, -7.037799835205078, -7.114299774169922, -7.1596999168396, -7.1596999168396, -7.178999900817871, -7.213699817657471, -7.218500137329102, -7.218599796295166, -7.2195000648498535, -7.224400043487549, -7.247700214385986, -7.247700214385986, -7.247700214385986, -5.741799831390381, -5.299900054931641, -5.869900226593018, -6.5868000984191895, -6.010200023651123, -5.949399948120117, -5.103600025177002, -6.621699810028076, -6.542399883270264, -6.2846999168396, -6.655399799346924, -6.763700008392334, -7.001500129699707, -5.819699764251709, -6.326600074768066, -6.667399883270264, -6.794899940490723, -6.827499866485596, -6.911799907684326, -6.935999870300293, -7.13670015335083, -7.231800079345703, -7.231800079345703, -7.274799823760986, -6.637599945068359, -7.344399929046631, -7.346499919891357, -7.3678998947143555, -7.37529993057251, -7.453199863433838, -7.453199863433838, -7.453499794006348, -7.481800079345703, -7.507900238037109, -7.507900238037109, -7.537399768829346, -7.598599910736084, -7.598599910736084, -7.598599910736084, -7.6057000160217285, -7.616499900817871, -7.626999855041504, -7.626999855041504, -6.740499973297119, -7.038099765777588, -6.441100120544434, -5.694799900054932, -5.210999965667725, -6.508800029754639, -7.068299770355225, -3.811000108718872, -6.2027997970581055, -6.33050012588501, -6.9558000564575195, -7.097899913787842, -6.507500171661377, -5.4257001876831055, -6.387800216674805, -6.043000221252441, -6.236599922180176, -6.20959997177124, -6.993100166320801, -6.8582000732421875, -6.911900043487549, -6.886099815368652, -6.9918999671936035, -7.015200138092041, -6.4934000968933105, -6.715700149536133, -6.715700149536133, -6.750800132751465, -7.095099925994873, -7.183199882507324, -7.203499794006348, -7.3968000411987305, -7.404699802398682, -7.404699802398682, -7.459400177001953, -7.459400177001953, -7.459400177001953, -7.459400177001953, -7.4984002113342285, -7.508200168609619, -7.508200168609619, -7.566500186920166, -7.622499942779541, -7.679100036621094, -7.689599990844727, -7.689599990844727, -7.689599990844727, -7.689599990844727, -7.816199779510498, -7.838500022888184, -7.838500022888184, -7.868500232696533, -7.9120001792907715, -7.913000106811523, -7.913000106811523, -7.913000106811523, -7.913000106811523, -7.913000106811523, -7.913000106811523, -7.913000106811523, -6.0243000984191895, -7.095099925994873, -7.696100234985352, -7.735099792480469, -5.649899959564209, -6.095799922943115, -6.165800094604492, -6.377200126647949, -6.503499984741211, -6.6717000007629395, -6.64870023727417, -6.689799785614014, -6.776599884033203, -6.7778000831604, -6.832699775695801, -6.833399772644043, -6.84660005569458, -6.848499774932861, -6.913599967956543, -6.923900127410889, -6.9492998123168945, -6.986999988555908, -7.006700038909912, -7.01800012588501, -7.018099784851074, -7.029399871826172, -7.049799919128418, -7.049799919128418, -7.049799919128418, -7.072800159454346, -7.076200008392334, -7.080399990081787, -7.094799995422363, -7.095099925994873, -6.555099964141846, -6.697800159454346, -7.077600002288818, -6.198699951171875, -6.344299793243408, -6.426400184631348, -6.836699962615967, -6.936800003051758, -6.998899936676025, -7.119500160217285, -7.120299816131592, -7.1493000984191895, -7.22760009765625, -7.242400169372559, -7.284599781036377, -7.284599781036377, -7.284599781036377, -7.284599781036377, -7.284599781036377, -7.284599781036377, -7.284599781036377, -7.284599781036377, -7.328000068664551, -7.381800174713135, -7.431300163269043, -7.449399948120117, -7.490200042724609, -7.501500129699707, -7.501500129699707, -7.578700065612793, -7.611800193786621, -7.623799800872803, -7.652599811553955, -7.472599983215332, -5.408100128173828, -6.259699821472168, -6.292799949645996, -6.341700077056885, -6.428699970245361, -6.457499980926514, -6.495699882507324, -6.554800033569336, -6.570099830627441, -6.599999904632568, -6.608399868011475, -4.329699993133545, -6.645199775695801, -6.651400089263916, -6.74459981918335, -6.8694000244140625, -6.871300220489502, -6.909299850463867, -6.932199954986572, -6.932600021362305, -6.940299987792969, -6.965700149536133, -6.968400001525879, -6.968400001525879, -6.968400001525879, -7.053500175476074, -7.0609002113342285, -7.107999801635742, -7.15310001373291, -7.15310001373291, -6.803500175476074, -6.491600036621094, -6.2017998695373535, -6.864299774169922, -6.362800121307373, -6.568999767303467, -6.940800189971924, -6.933800220489502, -5.217400074005127, -6.178599834442139, -6.422299861907959, -6.467899799346924, -6.481599807739258, -6.561500072479248, -6.917300224304199, -7.012199878692627, -7.084799766540527, -7.084799766540527, -7.084799766540527, -7.166299819946289, -7.168600082397461, -7.168600082397461, -7.184299945831299, -7.2855000495910645, -7.2947998046875, -7.349400043487549, -7.389500141143799, -7.389500141143799, -7.455900192260742, -7.470600128173828, -7.470600128173828, -7.572700023651123, -7.619500160217285, -7.6479997634887695, -7.6479997634887695, -7.698599815368652, -7.698599815368652, -7.7266998291015625, -7.7266998291015625, -7.7266998291015625, -6.751999855041504, -7.417600154876709, -7.267600059509277, -7.6331000328063965, -6.734399795532227, -6.908999919891357, -6.948299884796143, -7.038400173187256, -7.137199878692627, -7.169400215148926, -7.208499908447266, -7.228300094604492, -7.268899917602539, -7.272600173950195, -7.283599853515625, -7.283599853515625, -7.3403000831604, -7.36269998550415, -7.36269998550415, -7.389100074768066, -7.447700023651123, -7.447999954223633, -7.476399898529053, -7.47730016708374, -7.5731000900268555, -7.57420015335083, -7.57420015335083, -7.57420015335083, -7.57420015335083, -7.57420015335083, -7.57420015335083, -7.57420015335083, -7.57420015335083, -7.57420015335083, -7.57420015335083, -7.57420015335083, -7.57420015335083, -7.57420015335083, -7.57420015335083, -7.57420015335083, -7.57420015335083]}, \"token.table\": {\"Topic\": [1, 2, 3, 10, 1, 2, 3, 4, 5, 6, 7, 8, 9, 10, 11, 5, 11, 16, 16, 6, 19, 1, 2, 3, 4, 5, 6, 7, 9, 3, 10, 1, 2, 3, 4, 5, 6, 7, 8, 11, 1, 6, 2, 3, 4, 12, 15, 2, 2, 5, 7, 5, 3, 13, 6, 7, 13, 2, 3, 5, 8, 2, 3, 1, 2, 3, 5, 12, 1, 6, 13, 4, 12, 1, 4, 10, 12, 1, 4, 10, 12, 1, 10, 3, 4, 10, 13, 1, 3, 15, 19, 7, 1, 2, 3, 6, 10, 11, 11, 16, 7, 1, 3, 6, 10, 12, 12, 17, 20, 1, 2, 3, 4, 5, 6, 7, 8, 11, 11, 19, 3, 18, 1, 1, 2, 6, 1, 2, 5, 1, 2, 3, 1, 2, 3, 8, 1, 1, 9, 12, 1, 20, 12, 1, 2, 5, 7, 9, 2, 5, 5, 2, 3, 7, 11, 1, 3, 4, 5, 7, 8, 11, 17, 3, 7, 9, 5, 9, 1, 2, 3, 4, 5, 6, 7, 8, 11, 1, 2, 3, 10, 4, 13, 18, 1, 14, 14, 20, 3, 9, 1, 3, 6, 10, 12, 18, 17, 4, 5, 6, 7, 8, 11, 8, 20, 3, 4, 6, 10, 12, 20, 9, 3, 20, 7, 1, 4, 5, 6, 7, 8, 11, 11, 20, 7, 1, 3, 4, 5, 6, 14, 1, 2, 3, 9, 11, 12, 19, 1, 2, 3, 5, 6, 7, 8, 11, 1, 2, 3, 6, 1, 6, 1, 2, 3, 5, 6, 7, 8, 11, 1, 14, 14, 17, 3, 2, 4, 5, 8, 11, 16, 8, 2, 1, 2, 3, 4, 5, 6, 7, 8, 11, 11, 18, 1, 10, 1, 14, 1, 2, 3, 4, 6, 7, 14, 6, 1, 5, 6, 14, 14, 1, 10, 13, 19, 1, 6, 1, 6, 14, 1, 2, 6, 14, 3, 5, 7, 1, 3, 4, 5, 6, 7, 8, 10, 11, 13, 1, 2, 3, 4, 5, 6, 8, 9, 12, 18, 1, 9, 10, 8, 5, 18, 1, 4, 1, 3, 4, 5, 6, 7, 9, 10, 12, 8, 1, 12, 3, 1, 2, 4, 5, 6, 7, 8, 11, 8, 16, 18, 20, 1, 3, 4, 6, 7, 8, 11, 8, 8, 1, 1, 3, 4, 5, 6, 7, 10, 16, 1, 3, 4, 6, 10, 11, 12, 1, 2, 3, 4, 5, 6, 7, 8, 11, 4, 1, 2, 3, 4, 5, 6, 7, 8, 11, 11, 7, 5, 11, 8, 7, 13, 14, 1, 3, 6, 10, 12, 1, 2, 3, 4, 5, 6, 7, 8, 3, 1, 1, 1, 2, 9, 1, 2, 3, 4, 5, 6, 7, 8, 9, 11, 12, 10, 13, 1, 2, 9, 1, 2, 3, 4, 5, 6, 8, 13, 1, 6, 9, 1, 2, 3, 4, 6, 7, 8, 10, 1, 2, 9, 2, 3, 5, 7, 8, 11, 1, 2, 3, 10, 1, 2, 5, 6, 9, 12, 4, 4, 4, 1, 4, 5, 6, 7, 2, 3, 2, 1, 2, 3, 4, 5, 6, 7, 8, 9, 11, 12, 2, 5, 9, 10, 1, 2, 3, 4, 5, 6, 7, 9, 17, 18, 1, 2, 3, 4, 5, 6, 7, 8, 11, 16, 16, 4, 6, 20, 4, 9, 16, 1, 2, 3, 4, 5, 6, 7, 8, 10, 11, 14, 9, 1, 17, 20, 7, 6, 7, 3, 6, 1, 2, 3, 4, 5, 6, 7, 8, 11, 1, 2, 3, 4, 5, 6, 7, 8, 10, 12, 1, 3, 20, 13, 4, 1, 6, 7, 8, 17, 6, 1, 2, 3, 4, 5, 6, 7, 8, 11, 2, 6, 13, 14, 1, 1, 2, 3, 4, 6, 9, 12, 18, 1, 11, 17, 1, 2, 2, 11, 16, 14, 1, 2, 3, 1, 2, 3, 1, 3, 6, 9, 7, 4, 12, 4, 7, 12, 12, 5, 1, 2, 3, 4, 5, 6, 7, 8, 11, 8, 11, 10, 10, 10, 9, 10, 5, 17, 17, 1, 2, 3, 4, 5, 6, 7, 8, 11, 14, 14, 1, 2, 3, 5, 6, 7, 8, 11, 14, 1, 3, 4, 5, 6, 7, 8, 10, 11, 13, 4, 8, 8, 5, 1, 14, 2, 1, 2, 3, 5, 6, 7, 12, 12, 13, 14, 1, 2, 3, 4, 5, 6, 7, 8, 9, 11, 12, 1, 2, 4, 7, 9, 16, 5, 11, 15, 1, 4, 5, 7, 1, 2, 3, 4, 5, 6, 7, 8, 10, 11, 12, 6, 14, 1, 2, 3, 4, 5, 6, 7, 8, 10, 11, 18, 5, 9, 4, 9, 12, 9, 4, 12, 4, 12, 4, 2, 8, 1, 2, 3, 4, 5, 6, 7, 8, 10, 11, 16, 20, 8, 8, 3, 6, 1, 2, 3, 5, 8, 10, 11, 1, 2, 3, 4, 5, 6, 7, 8, 11, 6, 6, 1, 2, 1, 2, 5, 6, 16, 1, 6, 7, 11, 13, 15, 1, 2, 3, 4, 5, 6, 7, 8, 11, 8, 11, 11, 11, 1, 5, 20, 6, 1, 2, 3, 4, 5, 6, 7, 8, 10, 11, 5, 6, 1, 2, 3, 5, 6, 7, 8, 11, 5, 1, 3, 10, 10, 12, 17, 1, 2, 4, 5, 6, 7, 9, 13, 1, 2, 3, 10, 12, 15, 1, 2, 3, 8, 10, 11, 10, 1, 4, 6, 7, 8, 11, 13, 14, 6, 1, 2, 3, 4, 5, 6, 7, 8, 9, 10, 11, 12, 12, 1, 2, 3, 4, 5, 10, 11, 12, 12, 2, 8, 11, 13, 3, 6, 10, 5, 1, 3, 4, 6, 7, 8, 10, 13, 1, 10, 13, 9, 13, 5, 10, 18, 12, 4, 1, 2, 7, 13, 19, 10, 10, 12, 4, 7, 1, 4, 5, 9, 12, 8, 16, 16, 5, 11, 19, 15, 11, 11, 11, 8, 5, 1, 4, 6, 8, 3, 14, 18, 1, 2, 3, 4, 5, 6, 7, 8, 11, 1, 7, 10, 12, 1, 2, 3, 4, 5, 6, 7, 8, 9, 10, 11, 12, 2, 5, 8, 11, 5, 2, 1, 2, 3, 4, 5, 7, 8, 11, 1, 3, 9, 1, 2, 3, 13, 13, 9, 18, 1, 3, 20, 2, 5, 4, 7, 3, 7, 1, 1, 2, 3, 4, 5, 6, 7, 8, 10, 11, 13, 15, 1, 2, 3, 4, 5, 7, 8, 11, 12, 16, 7, 11, 1, 2, 3, 5, 8, 11, 1, 2, 3, 5, 7, 8, 11, 15, 1, 2, 3, 4, 5, 6, 7, 9, 12, 1, 2, 4, 5, 6, 7, 8, 11, 1, 2, 3, 1, 2, 3, 10, 1, 2, 3, 4, 5, 6, 7, 8, 11, 14, 6, 4, 6, 1, 2, 3, 4, 5, 6, 7, 8, 11, 1, 2, 6, 7, 2, 10, 12, 8, 7, 17, 14, 1, 2, 3, 4, 5, 6, 7, 8, 11, 12, 1, 2, 3, 4, 5, 6, 7, 8, 11, 13, 17, 1, 2, 3, 4, 5, 6, 9, 12, 1, 2, 4, 5, 6, 7, 9, 11, 15, 18, 17, 4, 12, 1, 2, 3, 4, 5, 6, 7, 8, 11, 12, 1, 3, 12, 1, 2, 3, 4, 5, 1, 2, 3, 4, 5, 6, 7, 8, 11, 1, 14, 2, 9, 12, 10, 1, 2, 3, 4, 5, 6, 7, 8, 10, 11, 7, 9, 1, 1, 10, 4, 5, 7, 9, 16, 1, 1, 3, 4, 20, 20, 1, 4, 5, 6, 7, 1, 2, 3, 10, 1, 17, 12, 2, 1, 2, 3, 1, 2, 3, 4, 5, 6, 7, 8, 11, 6, 2, 4, 7, 1, 3, 4, 12, 1, 2, 3, 3, 1, 1, 2, 3, 4, 5, 6, 7, 1, 13, 18, 2, 5, 6, 7, 8, 11, 5, 2, 5, 8, 11, 2, 9, 1, 2, 3, 5, 7, 8, 11, 7, 11, 8, 8, 1, 3, 4, 6, 10, 12, 1, 2, 6, 7, 8, 4, 1, 2, 3, 4, 5, 6, 7, 8, 9, 10, 11, 12, 5, 15, 16, 5, 20, 17, 5, 7, 19, 7, 14, 4, 3, 18, 12, 8, 8, 11, 4, 2, 5, 19, 6, 15, 4, 9, 1, 2, 3, 4, 5, 6, 7, 8, 10, 11, 12, 1, 2, 3, 4, 5, 6, 7, 8, 10, 11, 15, 12, 9, 9, 1, 2, 3, 4, 6, 2, 9, 4, 9, 12, 9, 19, 17, 7, 12, 13, 11, 1, 2, 3, 5, 6, 7, 8, 11, 2, 3, 2, 14, 2, 1, 6, 9, 12, 1, 2, 5, 6, 7, 8, 11, 7, 1, 1, 2, 3, 5, 6, 7, 8, 11, 20, 1, 2, 5, 9, 9, 1, 2, 3, 4, 5, 6, 7, 8, 10, 11, 11, 5, 2, 5, 7, 19, 1, 2, 3, 4, 5, 6, 7, 8, 10, 11, 12, 11, 1, 2, 3, 4, 6, 7, 8, 11, 4, 6, 19, 1, 2, 3, 8, 14, 14, 3, 1, 2, 3, 4, 5, 6, 7, 8, 11, 17, 3, 7, 17, 1, 3, 9, 1, 2, 3, 4, 5, 6, 7, 8, 9, 11, 12, 16, 13, 18, 1, 3, 2, 4, 9, 2, 9, 2, 9, 7, 9, 9, 11, 2, 7, 9, 2, 4, 9, 9, 10, 15, 1, 2, 3, 4, 5, 6, 7, 8, 10, 11, 12, 1, 2, 3, 4, 5, 6, 7, 9, 12, 7, 6, 7, 11, 13, 1, 2, 3, 4, 5, 6, 7, 8, 10, 11, 13, 14, 14, 15, 19, 3, 9, 19, 1, 2, 3, 4, 5, 6, 7, 8, 10, 11, 14, 4, 7, 9, 12, 6, 1, 2, 3, 4, 5, 6, 7, 8, 10, 11, 5, 1, 2, 3, 4, 5, 6, 7, 8, 19, 13, 20, 1, 2, 3, 4, 5, 6, 7, 8, 10, 11, 18, 1, 2, 5, 6, 7, 11, 13, 1, 2, 3, 4, 5, 6, 7, 8, 9, 10, 11, 7, 11, 2, 8, 10, 1, 1, 2, 3, 4, 5, 6, 7, 8, 10, 11, 12, 13, 5, 19, 1, 2, 3, 4, 5, 6, 7, 8, 1, 3, 4, 6, 7, 10, 12, 10, 1, 4, 5, 6, 7, 1, 2, 5, 7, 8, 9, 2, 2, 1, 2, 3, 4, 5, 6, 7, 8, 9, 11, 13, 5, 6, 6, 11, 13, 15, 13, 18, 18, 18, 1, 2, 3, 4, 5, 6, 7, 8, 9, 10, 12, 15, 1, 2, 3, 1, 2, 3, 4, 5, 6, 7, 9, 12, 15, 1, 2, 3, 4, 5, 6, 7, 8, 11, 1, 2, 3, 5, 6, 7, 8, 6, 20, 1, 11, 19, 8, 18, 1, 2, 3, 5, 9, 11, 12, 2, 4, 9, 1, 2, 3, 4, 5, 6, 9, 12, 7, 15, 6, 12, 4, 10, 12, 15, 18, 1, 2, 3, 14, 1, 4, 5, 6, 7, 8, 11, 12, 7, 1, 5, 6, 7, 8, 16, 16, 1, 2, 7, 1, 2, 6, 9, 20, 18, 14, 11, 2, 1, 3, 10, 12, 10, 1, 3, 10, 10, 20, 1, 1, 2, 3, 4, 5, 6, 7, 8, 11, 5, 2, 1, 2, 3, 4, 5, 6, 7, 8, 10, 15, 2, 5, 10, 1, 2, 3, 4, 5, 6, 7, 8, 10, 11, 12, 11, 6, 18, 1, 2, 3, 10, 1, 2, 3, 4, 5, 6, 7, 8, 10, 11, 12, 11, 11, 8, 16, 2, 18, 11, 11, 6, 1, 2, 3, 10, 1, 2, 3, 12, 2, 6, 12, 2, 4, 1, 12, 4, 5, 7, 8, 11, 1, 2, 3, 4, 5, 6, 7, 8, 10, 1, 3, 4, 5, 6, 7, 10, 12, 8, 1, 3, 10, 10, 1, 3, 3, 4, 6, 10, 12, 1, 2, 7, 14, 2, 16, 2, 12, 9, 5, 19, 5, 18, 13, 13, 1, 3, 4, 6, 10, 12, 4, 1, 2, 3, 4, 5, 6, 10, 12, 1, 3, 6, 12, 1, 3, 10, 5, 4, 15, 20, 1, 2, 3, 4, 5, 6, 7, 9, 12, 4, 13, 1, 2, 3, 4, 5, 6, 7, 8, 11, 13, 15, 17, 7, 4, 5, 7, 8, 11, 1, 2, 3, 1, 1, 2, 3, 14, 1, 2, 3, 6, 7, 12, 13, 14, 9, 19, 8, 7, 8, 17, 1, 10, 2, 2, 11, 1, 2, 6, 9, 11, 12, 1, 4, 7, 3, 10, 4, 3, 4, 8, 1, 2, 3, 1, 3, 3, 1, 10, 1, 1, 2, 3, 10, 12, 1, 3, 14, 12, 1, 1, 3, 5, 6, 7, 8, 11, 3, 15, 2, 5, 12, 1, 2, 1, 2, 3, 5, 7, 17, 9, 16, 16, 12, 19, 9, 17, 10, 9, 1, 2, 5, 9, 1, 9, 1, 2, 9, 2, 1, 2, 3, 4, 5, 6, 7, 8, 11, 20, 20, 15, 1, 2, 14, 1, 6, 3, 3, 1, 2, 3, 4, 1, 2, 3, 18, 6, 1, 6, 7, 9, 9, 17, 1, 1, 3, 4, 5, 6, 7, 8, 11, 14, 1, 2, 3, 4, 5, 6, 7, 8, 9, 11, 19, 4, 5, 7, 1, 2, 3, 4, 5, 6, 7, 8, 11, 13, 7, 11, 18, 20, 2, 1, 3, 4, 5, 6, 7, 10, 1, 2, 3, 4, 5, 6, 7, 8, 10, 11, 1, 3, 4, 6, 7, 10, 12, 17, 3, 2, 3, 1, 3, 12, 1, 2, 4, 5, 6, 7, 8, 9, 11, 20, 6, 1, 2, 3, 4, 5, 6, 7, 8, 10, 11, 12, 13, 11, 1, 3, 6, 10, 12, 12, 2, 4, 7, 9, 12, 6, 1, 2, 3, 5, 6, 7, 8, 10, 11, 13, 1, 3, 6, 2, 4, 20, 3, 1, 2, 3, 4, 5, 6, 7, 8, 9, 11, 12, 10, 10, 15, 14, 4, 6, 10, 9, 16, 4, 1, 3, 4, 6, 10, 4, 4, 5, 6, 7, 15, 14, 5, 19, 16, 19, 1, 2, 3, 4, 5, 7, 8, 11, 15, 19, 17, 10, 12, 14, 12, 1, 3, 8, 18, 4, 2, 4, 9, 12, 12, 6, 1, 2, 3, 8, 10, 11, 11, 1, 3, 4, 6, 7, 10, 13, 13, 10, 8, 9, 16, 6, 1, 2, 3, 17, 1, 2, 3, 5, 6, 7, 9, 2, 17, 1, 2, 3, 4, 5, 6, 7, 4, 1, 1, 4, 5, 12, 1, 2, 3, 5, 6, 18, 1, 10, 13, 1, 14, 1, 14, 13, 13, 14, 9, 15, 1, 4, 5, 6, 5, 1, 3, 6, 12, 1, 3, 5, 6, 7, 8, 10, 11, 2, 5, 1, 3, 4, 7, 18, 1, 2, 3, 3, 1, 3, 20, 1, 2, 3, 9, 19, 1, 2, 4, 7, 9, 12, 15, 15, 2, 18, 1, 6, 9, 12, 3, 5, 9, 19, 1, 3, 4, 5, 6, 7, 8, 11, 1, 2, 3, 4, 5, 6, 7, 8, 9, 11, 15, 13, 1, 2, 3, 4, 5, 6, 7, 8, 11, 11, 12, 20, 15, 7, 1, 1, 1, 14, 1, 2, 3, 4, 5, 6, 7, 8, 11, 1, 2, 4, 5, 6, 7, 8, 11, 13, 9, 19, 16, 6, 1, 2, 4, 6, 7, 9, 20, 14, 1, 2, 3, 4, 5, 6, 7, 11, 12, 4, 8, 18, 3, 12, 1, 2, 3, 4, 5, 6, 7, 9, 12, 1, 2, 3, 4, 5, 6, 7, 8, 11, 19, 1, 2, 9, 12, 15, 16, 1, 5, 6, 7, 8, 11, 13, 1, 2, 4, 9, 12, 15, 1, 2, 3, 4, 5, 6, 7, 8, 10, 11, 12, 1, 14, 20, 20, 1, 2, 3, 4, 5, 6, 7, 6, 1, 9, 9, 9, 2, 1, 4, 6, 10, 12, 6, 1, 2, 3, 4, 5, 6, 7, 8, 9, 12, 14, 20, 20, 1, 7, 1, 2, 3, 6, 12, 15, 7, 15, 1, 2, 9, 12, 14, 1, 2, 3, 4, 5, 6, 7, 8, 18, 4, 17, 15, 4, 1, 2, 3, 4, 5, 7, 8, 9, 11, 12, 1, 2, 5, 6, 7, 8, 9, 11, 2, 5, 1, 7, 9, 1, 4, 5, 9, 1, 2, 3, 4, 5, 6, 7, 8, 11, 18, 5, 1, 2, 4, 5, 6, 7, 8, 11, 1, 2, 3, 14, 1, 1, 2, 4, 7, 1, 4, 6, 9, 6, 10, 12, 1, 3, 8, 2, 3, 11, 3, 1, 2, 4, 9, 13, 7, 15, 2, 16, 5, 1, 2, 3, 4, 5, 6, 7, 8, 9, 11, 18, 10, 4, 5, 6, 7, 12, 6, 1, 2, 3, 4, 6, 1, 10, 19, 6, 11, 1, 4, 5, 11, 1, 4, 12, 3, 10, 1, 2, 3, 4, 5, 6, 7, 8, 11, 1, 2, 4, 5, 6, 7, 9, 11, 9, 1, 2, 3, 4, 5, 6, 7, 10, 5, 18, 8, 1, 2, 3, 4, 5, 6, 7, 8, 9, 10, 11, 12, 7, 1, 2, 3, 4, 5, 6, 7, 8, 11, 2, 12, 1, 2, 3, 5, 6, 11, 19, 6, 1, 2, 3, 4, 5, 6, 7, 8, 9, 12, 1, 3, 9, 9, 1, 3, 5, 6, 7, 8, 15, 13, 1, 2, 3, 8, 10, 1, 2, 3, 4, 5, 6, 7, 8, 9, 11, 4, 5, 9, 12, 1, 2, 3, 4, 5, 6, 7, 6, 10, 12, 19, 17, 10, 9, 12, 1, 2, 4, 8, 11, 13, 14, 1, 2, 4, 5, 6, 7, 8, 11, 14, 17, 8, 1, 10, 12, 13, 15, 4, 1, 1, 3, 10, 6, 4, 20, 1, 2, 3, 13, 16, 8, 7, 8, 1, 3, 4, 5, 6, 7, 8, 12, 1, 2, 3, 14, 7, 1, 2, 3, 5, 7, 8, 10, 11, 1, 2, 3, 5, 6, 20, 16, 7], \"Freq\": [0.3073488771915436, 0.49374786019325256, 0.19634723663330078, 0.0026179631240665913, 0.38650941848754883, 0.43534260988235474, 0.007965696044266224, 0.0022511749994009733, 0.06580357253551483, 0.0006926691858097911, 0.014892388135194778, 0.0748082771897316, 0.0005195019184611738, 0.0017316730227321386, 0.00935103464871645, 0.9663769602775574, 0.9680979251861572, 0.9735432863235474, 0.7836428284645081, 0.9807943105697632, 0.6972168684005737, 0.46452853083610535, 0.07289144396781921, 0.36878129839897156, 0.012354481965303421, 0.006794964894652367, 0.03644572198390961, 0.02965075708925724, 0.008030413649976254, 0.9949794411659241, 0.9660033583641052, 0.4296952784061432, 0.27223432064056396, 0.07893183827400208, 0.022149240598082542, 0.02617637626826763, 0.0072488426230847836, 0.027787230908870697, 0.1071217879652977, 0.028189944103360176, 0.39065787196159363, 0.6048895716667175, 0.01101042702794075, 0.9872682690620422, 0.22541438043117523, 0.7701658010482788, 0.9221398830413818, 0.991108775138855, 0.19996830821037292, 0.7373831272125244, 0.06249009445309639, 0.9534487724304199, 0.9987855553627014, 0.9823468923568726, 0.2566773593425751, 0.032084669917821884, 0.7058627009391785, 0.943882405757904, 0.0019461492775008082, 0.0389229841530323, 0.015569194220006466, 0.9978334903717041, 0.9972397089004517, 0.9056417346000671, 0.01552528701722622, 0.05433850735425949, 0.01811283454298973, 0.005175095982849598, 0.07824213802814484, 0.9128249287605286, 0.984959065914154, 0.045005545020103455, 0.9451164603233337, 0.0741407722234726, 0.3488977551460266, 0.20933865010738373, 0.3663426339626312, 0.007294764742255211, 0.036473825573921204, 0.5142809152603149, 0.44133326411247253, 0.048248566687107086, 0.9408470988273621, 0.994625985622406, 0.9521496295928955, 0.9688170552253723, 0.8628011345863342, 0.00786782056093216, 0.9834775328636169, 0.5235702991485596, 0.8819786310195923, 0.9898613691329956, 0.401449054479599, 0.3135327696800232, 0.27778366208076477, 0.0002648080699145794, 0.006355393677949905, 0.0002648080699145794, 0.9095942378044128, 0.713627815246582, 0.9596090316772461, 0.09599380195140839, 0.006399586796760559, 0.019198760390281677, 0.7935487627983093, 0.08319462835788727, 0.9901759028434753, 0.40213119983673096, 0.8720958232879639, 0.27030494809150696, 0.23201173543930054, 0.024777952581644058, 0.0022525412496179342, 0.26354730129241943, 0.01126270554959774, 0.05406098812818527, 0.1328999251127243, 0.006757623516023159, 0.9074910879135132, 0.7771822214126587, 0.2600480914115906, 0.5200961828231812, 0.9841169118881226, 0.907390296459198, 0.08118755370378494, 0.009551476687192917, 0.9079597592353821, 0.020176883786916733, 0.07061909139156342, 0.014180731028318405, 0.9855608344078064, 0.9930842518806458, 0.18276597559452057, 0.05408380925655365, 0.7553083896636963, 0.0074598356150090694, 0.9811795353889465, 0.24425774812698364, 0.5146859884262085, 0.24425774812698364, 0.9793065190315247, 0.8720958232879639, 0.9708424806594849, 0.19776585698127747, 0.7623554468154907, 0.009569315239787102, 0.02232840284705162, 0.006379543803632259, 0.972169041633606, 0.022263413295149803, 0.9197204113006592, 0.1458526998758316, 0.13259336352348328, 0.4773361086845398, 0.2386680543422699, 0.24288082122802734, 0.278300940990448, 0.0834902822971344, 0.15686053037643433, 0.0556601881980896, 0.08096027374267578, 0.09867033362388611, 0.7939692735671997, 0.1819828301668167, 0.8119233846664429, 0.9428447484970093, 0.04540911316871643, 0.9081822633743286, 0.3234719932079315, 0.09892590343952179, 0.1350417137145996, 0.23710812628269196, 0.07694236934185028, 0.06438034772872925, 0.04396706819534302, 0.01884302869439125, 0.003140504937618971, 0.482594758272171, 0.29180148243904114, 0.22310230135917664, 0.002040569670498371, 0.2989276647567749, 0.6857752203941345, 0.8619211316108704, 0.5829399824142456, 0.3331085443496704, 0.7069076895713806, 0.8720958232879639, 0.993423342704773, 0.9064761400222778, 0.23995031416416168, 0.017774097621440887, 0.1421927809715271, 0.5598840713500977, 0.035548195242881775, 0.7973201274871826, 0.8288430571556091, 0.22452962398529053, 0.02993728406727314, 0.1534285843372345, 0.25820907950401306, 0.23201395571231842, 0.09355401247739792, 0.9553536772727966, 0.8720958232879639, 0.012883455492556095, 0.7858908176422119, 0.02576691098511219, 0.17392665147781372, 0.9515222907066345, 0.8720958232879639, 0.9833855032920837, 0.994443953037262, 0.8720958232879639, 0.9470176100730896, 0.29708901047706604, 0.04065428301692009, 0.23141668736934662, 0.25643470883369446, 0.11258109658956528, 0.04378153756260872, 0.0156362634152174, 0.922755241394043, 0.8324636220932007, 0.989967405796051, 0.6122584342956543, 0.03601520135998726, 0.007203040644526482, 0.007203040644526482, 0.1584668904542923, 0.17287297546863556, 0.831001341342926, 0.10995437204837799, 0.02537408657371998, 0.0021145071368664503, 0.004229014273732901, 0.02537408657371998, 0.9220646023750305, 0.04545674845576286, 0.8629679679870605, 0.0007102616946212947, 0.020597588270902634, 0.02414889819920063, 0.014915495179593563, 0.02627968229353428, 0.005682093556970358, 0.1324431300163269, 0.7779937982559204, 0.08858779072761536, 0.0008771068532951176, 0.4504774808883667, 0.5470083951950073, 0.009798423387110233, 0.6965788006782532, 0.13094256818294525, 0.08462274074554443, 0.008907657116651535, 0.015143017284572124, 0.034739863127470016, 0.018706079572439194, 0.17713238298892975, 0.708529531955719, 0.9605795741081238, 0.5536787509918213, 0.9906244874000549, 0.8946862816810608, 0.007300250697880983, 0.006489112041890621, 0.07300250977277756, 0.01784505695104599, 0.6888332962989807, 0.9347703456878662, 0.9995671510696411, 0.4664684534072876, 0.12845680117607117, 0.20800715684890747, 0.0065002236515283585, 0.10802753269672394, 0.04766830801963806, 0.012071844190359116, 0.019191136583685875, 0.003404879244044423, 0.9745398759841919, 0.811402440071106, 0.25677481293678284, 0.7431524991989136, 0.47211265563964844, 0.47211265563964844, 0.8414162397384644, 0.030100582167506218, 0.0007000135374255478, 0.004900094587355852, 0.09520184248685837, 0.013300256803631783, 0.014000270515680313, 0.9949731230735779, 0.20740392804145813, 0.29958346486091614, 0.27653858065605164, 0.20740392804145813, 0.7188451886177063, 0.6232802271842957, 0.27268511056900024, 0.09089503437280655, 0.7771822214126587, 0.3840888738632202, 0.6134752631187439, 0.8144298791885376, 0.1018037348985672, 0.08144298940896988, 0.858623743057251, 0.04565081000328064, 0.0471077524125576, 0.04807904362678528, 0.9942163825035095, 0.7065916657447815, 0.302825003862381, 0.3660663962364197, 0.14642655849456787, 0.0028158954810351133, 0.11826760321855545, 0.05068611726164818, 0.011263581924140453, 0.0788450688123703, 0.18303319811820984, 0.03942253440618515, 0.0028158954810351133, 0.5535025596618652, 0.2599639296531677, 0.029737573117017746, 0.033574678003787994, 0.0019185530254617333, 0.0009592765127308667, 0.0047963825054466724, 0.10839825123548508, 0.005755659192800522, 0.9860580563545227, 0.11761623620986938, 0.8703601360321045, 0.9729904532432556, 0.9234203100204468, 0.9186923503875732, 0.6521034836769104, 0.9711430668830872, 0.022584721446037292, 0.7027571797370911, 0.006354043260216713, 0.012708086520433426, 0.005083234515041113, 0.03939506784081459, 0.026686981320381165, 0.06989447772502899, 0.008895660750567913, 0.12708087265491486, 0.9850833415985107, 0.3272758722305298, 0.6545517444610596, 0.9926646947860718, 0.08460552990436554, 0.0017092026537284255, 0.1632288545370102, 0.06238589808344841, 0.04700307548046112, 0.2897098660469055, 0.3315853178501129, 0.017946628853678703, 0.9382582902908325, 0.9535795450210571, 0.7578656077384949, 0.8720958232879639, 0.09819415211677551, 0.022660188376903534, 0.13218443095684052, 0.08308735489845276, 0.2417086809873581, 0.3512329161167145, 0.07175726443529129, 0.9463276863098145, 0.9951493144035339, 0.99465012550354, 0.08045274019241333, 0.04597299546003342, 0.05746624618768692, 0.04597299546003342, 0.21837173402309418, 0.48271647095680237, 0.05746624618768692, 0.757968544960022, 0.07008428871631622, 0.006371299270540476, 0.10831208527088165, 0.019113898277282715, 0.7135854959487915, 0.03185649588704109, 0.05097039416432381, 0.49985992908477783, 0.05834940820932388, 0.02139478176832199, 0.10113897174596786, 0.0680743083357811, 0.02722972258925438, 0.15365344285964966, 0.04862450435757637, 0.02139478176832199, 0.9836168885231018, 0.31769219040870667, 0.19538529217243195, 0.17520464956760406, 0.03913821280002594, 0.08622637391090393, 0.010090320371091366, 0.02170947566628456, 0.11863770335912704, 0.03577477112412453, 0.9755430221557617, 0.9911203384399414, 0.37684959173202515, 0.6123806238174438, 0.9584283828735352, 0.9830321073532104, 0.931352972984314, 0.8753416538238525, 0.18859568238258362, 0.07379831373691559, 0.03279924765229225, 0.22139494121074677, 0.48378893733024597, 0.3206229507923126, 0.11948681622743607, 0.004978617187589407, 0.13143549859523773, 0.30967000126838684, 0.0268845334649086, 0.0806536003947258, 0.005974340718239546, 0.989966630935669, 0.9849694967269897, 0.9944338798522949, 0.06026257574558258, 0.48210060596466064, 0.4553172290325165, 0.5348232388496399, 0.019926035776734352, 0.028087230399250984, 0.14764344692230225, 0.06804528832435608, 0.048437222838401794, 0.08510960638523102, 0.05098097398877144, 0.0019078118493780494, 0.00922109093517065, 0.005829425062984228, 0.9661250710487366, 0.9751995801925659, 0.03375963866710663, 0.16879819333553314, 0.7899755239486694, 0.4363357424736023, 0.12248021364212036, 0.0038275066763162613, 0.09377390891313553, 0.2583566904067993, 0.02679254673421383, 0.055498845875263214, 0.967639684677124, 0.08779731392860413, 0.6438469886779785, 0.2633919417858124, 0.5714380741119385, 0.18232505023479462, 0.23239755630493164, 0.0030578626319766045, 0.0011466984869912267, 0.0057334923185408115, 0.0022933969739824533, 0.0015289313159883022, 0.20476670563220978, 0.009307578206062317, 0.7818365097045898, 0.05750930309295654, 0.05412640422582626, 0.29769521951675415, 0.08457250893115997, 0.36197033524513245, 0.14208181202411652, 0.37179964780807495, 0.5266794562339783, 0.10119990259408951, 0.00043999956687912345, 0.6394511461257935, 0.048204779624938965, 0.10723104327917099, 0.02361050434410572, 0.1495331972837448, 0.03148067370057106, 0.9960713982582092, 0.9706972241401672, 0.9794903993606567, 0.11102660745382309, 0.5789244174957275, 0.055513303726911545, 0.1030961349606514, 0.15067896246910095, 0.9684715867042542, 0.030264737084507942, 0.9951480031013489, 0.2990344166755676, 0.18061979115009308, 0.0007494597230106592, 0.0217343308031559, 0.12216193228960037, 0.008244057185947895, 0.03822244331240654, 0.20085519552230835, 0.08393948525190353, 0.02997838892042637, 0.015738653019070625, 0.9520804286003113, 0.045554086565971375, 0.9860970973968506, 0.9620252251625061, 0.367056280374527, 0.2738947868347168, 0.0596233531832695, 0.018632298335433006, 0.040991056710481644, 0.024221986532211304, 0.04285428673028946, 0.16955390572547913, 0.9181123375892639, 0.47667166590690613, 0.10532286763191223, 0.3103596866130829, 0.16265839338302612, 0.07790152728557587, 0.15455663204193115, 0.030537398532032967, 0.04736413061618805, 0.1071925014257431, 0.0037392734084278345, 0.9263977408409119, 0.9079118371009827, 0.9009655117988586, 0.10296748578548431, 0.7969962358474731, 0.9860351085662842, 0.4289530813694, 0.4289530813694, 0.410637229681015, 0.14521363377571106, 0.322643518447876, 0.023561151698231697, 0.011059315875172615, 0.04664146527647972, 0.02211863175034523, 0.014906034804880619, 0.0014425194822251797, 0.0014425194822251797, 0.8584722876548767, 0.9922568202018738, 0.9947457313537598, 0.6871630549430847, 0.8720958232879639, 0.950228750705719, 0.27023038268089294, 0.7206143736839294, 0.9898338317871094, 0.9792688488960266, 0.316422700881958, 0.03863907605409622, 0.5017858147621155, 0.02976253069937229, 0.006787945982068777, 0.06735730916261673, 0.014620190486311913, 0.01931953802704811, 0.004699347075074911, 0.5411379933357239, 0.3246828019618988, 0.09106529504060745, 0.0045532649382948875, 0.004203013610094786, 0.0056040179915726185, 0.00035025112447328866, 0.017162306234240532, 0.009106529876589775, 0.002101506805047393, 0.07000412046909332, 0.9275546073913574, 0.8716652393341064, 0.9810560345649719, 0.9916718602180481, 0.20668990910053253, 0.5511730909347534, 0.1550174355506897, 0.08612079173326492, 0.495756596326828, 0.9868671298027039, 0.638440728187561, 0.14660139381885529, 0.1454133689403534, 0.011642573401331902, 0.011880177073180676, 0.016157040372490883, 0.004989674314856529, 0.02185952663421631, 0.002851242432370782, 0.9907577037811279, 0.9315981268882751, 0.04050426557660103, 0.6696200966835022, 0.9922288656234741, 0.6286222338676453, 0.24047087132930756, 0.12807688117027283, 0.00043563562212511897, 0.00043563562212511897, 0.00043563562212511897, 0.0013069069245830178, 0.47667166590690613, 0.4845026731491089, 0.5087277889251709, 0.7554808855056763, 0.9797095656394958, 0.9941272139549255, 0.9904314279556274, 0.9409481287002563, 0.91389399766922, 0.8599861860275269, 0.14521361887454987, 0.006453938782215118, 0.8454660177230835, 0.2053125947713852, 0.02566407434642315, 0.7673557996749878, 0.6468236446380615, 0.09611435979604721, 0.23379167914390564, 0.023379167541861534, 0.9648581743240356, 0.07864992320537567, 0.9175824522972107, 0.06991083920001984, 0.6117198467254639, 0.31459876894950867, 0.9248974323272705, 0.9566395878791809, 0.062278877943754196, 0.2594953179359436, 0.028544485569000244, 0.009082335978746414, 0.29971709847450256, 0.01946214959025383, 0.031139438971877098, 0.2646852135658264, 0.027247007936239243, 0.9949904680252075, 0.9075698256492615, 0.9772806763648987, 0.986293613910675, 0.9651244282722473, 0.9660772085189819, 0.9729959964752197, 0.979982316493988, 0.8552180528640747, 0.8197010159492493, 0.223302960395813, 0.0628039613366127, 0.1360752433538437, 0.013956435024738312, 0.006978217512369156, 0.14654256403446198, 0.22679206728935242, 0.16049900650978088, 0.020934652537107468, 0.9358154535293579, 0.8907039165496826, 0.18492065370082855, 0.016560059040784836, 0.03588012605905533, 0.11868041753768921, 0.06072021275758743, 0.09660033881664276, 0.4388415515422821, 0.04692016541957855, 0.7029633522033691, 0.24976935982704163, 0.05550430342555046, 0.05550430342555046, 0.049953870475292206, 0.2775215208530426, 0.177613765001297, 0.08048123866319656, 0.008325645700097084, 0.019426506012678146, 0.02775215171277523, 0.9202477931976318, 0.07078829407691956, 0.9426979422569275, 0.9522624611854553, 0.9464328289031982, 0.04206368327140808, 0.9939417243003845, 0.6806492805480957, 0.034788742661476135, 0.009075324051082134, 0.0983160063624382, 0.16940604150295258, 0.006050216034054756, 0.001512554008513689, 0.9316924810409546, 0.9152269959449768, 0.7128648161888123, 0.47534963488578796, 0.20204408466815948, 0.25173598527908325, 0.021569570526480675, 0.00791794341057539, 0.01802014745771885, 0.006006715819239616, 0.01010220404714346, 0.0038224554155021906, 0.0013651626650243998, 0.002184260403737426, 0.013293664902448654, 0.23928597569465637, 0.11964298784732819, 0.06646832823753357, 0.5649807453155518, 0.8277397155761719, 0.28177955746650696, 0.6762709021568298, 0.4999043643474579, 0.31258392333984375, 0.636745035648346, 0.03473154827952385, 0.02315436489880085, 0.5605627298355103, 0.12927204370498657, 0.12207426875829697, 0.0489448718726635, 0.018138393759727478, 0.046065762639045715, 0.0489448718726635, 0.01641092821955681, 0.0031670210883021355, 0.0037428431678563356, 0.0031670210883021355, 0.7906121015548706, 0.16644464433193207, 0.3736826777458191, 0.07253840565681458, 0.2982134222984314, 0.03663555532693863, 0.06667671352624893, 0.07400382310152054, 0.030041156336665154, 0.044695381075143814, 0.0007327111670747399, 0.0029308446682989597, 0.9449627995491028, 0.11047390848398209, 0.8837912678718567, 0.41392964124679565, 0.42060592770576477, 0.16690711677074432, 0.9730499982833862, 0.9845070242881775, 0.9753062725067139, 0.8334170579910278, 0.15626570582389832, 0.9970589876174927, 0.13126224279403687, 0.853204607963562, 0.29919490218162537, 0.05695832893252373, 0.37710341811180115, 0.0765991285443306, 0.022259576246142387, 0.08969299495220184, 0.05433955416083336, 0.018331415951251984, 0.0006546934018842876, 0.004582853987812996, 0.6552829742431641, 0.6565038561820984, 0.9103066325187683, 0.9254856109619141, 0.031304970383644104, 0.9391491413116455, 0.5539555549621582, 0.12777651846408844, 0.19069968163967133, 0.008492698892951012, 0.08106666803359985, 0.03281269967556, 0.005018413066864014, 0.29886314272880554, 0.13546878099441528, 0.5145436525344849, 0.016636516898870468, 0.015448193997144699, 0.0005941612762399018, 0.008318258449435234, 0.0017824838869273663, 0.0077240969985723495, 0.9536125659942627, 0.993243932723999, 0.050164513289928436, 0.9430928826332092, 0.1594831943511963, 0.8190932869911194, 0.014709615148603916, 0.006193522363901138, 0.6717433333396912, 0.25770190358161926, 0.16106370091438293, 0.06442547589540482, 0.5154038071632385, 0.7678108811378479, 0.21498705446720123, 0.5147287845611572, 0.13042449951171875, 0.014934103935956955, 0.03783306106925011, 0.16228392720222473, 0.017920924350619316, 0.0019912137649953365, 0.1075255498290062, 0.01194728258997202, 0.9420639276504517, 0.9053032994270325, 0.9637524485588074, 0.9621299505233765, 0.32760798931121826, 0.6654537320137024, 0.820928692817688, 0.9834495186805725, 0.5384911298751831, 0.15008792281150818, 0.18811696767807007, 0.011662237346172333, 0.0030423228163272142, 0.02636679820716381, 0.0035493767354637384, 0.05374770611524582, 0.005070538260042667, 0.02028215304017067, 0.937721848487854, 0.9843292832374573, 0.39553701877593994, 0.009617920964956284, 0.11060608923435211, 0.15268449485301971, 0.058909766376018524, 0.14426881074905396, 0.07814560830593109, 0.04808960482478142, 0.9218924641609192, 0.04752757400274277, 0.9505515098571777, 0.9791260361671448, 0.9778355956077576, 0.9826127290725708, 0.8552180528640747, 0.6108224391937256, 0.007587856613099575, 0.013278748840093613, 0.09674517065286636, 0.08726035058498383, 0.049321070313453674, 0.12519963085651398, 0.007587856613099575, 0.2804245948791504, 0.029389476403594017, 0.6135053038597107, 0.07592281699180603, 0.00122456147801131, 0.5235702991485596, 0.26180776953697205, 0.08511976897716522, 0.4475236237049103, 0.052877429872751236, 0.1508941352367401, 0.0012896934058517218, 0.9889905452728271, 0.2471357136964798, 0.04435769096016884, 0.34218791127204895, 0.20277802646160126, 0.10138901323080063, 0.012673626653850079, 0.01901043951511383, 0.031684067100286484, 0.9926775097846985, 0.2232607901096344, 0.23461303114891052, 0.03557036444544792, 0.05282577499747276, 0.2020699381828308, 0.012563149444758892, 0.08007115870714188, 0.1288101226091385, 0.0022704487200826406, 0.00015136324509512633, 0.018466316163539886, 0.009233158081769943, 0.9592536687850952, 0.1853312849998474, 0.7081485390663147, 0.06406513601541519, 0.003432060591876507, 0.016016284003853798, 0.004576080944389105, 0.004576080944389105, 0.013728242367506027, 0.9576334357261658, 0.07247279584407806, 0.8334370851516724, 0.08153188973665237, 0.938296377658844, 0.03320722281932831, 0.6043714284896851, 0.3586379885673523, 0.9901467561721802, 0.38571569323539734, 0.13106843829154968, 0.19285784661769867, 0.11421678215265274, 0.08613068610429764, 0.0486825630068779, 0.03557571768760681, 0.00374481244944036, 0.25625094771385193, 0.6589310169219971, 0.0732145607471466, 0.959205150604248, 0.9559376835823059, 0.7828018665313721, 0.1739559769630432, 0.9694128036499023, 0.9366167187690735, 0.9926546216011047, 0.5618811845779419, 0.07662016153335571, 0.07662016153335571, 0.25540053844451904, 0.5910694599151611, 0.9916661977767944, 0.9970687627792358, 0.931544840335846, 0.9538141489028931, 0.02510037273168564, 0.05734318494796753, 0.17680814862251282, 0.028671592473983765, 0.7024539709091187, 0.03345018997788429, 0.9688758254051208, 0.878440260887146, 0.7696903944015503, 0.9252811670303345, 0.9888114929199219, 0.8685805201530457, 0.8550582528114319, 0.98488849401474, 0.9546096324920654, 0.9695112109184265, 0.9615379571914673, 0.9130167961120605, 0.06078494340181351, 0.020261647179722786, 0.8915125131607056, 0.04052329435944557, 0.9916648268699646, 0.781365156173706, 0.6489096283912659, 0.2577272355556488, 0.03338976204395294, 0.1679922491312027, 0.04486749321222305, 0.30363816022872925, 0.10016929358243942, 0.07408353686332703, 0.014608021825551987, 0.003130290424451232, 0.056080061942338943, 0.011216011829674244, 0.8636329174041748, 0.056080061942338943, 0.45205655694007874, 0.26887795329093933, 0.20467707514762878, 0.034309178590774536, 0.011485476046800613, 0.007215234916657209, 0.010307478718459606, 0.009276730939745903, 0.0005889987805858254, 0.00014724969514645636, 0.0005889987805858254, 0.0005889987805858254, 0.8211772441864014, 0.021766144782304764, 0.15038426220417023, 0.0039574806578457355, 0.9378178119659424, 0.9992973208427429, 0.10153581947088242, 0.23076322674751282, 0.129227414727211, 0.006153685972094536, 0.10461266338825226, 0.003076842986047268, 0.3230685293674469, 0.10461266338825226, 0.004661491606384516, 0.9556058049201965, 0.037291932851076126, 0.9345439076423645, 0.06155678629875183, 0.005596071481704712, 0.9854958653450012, 0.9776585102081299, 0.16094960272312164, 0.8047480583190918, 0.009590703062713146, 0.9878424406051636, 0.7542758584022522, 0.4790423810482025, 0.5210636854171753, 0.19040408730506897, 0.793350338935852, 0.9955127239227295, 0.9918631911277771, 0.9961660504341125, 0.14303651452064514, 0.0802650973200798, 0.059684302657842636, 0.06997469812631607, 0.18728522956371307, 0.010290397331118584, 0.14097844064235687, 0.26960840821266174, 0.010290397331118584, 0.0277840718626976, 0.9151489734649658, 0.7620792984962463, 0.26553481817245483, 0.17974664270877838, 0.046979233622550964, 0.018383178859949112, 0.12663967907428741, 0.07761786878108978, 0.25736451148986816, 0.022468330338597298, 0.004085151012986898, 0.7400206923484802, 0.08734790235757828, 0.8734790086746216, 0.29177752137184143, 0.28336086869239807, 0.0028055531438440084, 0.17113874852657318, 0.13747210800647736, 0.11502768099308014, 0.028024407103657722, 0.34189775586128235, 0.07286345958709717, 0.05044393241405487, 0.03923416882753372, 0.40355145931243896, 0.056048814207315445, 0.6058772802352905, 0.4554811120033264, 0.0016807421343401074, 0.02857261523604393, 0.09580229967832565, 0.06218745931982994, 0.05882597342133522, 0.03865706920623779, 0.1916045993566513, 0.06722968071699142, 0.32076677680015564, 0.03421512618660927, 0.1924600750207901, 0.03421512618660927, 0.05132268741726875, 0.2694441080093384, 0.08553781360387802, 0.008553781546652317, 0.664535403251648, 0.08428849279880524, 0.25103312730789185, 0.7730284929275513, 0.14012600481510162, 0.06422442197799683, 0.023354334756731987, 0.49836966395378113, 0.016557130962610245, 0.0008278565364889801, 0.05463853478431702, 0.23221376538276672, 0.02359391190111637, 0.055052462965250015, 0.10886313766241074, 0.00910642184317112, 0.7029633522033691, 0.9712748527526855, 0.9648598432540894, 0.9742047786712646, 0.3731955587863922, 0.2118433713912964, 0.27111560106277466, 0.026892034336924553, 0.03128257021307945, 0.0532352514564991, 0.02305031381547451, 0.007683438248932362, 0.001097633969038725, 0.328058660030365, 0.129985511302948, 0.5075624585151672, 0.024759143590927124, 0.994516134262085, 0.886807382106781, 0.09334814548492432, 0.9548873901367188, 0.987122654914856, 0.5388349890708923, 0.9169766306877136, 0.46121758222579956, 0.24830470979213715, 0.18032988905906677, 0.0421331524848938, 0.008988405577838421, 0.010111956857144833, 0.011797282844781876, 0.008988405577838421, 0.02808876894414425, 0.0005617753486149013, 0.45150840282440186, 0.058457646518945694, 0.029228823259472847, 0.08076385408639908, 0.09691662341356277, 0.0684569776058197, 0.09307073056697845, 0.10845431685447693, 0.012306872755289078, 0.0007691795472055674, 0.8552180528640747, 0.8044182658195496, 0.15077748894691467, 0.008150134235620499, 0.0024450402706861496, 0.008965147659182549, 0.011410187929868698, 0.013040214776992798, 0.0016300268471240997, 0.26419511437416077, 0.14375323057174683, 0.06604877859354019, 0.43514490127563477, 0.031081778928637505, 0.0427374467253685, 0.007770444732159376, 0.003885222366079688, 0.6062848567962646, 0.7734643816947937, 0.8552180528640747, 0.06964235007762909, 0.9053505063056946, 0.36288389563560486, 0.0038880417123436928, 0.07776083052158356, 0.20347417891025543, 0.055728595703840256, 0.040176428854465485, 0.16718578338623047, 0.062208667397499084, 0.005184055306017399, 0.023328250274062157, 0.8819770812988281, 0.09270029515028, 0.023837219923734665, 0.8500606417655945, 0.00931573286652565, 0.11644665896892548, 0.0023289332166314125, 0.020960399881005287, 0.49104294180870056, 0.006344223860651255, 0.006344223860651255, 0.0761306881904602, 0.05202263593673706, 0.0761306881904602, 0.15353021025657654, 0.1243467852473259, 0.013957292772829533, 0.5992637276649475, 0.3813496530056, 0.17636404931545258, 0.7877594232559204, 0.035272810608148575, 0.9734228253364563, 0.5007821321487427, 0.20620441436767578, 0.06641388684511185, 0.043383266776800156, 0.06641388684511185, 0.02410181425511837, 0.028922177851200104, 0.04016968980431557, 0.005891554523259401, 0.017139067873358727, 0.941802442073822, 0.9553766846656799, 0.9932183027267456, 0.07626225054264069, 0.9151469469070435, 0.399586021900177, 0.06031487137079239, 0.08293294906616211, 0.4599009156227112, 0.6777825355529785, 0.9964979887008667, 0.0368434377014637, 0.9497419595718384, 0.0122811459004879, 0.7863163352012634, 0.8720958232879639, 0.1039944738149643, 0.33179187774658203, 0.14361141622066498, 0.3416961133480072, 0.07428176701068878, 0.2843047082424164, 0.22053544223308563, 0.4928834140300751, 0.0013285267632454634, 0.9843543171882629, 0.4817677140235901, 0.9743305444717407, 0.9903004765510559, 0.06737127900123596, 0.01924893632531166, 0.9143245220184326, 0.5279917120933533, 0.23324935138225555, 0.12450062483549118, 0.019386958330869675, 0.02120448648929596, 0.029383359476923943, 0.019689880311489105, 0.020295722410082817, 0.003937975969165564, 0.9908809661865234, 0.05230695754289627, 0.9153717160224915, 0.9694031476974487, 0.3720724880695343, 0.3842715919017792, 0.02439819648861885, 0.21348421275615692, 0.02026967704296112, 0.005791336297988892, 0.9729444980621338, 0.9973774552345276, 0.978919267654419, 0.650564432144165, 0.11586242914199829, 0.0012391704367473722, 0.0600997656583786, 0.10780782252550125, 0.045849304646253586, 0.01858755573630333, 0.9812356233596802, 0.30322134494781494, 0.6064426898956299, 0.4197227358818054, 0.28150078654289246, 0.010113800875842571, 0.07248223572969437, 0.2090185433626175, 0.006742533762007952, 0.9651129245758057, 0.3739270269870758, 0.5369208455085754, 0.00958787277340889, 0.07670298218727112, 0.06146938353776932, 0.9220407605171204, 0.004767866339534521, 0.46884018182754517, 0.007946443744003773, 0.21296469867229462, 0.0015892887022346258, 0.2447504699230194, 0.05880368500947952, 0.18650715053081512, 0.7460286021232605, 0.9759665131568909, 0.9556636214256287, 0.0856524258852005, 0.00917704589664936, 0.13459667563438416, 0.02447212114930153, 0.4282621443271637, 0.3150785565376282, 0.42770901322364807, 0.007920537143945694, 0.11088752746582031, 0.007920537143945694, 0.45147064328193665, 0.9601550102233887, 0.30545300245285034, 0.15997537970542908, 0.09098599851131439, 0.0974849984049797, 0.11948161572217941, 0.004499307833611965, 0.048492539674043655, 0.12148130685091019, 0.001499769277870655, 0.012498077005147934, 0.018497154116630554, 0.019996922463178635, 0.9685280919075012, 0.6062847971916199, 0.8750313520431519, 0.947101354598999, 0.5418004393577576, 0.772483766078949, 0.9398501515388489, 0.9863318204879761, 0.6946185231208801, 0.9386721253395081, 0.9386426210403442, 0.9861335158348083, 0.9320515990257263, 0.05083917826414108, 0.9938176274299622, 0.986912190914154, 0.9597753882408142, 0.9765492677688599, 0.9918161630630493, 0.6687586903572083, 0.20062759518623352, 0.0668758675456047, 0.9922611117362976, 0.8901017308235168, 0.9785231351852417, 0.9768714308738708, 0.572681188583374, 0.219003364443779, 0.13467447459697723, 0.007866499945521355, 0.025802120566368103, 0.013845039531588554, 0.006293199956417084, 0.011013099923729897, 0.004719899967312813, 0.002202620031312108, 0.001573299989104271, 0.5597216486930847, 0.29747575521469116, 0.023731831461191177, 0.0384492464363575, 0.01876470446586609, 0.011130045168101788, 0.018672719597816467, 0.0229959599673748, 0.0011957898968830705, 0.007726642768830061, 0.6740488409996033, 0.9538698792457581, 0.9660772085189819, 0.9755371809005737, 0.008659758605062962, 0.06235026195645332, 0.8832953572273254, 0.008659758605062962, 0.03810293599963188, 0.21645568311214447, 0.7792404294013977, 0.4853542149066925, 0.3340749740600586, 0.17649243772029877, 0.9949140548706055, 0.8515447378158569, 0.855218231678009, 0.9510238170623779, 0.2608279287815094, 0.7172768115997314, 0.8795074820518494, 0.043194081634283066, 0.7710943222045898, 0.039354607462882996, 0.030075877904891968, 0.017597587779164314, 0.04927324876189232, 0.04159430041909218, 0.007358991540968418, 0.9394158720970154, 0.05819390341639519, 0.9962304830551147, 0.8806505799293518, 0.9974551796913147, 0.038307372480630875, 0.9385306239128113, 0.2549951672554016, 0.7285576462745667, 0.5664289593696594, 0.035181924700737, 0.14659135043621063, 0.05629107728600502, 0.0035181923303753138, 0.17121869325637817, 0.02110915444791317, 0.9900827407836914, 0.9945637583732605, 0.20406368374824524, 0.08381187170743942, 0.10203184187412262, 0.2441476285457611, 0.003643994452431798, 0.003643994452431798, 0.2623676061630249, 0.09838784486055374, 0.8720958232879639, 0.06031373143196106, 0.8564549684524536, 0.03417778015136719, 0.04825098440051079, 0.9582599997520447, 0.47160086035728455, 0.3017314672470093, 0.014737526886165142, 0.01784016378223896, 0.04886653646826744, 0.02714807540178299, 0.0643797218799591, 0.046539556235075, 0.001551318564452231, 0.004653955809772015, 0.9219977855682373, 0.9670984745025635, 0.14208020269870758, 0.8524812459945679, 0.9570853114128113, 0.6553636193275452, 0.46485036611557007, 0.11463633924722672, 0.2325207144021988, 0.047191958874464035, 0.03152499347925186, 0.04872044548392296, 0.020252419635653496, 0.03076075203716755, 0.0026748478412628174, 0.006113938055932522, 0.0005731817218475044, 0.9557697772979736, 0.18139223754405975, 0.04837126284837723, 0.48526298999786377, 0.037518735975027084, 0.19565555453300476, 0.02666620910167694, 0.02139498107135296, 0.003720866283401847, 0.9626094698905945, 0.9879964590072632, 0.6553633809089661, 0.4050268232822418, 0.0192869920283556, 0.3471658527851105, 0.057860974222421646, 0.1542959362268448, 0.9386426210403442, 0.9989834427833557, 0.004320845007896423, 0.15338999032974243, 0.13826704025268555, 0.03456676006317139, 0.1101815477013588, 0.0561709851026535, 0.18795675039291382, 0.2419673204421997, 0.07129394263029099, 0.8722649216651917, 0.4641385078430176, 0.5268599390983582, 0.9047495722770691, 0.012008977122604847, 0.9096800088882446, 0.07505610585212708, 0.47819578647613525, 0.26527220010757446, 0.044702187180519104, 0.026468399912118912, 0.08058157563209534, 0.002352746669203043, 0.02588021382689476, 0.03882032260298729, 0.011175546795129776, 0.0017645600019022822, 0.024115653708577156, 0.7056059241294861, 0.34639328718185425, 0.519589900970459, 0.30177807807922363, 0.6986162662506104, 0.6285763382911682, 0.03039747290313244, 0.33980032801628113, 0.17226138710975647, 0.8272332549095154, 0.5018124580383301, 0.4983276128768921, 0.0721011757850647, 0.9192900061607361, 0.9626863598823547, 0.02750532329082489, 0.4846076965332031, 0.023496130481362343, 0.49048173427581787, 0.4921496510505676, 0.0690736398100853, 0.43602731823921204, 0.9833855032920837, 0.9834521412849426, 0.9156185984611511, 0.4605964124202728, 0.23247992992401123, 0.15058936178684235, 0.02597767859697342, 0.046780116856098175, 0.016337525099515915, 0.02952931448817253, 0.032878000289201736, 0.0016236049123108387, 0.0031457345467060804, 0.00010147530701942742, 0.5860282182693481, 0.21906930208206177, 0.16947543621063232, 0.012844453565776348, 0.0005351855652406812, 0.006243831943720579, 0.0016055566957220435, 0.000891975942067802, 0.0028543230146169662, 0.9924132823944092, 0.09218345582485199, 0.7681954503059387, 0.12291127443313599, 0.8939433097839355, 0.38492539525032043, 0.08310889452695847, 0.10497965663671494, 0.1902756243944168, 0.07436058670282364, 0.03499322012066841, 0.048115674406290054, 0.024057837203145027, 0.0065612285397946835, 0.0065612285397946835, 0.032806143164634705, 0.010935381054878235, 0.8101491928100586, 0.814104437828064, 0.8398558497428894, 0.9983339905738831, 0.8232327699661255, 0.09147030860185623, 0.41661933064460754, 0.0101614473387599, 0.14564740657806396, 0.18855129182338715, 0.08242062479257584, 0.0067742979153990746, 0.027097191661596298, 0.038387689739465714, 0.060968682169914246, 0.023710044100880623, 0.0011290496913716197, 0.438258558511734, 0.07556182146072388, 0.4344804883003235, 0.045337092131376266, 0.9802813529968262, 0.5480663776397705, 0.20740552246570587, 0.10459829121828079, 0.01576138660311699, 0.04298559948801994, 0.011462826281785965, 0.0007164266426116228, 0.05874698609113693, 0.0003582133213058114, 0.00967175979167223, 0.9824203252792358, 0.4676249623298645, 0.028826195746660233, 0.3676941394805908, 0.032029107213020325, 0.010249313898384571, 0.0691828727722168, 0.019858045503497124, 0.004484075121581554, 0.6271777749061584, 0.9261021614074707, 0.7483177781105042, 0.42888835072517395, 0.4254140257835388, 0.032041165977716446, 0.007720762398093939, 0.06369628757238388, 0.0007720762514509261, 0.0011581144062802196, 0.027794744819402695, 0.008878876455128193, 0.0038603811990469694, 0.8111792802810669, 0.3147468566894531, 0.026868633925914764, 0.20343394577503204, 0.11898966878652573, 0.29939335584640503, 0.03454538807272911, 0.003838376374915242, 0.3835564851760864, 0.3818403482437134, 0.15059097111225128, 0.03089045360684395, 0.005577443167567253, 0.013729090802371502, 0.01330005656927824, 0.009009716100990772, 0.0017161363502964377, 0.0008580681751482189, 0.009867783635854721, 0.8933212757110596, 0.08121103048324585, 0.9921711087226868, 0.9036367535591125, 0.96395343542099, 0.9876834750175476, 0.3838697671890259, 0.25324562191963196, 0.06247241795063019, 0.04388558492064476, 0.0691843330860138, 0.003872257424518466, 0.016521630808711052, 0.13114045560359955, 0.0020652038510888815, 0.017037931829690933, 0.004904859233647585, 0.012391223572194576, 0.9682490825653076, 0.6883839964866638, 0.33104076981544495, 0.09977475553750992, 0.3872053623199463, 0.012554439716041088, 0.0185012798756361, 0.0898633599281311, 0.04096711799502373, 0.019822800531983376, 0.3409706950187683, 0.007359079550951719, 0.03679540008306503, 0.009812106378376484, 0.03679540008306503, 0.3409706950187683, 0.2256784439086914, 0.9561439156532288, 0.192332923412323, 0.12822194397449493, 0.009158710017800331, 0.5586813688278198, 0.10990452766418457, 0.04539744183421135, 0.8083266615867615, 0.04287536069750786, 0.05926888436079025, 0.02143768034875393, 0.02143768034875393, 0.9984057545661926, 0.9974979162216187, 0.28940123319625854, 0.2347242832183838, 0.013807310722768307, 0.016016479581594467, 0.1977206915616989, 0.020434819161891937, 0.07014113664627075, 0.13365477323532104, 0.002761462237685919, 0.02209169790148735, 0.9740591049194336, 0.9904172420501709, 0.9550597071647644, 0.2968054711818695, 0.6307116150856018, 0.07420136779546738, 0.5893564224243164, 0.9740591049194336, 0.9385750889778137, 0.8334996700286865, 0.815271258354187, 0.5693379640579224, 0.3243844509124756, 0.0251447893679142, 0.04412827268242836, 0.008825655095279217, 0.0028308704495429993, 0.024145659059286118, 0.0004995653871446848, 0.0001665217860136181, 0.0001665217860136181, 0.0004995653871446848, 0.5780625343322754, 0.9637277722358704, 0.020750118419528008, 0.013833412900567055, 0.5126354694366455, 0.2349480837583542, 0.21227973699569702, 0.012750951573252678, 0.0028335447423160076, 0.013459337875247002, 0.006139346864074469, 0.0033058023545891047, 0.001889029867015779, 0.6062847971916199, 0.5392645001411438, 0.04888516664505005, 0.21845559775829315, 0.06339795142412186, 0.001527661457657814, 0.08784053474664688, 0.016804276034235954, 0.01833193749189377, 0.004582984372973442, 0.3448772430419922, 0.011270497925579548, 0.12622958421707153, 0.11946728080511093, 0.2276640683412552, 0.06086068972945213, 0.11045088618993759, 0.9622626900672913, 0.7498175501823425, 0.47195255756378174, 0.5082566142082214, 0.6883839964866638, 0.8126361966133118, 0.16252723336219788, 0.5712713003158569, 0.38761991262435913, 0.010756153613328934, 0.0015935043338686228, 0.025496069341897964, 0.002788632409647107, 0.0003983760834671557, 0.024196596816182137, 0.3750472664833069, 0.5928166508674622, 0.6069439053535461, 0.2360582947731018, 0.0680767372250557, 0.061003830283880234, 0.0008841134840622544, 0.0004420567420311272, 0.025197234004735947, 0.0017682269681245089, 0.7207599878311157, 0.14415200054645538, 0.058776192367076874, 0.94041907787323, 0.9795118570327759, 0.819520890712738, 0.17383776605129242, 0.5198196768760681, 0.9160720109939575, 0.6152043342590332, 0.24125659465789795, 0.1226387694478035, 0.022115187719464302, 0.0801127627491951, 0.11826169490814209, 0.1506882905960083, 0.1697627604007721, 0.4482499659061432, 0.011444680392742157, 0.013352126814424992, 0.007629786618053913, 0.9530192613601685, 0.33343416452407837, 0.5059000849723816, 0.01149772945791483, 0.02299545891582966, 0.11497729271650314, 0.6656778454780579, 0.7033111453056335, 0.015698930248618126, 0.9497852921485901, 0.03139786049723625, 0.5103382468223572, 0.30736279487609863, 0.0028996490873396397, 0.17977823317050934, 0.8328565955162048, 0.8317984938621521, 0.6540161371231079, 0.9452702403068542, 0.9905356168746948, 0.3553970456123352, 0.003063767682760954, 0.6280723810195923, 0.009191302582621574, 0.9819359183311462, 0.1449596881866455, 0.008053316734731197, 0.8455982208251953, 0.9380710124969482, 0.8720958232879639, 0.9904468655586243, 0.05096234753727913, 0.29378294944763184, 0.1214102953672409, 0.013490032404661179, 0.2098449468612671, 0.005995570216327906, 0.03747231140732765, 0.22933055460453033, 0.03597342222929001, 0.9340118765830994, 0.9913113117218018, 0.5751872062683105, 0.2814207673072815, 0.07169387489557266, 0.021418917924165726, 0.019336523488163948, 0.010114489123225212, 0.01591544598340988, 0.004313531797379255, 0.0005949699552729726, 0.7225224375724792, 0.9861676096916199, 0.012483134865760803, 0.9474612474441528, 0.23474815487861633, 0.008614610880613327, 0.21105797588825226, 0.10552898794412613, 0.26920661330223083, 0.04091940447688103, 0.04091940447688103, 0.049534015357494354, 0.008614610880613327, 0.0021536527201533318, 0.030151139944791794, 0.946311354637146, 0.9760982990264893, 0.8874649405479431, 0.2730005085468292, 0.241977721452713, 0.4045371115207672, 0.08065924048423767, 0.44314518570899963, 0.21000277996063232, 0.16416017711162567, 0.013971079140901566, 0.08338987827301025, 0.016154060140252113, 0.025322580710053444, 0.02706896699965, 0.008731924928724766, 0.0030561736784875393, 0.004365962464362383, 0.9618123769760132, 0.9697622656822205, 0.9354175329208374, 0.8675747513771057, 0.45544642210006714, 0.45544642210006714, 0.9561491012573242, 0.9791809320449829, 0.9678572416305542, 0.2934967875480652, 0.34449252486228943, 0.33472737669944763, 0.027125393971800804, 0.8389577865600586, 0.016547491773962975, 0.14065366983413696, 0.0033094980753958225, 0.026570584625005722, 0.8236880898475647, 0.1328529268503189, 0.08230063319206238, 0.9053069353103638, 0.9825388789176941, 0.9365902543067932, 0.04091418534517288, 0.07415696233510971, 0.048585593700408936, 0.6648555397987366, 0.1738852858543396, 0.6155859231948853, 0.16181115806102753, 0.1974271982908249, 0.006595563143491745, 0.000879408442415297, 0.003517633769661188, 0.000879408442415297, 0.004397042095661163, 0.008354379795491695, 0.7825174927711487, 0.04362659156322479, 0.030372943729162216, 0.0005522353458218277, 0.011044707149267197, 0.036999769508838654, 0.07620847970247269, 0.01822376623749733, 0.9868682026863098, 0.6769920587539673, 0.10803064703941345, 0.21246027946472168, 0.9898992776870728, 0.005431437399238348, 0.9939530491828918, 0.9978541135787964, 0.4732501208782196, 0.017209095880389214, 0.2409273386001587, 0.26674097776412964, 0.691646933555603, 0.07410503178834915, 0.18526257574558258, 0.0494033545255661, 0.7722612619400024, 0.16548454761505127, 0.9982683062553406, 0.9640412926673889, 0.9429301619529724, 0.955054521560669, 0.6553636789321899, 0.9640698432922363, 0.9231305122375488, 0.931352972984314, 0.9265261292457581, 0.08804460614919662, 0.014922814443707466, 0.2671183943748474, 0.0014922814443707466, 0.43425390124320984, 0.1939965933561325, 0.971221387386322, 0.5076248049736023, 0.25076815485954285, 0.21766220033168793, 0.009703472256660461, 0.0017123774159699678, 0.003995547536760569, 0.008371623232960701, 0.00019026416703127325, 0.03528447076678276, 0.399890661239624, 0.5645515322685242, 0.9315245747566223, 0.16424527764320374, 0.34342193603515625, 0.4852701425552368, 0.9617881774902344, 0.9754034280776978, 0.4806317985057831, 0.7863173484802246, 0.35651132464408875, 0.04986172169446945, 0.04986172169446945, 0.3540182411670685, 0.03739629313349724, 0.012465430423617363, 0.054847896099090576, 0.07479258626699448, 0.007479258347302675, 0.9779230952262878, 0.8992989659309387, 0.3013753592967987, 0.3798866271972656, 0.014746829867362976, 0.004569440148770809, 0.1503761261701584, 0.03240148350596428, 0.0394633449614048, 0.06480296701192856, 0.01225440762937069, 0.9487603902816772, 0.8901017308235168, 0.49968233704566956, 0.9830823540687561, 0.13984228670597076, 0.13984228670597076, 0.10488171875476837, 0.611810028553009, 0.017480285838246346, 0.9716350436210632, 0.008675312623381615, 0.01735062524676323, 0.987771213054657, 0.37690168619155884, 0.2578800916671753, 0.31739088892936707, 0.03967386111617088, 0.6185554265975952, 0.05687866359949112, 0.08531799167394638, 0.12797698378562927, 0.003554916474968195, 0.10664749145507812, 0.4234864413738251, 0.5646485686302185, 0.7120471000671387, 0.2373490333557129, 0.976516604423523, 0.9447135925292969, 0.9748163223266602, 0.5269112586975098, 0.04488157853484154, 0.942513108253479, 0.9988757967948914, 0.9919270277023315, 0.8970316052436829, 0.23520441353321075, 0.35567498207092285, 0.36714836955070496, 0.017210079357028008, 0.02294677309691906, 0.987364649772644, 0.3203085958957672, 0.05057504400610924, 0.6069005131721497, 0.998483419418335, 0.9917197227478027, 0.9892962574958801, 0.9990060329437256, 0.9166232943534851, 0.0366649329662323, 0.9737750887870789, 0.009016435593366623, 0.018032871186733246, 0.9982539415359497, 0.9933019876480103, 0.9937660098075867, 0.09710745513439178, 0.8982439637184143, 0.9941135048866272, 0.6421746611595154, 0.038772810250520706, 0.012116502970457077, 0.30048927664756775, 0.004846601281315088, 0.996188223361969, 0.9989259839057922, 0.7188451290130615, 0.8966180682182312, 0.9898322820663452, 0.35440152883529663, 0.15247507393360138, 0.03296758234500885, 0.09066085517406464, 0.016483791172504425, 0.34203869104385376, 0.008241895586252213, 0.9683019518852234, 0.02482825517654419, 0.9941849708557129, 0.9691295027732849, 0.9814132452011108, 0.010436470620334148, 0.9862464666366577, 0.21372205018997192, 0.7147116661071777, 0.04148722067475319, 0.005657348316162825, 0.023886581882834435, 0.5431625843048096, 0.9428447484970093, 0.6888332962989807, 0.6888332962989807, 0.9769540429115295, 0.9294067621231079, 0.9583839178085327, 0.855218231678009, 0.9566062688827515, 0.9660772085189819, 0.09707216918468475, 0.01941443420946598, 0.03882886841893196, 0.8348206877708435, 0.05379851534962654, 0.9145747423171997, 0.40628665685653687, 0.1944989264011383, 0.39764225482940674, 0.991229772567749, 0.5336438417434692, 0.24478012323379517, 0.15284256637096405, 0.01769145391881466, 0.003480286104604602, 0.01624133437871933, 0.004350357688963413, 0.023491930216550827, 0.0029002383816987276, 0.8720958232879639, 0.6065922379493713, 0.7340204119682312, 0.7173641920089722, 0.13571755588054657, 0.13571755588054657, 0.41791048645973206, 0.5746269226074219, 0.9983118772506714, 0.9968738555908203, 0.058660317212343216, 0.11132128536701202, 0.829910159111023, 0.9755384922027588, 0.09092185646295547, 0.1288059651851654, 0.778897225856781, 0.8334996700286865, 0.9718300104141235, 0.09543289989233017, 0.8068417906761169, 0.08675717562437057, 0.979950487613678, 0.9428446292877197, 0.7550057172775269, 0.9798334836959839, 0.08886939287185669, 0.05501438304781914, 0.43588319420814514, 0.04231875762343407, 0.1565794050693512, 0.1565794050693512, 0.03385500609874725, 0.029623130336403847, 0.9294886589050293, 0.23010846972465515, 0.21778123080730438, 0.012327238917350769, 0.09039975702762604, 0.2773628830909729, 0.04725441709160805, 0.024654477834701538, 0.07601797580718994, 0.004109079483896494, 0.018490858376026154, 0.7351324558258057, 0.20580033957958221, 0.7203012108802795, 0.051450084894895554, 0.43413853645324707, 0.009290902875363827, 0.19764283299446106, 0.07855036109685898, 0.06672557443380356, 0.08446275442838669, 0.10051067173480988, 0.02280494198203087, 0.00506776524707675, 0.9587420225143433, 0.9946554899215698, 0.8692792057991028, 0.7745835185050964, 0.7319687604904175, 0.9924725294113159, 0.2538664638996124, 0.2205304503440857, 0.16155138611793518, 0.028207384049892426, 0.21540184319019318, 0.11539384722709656, 0.0025643075350672007, 0.2728572487831116, 0.0610756017267704, 0.3577285408973694, 0.06980068981647491, 0.05790284276008606, 0.12294439226388931, 0.028554826974868774, 0.012691034004092216, 0.00951827596873045, 0.007138706743717194, 0.21075016260147095, 0.2600746750831604, 0.09192293882369995, 0.19729802012443542, 0.011210114695131779, 0.1838458776473999, 0.044840458780527115, 0.8531320095062256, 0.9944698810577393, 0.007353278808295727, 0.985339343547821, 0.9555707573890686, 0.009100673720240593, 0.0318523570895195, 0.46419429779052734, 0.40461379289627075, 0.010078292340040207, 0.06610173732042313, 0.012746075168251991, 0.008892610669136047, 0.028752775862812996, 0.003260623896494508, 0.0008892610785551369, 0.8720958232879639, 0.9615961909294128, 0.4229799807071686, 0.004834056831896305, 0.025378799065947533, 0.05800868198275566, 0.06405125558376312, 0.16435793042182922, 0.11118330806493759, 0.07855342328548431, 0.013293656520545483, 0.027795827016234398, 0.022961769253015518, 0.006042571272701025, 0.9008631706237793, 0.28975343704223633, 0.12638181447982788, 0.4192177355289459, 0.14487671852111816, 0.02157738246023655, 0.9420496821403503, 0.21291927993297577, 0.26462823152542114, 0.042583856731653214, 0.40758833289146423, 0.06995919346809387, 0.9644849896430969, 0.5864354372024536, 0.05601334944367409, 0.18898417055606842, 0.07987990975379944, 0.025814848020672798, 0.005357798654586077, 0.015586323104798794, 0.027276065200567245, 0.014125104993581772, 0.9486825466156006, 0.9440599679946899, 0.02860787883400917, 0.02383989840745926, 0.9924117922782898, 0.9802154302597046, 0.8208204507827759, 0.996266782283783, 0.5480781197547913, 0.13026070594787598, 0.2552548050880432, 0.022470850497484207, 0.0017555352533236146, 0.028088564053177834, 0.005617712624371052, 0.0042132847011089325, 0.0007022140780463815, 0.003511070506647229, 0.00035110703902319074, 0.990300178527832, 0.9789600372314453, 0.8901018500328064, 0.9387987852096558, 0.8767297267913818, 0.04046444967389107, 0.06744074821472168, 0.31400543451309204, 0.6280108690261841, 0.9896372556686401, 0.07192082703113556, 0.020548809319734573, 0.6335882544517517, 0.18836407363414764, 0.08562003821134567, 0.9646605849266052, 0.7827868461608887, 0.06523223966360092, 0.1043715849518776, 0.0260928962379694, 0.52357017993927, 0.7904499769210815, 0.927240788936615, 0.804115891456604, 0.8285874128341675, 0.7609288096427917, 0.3004888892173767, 0.11840826272964478, 0.03574588894844055, 0.03016059473156929, 0.1999535709619522, 0.04691648110747337, 0.2289971113204956, 0.03909706696867943, 0.5697172284126282, 0.8819785118103027, 0.49968233704566956, 0.9841200113296509, 0.011183181777596474, 0.781365156173706, 0.9488682746887207, 0.7223060131072998, 0.03925576061010361, 0.21983225643634796, 0.015702303498983383, 0.9569627642631531, 0.08791457861661911, 0.10989322513341904, 0.7912312150001526, 0.9894548058509827, 0.9634668231010437, 0.9766731858253479, 0.4203888177871704, 0.0422147773206234, 0.43006303906440735, 0.028143184259533882, 0.07299638539552689, 0.0070357960648834705, 0.9874569177627563, 0.6495538949966431, 0.003305617719888687, 0.08925167471170425, 0.08759886771440506, 0.07107078284025192, 0.08594606071710587, 0.014875279739499092, 0.931352972984314, 0.926213264465332, 0.9951493144035339, 0.9726622104644775, 0.7138210535049438, 0.9654557108879089, 0.9639917016029358, 0.029509948566555977, 0.004918324761092663, 0.8552180528640747, 0.17689596116542816, 0.7768039703369141, 0.0006409274064935744, 0.023073386400938034, 0.004486491903662682, 0.008332055993378162, 0.00961391068994999, 0.9981378316879272, 0.8552180528640747, 0.5579555630683899, 0.23200303316116333, 0.16336771845817566, 0.01905086822807789, 0.0013048539403825998, 0.025314167141914368, 0.0007829123642295599, 0.9877051711082458, 0.9927457571029663, 0.21820472180843353, 0.13885755836963654, 0.0793471708893776, 0.5554302334785461, 0.29567673802375793, 0.028405627235770226, 0.5952270030975342, 0.0025823297910392284, 0.07876105606555939, 0.9423423409461975, 0.050849661231040955, 0.88139408826828, 0.050849661231040955, 0.7443728446960449, 0.25376346707344055, 0.14200706779956818, 0.8520424365997314, 0.9740591049194336, 0.8818497657775879, 0.7029633522033691, 0.720774233341217, 0.18019355833530426, 0.16812051832675934, 0.1793285459280014, 0.03362410515546799, 0.6164419054985046, 0.9908690452575684, 0.25925639271736145, 0.02160470001399517, 0.36727991700172424, 0.35287678241729736, 0.24081675708293915, 0.07863404601812363, 0.16709734499454498, 0.02457313798367977, 0.09829255193471909, 0.3587678074836731, 0.014743883162736893, 0.009829255752265453, 0.994273841381073, 0.9115146994590759, 0.19839808344841003, 0.13735252618789673, 0.5951942801475525, 0.03052278235554695, 0.04578417167067528, 0.007777652237564325, 0.034999433904886246, 0.9566512703895569, 0.9932462573051453, 0.9990255236625671, 0.9963699579238892, 0.7772016525268555, 0.826471209526062, 0.07534129917621613, 0.068492092192173, 0.02739683724939823, 0.7388755679130554, 0.09563422203063965, 0.19658145308494568, 0.22314651310443878, 0.06906916201114655, 0.39847591519355774, 0.01593903638422489, 0.9221398830413818, 0.5780626535415649, 0.9991843104362488, 0.8334997296333313, 0.5184921622276306, 0.005083256401121616, 0.4168270230293274, 0.060999076813459396, 0.11475978791713715, 0.7459385991096497, 0.14344973862171173, 0.8773528933525085, 0.3664458990097046, 0.012080634012818336, 0.020134389400482178, 0.1812095046043396, 0.012080634012818336, 0.2617470622062683, 0.13691385090351105, 0.004026877693831921, 0.33822259306907654, 0.06841320544481277, 0.2936387062072754, 0.06995058059692383, 0.0461212620139122, 0.09839202463626862, 0.054576825350522995, 0.019217191264033318, 0.0007686876924708486, 0.009992940351366997, 0.6062847971916199, 0.9445708990097046, 0.4111427664756775, 0.12110994756221771, 0.3490102291107178, 0.031066277995705605, 0.02427053079009056, 0.01116444356739521, 0.008494685404002666, 0.03834743797779083, 0.005096811335533857, 0.9837061166763306, 0.9659503698348999, 0.8720958232879639, 0.8901018500328064, 0.9806602001190186, 0.9987805485725403, 0.992568850517273, 0.26639559864997864, 0.6659889817237854, 0.2003442645072937, 0.018782274797558784, 0.010434596799314022, 0.010434596799314022, 0.20869193971157074, 0.056346822530031204, 0.15860587358474731, 0.3026033043861389, 0.03339070826768875, 0.23352742195129395, 0.048651546239852905, 0.025947490707039833, 0.20757992565631866, 0.09405965358018875, 0.28217896819114685, 0.08432934433221817, 0.022704055532813072, 0.8992989659309387, 0.48102623224258423, 0.48102623224258423, 0.8770891427993774, 0.9954900741577148, 0.04800153151154518, 0.05400172248482704, 0.2100066989660263, 0.5460174083709717, 0.11400363594293594, 0.01800057478249073, 0.7239996790885925, 0.6540161371231079, 0.23914982378482819, 0.03457587584853172, 0.24203114211559296, 0.22474320232868195, 0.05762646347284317, 0.12245623022317886, 0.0547451376914978, 0.0014406616101041436, 0.021609922870993614, 0.29965925216674805, 0.691521406173706, 0.8350650668144226, 0.029809672385454178, 0.9539095163345337, 0.6742590069770813, 0.1579608917236328, 0.07751784473657608, 0.006337936967611313, 0.02535174787044525, 0.019501345232129097, 0.028276950120925903, 0.005850403569638729, 0.004875336308032274, 0.3038109838962555, 0.26254186034202576, 0.14312483370304108, 0.00790259800851345, 0.12029510736465454, 0.00790259800851345, 0.0105367973446846, 0.1317099630832672, 0.01229292992502451, 0.6874754428863525, 0.1483229547739029, 0.22638767957687378, 0.6089047789573669, 0.015612943097949028, 0.7397804260253906, 0.8670884966850281, 0.15803436934947968, 0.08156612515449524, 0.09176188707351685, 0.2548941373825073, 0.30587297677993774, 0.010195765644311905, 0.09685977548360825, 0.2992938756942749, 0.16008742153644562, 0.027841292321681976, 0.4733019769191742, 0.03480161353945732, 0.5235702991485596, 0.1696622371673584, 0.1895667463541031, 0.30330678820610046, 0.06777011603116989, 0.03886118158698082, 0.07393103092908859, 0.01895667426288128, 0.11089655011892319, 0.005687002558261156, 0.010900087654590607, 0.009952254593372345, 0.3828428089618683, 0.5359799265861511, 0.7083379030227661, 0.8720958232879639, 0.6497532725334167, 0.18152375519275665, 0.015268353745341301, 0.034353796392679214, 0.07719001173973083, 0.02926434390246868, 0.012723627500236034, 0.9865542650222778, 0.017380591481924057, 0.9733131527900696, 0.9382374882698059, 0.9574285745620728, 0.9983533024787903, 0.05969567224383354, 0.02170751802623272, 0.027134397998452187, 0.724488377571106, 0.1655198186635971, 0.9916411638259888, 0.6336258053779602, 0.07125218957662582, 0.19300881028175354, 0.0212937593460083, 0.021566756069660187, 0.02347773313522339, 0.01501483004540205, 0.0035489597357809544, 0.01665281131863594, 0.0005459937965497375, 0.8074755072593689, 0.6216053366661072, 0.69552081823349, 0.9901886582374573, 0.9611964821815491, 0.22815397381782532, 0.38920384645462036, 0.08723533898591995, 0.04697287455201149, 0.24157479405403137, 0.6062847971916199, 0.9872726798057556, 0.8500505089759827, 0.4847491383552551, 0.1392364501953125, 0.3300419747829437, 0.041255246847867966, 0.9609638452529907, 0.2549303472042084, 0.0410333089530468, 0.5447826385498047, 0.018334032967686653, 0.013095737434923649, 0.09079711139202118, 0.021826228126883507, 0.01571488380432129, 0.8922441005706787, 0.9777460098266602, 0.475601464509964, 0.8550582528114319, 0.9582194089889526, 0.13151200115680695, 0.6887182593345642, 0.001213956973515451, 0.05017688870429993, 0.06029319390654564, 0.024683792144060135, 0.02589774876832962, 0.00890235137194395, 0.008093046024441719, 0.0008093046490103006, 0.02244299277663231, 0.8145486116409302, 0.07591012120246887, 0.0033004400320351124, 0.007260968443006277, 0.06138818711042404, 0.007260968443006277, 0.007921055890619755, 0.8812244534492493, 0.11834189295768738, 0.036450743675231934, 0.10023954510688782, 0.8565924763679504, 0.27711403369903564, 0.0791754424571991, 0.527836263179779, 0.10556725412607193, 0.309190571308136, 0.1622210592031479, 0.04436815530061722, 0.02218407765030861, 0.31750959157943726, 0.015251552686095238, 0.042981646955013275, 0.0720982477068901, 0.015251552686095238, 0.7021629810333252, 0.9574739336967468, 0.3765901029109955, 0.07288841158151627, 0.1166214570403099, 0.2040875405073166, 0.07167360186576843, 0.07896244525909424, 0.053451500833034515, 0.023081328719854355, 0.6926996111869812, 0.0027379433158785105, 0.29159095883369446, 0.012320744805037975, 0.9806505441665649, 0.3398544192314148, 0.04189985990524292, 0.4981427788734436, 0.11638849973678589, 0.2005361169576645, 0.5715279579162598, 0.06016083434224129, 0.16042889654636383, 0.01408105157315731, 0.746295690536499, 0.23937787115573883, 0.0553954541683197, 0.9298522472381592, 0.015827272087335587, 0.06447584927082062, 0.8854683041572571, 0.051580678671598434, 0.9971738457679749, 0.6011863946914673, 0.21391908824443817, 0.014753039926290512, 0.09589476138353348, 0.07376520335674286, 0.9828717708587646, 0.6062847971916199, 0.9984422922134399, 0.7014514803886414, 0.9522395133972168, 0.5524991154670715, 0.3076241612434387, 0.09794998168945312, 0.005866795778274536, 0.011988669633865356, 0.0017855464247986674, 0.0007652342319488525, 0.017855465412139893, 0.001530468463897705, 0.0022957026958465576, 0.9046992659568787, 0.984795331954956, 0.24106520414352417, 0.051427245140075684, 0.3407054841518402, 0.33427709341049194, 0.028927825391292572, 0.9480298757553101, 0.9562920331954956, 0.005033115856349468, 0.020132463425397873, 0.010066231712698936, 0.010066231712698936, 0.0371507927775383, 0.9535370469093323, 0.8100865483283997, 0.12924428284168243, 0.8400878310203552, 0.25060388445854187, 0.07913806289434433, 0.6331045031547546, 0.026379356160759926, 0.4134930670261383, 0.42437446117401123, 0.1577802449464798, 0.07977853715419769, 0.9174531698226929, 0.32384926080703735, 0.11845070123672485, 0.3427509665489197, 0.03528318554162979, 0.030242731794714928, 0.007560682948678732, 0.04158375784754753, 0.06804614514112473, 0.032762959599494934, 0.3292964994907379, 0.11645852029323578, 0.04417392238974571, 0.34937554597854614, 0.03212649002671242, 0.04015811160206795, 0.06023716554045677, 0.02409486658871174, 0.9751283526420593, 0.637414813041687, 0.18953679502010345, 0.041542310267686844, 0.062313467264175415, 0.02682940848171711, 0.01081831008195877, 0.022934816777706146, 0.008654648438096046, 0.9761604070663452, 0.8161448836326599, 0.9175105094909668, 0.5361229181289673, 0.1783626526594162, 0.19319745898246765, 0.043296929448843, 0.008969881571829319, 0.01586979068815708, 0.01742227002978325, 0.004657438490539789, 0.0003449954674579203, 0.0008624886395409703, 0.00051749317208305, 0.00051749317208305, 0.9433987140655518, 0.31901583075523376, 0.24045732617378235, 0.12637671828269958, 0.0013662348501384258, 0.13594035804271698, 0.01639481820166111, 0.04474418982863426, 0.09836890548467636, 0.017077935859560966, 0.9862697720527649, 0.9423646330833435, 0.14220228791236877, 0.8322691321372986, 0.00881874654442072, 0.00220468663610518, 0.009921089746057987, 0.003307029837742448, 0.87049400806427, 0.9885262846946716, 0.5564149022102356, 0.19406843185424805, 0.18473997712135315, 0.02725372090935707, 0.0009145543444901705, 0.011889207176864147, 0.017742354422807693, 0.004938593599945307, 0.0016461978666484356, 0.0003658217319753021, 0.02336869202554226, 0.9698007106781006, 0.9587497711181641, 0.9660772085189819, 0.3229570686817169, 0.12687598168849945, 0.39216214418411255, 0.019223634153604507, 0.09611817449331284, 0.042291995137929916, 0.6062845587730408, 0.9891754984855652, 0.46854954957962036, 0.39074453711509705, 0.12294052541255951, 0.002579171909019351, 0.015045168809592724, 0.662417471408844, 0.20573073625564575, 0.074045330286026, 0.009754474274814129, 0.02704649791121483, 0.011084630154073238, 0.0048772371374070644, 0.0035470814909785986, 0.0004433851863723248, 0.0008867703727446496, 0.08045920729637146, 0.026819733902812004, 0.7107229828834534, 0.1743282824754715, 0.680594265460968, 0.15088030695915222, 0.01632903702557087, 0.059437695890665054, 0.013716391287744045, 0.04245549812912941, 0.036577045917510986, 0.04721415787935257, 0.31476107239723206, 0.6295221447944641, 0.8100865483283997, 0.8829546570777893, 0.9525788426399231, 0.939131498336792, 0.952897846698761, 0.11947791278362274, 0.5874330997467041, 0.049782462418079376, 0.029869478195905685, 0.05973895639181137, 0.10952141880989075, 0.03982597216963768, 0.37162014842033386, 0.2161828726530075, 0.007146541494876146, 0.16258381307125092, 0.003573270747438073, 0.016079718247056007, 0.1688370406627655, 0.04555920138955116, 0.008039859123528004, 0.6540245413780212, 0.9715315103530884, 0.012197647243738174, 0.7196611762046814, 0.26834824681282043, 0.953727126121521, 0.7397804260253906, 0.9609503746032715, 0.9971181154251099, 0.16041482985019684, 0.060155559331178665, 0.775338351726532, 0.9570823311805725, 0.9678469896316528, 0.8720958232879639, 0.013233846053481102, 0.024577142670750618, 0.9603990912437439, 0.9495351910591125, 0.9342240691184998, 0.9188644289970398, 0.943987250328064, 0.9376749992370605, 0.7783358097076416, 0.014967995695769787, 0.06136878579854965, 0.06436238437891006, 0.0014967996394261718, 0.056878384202718735, 0.01945839449763298, 0.0029935992788523436, 0.801268994808197, 0.019851258024573326, 0.17866133153438568, 0.9530864357948303, 0.9502428770065308, 0.7724192142486572, 0.02615204080939293, 0.12609019875526428, 0.028020044788718224, 0.0046700076200068, 0.03362405300140381, 0.000934001465793699, 0.007472011726349592, 0.8077379465103149, 0.17054876685142517, 0.009474932216107845, 0.004737466108053923, 0.005921832285821438, 0.7542758584022522, 0.6716753244400024, 0.9781739711761475], \"Term\": [\"aabenbar\", \"aabenbar\", \"aabenbar\", \"aabenbar\", \"aand\", \"aand\", \"aand\", \"aand\", \"aand\", \"aand\", \"aand\", \"aand\", \"aand\", \"aand\", \"aand\", \"aandda\", \"aandmed\", \"aando\", \"aandsaa\", \"aandsom\", \"aandtil\", \"aar\", \"aar\", \"aar\", \"aar\", \"aar\", \"aar\", \"aar\", \"aar\", \"afrika\", \"afskum\", \"al\", \"al\", \"al\", \"al\", \"al\", \"al\", \"al\", \"al\", \"al\", \"aldenstund\", \"aldenstund\", \"alexand\", \"alexand\", \"alfad\", \"alfad\", \"allesammennu\", \"alterbog\", \"amen\", \"amen\", \"amen\", \"angel\", \"angelsachs\", \"antioki\", \"apollo\", \"apollo\", \"apollo\", \"apostl\", \"apostl\", \"apostl\", \"apostl\", \"apostolisk\", \"arab\", \"arbeid\", \"arbeid\", \"arbeid\", \"arbeid\", \"arbeid\", \"arild\", \"arild\", \"artemis\", \"asal\\u00e6r\", \"asal\\u00e6r\", \"aser\", \"aser\", \"aser\", \"aser\", \"asern\", \"asern\", \"asern\", \"asern\", \"asgaard\", \"asgaard\", \"asi\", \"askalon\", \"assyr\", \"asta\", \"atheniens\", \"atheniens\", \"athun\", \"axelstadtil\", \"axled\", \"baad\", \"baad\", \"baad\", \"baad\", \"baad\", \"baad\", \"baandog\", \"baandtil\", \"balak\", \"bald\", \"bald\", \"bald\", \"bald\", \"bald\", \"baldur\", \"banemed\", \"baresand\", \"barn\", \"barn\", \"barn\", \"barn\", \"barn\", \"barn\", \"barn\", \"barn\", \"barn\", \"barnehjert\", \"barraba\", \"bedsted\", \"bedsted\", \"befordr\", \"begrib\", \"begrib\", \"begrib\", \"behag\", \"behag\", \"behag\", \"bekjend\", \"bekjend\", \"beleiring\", \"ber\\u00f8mt\", \"ber\\u00f8mt\", \"ber\\u00f8mt\", \"ber\\u00f8mt\", \"beskikked\", \"besku\", \"besku\", \"besku\", \"beslutning\", \"betydersj\\u00e6l\", \"betydningsfuld\", \"bibel\", \"bibel\", \"bibel\", \"bibel\", \"bibel\", \"bibelsk\", \"bibelsk\", \"bibelsprog\", \"bittr\", \"bittr\", \"bittr\", \"bittr\", \"bjerg\", \"bjerg\", \"bjerg\", \"bjerg\", \"bjerg\", \"bjerg\", \"bjerg\", \"blaam\\u00e6nd\", \"blank\", \"blank\", \"blant\", \"blevn\", \"blevn\", \"blod\", \"blod\", \"blod\", \"blod\", \"blod\", \"blod\", \"blod\", \"blod\", \"blod\", \"blot\", \"blot\", \"blot\", \"blot\", \"boemund\", \"boemund\", \"bolt\", \"bondestand\", \"bondestand\", \"bondeven\", \"bordethvor\", \"borgemest\", \"bortkasted\", \"brag\", \"brag\", \"brag\", \"brag\", \"brag\", \"brageog\", \"brask\", \"brat\", \"brat\", \"brat\", \"brat\", \"brat\", \"brat\", \"brorson\", \"bryderaltid\", \"brynhild\", \"brynhild\", \"brynhild\", \"brynhild\", \"brystd\", \"br\\u00f8daf\", \"bysantinsk\", \"byzantin\", \"b\\u00e6gtehimmelbr\\u00f8d\", \"b\\u00f8genes_\\u00f8elad\", \"b\\u00f8lg\", \"b\\u00f8lg\", \"b\\u00f8lg\", \"b\\u00f8lg\", \"b\\u00f8lg\", \"b\\u00f8lg\", \"b\\u00f8lg\", \"b\\u00f8lgerd\", \"b\\u00f8lgerei\", \"b\\u00f8m\", \"b\\u00f8nd\", \"b\\u00f8nd\", \"b\\u00f8nd\", \"b\\u00f8nd\", \"b\\u00f8nd\", \"b\\u00f8nd\", \"b\\u00f8r\", \"b\\u00f8r\", \"b\\u00f8r\", \"b\\u00f8r\", \"b\\u00f8r\", \"b\\u00f8r\", \"canaan\", \"christ\", \"christ\", \"christ\", \"christ\", \"christ\", \"christ\", \"christ\", \"christ\", \"christendom\", \"christendom\", \"christendom\", \"christendom\", \"christian\", \"christian\", \"christn\", \"christn\", \"christn\", \"christn\", \"christn\", \"christn\", \"christn\", \"christn\", \"clara\", \"clara\", \"clara_raphael\", \"columbus\", \"c\\u00e6sar\", \"daab\", \"daab\", \"daab\", \"daab\", \"daab\", \"daaben\", \"daabog\", \"daabspag\", \"dag\", \"dag\", \"dag\", \"dag\", \"dag\", \"dag\", \"dag\", \"dag\", \"dag\", \"dagi\", \"dagtil\", \"dam\", \"dam\", \"daneh\\u00e6r\", \"daneh\\u00e6r\", \"danmark\", \"danmark\", \"danmark\", \"danmark\", \"danmark\", \"danmark\", \"danmark\", \"dannebraag\", \"dannebrog\", \"dannebrog\", \"dannebrog\", \"dannebrog\", \"dannebrogtil\", \"dannekvind\", \"dannekvind\", \"dannekvind\", \"dannelsessprog\", \"dannemark\", \"dannemark\", \"dannem\\u00e6nd\", \"dannem\\u00e6nd\", \"dannem\\u00e6nd\", \"dansk\", \"dansk\", \"dansk\", \"dansk\", \"darius\", \"davidspsalm\", \"davidspsalm\", \"deil\", \"deil\", \"deil\", \"deil\", \"deil\", \"deil\", \"deil\", \"deil\", \"deil\", \"deil\", \"del\", \"del\", \"del\", \"del\", \"del\", \"del\", \"del\", \"del\", \"del\", \"delphi\", \"delt\", \"delt\", \"demet\", \"demkong\", \"derhvor\", \"derog\", \"desv\\u00e6r\", \"desv\\u00e6r\", \"digt\", \"digt\", \"digt\", \"digt\", \"digt\", \"digt\", \"digt\", \"digt\", \"digt\", \"digtil\", \"digtning\", \"digtning\", \"diodor\", \"dit\", \"dit\", \"dit\", \"dit\", \"dit\", \"dit\", \"dit\", \"dit\", \"dod\", \"dogmed\", \"drabant\", \"drikkeblod\", \"drot\", \"drot\", \"drot\", \"drot\", \"drot\", \"drot\", \"drot\", \"drothan\", \"drotten_vort\", \"duel\", \"duft\", \"duft\", \"duft\", \"duft\", \"duft\", \"duft\", \"duft\", \"dvaled\", \"dv\\u00e6rg\", \"dv\\u00e6rg\", \"dv\\u00e6rg\", \"dv\\u00e6rg\", \"dv\\u00e6rg\", \"dv\\u00e6rg\", \"dv\\u00e6rg\", \"dybt\", \"dybt\", \"dybt\", \"dybt\", \"dybt\", \"dybt\", \"dybt\", \"dybt\", \"dybt\", \"d\\u00f8\", \"d\\u00f8d\", \"d\\u00f8d\", \"d\\u00f8d\", \"d\\u00f8d\", \"d\\u00f8d\", \"d\\u00f8d\", \"d\\u00f8d\", \"d\\u00f8d\", \"d\\u00f8d\", \"d\\u00f8ded\", \"d\\u00f8defor\", \"d\\u00f8dei\", \"d\\u00f8dei\", \"d\\u00f8dejesus_stod\", \"d\\u00f8dem\", \"d\\u00f8ds\\u00f8d\", \"d\\u00f8lgermed\", \"edda\", \"edda\", \"edda\", \"edda\", \"edda\", \"eder\", \"eder\", \"eder\", \"eder\", \"eder\", \"eder\", \"eder\", \"eder\", \"edvard\", \"efterkom\", \"egennyt\", \"egent\", \"egent\", \"egent\", \"ei\", \"ei\", \"ei\", \"ei\", \"ei\", \"ei\", \"ei\", \"ei\", \"ei\", \"ei\", \"ei\", \"eiegod\", \"eifor\", \"ej\", \"ej\", \"ej\", \"elsk\", \"elsk\", \"elsk\", \"elsk\", \"elsk\", \"elsk\", \"elsk\", \"emma\", \"enddog\", \"enddog\", \"enddog\", \"endnu\", \"endnu\", \"endnu\", \"endnu\", \"endnu\", \"endnu\", \"endnu\", \"endnu\", \"engelland\", \"engelland\", \"engelland\", \"engl\", \"engl\", \"engl\", \"engl\", \"engl\", \"engl\", \"ent\", \"ent\", \"ent\", \"ent\", \"ere\", \"ere\", \"ere\", \"ere\", \"ere\", \"ere\", \"erkebisp\", \"erkend\", \"esaia\", \"est\", \"est\", \"est\", \"est\", \"est\", \"evangeli\", \"evangeli\", \"evangelisk\", \"evig\", \"evig\", \"evig\", \"evig\", \"evig\", \"evig\", \"evig\", \"evig\", \"evig\", \"evig\", \"evig\", \"evige_liv\", \"evige_liv\", \"ey\", \"ezechia\", \"faa\", \"faa\", \"faa\", \"faa\", \"faa\", \"faa\", \"faa\", \"faa\", \"faard\", \"faarhan\", \"fad\", \"fad\", \"fad\", \"fad\", \"fad\", \"fad\", \"fad\", \"fad\", \"fad\", \"fader_godsom\", \"fadervor\", \"fafn\", \"fafn\", \"fagei\", \"fagr\", \"fagt\", \"fagt\", \"fald\", \"fald\", \"fald\", \"fald\", \"fald\", \"fald\", \"fald\", \"fald\", \"fald\", \"fald\", \"falded\", \"falst\", \"fanatism\", \"fanekorsban\", \"faresand\", \"favnd\", \"favr\", \"favr\", \"ferdinand\", \"fiern\", \"fik\", \"fik\", \"fik\", \"fik\", \"fik\", \"fik\", \"fik\", \"fik\", \"fik\", \"find\", \"find\", \"find\", \"find\", \"find\", \"find\", \"find\", \"find\", \"find\", \"find\", \"flaad\", \"flaad\", \"flidfor\", \"flokked\", \"fluk\", \"flux\", \"flux\", \"flux\", \"flux\", \"flyvem\", \"fl\\u00f8t\", \"folk\", \"folk\", \"folk\", \"folk\", \"folk\", \"folk\", \"folk\", \"folk\", \"folk\", \"folkekirk\", \"folkesang\", \"folkesang\", \"folketid\", \"forandred\", \"fordi\", \"fordi\", \"fordi\", \"fordi\", \"fordi\", \"fordi\", \"fordi\", \"forgaaerd\", \"forglem\", \"forglem\", \"forladerpaa\", \"formast\", \"formular\", \"forret\", \"forstaaeei\", \"fortabt\", \"forvold\", \"frankr\", \"frankr\", \"frankr\", \"fransk\", \"fransk\", \"fransk\", \"frederik\", \"frederik\", \"frederik\", \"frederik\", \"fredog\", \"frei\", \"frei\", \"freia\", \"freia\", \"freia\", \"freir\", \"frel\", \"frels\", \"frels\", \"frels\", \"frels\", \"frels\", \"frels\", \"frels\", \"frels\", \"frels\", \"frelsermand\", \"frelsernavn\", \"frey\", \"freya\", \"freyas\", \"friderich\", \"frig\", \"frit_oversat\", \"fritfiend\", \"frithan\", \"from\", \"from\", \"from\", \"from\", \"from\", \"from\", \"from\", \"from\", \"from\", \"fru_mari\", \"fruer\", \"fryd\", \"fryd\", \"fryd\", \"fryd\", \"fryd\", \"fryd\", \"fryd\", \"fryd\", \"fryde_mang\", \"fugl\", \"fugl\", \"fugl\", \"fugl\", \"fugl\", \"fugl\", \"fugl\", \"fugl\", \"fugl\", \"fugl\", \"ful\", \"ful\", \"fuldbrag\", \"fuldmang\", \"f\\u00e6derneland\", \"f\\u00e6derneland\", \"f\\u00e6dernetro\", \"f\\u00e6dr\", \"f\\u00e6dr\", \"f\\u00e6dr\", \"f\\u00e6dr\", \"f\\u00e6dr\", \"f\\u00e6dr\", \"f\\u00e6dr\", \"f\\u00e6drevi_bed\", \"f\\u00e6llesliv\", \"f\\u00f8dselsstund\", \"f\\u00f8rst\", \"f\\u00f8rst\", \"f\\u00f8rst\", \"f\\u00f8rst\", \"f\\u00f8rst\", \"f\\u00f8rst\", \"f\\u00f8rst\", \"f\\u00f8rst\", \"f\\u00f8rst\", \"f\\u00f8rst\", \"f\\u00f8rst\", \"gaa\", \"gaa\", \"gaa\", \"gaa\", \"gaa\", \"gaadesom\", \"gaaeog\", \"gaaeog\", \"gaardsom\", \"gam\", \"gam\", \"gam\", \"gam\", \"gaml\", \"gaml\", \"gaml\", \"gaml\", \"gaml\", \"gaml\", \"gaml\", \"gaml\", \"gaml\", \"gaml\", \"gaml\", \"gammeldansk\", \"gammeldansk\", \"gav\", \"gav\", \"gav\", \"gav\", \"gav\", \"gav\", \"gav\", \"gav\", \"gav\", \"gav\", \"gavi\", \"genf\\u00f8d\", \"genf\\u00f8d\", \"gennem\", \"gennem\", \"gennem\", \"genstand\", \"ger\", \"gerda\", \"gern\", \"gern\", \"gerning\", \"gienl\\u00f8s\", \"gienl\\u00f8s\", \"gik\", \"gik\", \"gik\", \"gik\", \"gik\", \"gik\", \"gik\", \"gik\", \"gik\", \"gik\", \"givetaf\", \"givetat\", \"givetd\", \"gi\\u00e6stsom\", \"gi\\u00e6v\", \"gi\\u00e6v\", \"gi\\u00f8r\", \"gi\\u00f8r\", \"gi\\u00f8r\", \"gi\\u00f8r\", \"gi\\u00f8r\", \"gi\\u00f8r\", \"gi\\u00f8r\", \"gjord\", \"gjord\", \"gjord\", \"gjord\", \"gjord\", \"gjord\", \"gjord\", \"gjord\", \"gjord\", \"gjuk\", \"gjukung\", \"gj\\u00e6ld\", \"gj\\u00e6ld\", \"gj\\u00f8r\", \"gj\\u00f8r\", \"gj\\u00f8r\", \"gj\\u00f8r\", \"gladthi\", \"glands\", \"glands\", \"glands\", \"glands\", \"glemmes_aldr\", \"glemmes_aldr\", \"gl\\u00e6d\", \"gl\\u00e6d\", \"gl\\u00e6d\", \"gl\\u00e6d\", \"gl\\u00e6d\", \"gl\\u00e6d\", \"gl\\u00e6d\", \"gl\\u00e6d\", \"gl\\u00e6d\", \"gl\\u00e6deno\", \"gl\\u00e6denu\", \"gl\\u00e6deog\", \"gl\\u00e6desom\", \"gl\\u00f8d\", \"gl\\u00f8d\", \"gl\\u00f8dem\", \"godmund\", \"godt\", \"godt\", \"godt\", \"godt\", \"godt\", \"godt\", \"godt\", \"godt\", \"godt\", \"godt\", \"golgatha\", \"got\", \"grav\", \"grav\", \"grav\", \"grav\", \"grav\", \"grav\", \"grav\", \"grav\", \"gravs\", \"grev\", \"grev\", \"grimhild\", \"grimnersmaal\", \"grimnismal\", \"grueme\", \"grundtv\", \"grundtv\", \"grundtv\", \"grundtv\", \"grundtv\", \"grundtv\", \"grundtv\", \"grundtv\", \"gr\\u00e6k\", \"gr\\u00e6k\", \"gr\\u00e6k\", \"gr\\u00e6k\", \"gr\\u00e6k\", \"gr\\u00e6sb\\u00e6nk\", \"gr\\u00e6sk\", \"gr\\u00e6sk\", \"gr\\u00e6sk\", \"gr\\u00e6sk\", \"gr\\u00e6sk\", \"gr\\u00e6sk\", \"gr\\u00e6ske_myth\", \"gr\\u00f8n\", \"gr\\u00f8n\", \"gr\\u00f8n\", \"gr\\u00f8n\", \"gr\\u00f8n\", \"gr\\u00f8n\", \"gr\\u00f8n\", \"gr\\u00f8n\", \"gub\", \"gud\", \"gud\", \"gud\", \"gud\", \"gud\", \"gud\", \"gud\", \"gud\", \"gud\", \"gud\", \"gud\", \"gud\", \"gud_bedregud\", \"guddom\", \"guddom\", \"guddom\", \"guddom\", \"guddom\", \"guddom\", \"guddom\", \"guddom\", \"gudel\\u00e6r\", \"gudfad\", \"gudfad\", \"gudfad\", \"gudhjem\", \"gudrun\", \"gudrun\", \"gudrun\", \"gudsom\", \"guld\", \"guld\", \"guld\", \"guld\", \"guld\", \"guld\", \"guld\", \"guld\", \"guldald\", \"guldald\", \"guldald\", \"guldberg\", \"guldb\\u00e6g\", \"guldkron\", \"guldkron\", \"guldsom\", \"gunlaug\", \"gunnar\", \"gyldenaar\", \"gyldenaar\", \"gyldenaar\", \"gyldenaar\", \"gyldenaarmed\", \"gyldent\", \"gylfeleg\", \"gym\", \"g\\u00e6st\", \"g\\u00e6st\", \"g\\u00f8r\", \"g\\u00f8r\", \"g\\u00f8r\", \"g\\u00f8r\", \"g\\u00f8r\", \"haabd\", \"haandenm\", \"haandfor\", \"haandhan\", \"haando\", \"haandsaa\", \"haandskr\", \"haandtil\", \"hallelujad\", \"hallelujahan\", \"hallelujano\", \"hani\", \"hannem\", \"hannem\", \"hannem\", \"hannem\", \"hannibal\", \"harmei\", \"hasted\", \"hav\", \"hav\", \"hav\", \"hav\", \"hav\", \"hav\", \"hav\", \"hav\", \"hav\", \"heimdal\", \"heimdal\", \"heimdal\", \"heimdal\", \"hel\", \"hel\", \"hel\", \"hel\", \"hel\", \"hel\", \"hel\", \"hel\", \"hel\", \"hel\", \"hel\", \"hel\", \"helligaand\", \"helligaand\", \"helligaand\", \"helligaand\", \"helligaandsom\", \"hellige_skrift\", \"helved\", \"helved\", \"helved\", \"helved\", \"helved\", \"helved\", \"helved\", \"helved\", \"henrik\", \"henrik\", \"henrik\", \"hens\", \"hens\", \"hens\", \"heph\\u00e6sto\", \"herm\", \"herod\", \"herod\", \"herodot\", \"herodot\", \"herreat\", \"herres_jesu\", \"herres_jesu\", \"hersleb\", \"hersleb\", \"hertug\", \"higed\", \"hiin\", \"himl\", \"himl\", \"himl\", \"himl\", \"himl\", \"himl\", \"himl\", \"himl\", \"himl\", \"himl\", \"himlend\", \"himlensaa\", \"himmel\", \"himmel\", \"himmel\", \"himmel\", \"himmel\", \"himmel\", \"himmel\", \"himmel\", \"himmel\", \"himmeld\\u00f8r\", \"himmels_fo\", \"himmels_fo\", \"himmelsk\", \"himmelsk\", \"himmelsk\", \"himmelsk\", \"himmelsk\", \"himmelsk\", \"himmer\", \"himmer\", \"himmer\", \"himmer\", \"himmer\", \"himmer\", \"himmer\", \"himmerignaar\", \"hin\", \"hin\", \"hin\", \"hin\", \"hin\", \"hin\", \"hin\", \"hin\", \"hin\", \"hist\", \"hist\", \"hist\", \"hist\", \"hist\", \"hist\", \"hist\", \"hist\", \"histori\", \"histori\", \"histori\", \"historisk\", \"historisk\", \"historisk\", \"historisk\", \"hjert\", \"hjert\", \"hjert\", \"hjert\", \"hjert\", \"hjert\", \"hjert\", \"hjert\", \"hjert\", \"hjertefagre_ord\", \"hjordis\", \"hofm\\u00e6nd\", \"hogn\", \"hold\", \"hold\", \"hold\", \"hold\", \"hold\", \"hold\", \"hold\", \"hold\", \"hold\", \"hr\", \"hr\", \"hr\", \"hr\", \"hr_biskop\", \"hrungn\", \"hrungn\", \"hu_staa\", \"hult\", \"hurraraab\", \"huusm\\u00e6nd\", \"hvem\", \"hvem\", \"hvem\", \"hvem\", \"hvem\", \"hvem\", \"hvem\", \"hvem\", \"hvem\", \"hvem\", \"hver\", \"hver\", \"hver\", \"hver\", \"hver\", \"hver\", \"hver\", \"hver\", \"hver\", \"hver\", \"hvidthold\", \"hvilk\", \"hvilk\", \"hvilk\", \"hvilk\", \"hvilk\", \"hvilk\", \"hvilk\", \"hvilk\", \"hvo\", \"hvo\", \"hvo\", \"hvo\", \"hvo\", \"hvo\", \"hvo\", \"hvo\", \"hyttekong\", \"h\\u00e6nderog\", \"h\\u00e6versei\", \"h\\u00f8dur\", \"h\\u00f8dur\", \"h\\u00f8ie\", \"h\\u00f8ie\", \"h\\u00f8ie\", \"h\\u00f8ie\", \"h\\u00f8ie\", \"h\\u00f8ie\", \"h\\u00f8ie\", \"h\\u00f8ie\", \"h\\u00f8ie\", \"h\\u00f8ie\", \"h\\u00f8ier\", \"h\\u00f8ier\", \"h\\u00f8ier\", \"h\\u00f8iest\", \"h\\u00f8iest\", \"h\\u00f8iest\", \"h\\u00f8iest\", \"h\\u00f8iest\", \"h\\u00f8it\", \"h\\u00f8it\", \"h\\u00f8it\", \"h\\u00f8it\", \"h\\u00f8it\", \"h\\u00f8it\", \"h\\u00f8it\", \"h\\u00f8it\", \"h\\u00f8it\", \"h\\u00f8itydsk\", \"h\\u00f8itydsk\", \"h\\u00f8j\", \"h\\u00f8j\", \"h\\u00f8j\", \"h\\u00f8n\", \"h\\u00f8r\", \"h\\u00f8r\", \"h\\u00f8r\", \"h\\u00f8r\", \"h\\u00f8r\", \"h\\u00f8r\", \"h\\u00f8r\", \"h\\u00f8r\", \"h\\u00f8r\", \"h\\u00f8r\", \"h\\u00f8red\", \"h\\u00f8yer\", \"iaft\", \"idun\", \"idun\", \"igen\", \"igen\", \"igen\", \"igen\", \"igienog\", \"igrund\", \"ii\", \"ii\", \"ii\", \"ikkei\", \"ikkeud\", \"ikkun\", \"ikkun\", \"ikkun\", \"ikkun\", \"ikkun\", \"imidlertid\", \"imidlertid\", \"imidlertid\", \"imidlertid\", \"indbyd\", \"indgi\\u00f8d\", \"indknib\", \"indstift\", \"indtog\", \"indtog\", \"indtog\", \"ing\", \"ing\", \"ing\", \"ing\", \"ing\", \"ing\", \"ing\", \"ing\", \"ing\", \"ingel\", \"isak\", \"isak\", \"isefjord\", \"island\", \"island\", \"island\", \"island\", \"itali\", \"itali\", \"itali\", \"italiensk\", \"iver\", \"ja\", \"ja\", \"ja\", \"ja\", \"ja\", \"ja\", \"ja\", \"januar\", \"japh\", \"japh\", \"jesu\", \"jesu\", \"jesu\", \"jesu\", \"jesu\", \"jesu\", \"jesu_christ\", \"jesu_christi\", \"jesu_christi\", \"jesu_christi\", \"jesu_christi\", \"jesu_kristi\", \"jesu_kristi\", \"jesus\", \"jesus\", \"jesus\", \"jesus\", \"jesus\", \"jesus\", \"jesus\", \"jesus_christ\", \"jesus_christ\", \"jesus_lillefor\", \"jesus_migop\", \"jet\", \"jet\", \"jet\", \"jet\", \"jet\", \"jet\", \"jomfru\", \"jomfru\", \"jomfru\", \"jomfru\", \"jomfru\", \"jomsborg\", \"jord\", \"jord\", \"jord\", \"jord\", \"jord\", \"jord\", \"jord\", \"jord\", \"jord\", \"jord\", \"jord\", \"jord\", \"jordaf\", \"jordderfor\", \"jordei\", \"jordenog\", \"jordensaa\", \"jorderigog\", \"jordhvor\", \"jordjeg\", \"jordlyd\", \"jordmed\", \"jordvold\", \"josef\", \"josva\", \"josva\", \"jotun\", \"julesang\", \"julev\", \"juul\", \"j\\u00e6rtegn\", \"j\\u00f8defolk\", \"j\\u00f8defolk\", \"j\\u00f8defolk\", \"j\\u00f8deland\", \"kaarsaa\", \"kain\", \"kaivin\", \"kald\", \"kald\", \"kald\", \"kald\", \"kald\", \"kald\", \"kald\", \"kald\", \"kald\", \"kald\", \"kald\", \"kan\", \"kan\", \"kan\", \"kan\", \"kan\", \"kan\", \"kan\", \"kan\", \"kan\", \"kan\", \"kanhvor\", \"karak\", \"katolik\", \"katolsk\", \"keis\", \"keis\", \"keis\", \"keis\", \"keis\", \"kejs\", \"kejs\", \"kend\", \"kend\", \"kend\", \"kendem\\u00e6rk\", \"kildegud\", \"kildejakob\", \"kildevang\", \"kildev\\u00e6ld\", \"kildev\\u00e6ld\", \"kimed\", \"kirk\", \"kirk\", \"kirk\", \"kirk\", \"kirk\", \"kirk\", \"kirk\", \"kirk\", \"kirkehistori\", \"kirkehistori\", \"kirkehistorisk\", \"kirkekord\", \"kirkesamfund\", \"ki\\u00e6mp\", \"ki\\u00e6mp\", \"ki\\u00e6nd\", \"ki\\u00e6nd\", \"ki\\u00e6r\", \"ki\\u00e6r\", \"ki\\u00e6r\", \"ki\\u00e6r\", \"ki\\u00e6r\", \"ki\\u00e6r\", \"ki\\u00e6r\", \"ki\\u00e6rlighed\", \"ki\\u00f8benhavn\", \"ki\\u00f8d\", \"ki\\u00f8d\", \"ki\\u00f8d\", \"ki\\u00f8d\", \"ki\\u00f8d\", \"ki\\u00f8d\", \"ki\\u00f8d\", \"ki\\u00f8d\", \"ki\\u00f8dskjul\", \"kjend\", \"kjend\", \"kjend\", \"kjend\", \"kl\", \"klar\", \"klar\", \"klar\", \"klar\", \"klar\", \"klar\", \"klar\", \"klar\", \"klar\", \"klar\", \"klard\", \"klemt\", \"kl\\u00e6dning\", \"kl\\u00e6dning\", \"knop\", \"kolding\", \"kom\", \"kom\", \"kom\", \"kom\", \"kom\", \"kom\", \"kom\", \"kom\", \"kom\", \"kom\", \"kom\", \"komtil\", \"kong\", \"kong\", \"kong\", \"kong\", \"kong\", \"kong\", \"kong\", \"kong\", \"kong_harald\", \"kong_olav\", \"kongekron\", \"konger\", \"konger\", \"konger\", \"konger\", \"konger\", \"kongest\\u00e6vn\", \"konstantinopel\", \"kors\", \"kors\", \"kors\", \"kors\", \"kors\", \"kors\", \"kors\", \"kors\", \"kors\", \"korsets_tr\\u00e6\", \"korsf\\u00e6st\", \"korsf\\u00e6st\", \"korsf\\u00e6stedenu\", \"korstog\", \"korstog\", \"korstog\", \"kraft\", \"kraft\", \"kraft\", \"kraft\", \"kraft\", \"kraft\", \"kraft\", \"kraft\", \"kraft\", \"kraft\", \"kraft\", \"krandsog\", \"kreta\", \"kreta\", \"krig\", \"krig\", \"krist\", \"krist\", \"krist\", \"kristendom\", \"kristendom\", \"kristi\", \"kristi\", \"kristian\", \"kristian\", \"kristjan\", \"kristjan\", \"kristn\", \"kristn\", \"kristn\", \"kristus\", \"kristus\", \"kristus\", \"kromvel\", \"krono\", \"krophan\", \"kun\", \"kun\", \"kun\", \"kun\", \"kun\", \"kun\", \"kun\", \"kun\", \"kun\", \"kun\", \"kun\", \"kund\", \"kund\", \"kund\", \"kund\", \"kund\", \"kund\", \"kund\", \"kund\", \"kund\", \"kundskabstr\\u00e6\", \"kveld\", \"kveld\", \"kveld\", \"kviddr\", \"kvind\", \"kvind\", \"kvind\", \"kvind\", \"kvind\", \"kvind\", \"kvind\", \"kvind\", \"kvind\", \"kvind\", \"kvind\", \"kvind\", \"kvindesaa\", \"kv\\u00e6dl\", \"kv\\u00e6r\", \"kyrus\", \"k\\u00e6kt\", \"k\\u00e6kt\", \"k\\u00e6mp\", \"k\\u00e6mp\", \"k\\u00e6mp\", \"k\\u00e6mp\", \"k\\u00e6mp\", \"k\\u00e6mp\", \"k\\u00e6mp\", \"k\\u00e6mp\", \"k\\u00e6mp\", \"k\\u00e6mp\", \"k\\u00e6mp\", \"k\\u00e6r\", \"k\\u00e6r\", \"k\\u00e6r\", \"k\\u00e6r\", \"k\\u00f8d\", \"lad\", \"lad\", \"lad\", \"lad\", \"lad\", \"lad\", \"lad\", \"lad\", \"lad\", \"lad\", \"lak\", \"land\", \"land\", \"land\", \"land\", \"land\", \"land\", \"land\", \"land\", \"laus\", \"leto\", \"letsom\", \"lev\", \"lev\", \"lev\", \"lev\", \"lev\", \"lev\", \"lev\", \"lev\", \"lev\", \"lev\", \"lided\", \"lif\", \"lif\", \"lif\", \"lif\", \"lif\", \"lif\", \"lif\", \"lig\", \"lig\", \"lig\", \"lig\", \"lig\", \"lig\", \"lig\", \"lig\", \"lig\", \"lig\", \"lig\", \"lilj\", \"lilj\", \"lindberg\", \"lindr\", \"listed\", \"literatur\", \"liv\", \"liv\", \"liv\", \"liv\", \"liv\", \"liv\", \"liv\", \"liv\", \"liv\", \"liv\", \"liv\", \"liv\", \"livets_tr\\u00e6\", \"livsfyrst\", \"lod\", \"lod\", \"lod\", \"lod\", \"lod\", \"lod\", \"lod\", \"lod\", \"lok\", \"lok\", \"lok\", \"lok\", \"lok\", \"lok\", \"lok\", \"lokegluf\", \"lund\", \"lund\", \"lund\", \"lund\", \"lund\", \"luth\", \"luth\", \"luth\", \"luth\", \"luth\", \"luth\", \"lutheran\", \"luthersk\", \"lys\", \"lys\", \"lys\", \"lys\", \"lys\", \"lys\", \"lys\", \"lys\", \"lys\", \"lys\", \"lysog\", \"l\\u00e6gfolk\", \"l\\u00e6ngsl\", \"l\\u00e6rk\", \"l\\u00e6rk\", \"l\\u00e6rk\", \"l\\u00e6rtat\", \"l\\u00f8fteog\", \"l\\u00f8nfor\", \"l\\u00f8nmed\", \"l\\u00f8nraad_sl\", \"maa\", \"maa\", \"maa\", \"maa\", \"maa\", \"maa\", \"maa\", \"maa\", \"maa\", \"maa\", \"maa\", \"maaderat\", \"maaske\", \"maaske\", \"maaske\", \"maat\", \"maat\", \"maat\", \"maat\", \"maat\", \"maat\", \"maat\", \"maat\", \"maat\", \"maglegaardhvor\", \"mand\", \"mand\", \"mand\", \"mand\", \"mand\", \"mand\", \"mand\", \"mand\", \"mand\", \"mark\", \"mark\", \"mark\", \"mark\", \"mark\", \"mark\", \"mark\", \"marmor\", \"matthisonhans\", \"mel\", \"mel\", \"mellemslesv\", \"melodi\", \"melodi\", \"mennesk\", \"mennesk\", \"mennesk\", \"mennesk\", \"mennesk\", \"mennesk\", \"mennesk\", \"ment\", \"ment\", \"ment\", \"mer\", \"mer\", \"mer\", \"mer\", \"mer\", \"mer\", \"mer\", \"mer\", \"mester_and\", \"mester_and\", \"midgard\", \"midgard\", \"migog\", \"mj\\u00f8ln\", \"mj\\u00f8ln\", \"moderhun\", \"moderog\", \"modersmaal\", \"modersmaal\", \"modersmaal\", \"modersmaal\", \"mon\", \"mon\", \"mon\", \"mon\", \"mon\", \"mon\", \"mon\", \"mon\", \"morgenhan\", \"morgenr\\u00f8d\", \"morgenr\\u00f8d\", \"morgenr\\u00f8d\", \"morgenr\\u00f8d\", \"morgenr\\u00f8d\", \"morgenr\\u00f8deda\", \"morgenr\\u00f8defor\", \"morten_luth\", \"morten_luth\", \"morten_luth\", \"mul\", \"mul\", \"mul\", \"mul\", \"mundepaa\", \"mundi\", \"mundlag\", \"mundtil\", \"mynst\", \"myth\", \"myth\", \"myth\", \"myth\", \"mythesmed\", \"mythisk\", \"mythisk\", \"mythisk\", \"mythograph\", \"m\\u00e6tlad\", \"m\\u00f8l\", \"naad\", \"naad\", \"naad\", \"naad\", \"naad\", \"naad\", \"naad\", \"naad\", \"naad\", \"naadeja\", \"naademidl\", \"naar\", \"naar\", \"naar\", \"naar\", \"naar\", \"naar\", \"naar\", \"naar\", \"naar\", \"naboth\", \"nadv\", \"nadv\", \"nan\", \"nat\", \"nat\", \"nat\", \"nat\", \"nat\", \"nat\", \"nat\", \"nat\", \"nat\", \"nat\", \"nat\", \"natda\", \"nattergal\", \"natugl\", \"naturligviis\", \"naturligviis\", \"naturligviis\", \"naturligviis\", \"navn\", \"navn\", \"navn\", \"navn\", \"navn\", \"navn\", \"navn\", \"navn\", \"navn\", \"navn\", \"navn\", \"navnhan\", \"navnlad\", \"navnsom\", \"nedb\\u00f8i\", \"nedfo\", \"nedfo\", \"nedi\", \"nedmed\", \"nedog\", \"nem\", \"nem\", \"nem\", \"nem\", \"nep\", \"nep\", \"nep\", \"nep\", \"niding\", \"niding\", \"niding\", \"nil\", \"nil\", \"niniv\", \"niord\", \"no\", \"no\", \"no\", \"no\", \"no\", \"nok\", \"nok\", \"nok\", \"nok\", \"nok\", \"nok\", \"nok\", \"nok\", \"nok\", \"nord\", \"nord\", \"nord\", \"nord\", \"nord\", \"nord\", \"nord\", \"nord\", \"nordahl_brun\", \"nordisk\", \"nordisk\", \"nordisk\", \"nordiske_myth\", \"norman\", \"norman\", \"normannisk\", \"norn\", \"norn\", \"norn\", \"norn\", \"nr\", \"nr\", \"nr\", \"nr\", \"ny_psalmebog\", \"ny_psalmebog\", \"ny_testament\", \"nyrup\", \"nytaarsnat\", \"n\\u00e6rd\", \"n\\u00e6rsaa\", \"n\\u00e6rsom\", \"n\\u00e6vneog\", \"n\\u00f8ds\\u00f8d\", \"n\\u00f8g\", \"odin\", \"odin\", \"odin\", \"odin\", \"odin\", \"odin\", \"odrun\", \"ogsaa\", \"ogsaa\", \"ogsaa\", \"ogsaa\", \"ogsaa\", \"ogsaa\", \"ogsaa\", \"ogsaa\", \"olav\", \"olav\", \"olav\", \"oldgranskning\", \"oldsagn\", \"oldsagn\", \"oldsagn\", \"olj\", \"omd\", \"omsom\", \"omsonstselv\", \"ond\", \"ond\", \"ond\", \"ond\", \"ond\", \"ond\", \"ond\", \"ond\", \"ond\", \"opfostr\", \"opstandeni_dag\", \"ord\", \"ord\", \"ord\", \"ord\", \"ord\", \"ord\", \"ord\", \"ord\", \"ord\", \"ordfra\", \"ordho\", \"ordhvem\", \"ordnaar\", \"ordsom\", \"ordsom\", \"ordsom\", \"ordsom\", \"ordsom\", \"ordsprog\", \"ordsprog\", \"ordsprog\", \"overdaad\", \"overgang\", \"overgang\", \"overgang\", \"overgang\", \"overs\\u00e6t\", \"overs\\u00e6t\", \"overs\\u00e6t\", \"overs\\u00e6t\", \"overs\\u00e6t\", \"overs\\u00e6t\", \"paanyi\", \"paanyi\", \"paasaa\", \"paasaa\", \"paaskemorg\", \"paaskesang\", \"paaskev\", \"palo\", \"pandora\", \"pandora\", \"papist\", \"papistisk\", \"paradisd\", \"ped\", \"ped\", \"ped\", \"ped\", \"ped\", \"period\", \"perl\", \"perl\", \"perl\", \"pers\", \"persephon\", \"pharao\", \"philip\", \"philist\", \"philist\", \"philosoph\", \"philosoph\", \"philosoph\", \"philosophi\", \"ph\\u00f8nic\", \"plutark\", \"pluto\", \"pluto\", \"poet\", \"poetisk\", \"poetisk\", \"poetisk\", \"poetisk\", \"poetisk\", \"politisk\", \"polyb\", \"portog\", \"pot\", \"preus\", \"priis\", \"priis\", \"priis\", \"priis\", \"priis\", \"priis\", \"priis\", \"prindses\", \"prindses\", \"prof_claus\", \"propheten_esaia\", \"prosaiske_edda\", \"protestantisk\", \"protestantisk\", \"pr\\u00e6st\", \"pr\\u00e6st\", \"pr\\u00e6st\", \"pr\\u00e6st\", \"pr\\u00e6st\", \"pr\\u00e6sterog\", \"pr\\u00f8js\", \"raabenpaa\", \"raabeog\", \"ragnarokr\", \"rahab\", \"rahbek\", \"rakel\", \"ravnegald\", \"rdr\", \"rejs\", \"rejs\", \"rejs\", \"rejs\", \"rejst\", \"rejst\", \"religion\", \"religion\", \"religion\", \"religionsfri\", \"ret\", \"ret\", \"ret\", \"ret\", \"ret\", \"ret\", \"ret\", \"ret\", \"ret\", \"retbr\\u00f8d\", \"rethan\", \"rigesom\", \"rigsdag\", \"rigsdag\", \"rigsdag\", \"riim\", \"riim\", \"rikard\", \"robert\", \"rom\", \"rom\", \"rom\", \"romaborg\", \"romersk\", \"romersk\", \"romersk\", \"roog\", \"rosenkild\", \"roskild\", \"roskild\", \"roskild\", \"roth\", \"rovger\", \"runersom\", \"rusland\", \"r\\u00f8d\", \"r\\u00f8d\", \"r\\u00f8d\", \"r\\u00f8d\", \"r\\u00f8d\", \"r\\u00f8d\", \"r\\u00f8d\", \"r\\u00f8d\", \"r\\u00f8nneb\\u00e6ksholm\", \"r\\u00f8st\", \"r\\u00f8st\", \"r\\u00f8st\", \"r\\u00f8st\", \"r\\u00f8st\", \"r\\u00f8st\", \"r\\u00f8st\", \"r\\u00f8st\", \"r\\u00f8st\", \"r\\u00f8st\", \"r\\u00f8stfor\", \"saaat\", \"saaat\", \"saaat\", \"saae\", \"saae\", \"saae\", \"saae\", \"saae\", \"saae\", \"saae\", \"saae\", \"saae\", \"saaehvor\", \"saaeog\", \"saaesom\", \"saal\", \"saamed\", \"sacrament\", \"sad\", \"sad\", \"sad\", \"sad\", \"sad\", \"sad\", \"sad\", \"sagd\", \"sagd\", \"sagd\", \"sagd\", \"sagd\", \"sagd\", \"sagd\", \"sagd\", \"sagd\", \"sagd\", \"sagn\", \"sagn\", \"sagn\", \"sagn\", \"sagn\", \"sagn\", \"sagn\", \"sagog\", \"saladin\", \"sammest\", \"sammest\", \"samt\", \"samt\", \"samt\", \"sand\", \"sand\", \"sand\", \"sand\", \"sand\", \"sand\", \"sand\", \"sand\", \"sand\", \"sandefalsk\", \"sandv\", \"sang\", \"sang\", \"sang\", \"sang\", \"sang\", \"sang\", \"sang\", \"sang\", \"sang\", \"sang\", \"sang\", \"sang\", \"savnog\", \"saxo\", \"saxo\", \"saxo\", \"saxo\", \"saxo\", \"sch\\u00f8nning\", \"se\", \"se\", \"se\", \"se\", \"se\", \"se_po\", \"see\", \"see\", \"see\", \"see\", \"see\", \"see\", \"see\", \"see\", \"see\", \"seeog\", \"selskab\", \"selskab\", \"selskab\", \"selvmodsig\", \"sem\", \"sendetil\", \"sicili\", \"sid\", \"sid\", \"sid\", \"sid\", \"sid\", \"sid\", \"sid\", \"sid\", \"sid\", \"sid\", \"sid\", \"sidon\", \"sif\", \"sigenaar\", \"siger_kishurra\", \"sigmund\", \"sigmund\", \"sigmund\", \"signed\", \"signed\", \"sigrun\", \"sigurd\", \"sigurd\", \"sigurd\", \"sigurd\", \"sigurd\", \"sigvald\", \"siig\", \"siig\", \"siig\", \"siig\", \"sildem\", \"sineog\", \"sjungemed\", \"sjungero\", \"sjungesom\", \"sjungetil\", \"sj\\u00e6l\", \"sj\\u00e6l\", \"sj\\u00e6l\", \"sj\\u00e6l\", \"sj\\u00e6l\", \"sj\\u00e6l\", \"sj\\u00e6l\", \"sj\\u00e6l\", \"sj\\u00e6legladhan\", \"sj\\u00e6lthi\", \"skadesaa\", \"skalda\", \"skalda\", \"skamlingsbank\", \"skebn\", \"skeet\", \"skeet\", \"skeet\", \"skeet\", \"skemt\", \"sket\", \"sket\", \"sket\", \"skirn\", \"skirners_reis\", \"skiul\", \"ski\\u00f8nd\", \"ski\\u00f8nd\", \"ski\\u00f8nd\", \"ski\\u00f8nd\", \"ski\\u00f8nd\", \"ski\\u00f8nd\", \"ski\\u00f8ndu\", \"skjald\", \"skjald\", \"skjald\", \"skjald\", \"skjald\", \"skjald\", \"skjald\", \"skjaldekong\", \"skjaldemund\", \"skjoldi_ve\", \"skougaard\", \"skovog\", \"skr\", \"skribent\", \"skribent\", \"skribent\", \"skridtvis\", \"skrift\", \"skrift\", \"skrift\", \"skrift\", \"skrift\", \"skrift\", \"skrift\", \"skriftklog\", \"skueplant\", \"skuld\", \"skuld\", \"skuld\", \"skuld\", \"skuld\", \"skuld\", \"skuld\", \"sk\\u00e6nk\", \"sk\\u00f8nd\", \"sk\\u00f8nt\", \"sk\\u00f8nt\", \"sk\\u00f8nt\", \"sk\\u00f8nt\", \"slag\", \"slag\", \"slag\", \"slag\", \"slag\", \"slagterb\\u00e6nk\", \"sleipn\", \"sleipn\", \"sleipn\", \"slesv\", \"slesv\", \"slesvigsk\", \"slesvigsk\", \"sl\\u00e6gtog\", \"smaafugl\", \"smertefagr\", \"snedorf\", \"snedorf\", \"snek\", \"snek\", \"snek\", \"snek\", \"snig\", \"snorro\", \"snorro\", \"snorro\", \"snorro\", \"soel\", \"soel\", \"soel\", \"soel\", \"soel\", \"soel\", \"soel\", \"soel\", \"sognepr\\u00e6st\", \"sorrigfuld\", \"spaaet\", \"spaaet\", \"spaaet\", \"spaaet\", \"spaaet\", \"spani\", \"spani\", \"spani\", \"spansk\", \"sparta\", \"spartan\", \"sporaf\", \"sprog\", \"sprog\", \"sprog\", \"sprog\", \"sprogog\", \"staa\", \"staa\", \"staa\", \"staa\", \"staa\", \"staa\", \"stadvi\", \"stammehan\", \"statskirk\", \"stavsom\", \"steds\", \"steds\", \"steds\", \"steds\", \"sti\", \"sti\", \"sti\", \"stigeop\", \"stjern\", \"stjern\", \"stjern\", \"stjern\", \"stjern\", \"stjern\", \"stjern\", \"stjern\", \"stod\", \"stod\", \"stod\", \"stod\", \"stod\", \"stod\", \"stod\", \"stod\", \"stod\", \"stod\", \"stokvar\", \"stopped\", \"stor\", \"stor\", \"stor\", \"stor\", \"stor\", \"stor\", \"stor\", \"stor\", \"stor\", \"stord\", \"strak\", \"strandesand\", \"strandkun\", \"stroph\", \"stud\", \"st\\u00e6nd\", \"st\\u00e6ndertid\", \"st\\u00e6ndertid\", \"st\\u00f8v\", \"st\\u00f8v\", \"st\\u00f8v\", \"st\\u00f8v\", \"st\\u00f8v\", \"st\\u00f8v\", \"st\\u00f8v\", \"st\\u00f8v\", \"st\\u00f8v\", \"suk\", \"suk\", \"suk\", \"suk\", \"suk\", \"suk\", \"suk\", \"suk\", \"sukker_helved\", \"sukkerr\\u00f8r\", \"sukkerr\\u00f8r\", \"svagesom\", \"svand\", \"svend\", \"svend\", \"svend\", \"svend\", \"svend\", \"svend\", \"svigei\", \"svingerfar\", \"sv\\u00e6rd\", \"sv\\u00e6rd\", \"sv\\u00e6rd\", \"sv\\u00e6rd\", \"sv\\u00e6rd\", \"sv\\u00e6rd\", \"sv\\u00e6rd\", \"sv\\u00e6rd\", \"sv\\u00e6rd\", \"sv\\u00f8bt\", \"sv\\u00f8bt\", \"syl\", \"symbol\", \"symbol\", \"syn\", \"syn\", \"syn\", \"syn\", \"syn\", \"syn\", \"syn\", \"syn\", \"syn\", \"synd\", \"synd\", \"synd\", \"synd\", \"synd\", \"synd\", \"synd\", \"synd\", \"synd\", \"syndsom\", \"synt\", \"synt\", \"synt\", \"synt\", \"syrith\", \"s\\u00f8dog\", \"s\\u00f8dt\", \"s\\u00f8dt\", \"s\\u00f8dt\", \"s\\u00f8dt\", \"s\\u00f8dt\", \"s\\u00f8dt\", \"s\\u00f8dt\", \"s\\u00f8gt\", \"s\\u00f8gt\", \"s\\u00f8gt\", \"s\\u00f8gt\", \"s\\u00f8gt\", \"s\\u00f8jl\", \"s\\u00f8n\", \"s\\u00f8n\", \"s\\u00f8n\", \"s\\u00f8n\", \"s\\u00f8n\", \"s\\u00f8n\", \"s\\u00f8n\", \"s\\u00f8n\", \"s\\u00f8n\", \"s\\u00f8n\", \"s\\u00f8n\", \"s\\u00f8nderjylland\", \"s\\u00f8nderjylland\", \"s\\u00f8njeg\", \"taaberverd\", \"tal\", \"tal\", \"tal\", \"tal\", \"tal\", \"tal\", \"tal\", \"tappert\", \"tend\", \"tend\", \"tendent\", \"teologi\", \"theolog\", \"thor\", \"thor\", \"thor\", \"thor\", \"thor\", \"thurs\", \"tid\", \"tid\", \"tid\", \"tid\", \"tid\", \"tid\", \"tid\", \"tid\", \"tid\", \"tid\", \"tidfor\", \"tidsom\", \"tilbage\", \"tildel\", \"tiljeg\", \"till\\u00e6g\", \"till\\u00e6g\", \"till\\u00e6g\", \"till\\u00e6g\", \"till\\u00e6g\", \"till\\u00e6gi\", \"tilog\", \"tilsaa\", \"tilv\\u00e6r\", \"tilv\\u00e6r\", \"tilv\\u00e6r\", \"tilv\\u00e6r\", \"toft\", \"tog\", \"tog\", \"tog\", \"tog\", \"tog\", \"tog\", \"tog\", \"tog\", \"togd\", \"tok\", \"topda\", \"tranek\\u00e6r\", \"trehundred\", \"tro\", \"tro\", \"tro\", \"tro\", \"tro\", \"tro\", \"tro\", \"tro\", \"tro\", \"tro\", \"troen\", \"troen\", \"troen\", \"troen\", \"troen\", \"troen\", \"troen\", \"troen\", \"troend\", \"troend\", \"tron\", \"tron\", \"tron\", \"tr\\u00e6ngsel\", \"tr\\u00e6ngsel\", \"tr\\u00e6ngsel\", \"tr\\u00e6ngsel\", \"tr\\u00f8st\", \"tr\\u00f8st\", \"tr\\u00f8st\", \"tr\\u00f8st\", \"tr\\u00f8st\", \"tr\\u00f8st\", \"tr\\u00f8st\", \"tr\\u00f8st\", \"tr\\u00f8st\", \"tr\\u00f8std\", \"tugted\", \"tung\", \"tung\", \"tung\", \"tung\", \"tung\", \"tung\", \"tung\", \"tung\", \"tydsk\", \"tydsk\", \"tydsk\", \"tydsk\", \"tyg\", \"tyk\", \"tyk\", \"tyk\", \"tyk\", \"tykt\", \"tykt\", \"tykt\", \"tykt\", \"tyr\", \"tyr\", \"tyr\", \"tyran\", \"tyran\", \"tyran\", \"tyrk\", \"tyrk\", \"tyrk\", \"tyrus\", \"tysk\", \"tysk\", \"tysk\", \"tysk\", \"tysk\", \"t\\u00e6m\", \"t\\u00e6nkerd\", \"uchrist\", \"udat\", \"udbryd\", \"uden\", \"uden\", \"uden\", \"uden\", \"uden\", \"uden\", \"uden\", \"uden\", \"uden\", \"uden\", \"udfor\", \"udgaardslok\", \"udi\", \"udi\", \"udi\", \"udi\", \"udi\", \"ulf\", \"ungdom\", \"ungdom\", \"ungdom\", \"ungdom\", \"ungdom\", \"unge_her\", \"unge_her\", \"ungm\\u00f8\", \"uns\", \"uns\", \"urt\", \"urt\", \"urt\", \"urt\", \"valhal\", \"valhal\", \"valhal\", \"valhald\", \"valhald\", \"vand\", \"vand\", \"vand\", \"vand\", \"vand\", \"vand\", \"vand\", \"vand\", \"vand\", \"vandr\", \"vandr\", \"vandr\", \"vandr\", \"vandr\", \"vandr\", \"vandr\", \"vandr\", \"vare_blevn\", \"veed\", \"veed\", \"veed\", \"veed\", \"veed\", \"veed\", \"veed\", \"veed\", \"veiog\", \"veisom\", \"veitil\", \"vel\", \"vel\", \"vel\", \"vel\", \"vel\", \"vel\", \"vel\", \"vel\", \"vel\", \"vel\", \"vel\", \"vel\", \"veni\", \"verd\", \"verd\", \"verd\", \"verd\", \"verd\", \"verd\", \"verd\", \"verd\", \"verd\", \"verdslige_\\u00f8vr\", \"vidar\", \"vidnesbyrd\", \"vidnesbyrd\", \"vidnesbyrd\", \"vidnesbyrd\", \"vidnesbyrd\", \"vidnesbyrd\", \"vidtat\", \"viid\", \"vild\", \"vild\", \"vild\", \"vild\", \"vild\", \"vild\", \"vild\", \"vild\", \"vild\", \"vild\", \"vilhelm\", \"vilhelm\", \"vilibrord\", \"vinfred\", \"ving\", \"ving\", \"ving\", \"ving\", \"ving\", \"ving\", \"vingei\", \"vintr\\u00e6\", \"virk\", \"virk\", \"virk\", \"virk\", \"virk\", \"vis\", \"vis\", \"vis\", \"vis\", \"vis\", \"vis\", \"vis\", \"vis\", \"vis\", \"vis\", \"visdom\", \"visdom\", \"visdom\", \"visdom\", \"vist\", \"vist\", \"vist\", \"vist\", \"vist\", \"vist\", \"vist\", \"vola\", \"vola\", \"vola\", \"voldend\", \"volm\\u00e6r\", \"volsungkvad\", \"volt\\u00e6r\", \"voluspa\", \"vorher\", \"vorher\", \"vorher\", \"vorher\", \"vorher\", \"vorher\", \"vorher\", \"vort\", \"vort\", \"vort\", \"vort\", \"vort\", \"vort\", \"vort\", \"vort\", \"vort\", \"v\\u00e6regud\", \"v\\u00e6reno\", \"v\\u00f8luspa\", \"v\\u00f8luspa\", \"v\\u00f8luspa\", \"westminst\", \"willemo\", \"ydr\", \"yttring\", \"zeus\", \"zeus\", \"zeus\", \"zverg\", \"\\u00e6delste\", \"\\u00e6gte\", \"\\u00e6gypt\", \"\\u00e6gypt\", \"\\u00e6gypt\", \"\\u00e6lvedronning\", \"\\u00e6refor\", \"\\u00e6relad\", \"\\u00e6reo\", \"\\u00f8ded\", \"\\u00f8ie\", \"\\u00f8ie\", \"\\u00f8ie\", \"\\u00f8ie\", \"\\u00f8ie\", \"\\u00f8ie\", \"\\u00f8ie\", \"\\u00f8ie\", \"\\u00f8ieblik\", \"\\u00f8ieblik\", \"\\u00f8ieblik\", \"\\u00f8iehan\", \"\\u00f8iesaa\", \"\\u00f8in\", \"\\u00f8in\", \"\\u00f8in\", \"\\u00f8in\", \"\\u00f8in\", \"\\u00f8in\", \"\\u00f8in\", \"\\u00f8in\", \"\\u00f8nsk\", \"\\u00f8nsk\", \"\\u00f8nsk\", \"\\u00f8nsk\", \"\\u00f8nsk\", \"\\u00f8resaa\", \"\\u00f8sterlid\", \"\\u00f8xe\"]}, \"R\": 30, \"lambda.step\": 0.01, \"plot.opts\": {\"xlab\": \"PC1\", \"ylab\": \"PC2\"}, \"topic.order\": [12, 2, 3, 19, 15, 4, 6, 1, 13, 11, 9, 10, 7, 20, 18, 17, 14, 8, 16, 5]};\n",
       "\n",
       "function LDAvis_load_lib(url, callback){\n",
       "  var s = document.createElement('script');\n",
       "  s.src = url;\n",
       "  s.async = true;\n",
       "  s.onreadystatechange = s.onload = callback;\n",
       "  s.onerror = function(){console.warn(\"failed to load library \" + url);};\n",
       "  document.getElementsByTagName(\"head\")[0].appendChild(s);\n",
       "}\n",
       "\n",
       "if(typeof(LDAvis) !== \"undefined\"){\n",
       "   // already loaded: just create the visualization\n",
       "   !function(LDAvis){\n",
       "       new LDAvis(\"#\" + \"ldavis_el4615220628510332724846013304\", ldavis_el4615220628510332724846013304_data);\n",
       "   }(LDAvis);\n",
       "}else if(typeof define === \"function\" && define.amd){\n",
       "   // require.js is available: use it to load d3/LDAvis\n",
       "   require.config({paths: {d3: \"https://cdnjs.cloudflare.com/ajax/libs/d3/3.5.5/d3.min\"}});\n",
       "   require([\"d3\"], function(d3){\n",
       "      window.d3 = d3;\n",
       "      LDAvis_load_lib(\"https://cdn.rawgit.com/bmabey/pyLDAvis/files/ldavis.v1.0.0.js\", function(){\n",
       "        new LDAvis(\"#\" + \"ldavis_el4615220628510332724846013304\", ldavis_el4615220628510332724846013304_data);\n",
       "      });\n",
       "    });\n",
       "}else{\n",
       "    // require.js not available: dynamically load d3 & LDAvis\n",
       "    LDAvis_load_lib(\"https://cdnjs.cloudflare.com/ajax/libs/d3/3.5.5/d3.min.js\", function(){\n",
       "         LDAvis_load_lib(\"https://cdn.rawgit.com/bmabey/pyLDAvis/files/ldavis.v1.0.0.js\", function(){\n",
       "                 new LDAvis(\"#\" + \"ldavis_el4615220628510332724846013304\", ldavis_el4615220628510332724846013304_data);\n",
       "            })\n",
       "         });\n",
       "}\n",
       "</script>"
      ],
      "text/plain": [
       "PreparedData(topic_coordinates=              x         y  topics  cluster       Freq\n",
       "topic                                                \n",
       "11    -0.352767 -0.104253       1        1  38.210247\n",
       "1     -0.314489 -0.133772       2        1  18.816729\n",
       "2     -0.271213 -0.154292       3        1  16.645216\n",
       "18    -0.159242  0.052571       4        1   4.235778\n",
       "14    -0.204852  0.131485       5        1   3.653467\n",
       "3     -0.139740  0.050386       6        1   3.598058\n",
       "5     -0.122729  0.150840       7        1   3.558571\n",
       "0     -0.171757  0.178774       8        1   3.416616\n",
       "12     0.064697 -0.181210       9        1   1.791302\n",
       "10     0.094995 -0.072366      10        1   1.775761\n",
       "8     -0.039236  0.144822      11        1   1.234143\n",
       "9      0.098753 -0.078633      12        1   1.195965\n",
       "6      0.185640  0.009608      13        1   0.600554\n",
       "19     0.187372 -0.003058      14        1   0.343762\n",
       "17     0.195346 -0.001124      15        1   0.218408\n",
       "16     0.191866 -0.001324      16        1   0.203049\n",
       "13     0.193317  0.002008      17        1   0.193561\n",
       "7      0.188883  0.003125      18        1   0.145947\n",
       "15     0.188013  0.002730      19        1   0.083439\n",
       "4      0.187143  0.003684      20        1   0.079421, topic_info=      Category          Freq             Term         Total  loglift  logprob\n",
       "term                                                                         \n",
       "10     Default   9434.000000               ei   9434.000000  30.0000  30.0000\n",
       "1835   Default   2059.000000            dansk   2059.000000  29.0000  29.0000\n",
       "193    Default   6606.000000              gud   6606.000000  28.0000  28.0000\n",
       "74     Default   4814.000000              ord   4814.000000  27.0000  27.0000\n",
       "116    Default   5774.000000             aand   5774.000000  26.0000  26.0000\n",
       "44     Default  10871.000000              kan  10871.000000  25.0000  25.0000\n",
       "748    Default   3873.000000              liv   3873.000000  24.0000  24.0000\n",
       "50     Default   3225.000000             kong   3225.000000  23.0000  23.0000\n",
       "52     Default   9854.000000              kun   9854.000000  22.0000  22.0000\n",
       "8      Default   3270.000000              død   3270.000000  21.0000  21.0000\n",
       "397    Default   2415.000000            hjert   2415.000000  20.0000  20.0000\n",
       "149    Default   1428.000000          danmark   1428.000000  19.0000  19.0000\n",
       "108    Default   2927.000000             verd   2927.000000  18.0000  18.0000\n",
       "256    Default   1810.000000             nord   1810.000000  17.0000  17.0000\n",
       "1070   Default   3125.000000             kirk   3125.000000  16.0000  16.0000\n",
       "22143  Default    736.000000              dam    736.000000  15.0000  15.0000\n",
       "3673   Default    921.000000            krist    921.000000  14.0000  14.0000\n",
       "0      Default   2483.000000               al   2483.000000  13.0000  13.0000\n",
       "384    Default   2590.000000             giør   2590.000000  12.0000  12.0000\n",
       "901    Default   6005.000000              maa   6005.000000  11.0000  11.0000\n",
       "146    Default   3230.000000              dag   3230.000000  10.0000  10.0000\n",
       "409    Default   5233.000000              kom   5233.000000   9.0000   9.0000\n",
       "60     Default   1810.000000              lys   1810.000000   8.0000   8.0000\n",
       "561    Default   2510.000000          mennesk   2510.000000   7.0000   7.0000\n",
       "42     Default   2000.000000             jord   2000.000000   6.0000   6.0000\n",
       "2723   Default   1016.000000              ere   1016.000000   5.0000   5.0000\n",
       "445    Default   3373.000000             sand   3373.000000   4.0000   4.0000\n",
       "102    Default   2471.000000              tro   2471.000000   3.0000   3.0000\n",
       "154    Default   1170.000000              dit   1170.000000   2.0000   2.0000\n",
       "13     Default   1334.000000             evig   1334.000000   1.0000   1.0000\n",
       "...        ...           ...              ...           ...      ...      ...\n",
       "1783   Topic20      0.750724           saamed      1.366179   6.5394  -7.2283\n",
       "1777   Topic20      0.720876           letsom      1.336331   6.5209  -7.2689\n",
       "14825  Topic20      0.718204    matthisonhans      1.333658   6.5192  -7.2726\n",
       "9470   Topic20      0.710321           øresaa      1.325775   6.5141  -7.2836\n",
       "16271  Topic20      0.710321          herreat      1.325775   6.5141  -7.2836\n",
       "9322   Topic20      0.671211           sporaf      1.286667   6.4874  -7.3403\n",
       "68364  Topic20      0.656297      omsonstselv      1.271751   6.4766  -7.3627\n",
       "79663  Topic20      0.656297            ikkei      1.271753   6.4766  -7.3627\n",
       "14704  Topic20      0.639257            fagei      1.254711   6.4638  -7.3891\n",
       "68434  Topic20      0.602839         sendetil      1.218293   6.4346  -7.4477\n",
       "30533  Topic20      0.602679           glødem      1.218133   6.4345  -7.4480\n",
       "6      Topic20      0.585799         bølgerei      1.201254   6.4200  -7.4764\n",
       "14833  Topic20      0.585233         mundepaa      1.200687   6.4195  -7.4773\n",
       "1769   Topic20      0.531775          flidfor      1.147229   6.3693  -7.5731\n",
       "96826  Topic20      0.531209       taaberverd      1.146663   6.3687  -7.5742\n",
       "96827  Topic20      0.531209             ægte      1.146663   6.3687  -7.5742\n",
       "96825  Topic20      0.531209      strandesand      1.146663   6.3687  -7.5742\n",
       "96810  Topic20      0.531209         baresand      1.146663   6.3687  -7.5742\n",
       "96824  Topic20      0.531209       sandefalsk      1.146663   6.3687  -7.5742\n",
       "96822  Topic20      0.531209          retbrød      1.146663   6.3687  -7.5742\n",
       "96820  Topic20      0.531209           mætlad      1.146663   6.3687  -7.5742\n",
       "96818  Topic20      0.531209           ikkeud      1.146663   6.3687  -7.5742\n",
       "96817  Topic20      0.531209         faresand      1.146663   6.3687  -7.5742\n",
       "96816  Topic20      0.531209       drikkeblod      1.146663   6.3687  -7.5742\n",
       "96812  Topic20      0.531209       bordethvor      1.146663   6.3687  -7.5742\n",
       "96811  Topic20      0.531209      betydersjæl      1.146663   6.3687  -7.5742\n",
       "96813  Topic20      0.531209      bryderaltid      1.146663   6.3687  -7.5742\n",
       "96814  Topic20      0.531209           brødaf      1.146663   6.3687  -7.5742\n",
       "96815  Topic20      0.531209  bægtehimmelbrød      1.146663   6.3687  -7.5742\n",
       "96819  Topic20      0.531209        kiødskjul      1.146663   6.3687  -7.5742\n",
       "\n",
       "[1286 rows x 6 columns], token_table=       Topic      Freq      Term\n",
       "term                            \n",
       "1790       1  0.307349  aabenbar\n",
       "1790       2  0.493748  aabenbar\n",
       "1790       3  0.196347  aabenbar\n",
       "1790      10  0.002618  aabenbar\n",
       "116        1  0.386509      aand\n",
       "116        2  0.435343      aand\n",
       "116        3  0.007966      aand\n",
       "116        4  0.002251      aand\n",
       "116        5  0.065804      aand\n",
       "116        6  0.000693      aand\n",
       "116        7  0.014892      aand\n",
       "116        8  0.074808      aand\n",
       "116        9  0.000520      aand\n",
       "116       10  0.001732      aand\n",
       "116       11  0.009351      aand\n",
       "10927      5  0.966377    aandda\n",
       "15391     11  0.968098   aandmed\n",
       "19512     16  0.973543     aando\n",
       "10156     16  0.783643   aandsaa\n",
       "10044      6  0.980794   aandsom\n",
       "10826     19  0.697217   aandtil\n",
       "120        1  0.464529       aar\n",
       "120        2  0.072891       aar\n",
       "120        3  0.368781       aar\n",
       "120        4  0.012354       aar\n",
       "120        5  0.006795       aar\n",
       "120        6  0.036446       aar\n",
       "120        7  0.029651       aar\n",
       "120        9  0.008030       aar\n",
       "41961      3  0.994979    afrika\n",
       "...      ...       ...       ...\n",
       "30249      8  0.937675      øded\n",
       "5440       1  0.778336       øie\n",
       "5440       3  0.014968       øie\n",
       "5440       4  0.061369       øie\n",
       "5440       5  0.064362       øie\n",
       "5440       6  0.001497       øie\n",
       "5440       7  0.056878       øie\n",
       "5440       8  0.019458       øie\n",
       "5440      12  0.002994       øie\n",
       "5441       1  0.801269   øieblik\n",
       "5441       2  0.019851   øieblik\n",
       "5441       3  0.178661   øieblik\n",
       "19613     14  0.953086    øiehan\n",
       "10750      7  0.950243    øiesaa\n",
       "339        1  0.772419       øin\n",
       "339        2  0.026152       øin\n",
       "339        3  0.126090       øin\n",
       "339        5  0.028020       øin\n",
       "339        7  0.004670       øin\n",
       "339        8  0.033624       øin\n",
       "339       10  0.000934       øin\n",
       "339       11  0.007472       øin\n",
       "2047       1  0.807738      ønsk\n",
       "2047       2  0.170549      ønsk\n",
       "2047       3  0.009475      ønsk\n",
       "2047       5  0.004737      ønsk\n",
       "2047       6  0.005922      ønsk\n",
       "9470      20  0.754276    øresaa\n",
       "18321     16  0.671675  østerlid\n",
       "64399      7  0.978174       øxe\n",
       "\n",
       "[2947 rows x 3 columns], R=30, lambda_step=0.01, plot_opts={'xlab': 'PC1', 'ylab': 'PC2'}, topic_order=[12, 2, 3, 19, 15, 4, 6, 1, 13, 11, 9, 10, 7, 20, 18, 17, 14, 8, 16, 5])"
      ]
     },
     "execution_count": 18,
     "metadata": {},
     "output_type": "execute_result"
    }
   ],
   "source": [
    "# Visualize the topics\n",
    "pyLDAvis.enable_notebook()\n",
    "vis = pyLDAvis.gensim.prepare(lda_model, corpus, id2word)\n",
    "vis"
   ]
  },
  {
   "cell_type": "code",
   "execution_count": 55,
   "metadata": {},
   "outputs": [
    {
     "name": "stdout",
     "output_type": "stream",
     "text": [
      "Stored 'vis' (PreparedData)\n"
     ]
    }
   ],
   "source": [
    "%store vis"
   ]
  },
  {
   "cell_type": "markdown",
   "metadata": {},
   "source": [
    "#### Visulize the topic distribution for a single passage"
   ]
  },
  {
   "cell_type": "code",
   "execution_count": 22,
   "metadata": {},
   "outputs": [],
   "source": [
    "def topic_distribution(document_name,ldamodel=lda_model, corpus=corpus, texts=data):\n",
    "    \"\"\"this function take the document_name as the input and output the topic distribution\"\"\"\n",
    "    index_document_number=articles.index(document_name)\n",
    "    topic_and_distribution = lda_model[corpus][index_document_number][0]\n",
    "    labels = [i[0] for i in topic_and_distribution]\n",
    "    percentage = [i[1] for i in topic_and_distribution]\n",
    "    return labels,percentage"
   ]
  },
  {
   "cell_type": "code",
   "execution_count": 24,
   "metadata": {},
   "outputs": [],
   "source": [
    "def visulize_topic_dist(index_document_number):\n",
    "    \"\"\"this is a helper function to visulize the data\"\"\"\n",
    "    labels,percentage=topic_distribution(index_document_number)\n",
    "    x = np.arange(len(labels))\n",
    "    plt.bar(x, percentage)\n",
    "    plt.xticks(x, labels)\n",
    "    plt.ylabel('percentage', fontsize=18)\n",
    "    plt.xlabel('topic ', fontsize=16)\n",
    "    plt.show()"
   ]
  },
  {
   "cell_type": "markdown",
   "metadata": {},
   "source": [
    "The following graph is showing for the article 'grundtvig11val_workid118888.txt', x-axis contain the topics contained in this article, y-axis is the percentage of each topic in the article."
   ]
  },
  {
   "cell_type": "code",
   "execution_count": 30,
   "metadata": {},
   "outputs": [
    {
     "data": {
      "text/plain": [
       "['grundtvig11val_workid118888.txt',\n",
       " 'grundtvig09val_workid64460.txt',\n",
       " 'grundtvig11val_workid71363.txt',\n",
       " 'grundtvig11val_workid77740.txt',\n",
       " 'grundtvig11val_workid148916.txt',\n",
       " 'grundtvig11val_workid120113.txt',\n",
       " 'grundtvig11val_workid109473.txt',\n",
       " 'grundtvig11val_workid99472.txt',\n",
       " 'grundtvig12val_workid55795.txt',\n",
       " 'grundtvig12val_workid94218.txt']"
      ]
     },
     "execution_count": 30,
     "metadata": {},
     "output_type": "execute_result"
    }
   ],
   "source": [
    "#get the list of acticles we have\n",
    "articles[:10]"
   ]
  },
  {
   "cell_type": "markdown",
   "metadata": {},
   "source": [
    "There are four topics residing in it and the topic 0 is the dominent one"
   ]
  },
  {
   "cell_type": "code",
   "execution_count": 29,
   "metadata": {},
   "outputs": [
    {
     "data": {
      "image/png": "[encoded data removed]",
      "text/plain": [
       "<Figure size 432x288 with 1 Axes>"
      ]
     },
     "metadata": {},
     "output_type": "display_data"
    }
   ],
   "source": [
    "visulize_topic_dist('grundtvig11val_workid118888.txt')"
   ]
  },
  {
   "cell_type": "markdown",
   "metadata": {},
   "source": [
    "#### Finding the dominant topic in each sentence"
   ]
  },
  {
   "cell_type": "markdown",
   "metadata": {},
   "source": [
    "Here we present the topic modelling results to for each of the document we have, and we extract the most popular topic for each document"
   ]
  },
  {
   "cell_type": "code",
   "execution_count": 70,
   "metadata": {},
   "outputs": [],
   "source": [
    "\"\"\"the following code will help to determine what topic a given document is about\"\"\"\n",
    "def format_topics_sentences(ldamodel=lda_model, corpus=corpus, texts=data):\n",
    "    # Init output\n",
    "    sent_topics_df = pd.DataFrame()\n",
    "\n",
    "    # Get main topic in each document\n",
    "    for i, row in enumerate(ldamodel[corpus]):\n",
    "        row = row[0]\n",
    "        row = sorted(row, key=lambda x: (x[1]), reverse=True)\n",
    "        # Get the Dominant topic, Perc Contribution and Keywords for each document\n",
    "        topic_num = row[0][0]\n",
    "        prop_topic = row[0][1]\n",
    "        wp = ldamodel.show_topic(topic_num)\n",
    "        topic_keywords = \", \".join([word for word, prop in wp])\n",
    "        sent_topics_df = sent_topics_df.append(pd.Series([int(topic_num), round(prop_topic,4), topic_keywords]), ignore_index=True)\n",
    "    sent_topics_df.columns = ['Dominant_Topic', 'Perc_Contribution', 'Topic_Keywords']\n",
    "\n",
    "    # Add original text to the end of the output\n",
    "    contents = pd.Series(texts)\n",
    "    sent_topics_df = pd.concat([sent_topics_df, contents], axis=1)\n",
    "    return(sent_topics_df)"
   ]
  },
  {
   "cell_type": "code",
   "execution_count": 71,
   "metadata": {},
   "outputs": [],
   "source": [
    "df_topic_sents_keywords = format_topics_sentences(lda_model, corpus=corpus, texts=data)"
   ]
  },
  {
   "cell_type": "code",
   "execution_count": 106,
   "metadata": {},
   "outputs": [
    {
     "data": {
      "text/html": [
       "<div>\n",
       "<style scoped>\n",
       "    .dataframe tbody tr th:only-of-type {\n",
       "        vertical-align: middle;\n",
       "    }\n",
       "\n",
       "    .dataframe tbody tr th {\n",
       "        vertical-align: top;\n",
       "    }\n",
       "\n",
       "    .dataframe thead th {\n",
       "        text-align: right;\n",
       "    }\n",
       "</style>\n",
       "<table border=\"1\" class=\"dataframe\">\n",
       "  <thead>\n",
       "    <tr style=\"text-align: right;\">\n",
       "      <th></th>\n",
       "      <th>Document_No</th>\n",
       "      <th>Dominant_Topic</th>\n",
       "      <th>Topic_Perc_Contrib</th>\n",
       "      <th>Keywords</th>\n",
       "      <th>Text</th>\n",
       "    </tr>\n",
       "  </thead>\n",
       "  <tbody>\n",
       "    <tr>\n",
       "      <th>0</th>\n",
       "      <td>0</td>\n",
       "      <td>0.0</td>\n",
       "      <td>0.7281</td>\n",
       "      <td>gud, liv, ei, aand, dit, død, kun, ord, verd, ...</td>\n",
       "      <td>No. 196.\\n *)Jeg som et Barn mig glæde vil,Og ...</td>\n",
       "    </tr>\n",
       "    <tr>\n",
       "      <th>1</th>\n",
       "      <td>1</td>\n",
       "      <td>7.0</td>\n",
       "      <td>0.3263</td>\n",
       "      <td>herod, delphi, melodi, slagterbænk, guldsom, d...</td>\n",
       "      <td>HENRICH STEFFENS.VED Henrik Steffens' Død den ...</td>\n",
       "    </tr>\n",
       "    <tr>\n",
       "      <th>2</th>\n",
       "      <td>2</td>\n",
       "      <td>2.0</td>\n",
       "      <td>0.3679</td>\n",
       "      <td>kong, kun, stor, hel, rom, kom, ogsaa, vel, ba...</td>\n",
       "      <td>No. 40\\n .Verden er, som Man den tager,Herlig ...</td>\n",
       "    </tr>\n",
       "    <tr>\n",
       "      <th>3</th>\n",
       "      <td>3</td>\n",
       "      <td>14.0</td>\n",
       "      <td>0.9285</td>\n",
       "      <td>gud, ord, ei, hjert, kun, verd, aand, lys, dag...</td>\n",
       "      <td>No. 63\\n . *)Paradis-Gaard og Folke-Vang!Synge...</td>\n",
       "    </tr>\n",
       "    <tr>\n",
       "      <th>4</th>\n",
       "      <td>4</td>\n",
       "      <td>8.0</td>\n",
       "      <td>0.5306</td>\n",
       "      <td>gud, død, ei, kan, al, no, liv, ord, aand, vort</td>\n",
       "      <td>No. 327\\n .Gud-Fader udsendte sit Naadens-Ord,...</td>\n",
       "    </tr>\n",
       "    <tr>\n",
       "      <th>5</th>\n",
       "      <td>5</td>\n",
       "      <td>14.0</td>\n",
       "      <td>0.7349</td>\n",
       "      <td>gud, ord, ei, hjert, kun, verd, aand, lys, dag...</td>\n",
       "      <td>No. 200\\n .Guds Engle sang i Stjerne-Tal,Stjer...</td>\n",
       "    </tr>\n",
       "    <tr>\n",
       "      <th>6</th>\n",
       "      <td>6</td>\n",
       "      <td>14.0</td>\n",
       "      <td>0.2904</td>\n",
       "      <td>gud, ord, ei, hjert, kun, verd, aand, lys, dag...</td>\n",
       "      <td>No. 156\\n . *)Stjernernes Skaber og Himmelens ...</td>\n",
       "    </tr>\n",
       "    <tr>\n",
       "      <th>7</th>\n",
       "      <td>7</td>\n",
       "      <td>10.0</td>\n",
       "      <td>0.3623</td>\n",
       "      <td>dam, odin, thor, myth, asern, jet, lok, nord, ...</td>\n",
       "      <td>No. 119\\n .Syng, Guds Folk! med Hjertens Glæde...</td>\n",
       "    </tr>\n",
       "    <tr>\n",
       "      <th>8</th>\n",
       "      <td>8</td>\n",
       "      <td>17.0</td>\n",
       "      <td>0.7665</td>\n",
       "      <td>glemmes_aldr, kvædl, willemo, syrith, himlensa...</td>\n",
       "      <td>No. 2\\n .Adam og Eva\\n .Ordet sig hviled,Engle...</td>\n",
       "    </tr>\n",
       "    <tr>\n",
       "      <th>9</th>\n",
       "      <td>9</td>\n",
       "      <td>8.0</td>\n",
       "      <td>0.9021</td>\n",
       "      <td>gud, død, ei, kan, al, no, liv, ord, aand, vort</td>\n",
       "      <td>No\\n . 86.*)Mel.\\n : Et Barn er født i Bethehe...</td>\n",
       "    </tr>\n",
       "  </tbody>\n",
       "</table>\n",
       "</div>"
      ],
      "text/plain": [
       "   Document_No  Dominant_Topic  Topic_Perc_Contrib  \\\n",
       "0            0             0.0              0.7281   \n",
       "1            1             7.0              0.3263   \n",
       "2            2             2.0              0.3679   \n",
       "3            3            14.0              0.9285   \n",
       "4            4             8.0              0.5306   \n",
       "5            5            14.0              0.7349   \n",
       "6            6            14.0              0.2904   \n",
       "7            7            10.0              0.3623   \n",
       "8            8            17.0              0.7665   \n",
       "9            9             8.0              0.9021   \n",
       "\n",
       "                                            Keywords  \\\n",
       "0  gud, liv, ei, aand, dit, død, kun, ord, verd, ...   \n",
       "1  herod, delphi, melodi, slagterbænk, guldsom, d...   \n",
       "2  kong, kun, stor, hel, rom, kom, ogsaa, vel, ba...   \n",
       "3  gud, ord, ei, hjert, kun, verd, aand, lys, dag...   \n",
       "4    gud, død, ei, kan, al, no, liv, ord, aand, vort   \n",
       "5  gud, ord, ei, hjert, kun, verd, aand, lys, dag...   \n",
       "6  gud, ord, ei, hjert, kun, verd, aand, lys, dag...   \n",
       "7  dam, odin, thor, myth, asern, jet, lok, nord, ...   \n",
       "8  glemmes_aldr, kvædl, willemo, syrith, himlensa...   \n",
       "9    gud, død, ei, kan, al, no, liv, ord, aand, vort   \n",
       "\n",
       "                                                Text  \n",
       "0  No. 196.\\n *)Jeg som et Barn mig glæde vil,Og ...  \n",
       "1  HENRICH STEFFENS.VED Henrik Steffens' Død den ...  \n",
       "2  No. 40\\n .Verden er, som Man den tager,Herlig ...  \n",
       "3  No. 63\\n . *)Paradis-Gaard og Folke-Vang!Synge...  \n",
       "4  No. 327\\n .Gud-Fader udsendte sit Naadens-Ord,...  \n",
       "5  No. 200\\n .Guds Engle sang i Stjerne-Tal,Stjer...  \n",
       "6  No. 156\\n . *)Stjernernes Skaber og Himmelens ...  \n",
       "7  No. 119\\n .Syng, Guds Folk! med Hjertens Glæde...  \n",
       "8  No. 2\\n .Adam og Eva\\n .Ordet sig hviled,Engle...  \n",
       "9  No\\n . 86.*)Mel.\\n : Et Barn er født i Bethehe...  "
      ]
     },
     "execution_count": 106,
     "metadata": {},
     "output_type": "execute_result"
    }
   ],
   "source": [
    "\n",
    "# Format\n",
    "df_dominant_topic = df_topic_sents_keywords.reset_index()\n",
    "df_dominant_topic.columns = ['Document_No', 'Dominant_Topic', 'Topic_Perc_Contrib', 'Keywords', 'Text']\n",
    "\n",
    "# Show\n",
    "df_dominant_topic.head(10)"
   ]
  },
  {
   "cell_type": "markdown",
   "metadata": {},
   "source": [
    "#### Find the most representative document for each topic"
   ]
  },
  {
   "cell_type": "code",
   "execution_count": 104,
   "metadata": {},
   "outputs": [
    {
     "data": {
      "text/html": [
       "<div>\n",
       "<style scoped>\n",
       "    .dataframe tbody tr th:only-of-type {\n",
       "        vertical-align: middle;\n",
       "    }\n",
       "\n",
       "    .dataframe tbody tr th {\n",
       "        vertical-align: top;\n",
       "    }\n",
       "\n",
       "    .dataframe thead th {\n",
       "        text-align: right;\n",
       "    }\n",
       "</style>\n",
       "<table border=\"1\" class=\"dataframe\">\n",
       "  <thead>\n",
       "    <tr style=\"text-align: right;\">\n",
       "      <th></th>\n",
       "      <th>Topic_Num</th>\n",
       "      <th>Topic_Perc_Contrib</th>\n",
       "      <th>Keywords</th>\n",
       "      <th>Text</th>\n",
       "    </tr>\n",
       "  </thead>\n",
       "  <tbody>\n",
       "    <tr>\n",
       "      <th>0</th>\n",
       "      <td>0.0</td>\n",
       "      <td>0.9325</td>\n",
       "      <td>gud, liv, ei, aand, dit, død, kun, ord, verd, ...</td>\n",
       "      <td>No. 354.\\n *)Sin Eenbaarne Gud hengivetHar for...</td>\n",
       "    </tr>\n",
       "    <tr>\n",
       "      <th>1</th>\n",
       "      <td>1.0</td>\n",
       "      <td>0.9229</td>\n",
       "      <td>kan, aand, kirk, kun, maa, naar, ord, hel, tro...</td>\n",
       "      <td>DEN CHRISTELIGEBØRNELÆRDOM.DEN Række Afhandlin...</td>\n",
       "    </tr>\n",
       "    <tr>\n",
       "      <th>2</th>\n",
       "      <td>2.0</td>\n",
       "      <td>0.7049</td>\n",
       "      <td>kong, kun, stor, hel, rom, kom, ogsaa, vel, ba...</td>\n",
       "      <td>HAANDBOG I VERDENSHISTORIEN. ANDEN DEEL.\\n MID...</td>\n",
       "    </tr>\n",
       "    <tr>\n",
       "      <th>3</th>\n",
       "      <td>3.0</td>\n",
       "      <td>0.6854</td>\n",
       "      <td>kong, ei, kom, dannemark, kun, gaml, søn, ord,...</td>\n",
       "      <td>No. 211\\n . *)Med sin Alabaster-Krukke,Fuld af...</td>\n",
       "    </tr>\n",
       "    <tr>\n",
       "      <th>4</th>\n",
       "      <td>4.0</td>\n",
       "      <td>0.5207</td>\n",
       "      <td>jordensaa, rethan, tidsom, givetat, tilbage, s...</td>\n",
       "      <td>No. 38\\n .Christne, med Skiel,Kaldes de vel,Al...</td>\n",
       "    </tr>\n",
       "    <tr>\n",
       "      <th>5</th>\n",
       "      <td>5.0</td>\n",
       "      <td>0.9112</td>\n",
       "      <td>ei, gud, dit, kun, mon, kan, ord, gaml, kirk, maa</td>\n",
       "      <td>No. 61\\n . *)Hyggelig, rolig,Gud! er din Bolig...</td>\n",
       "    </tr>\n",
       "    <tr>\n",
       "      <th>6</th>\n",
       "      <td>6.0</td>\n",
       "      <td>0.4928</td>\n",
       "      <td>liv, herm, boemund, antioki, glemmes_aldr, apo...</td>\n",
       "      <td>No. 344\\n . *)Dag med Ære, Dag med Ynde!Rosen-...</td>\n",
       "    </tr>\n",
       "    <tr>\n",
       "      <th>7</th>\n",
       "      <td>7.0</td>\n",
       "      <td>0.4847</td>\n",
       "      <td>herod, delphi, melodi, slagterbænk, guldsom, d...</td>\n",
       "      <td>No. 205\\n . *)Al den ganske ChristenhedPriser ...</td>\n",
       "    </tr>\n",
       "    <tr>\n",
       "      <th>8</th>\n",
       "      <td>8.0</td>\n",
       "      <td>0.9432</td>\n",
       "      <td>gud, død, ei, kan, al, no, liv, ord, aand, vort</td>\n",
       "      <td>No. 284\\n . *)Guds Engel sidder paa Gravens Br...</td>\n",
       "    </tr>\n",
       "    <tr>\n",
       "      <th>9</th>\n",
       "      <td>9.0</td>\n",
       "      <td>0.4415</td>\n",
       "      <td>odin, asern, jet, digt, lok, aser, norn, gud, ...</td>\n",
       "      <td>No. 26.Overgangen i det røde Hav.Pharao sidder...</td>\n",
       "    </tr>\n",
       "    <tr>\n",
       "      <th>10</th>\n",
       "      <td>10.0</td>\n",
       "      <td>0.5498</td>\n",
       "      <td>dam, odin, thor, myth, asern, jet, lok, nord, ...</td>\n",
       "      <td>No. 292\\n . *)Hører, I, som græde,Og med Taare...</td>\n",
       "    </tr>\n",
       "    <tr>\n",
       "      <th>11</th>\n",
       "      <td>11.0</td>\n",
       "      <td>0.9887</td>\n",
       "      <td>kan, ei, kun, naar, maa, kund, vel, hel, vild,...</td>\n",
       "      <td>VALGDAGEN I KJERTEMINDE. (1855. Juni 21).DEN 2...</td>\n",
       "    </tr>\n",
       "    <tr>\n",
       "      <th>12</th>\n",
       "      <td>13.0</td>\n",
       "      <td>0.6632</td>\n",
       "      <td>korsets_træ, blaamænd, sagog, korsfæstedenu, v...</td>\n",
       "      <td>No. 239.\\n *)Dag uden Mage!Evigheds Morgen!Ban...</td>\n",
       "    </tr>\n",
       "    <tr>\n",
       "      <th>13</th>\n",
       "      <td>14.0</td>\n",
       "      <td>0.9553</td>\n",
       "      <td>gud, ord, ei, hjert, kun, verd, aand, lys, dag...</td>\n",
       "      <td>No. 132.\\n *)Blomstre som en Rosen-GaardSkal d...</td>\n",
       "    </tr>\n",
       "    <tr>\n",
       "      <th>14</th>\n",
       "      <td>15.0</td>\n",
       "      <td>0.8343</td>\n",
       "      <td>canaan, aandtil, kvær, haandsaa, stigeop, raha...</td>\n",
       "      <td>Bibel-Historien.No. 4.Verden døde,Tomt og øde,...</td>\n",
       "    </tr>\n",
       "    <tr>\n",
       "      <th>15</th>\n",
       "      <td>16.0</td>\n",
       "      <td>0.4744</td>\n",
       "      <td>fadervor, fortabt, aando, aandsaa, jordei, sig...</td>\n",
       "      <td>No. 97\\n .Smuler under Herrens BordHunde smaa ...</td>\n",
       "    </tr>\n",
       "    <tr>\n",
       "      <th>16</th>\n",
       "      <td>17.0</td>\n",
       "      <td>0.7665</td>\n",
       "      <td>glemmes_aldr, kvædl, willemo, syrith, himlensa...</td>\n",
       "      <td>No. 2\\n .Adam og Eva\\n .Ordet sig hviled,Engle...</td>\n",
       "    </tr>\n",
       "    <tr>\n",
       "      <th>17</th>\n",
       "      <td>18.0</td>\n",
       "      <td>0.9485</td>\n",
       "      <td>ei, kan, gud, maa, kun, vel, kom, hel, jord, dit</td>\n",
       "      <td>Rachab.No. 41. *)Om I gik ud ad Porten,Som nys...</td>\n",
       "    </tr>\n",
       "    <tr>\n",
       "      <th>18</th>\n",
       "      <td>19.0</td>\n",
       "      <td>0.4502</td>\n",
       "      <td>dansk, bønd, danmark, slesv, fru_mari, modersm...</td>\n",
       "      <td>No. 43.Samson.Mel.\\n Hr. Peder kasted Runer ov...</td>\n",
       "    </tr>\n",
       "  </tbody>\n",
       "</table>\n",
       "</div>"
      ],
      "text/plain": [
       "    Topic_Num  Topic_Perc_Contrib  \\\n",
       "0         0.0              0.9325   \n",
       "1         1.0              0.9229   \n",
       "2         2.0              0.7049   \n",
       "3         3.0              0.6854   \n",
       "4         4.0              0.5207   \n",
       "5         5.0              0.9112   \n",
       "6         6.0              0.4928   \n",
       "7         7.0              0.4847   \n",
       "8         8.0              0.9432   \n",
       "9         9.0              0.4415   \n",
       "10       10.0              0.5498   \n",
       "11       11.0              0.9887   \n",
       "12       13.0              0.6632   \n",
       "13       14.0              0.9553   \n",
       "14       15.0              0.8343   \n",
       "15       16.0              0.4744   \n",
       "16       17.0              0.7665   \n",
       "17       18.0              0.9485   \n",
       "18       19.0              0.4502   \n",
       "\n",
       "                                             Keywords  \\\n",
       "0   gud, liv, ei, aand, dit, død, kun, ord, verd, ...   \n",
       "1   kan, aand, kirk, kun, maa, naar, ord, hel, tro...   \n",
       "2   kong, kun, stor, hel, rom, kom, ogsaa, vel, ba...   \n",
       "3   kong, ei, kom, dannemark, kun, gaml, søn, ord,...   \n",
       "4   jordensaa, rethan, tidsom, givetat, tilbage, s...   \n",
       "5   ei, gud, dit, kun, mon, kan, ord, gaml, kirk, maa   \n",
       "6   liv, herm, boemund, antioki, glemmes_aldr, apo...   \n",
       "7   herod, delphi, melodi, slagterbænk, guldsom, d...   \n",
       "8     gud, død, ei, kan, al, no, liv, ord, aand, vort   \n",
       "9   odin, asern, jet, digt, lok, aser, norn, gud, ...   \n",
       "10  dam, odin, thor, myth, asern, jet, lok, nord, ...   \n",
       "11  kan, ei, kun, naar, maa, kund, vel, hel, vild,...   \n",
       "12  korsets_træ, blaamænd, sagog, korsfæstedenu, v...   \n",
       "13  gud, ord, ei, hjert, kun, verd, aand, lys, dag...   \n",
       "14  canaan, aandtil, kvær, haandsaa, stigeop, raha...   \n",
       "15  fadervor, fortabt, aando, aandsaa, jordei, sig...   \n",
       "16  glemmes_aldr, kvædl, willemo, syrith, himlensa...   \n",
       "17   ei, kan, gud, maa, kun, vel, kom, hel, jord, dit   \n",
       "18  dansk, bønd, danmark, slesv, fru_mari, modersm...   \n",
       "\n",
       "                                                 Text  \n",
       "0   No. 354.\\n *)Sin Eenbaarne Gud hengivetHar for...  \n",
       "1   DEN CHRISTELIGEBØRNELÆRDOM.DEN Række Afhandlin...  \n",
       "2   HAANDBOG I VERDENSHISTORIEN. ANDEN DEEL.\\n MID...  \n",
       "3   No. 211\\n . *)Med sin Alabaster-Krukke,Fuld af...  \n",
       "4   No. 38\\n .Christne, med Skiel,Kaldes de vel,Al...  \n",
       "5   No. 61\\n . *)Hyggelig, rolig,Gud! er din Bolig...  \n",
       "6   No. 344\\n . *)Dag med Ære, Dag med Ynde!Rosen-...  \n",
       "7   No. 205\\n . *)Al den ganske ChristenhedPriser ...  \n",
       "8   No. 284\\n . *)Guds Engel sidder paa Gravens Br...  \n",
       "9   No. 26.Overgangen i det røde Hav.Pharao sidder...  \n",
       "10  No. 292\\n . *)Hører, I, som græde,Og med Taare...  \n",
       "11  VALGDAGEN I KJERTEMINDE. (1855. Juni 21).DEN 2...  \n",
       "12  No. 239.\\n *)Dag uden Mage!Evigheds Morgen!Ban...  \n",
       "13  No. 132.\\n *)Blomstre som en Rosen-GaardSkal d...  \n",
       "14  Bibel-Historien.No. 4.Verden døde,Tomt og øde,...  \n",
       "15  No. 97\\n .Smuler under Herrens BordHunde smaa ...  \n",
       "16  No. 2\\n .Adam og Eva\\n .Ordet sig hviled,Engle...  \n",
       "17  Rachab.No. 41. *)Om I gik ud ad Porten,Som nys...  \n",
       "18  No. 43.Samson.Mel.\\n Hr. Peder kasted Runer ov...  "
      ]
     },
     "execution_count": 104,
     "metadata": {},
     "output_type": "execute_result"
    }
   ],
   "source": [
    "\"\"\"find the documents a given topic has contributed to the most and infer the topic by reading that document.\"\"\"\n",
    "# Group top 5 sentences under each topic\n",
    "sent_topics_sorteddf_mallet = pd.DataFrame()\n",
    "\n",
    "sent_topics_outdf_grpd = df_topic_sents_keywords.groupby('Dominant_Topic')\n",
    "\n",
    "for i, grp in sent_topics_outdf_grpd:\n",
    "    sent_topics_sorteddf_mallet = pd.concat([sent_topics_sorteddf_mallet, \n",
    "                                             grp.sort_values(['Perc_Contribution'], ascending=[0]).head(1)], \n",
    "                                            axis=0)\n",
    "\n",
    "# Reset Index    \n",
    "sent_topics_sorteddf_mallet.reset_index(drop=True, inplace=True)\n",
    "\n",
    "# Format\n",
    "sent_topics_sorteddf_mallet.columns = ['Topic_Num', \"Topic_Perc_Contrib\", \"Keywords\", \"Text\"]\n",
    "\n",
    "# Show\n",
    "sent_topics_sorteddf_mallet.head()"
   ]
  },
  {
   "cell_type": "markdown",
   "metadata": {},
   "source": [
    "#### Topic distribution across documents"
   ]
  },
  {
   "cell_type": "markdown",
   "metadata": {},
   "source": [
    "understand the volume and distribution of topics in order to judge how widely it was discusse"
   ]
  },
  {
   "cell_type": "code",
   "execution_count": 191,
   "metadata": {},
   "outputs": [
    {
     "data": {
      "text/html": [
       "<div>\n",
       "<style scoped>\n",
       "    .dataframe tbody tr th:only-of-type {\n",
       "        vertical-align: middle;\n",
       "    }\n",
       "\n",
       "    .dataframe tbody tr th {\n",
       "        vertical-align: top;\n",
       "    }\n",
       "\n",
       "    .dataframe thead th {\n",
       "        text-align: right;\n",
       "    }\n",
       "</style>\n",
       "<table border=\"1\" class=\"dataframe\">\n",
       "  <thead>\n",
       "    <tr style=\"text-align: right;\">\n",
       "      <th></th>\n",
       "      <th>index</th>\n",
       "      <th>Dominant_Topic</th>\n",
       "      <th>Topic_Keywords</th>\n",
       "      <th>Num_Documents</th>\n",
       "      <th>Perc_Documents</th>\n",
       "    </tr>\n",
       "  </thead>\n",
       "  <tbody>\n",
       "    <tr>\n",
       "      <th>0</th>\n",
       "      <td>13</td>\n",
       "      <td>9.0</td>\n",
       "      <td>odin, asern, jet, digt, lok, aser, norn, gud, ...</td>\n",
       "      <td>3</td>\n",
       "      <td>0.0043</td>\n",
       "    </tr>\n",
       "    <tr>\n",
       "      <th>1</th>\n",
       "      <td>5</td>\n",
       "      <td>10.0</td>\n",
       "      <td>dam, odin, thor, myth, asern, jet, lok, nord, ...</td>\n",
       "      <td>5</td>\n",
       "      <td>0.0072</td>\n",
       "    </tr>\n",
       "    <tr>\n",
       "      <th>2</th>\n",
       "      <td>18</td>\n",
       "      <td>19.0</td>\n",
       "      <td>dansk, bønd, danmark, slesv, fru_mari, modersm...</td>\n",
       "      <td>6</td>\n",
       "      <td>0.0086</td>\n",
       "    </tr>\n",
       "    <tr>\n",
       "      <th>3</th>\n",
       "      <td>2</td>\n",
       "      <td>2.0</td>\n",
       "      <td>kong, kun, stor, hel, rom, kom, ogsaa, vel, ba...</td>\n",
       "      <td>6</td>\n",
       "      <td>0.0086</td>\n",
       "    </tr>\n",
       "    <tr>\n",
       "      <th>4</th>\n",
       "      <td>16</td>\n",
       "      <td>15.0</td>\n",
       "      <td>canaan, aandtil, kvær, haandsaa, stigeop, raha...</td>\n",
       "      <td>6</td>\n",
       "      <td>0.0086</td>\n",
       "    </tr>\n",
       "    <tr>\n",
       "      <th>5</th>\n",
       "      <td>6</td>\n",
       "      <td>17.0</td>\n",
       "      <td>glemmes_aldr, kvædl, willemo, syrith, himlensa...</td>\n",
       "      <td>8</td>\n",
       "      <td>0.0115</td>\n",
       "    </tr>\n",
       "    <tr>\n",
       "      <th>6</th>\n",
       "      <td>14</td>\n",
       "      <td>4.0</td>\n",
       "      <td>jordensaa, rethan, tidsom, givetat, tilbage, s...</td>\n",
       "      <td>10</td>\n",
       "      <td>0.0144</td>\n",
       "    </tr>\n",
       "    <tr>\n",
       "      <th>7</th>\n",
       "      <td>8</td>\n",
       "      <td>13.0</td>\n",
       "      <td>korsets_træ, blaamænd, sagog, korsfæstedenu, v...</td>\n",
       "      <td>10</td>\n",
       "      <td>0.0144</td>\n",
       "    </tr>\n",
       "    <tr>\n",
       "      <th>8</th>\n",
       "      <td>1</td>\n",
       "      <td>7.0</td>\n",
       "      <td>herod, delphi, melodi, slagterbænk, guldsom, d...</td>\n",
       "      <td>11</td>\n",
       "      <td>0.0158</td>\n",
       "    </tr>\n",
       "    <tr>\n",
       "      <th>9</th>\n",
       "      <td>10</td>\n",
       "      <td>6.0</td>\n",
       "      <td>liv, herm, boemund, antioki, glemmes_aldr, apo...</td>\n",
       "      <td>13</td>\n",
       "      <td>0.0187</td>\n",
       "    </tr>\n",
       "    <tr>\n",
       "      <th>10</th>\n",
       "      <td>11</td>\n",
       "      <td>3.0</td>\n",
       "      <td>kong, ei, kom, dannemark, kun, gaml, søn, ord,...</td>\n",
       "      <td>13</td>\n",
       "      <td>0.0187</td>\n",
       "    </tr>\n",
       "    <tr>\n",
       "      <th>11</th>\n",
       "      <td>15</td>\n",
       "      <td>16.0</td>\n",
       "      <td>fadervor, fortabt, aando, aandsaa, jordei, sig...</td>\n",
       "      <td>18</td>\n",
       "      <td>0.0259</td>\n",
       "    </tr>\n",
       "    <tr>\n",
       "      <th>12</th>\n",
       "      <td>9</td>\n",
       "      <td>1.0</td>\n",
       "      <td>kan, aand, kirk, kun, maa, naar, ord, hel, tro...</td>\n",
       "      <td>30</td>\n",
       "      <td>0.0432</td>\n",
       "    </tr>\n",
       "    <tr>\n",
       "      <th>13</th>\n",
       "      <td>3</td>\n",
       "      <td>14.0</td>\n",
       "      <td>gud, ord, ei, hjert, kun, verd, aand, lys, dag...</td>\n",
       "      <td>35</td>\n",
       "      <td>0.0504</td>\n",
       "    </tr>\n",
       "    <tr>\n",
       "      <th>14</th>\n",
       "      <td>7</td>\n",
       "      <td>5.0</td>\n",
       "      <td>ei, gud, dit, kun, mon, kan, ord, gaml, kirk, maa</td>\n",
       "      <td>50</td>\n",
       "      <td>0.0719</td>\n",
       "    </tr>\n",
       "    <tr>\n",
       "      <th>15</th>\n",
       "      <td>17</td>\n",
       "      <td>18.0</td>\n",
       "      <td>ei, kan, gud, maa, kun, vel, kom, hel, jord, dit</td>\n",
       "      <td>63</td>\n",
       "      <td>0.0906</td>\n",
       "    </tr>\n",
       "    <tr>\n",
       "      <th>16</th>\n",
       "      <td>12</td>\n",
       "      <td>11.0</td>\n",
       "      <td>kan, ei, kun, naar, maa, kund, vel, hel, vild,...</td>\n",
       "      <td>74</td>\n",
       "      <td>0.1065</td>\n",
       "    </tr>\n",
       "    <tr>\n",
       "      <th>17</th>\n",
       "      <td>4</td>\n",
       "      <td>8.0</td>\n",
       "      <td>gud, død, ei, kan, al, no, liv, ord, aand, vort</td>\n",
       "      <td>92</td>\n",
       "      <td>0.1324</td>\n",
       "    </tr>\n",
       "    <tr>\n",
       "      <th>18</th>\n",
       "      <td>0</td>\n",
       "      <td>0.0</td>\n",
       "      <td>gud, liv, ei, aand, dit, død, kun, ord, verd, ...</td>\n",
       "      <td>242</td>\n",
       "      <td>0.3482</td>\n",
       "    </tr>\n",
       "  </tbody>\n",
       "</table>\n",
       "</div>"
      ],
      "text/plain": [
       "    index  Dominant_Topic                                     Topic_Keywords  \\\n",
       "0      13             9.0  odin, asern, jet, digt, lok, aser, norn, gud, ...   \n",
       "1       5            10.0  dam, odin, thor, myth, asern, jet, lok, nord, ...   \n",
       "2      18            19.0  dansk, bønd, danmark, slesv, fru_mari, modersm...   \n",
       "3       2             2.0  kong, kun, stor, hel, rom, kom, ogsaa, vel, ba...   \n",
       "4      16            15.0  canaan, aandtil, kvær, haandsaa, stigeop, raha...   \n",
       "5       6            17.0  glemmes_aldr, kvædl, willemo, syrith, himlensa...   \n",
       "6      14             4.0  jordensaa, rethan, tidsom, givetat, tilbage, s...   \n",
       "7       8            13.0  korsets_træ, blaamænd, sagog, korsfæstedenu, v...   \n",
       "8       1             7.0  herod, delphi, melodi, slagterbænk, guldsom, d...   \n",
       "9      10             6.0  liv, herm, boemund, antioki, glemmes_aldr, apo...   \n",
       "10     11             3.0  kong, ei, kom, dannemark, kun, gaml, søn, ord,...   \n",
       "11     15            16.0  fadervor, fortabt, aando, aandsaa, jordei, sig...   \n",
       "12      9             1.0  kan, aand, kirk, kun, maa, naar, ord, hel, tro...   \n",
       "13      3            14.0  gud, ord, ei, hjert, kun, verd, aand, lys, dag...   \n",
       "14      7             5.0  ei, gud, dit, kun, mon, kan, ord, gaml, kirk, maa   \n",
       "15     17            18.0   ei, kan, gud, maa, kun, vel, kom, hel, jord, dit   \n",
       "16     12            11.0  kan, ei, kun, naar, maa, kund, vel, hel, vild,...   \n",
       "17      4             8.0    gud, død, ei, kan, al, no, liv, ord, aand, vort   \n",
       "18      0             0.0  gud, liv, ei, aand, dit, død, kun, ord, verd, ...   \n",
       "\n",
       "    Num_Documents  Perc_Documents  \n",
       "0               3          0.0043  \n",
       "1               5          0.0072  \n",
       "2               6          0.0086  \n",
       "3               6          0.0086  \n",
       "4               6          0.0086  \n",
       "5               8          0.0115  \n",
       "6              10          0.0144  \n",
       "7              10          0.0144  \n",
       "8              11          0.0158  \n",
       "9              13          0.0187  \n",
       "10             13          0.0187  \n",
       "11             18          0.0259  \n",
       "12             30          0.0432  \n",
       "13             35          0.0504  \n",
       "14             50          0.0719  \n",
       "15             63          0.0906  \n",
       "16             74          0.1065  \n",
       "17             92          0.1324  \n",
       "18            242          0.3482  "
      ]
     },
     "execution_count": 191,
     "metadata": {},
     "output_type": "execute_result"
    }
   ],
   "source": [
    "# Number of Documents for Each Topic\n",
    "topic_counts = df_topic_sents_keywords['Dominant_Topic'].value_counts()\n",
    "\n",
    "# Percentage of Documents for Each Topic\n",
    "topic_contribution = round(topic_counts/topic_counts.sum(), 4)\n",
    "\n",
    "# Topic Number and Keywords\n",
    "topic_num_keywords = df_topic_sents_keywords[['Dominant_Topic', 'Topic_Keywords']]\n",
    "topic_num_keywords= topic_num_keywords.drop_duplicates(subset=['Dominant_Topic', 'Topic_Keywords'])\n",
    "\n",
    "#Merge the quitity into a single table by topic number\n",
    "temp = pd.DataFrame(topic_counts).reset_index()\n",
    "temp.columns = ['Dominant_Topic','Num_Documents']\n",
    "temp2 = pd.DataFrame(topic_contribution).reset_index()\n",
    "temp2.columns = ['Dominant_Topic','Perc_Documents']\n",
    "temp3 = pd.merge(topic_num_keywords, temp, on=\"Dominant_Topic\")\n",
    "df_dominant_topics=pd.merge(temp3, temp2, on=\"Dominant_Topic\")\n",
    "\n",
    "# Show\n",
    "df_dominant_topics.sort_values(by=['Perc_Documents']).reset_index()"
   ]
  }
 ],
 "metadata": {
  "kernelspec": {
   "display_name": "Python 3",
   "language": "python",
   "name": "python3"
  },
  "language_info": {
   "codemirror_mode": {
    "name": "ipython",
    "version": 3
   },
   "file_extension": ".py",
   "mimetype": "text/x-python",
   "name": "python",
   "nbconvert_exporter": "python",
   "pygments_lexer": "ipython3",
   "version": "3.6.5"
  }
 },
 "nbformat": 4,
 "nbformat_minor": 2
}
