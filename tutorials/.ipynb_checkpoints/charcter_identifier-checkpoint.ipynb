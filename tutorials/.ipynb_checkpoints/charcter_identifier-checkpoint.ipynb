{
 "cells": [
  {
   "cell_type": "markdown",
   "metadata": {},
   "source": [
    "# Character Identifier #  \n",
    "Read txt files (multiple encodings supported) and count character"
   ]
  },
  {
   "cell_type": "markdown",
   "metadata": {},
   "source": [
    "### set-up working environment ###\n",
    "- import modules\n",
    "- full or relative path to working directory"
   ]
  },
  {
   "cell_type": "code",
   "execution_count": 3,
   "metadata": {
    "collapsed": false
   },
   "outputs": [
    {
     "name": "stdout",
     "output_type": "stream",
     "text": [
      "/home/kln/Documents/proj/clear_local/CLEAR\n"
     ]
    }
   ],
   "source": [
    "import codecs, glob, io, os, re\n",
    "\n",
    "root = '/home/kln/Documents/proj/clear_local/CLEAR'\n",
    "wd = 'tutorials/'\n",
    "dd = wd + 'data/'\n",
    "\n",
    "os.chdir(root)\n",
    "\n",
    "print os.getcwd()"
   ]
  },
  {
   "cell_type": "code",
   "execution_count": 42,
   "metadata": {
    "collapsed": false
   },
   "outputs": [
    {
     "name": "stdout",
     "output_type": "stream",
     "text": [
      "l »at læse« (Prof. Nielsen), modtag hvad der i enhver Henseende skal være et Fri-Exemplar ived Billeten som en lille Yttring af min Skjønsomhed i Forhold til den Velvillie og Interesse, hvormed jeg troer De leilighedsviis har fulgt min Stræben.\n",
      "Svar udbedes ikke; hvad De formodl. endnu, som fordum i Borgerdydsskolen, hver Dag siger mange Gange, det vil jeg sige her: »det kunde være nok«, og min Ag\n"
     ]
    }
   ],
   "source": [
    "with io.open(dd + 'b161.txt', 'r', encoding = 'UTF-8') as fobj:\n",
    "    text = fobj.read()\n",
    "\n",
    "print text[1000:1400]"
   ]
  },
  {
   "cell_type": "markdown",
   "metadata": {},
   "source": [
    "scale to multiple txt files in directory"
   ]
  },
  {
   "cell_type": "code",
   "execution_count": 60,
   "metadata": {
    "collapsed": false
   },
   "outputs": [
    {
     "name": "stdout",
     "output_type": "stream",
     "text": [
      "number of texts imported: 3 with titles:\n",
      "HH\n",
      "NB35\n",
      "b161\n"
     ]
    }
   ],
   "source": [
    "def read_vanilla(path):\n",
    "    \"\"\"\n",
    "    read multiple vanilla files in folder on path with\n",
    "    -  unicode or lat encoding\n",
    "    \"\"\"\n",
    "    filenames = sorted(glob.glob(path+'*.txt'))\n",
    "    text_ls = []\n",
    "    for filename in filenames:\n",
    "        try:\n",
    "            with codecs.open(filename, encoding='UTF-8') as f:\n",
    "                text = f.read()\n",
    "        except:\n",
    "            with codecs.open(filename, encoding='LATIN-1') as f:\n",
    "                text = f.read()\n",
    "        text_ls.append(text)\n",
    "        titles = [re.sub(r'.txt','',f.split('/')[-1]) for f in filenames]\n",
    "    return text_ls, titles\n",
    "\n",
    "# execute\n",
    "texts, titles = read_vanilla(dd)\n",
    "print \"number of texts imported: %i with titles:\" %len(texts)\n",
    "for title in titles: print title\n"
   ]
  },
  {
   "cell_type": "markdown",
   "metadata": {},
   "source": [
    "## get data from url ##\n",
    "download 3 collected issues of Athenaeum and search for '!'\n",
    "NB. OCR nightmare\n"
   ]
  },
  {
   "cell_type": "code",
   "execution_count": 8,
   "metadata": {
    "collapsed": false
   },
   "outputs": [],
   "source": [
    "import urllib2\n",
    "\n",
    "with open(wd + 'athenaeum_url.txt', 'r') as f:\n",
    "    urls = f.readlines()\n",
    "\n",
    "texts = []\n",
    "for url in urls:\n",
    "    texts.append(urllib2.urlopen(url).read())\n",
    "    "
   ]
  }
 ],
 "metadata": {
  "kernelspec": {
   "display_name": "Python 2",
   "language": "python",
   "name": "python2"
  },
  "language_info": {
   "codemirror_mode": {
    "name": "ipython",
    "version": 2
   },
   "file_extension": ".py",
   "mimetype": "text/x-python",
   "name": "python",
   "nbconvert_exporter": "python",
   "pygments_lexer": "ipython2",
   "version": "2.7.13"
  }
 },
 "nbformat": 4,
 "nbformat_minor": 2
}
