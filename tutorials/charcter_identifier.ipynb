{
 "cells": [
  {
   "cell_type": "markdown",
   "metadata": {},
   "source": [
    "# Character Identifier #  \n",
    "Read txt files (multiple encodings supported) and count character"
   ]
  },
  {
   "cell_type": "markdown",
   "metadata": {},
   "source": [
    "### set-up working environment ###\n",
    "- import modules\n",
    "- full or relative path to working directory"
   ]
  },
  {
   "cell_type": "code",
   "execution_count": 38,
   "metadata": {
    "collapsed": false
   },
   "outputs": [
    {
     "name": "stdout",
     "output_type": "stream",
     "text": [
      "/home/kln/Documents/proj/clear_local/CLEAR\n"
     ]
    }
   ],
   "source": [
    "import io, os, re\n",
    "\n",
    "root = '/home/kln/Documents/proj/clear_local/CLEAR'\n",
    "wd = 'tutorials/'\n",
    "dd = wd + 'data/'\n",
    "\n",
    "os.chdir(root)\n",
    "\n",
    "print os.getcwd()"
   ]
  }
 ],
 "metadata": {
  "kernelspec": {
   "display_name": "Python 2",
   "language": "python",
   "name": "python2"
  },
  "language_info": {
   "codemirror_mode": {
    "name": "ipython",
    "version": 2
   },
   "file_extension": ".py",
   "mimetype": "text/x-python",
   "name": "python",
   "nbconvert_exporter": "python",
   "pygments_lexer": "ipython2",
   "version": "2.7.13"
  }
 },
 "nbformat": 4,
 "nbformat_minor": 2
}
